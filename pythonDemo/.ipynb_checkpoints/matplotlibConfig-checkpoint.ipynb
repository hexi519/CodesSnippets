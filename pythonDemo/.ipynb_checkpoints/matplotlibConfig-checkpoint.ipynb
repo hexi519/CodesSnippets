{
 "cells": [
  {
   "cell_type": "markdown",
   "metadata": {},
   "source": [
    "# config Settings\n",
    "<div class=\"alert alert-block alert-info\">\n",
    "<b>Includes</b> many things.\n",
    "</div>\n"
   ]
  },
  {
   "cell_type": "markdown",
   "metadata": {},
   "source": [
    "## basic \n",
    "numpy, pandas, matplotlib, path-settings"
   ]
  },
  {
   "cell_type": "code",
   "execution_count": 2,
   "metadata": {
    "ExecuteTime": {
     "end_time": "2020-11-02T18:11:44.762748Z",
     "start_time": "2020-11-02T18:11:44.745073Z"
    }
   },
   "outputs": [
    {
     "name": "stdout",
     "output_type": "stream",
     "text": [
      "Populating the interactive namespace from numpy and matplotlib\n"
     ]
    }
   ],
   "source": [
    "from __future__ import print_function\n",
    "from IPython.core.interactiveshell import InteractiveShell\n",
    "InteractiveShell.ast_node_interactivity='all'\n",
    "\n",
    "from matplotlib import pyplot as plt\n",
    "%pylab inline\n",
    "\n",
    "# %load_ext autoreload\n",
    "# %autoreload 2\n",
    "import numpy as np\n",
    "import pandas as pd \n",
    "pd.options.display.max_rows=5  # 设置dataframe最多的显示行数\n",
    "import os\n",
    "import sys\n",
    "if os.getcwd() not in sys.path:\n",
    "    sys.path.append(os.getcwd())\n",
    "    print(f\"After inserting, sys.path is {sys.path}\")"
   ]
  },
  {
   "cell_type": "markdown",
   "metadata": {},
   "source": [
    "## about tensorflow"
   ]
  },
  {
   "cell_type": "code",
   "execution_count": null,
   "metadata": {
    "ExecuteTime": {
     "end_time": "2020-11-02T16:15:34.242424Z",
     "start_time": "2020-11-02T16:15:32.567995Z"
    }
   },
   "outputs": [],
   "source": [
    "import tensorflow as tf\n",
    "%load_ext wurlitzer # redirect C/C++ log to ipython\n",
    "print(f\"tf version is {tf.__version__} with GPU? {tf.test.is_gpu_available()}\")"
   ]
  },
  {
   "cell_type": "markdown",
   "metadata": {},
   "source": [
    "<br><br><br>\n",
    "\n",
    "\n",
    "-----"
   ]
  },
  {
   "cell_type": "markdown",
   "metadata": {},
   "source": [
    "# matplotlib"
   ]
  },
  {
   "cell_type": "markdown",
   "metadata": {},
   "source": [
    "## reference\n",
    "* [x] [differ fig/axes/plot](https://zhuanlan.zhihu.com/p/93423829)\n",
    "* [x] [official doc](https://matplotlib.org/tutorials/introductory/usage.html)"
   ]
  },
  {
   "cell_type": "code",
   "execution_count": 8,
   "metadata": {
    "ExecuteTime": {
     "end_time": "2020-11-02T18:13:27.787711Z",
     "start_time": "2020-11-02T18:13:27.783168Z"
    }
   },
   "outputs": [],
   "source": [
    "InteractiveShell.ast_node_interactivity='last_expr'"
   ]
  },
  {
   "cell_type": "code",
   "execution_count": 7,
   "metadata": {
    "ExecuteTime": {
     "end_time": "2020-11-02T18:13:16.129854Z",
     "start_time": "2020-11-02T18:13:15.641007Z"
    }
   },
   "outputs": [
    {
     "data": {
      "text/plain": [
       "'\\nplt.subplots_adjust(wspace =0.998, hspace=0.2, left= 0.2 , right=0.8)#调整子图间距\\nplt.figure()\\nfor city in range(3):\\n    for day in range(5):   \\n        plt.subplot(131+city)\\n        plt.plot( range(traffic_data.shape[1]),traffic_data[day_index+day,:,city_index+city] )\\n        plt.legend([f\"day{str(i+10)}\" for i in range(10)])\\n        plt.xlabel(\"time\")\\n        plt.ylabel(\"traffic_flow\")\\n'"
      ]
     },
     "execution_count": 7,
     "metadata": {},
     "output_type": "execute_result"
    },
    {
     "data": {
      "image/png": "[encoded data removed]",
      "text/plain": [
       "<Figure size 864x432 with 1 Axes>"
      ]
     },
     "metadata": {
      "needs_background": "light"
     },
     "output_type": "display_data"
    }
   ],
   "source": [
    "######### recommend axex usage ######### \n",
    "fig,ax = plt.subplots() # differ from plt.subplot() which adds a subplot to the current figure , subplots adds subplots to a new figure and return both\n",
    "# fig, ax = plt.subplots(2,1,figsize(14,7))\n",
    "# ax[0].***\n",
    "# ax[1].***\n",
    "\n",
    "\"\"\" this is my commly used settings \"\"\"\n",
    "ax.plot(np.array(range(1,15)),\n",
    "        p.array(range(1,15)),\n",
    "        label=f'test of {\"hesy\"}',\n",
    "        color='r',\n",
    "        linewidth=3.0\n",
    "       )\n",
    "ax.grid(axis=\"y\",linestyle='--')\t# set grid ,default axis is both of x and y, and line of \"-\"\n",
    "ax.set_xlabel('Time (s)', fontsize=20)\t# label setting , fontweight=\"bold\" is ugly ,fontdict也可以（including size ,label）\n",
    "ax.xaxis.set_tick_params(labelsize=20,rotation=45)\t# tick setting ( larger and will get bold )\n",
    "ax.set_yticklabels(range(1,15),fontsize=15)\n",
    "\n",
    "### keep the figure range\n",
    "ax.set_xlim(0, int(math.ceil(20)))\n",
    "plt.axis([15, 35, 10, 70])\n",
    "\n",
    "fig.set_size_inches(12, 6)\n",
    "\n",
    "# legend setting \n",
    "handlers, labels = ax.get_legend_handles_labels()  # handler is the line object (e.g. Line2D once you print it out)\n",
    "\"\"\"\n",
    "### method 1\n",
    "lgd = ax.legend(handlers, labels, scatterpoints=1, bbox_to_anchor=(0.5, -0.1), \n",
    "      loc='upper center', ncol=2, fontsize=20)    # bbox_to_anchor(bigger and righter, bigger and upper), loc is governed by bbox_to_anchor\n",
    "fig.savefig(\"fig.svg\", bbox_extra_artists=(lgd,),bbox_inches='tight', pad_inches=0.1,type = \"svg\")   \n",
    "\"\"\"\n",
    "### method 2\n",
    "plt.legend(handlers[1::2],[\"bbr\",\"remy\"],prop = {'size':20},loc='lower center',bbox_to_anchor=(0.8,0.1))\t# loc is governed by bbox_to_anchor\n",
    "fig.savefig(\"fig.svg\",bbox_inches='tight', pad_inches=0.1,type = \"svg\")  \n",
    "\n",
    "######### not recommend plt, but quick for subplooting recursively ######### \n",
    "\"\"\"\n",
    "plt.subplots_adjust(wspace =0.998, hspace=0.2, left= 0.2 , right=0.8)#调整子图间距\n",
    "plt.figure()\n",
    "for city in range(3):\n",
    "    for day in range(5):   \n",
    "        plt.subplot(131+city)\n",
    "        plt.plot( range(traffic_data.shape[1]),traffic_data[day_index+day,:,city_index+city] )\n",
    "        plt.legend([f\"day{str(i+10)}\" for i in range(10)])\n",
    "        plt.xlabel(\"time\")\n",
    "        plt.ylabel(\"traffic_flow\")\n",
    "\"\"\""
   ]
  },
  {
   "cell_type": "markdown",
   "metadata": {},
   "source": [
    "<br><br><br>\n",
    "\n",
    "\n",
    "-----"
   ]
  },
  {
   "cell_type": "markdown",
   "metadata": {},
   "source": [
    "# seaborn"
   ]
  },
  {
   "cell_type": "code",
   "execution_count": 4,
   "metadata": {},
   "outputs": [
    {
     "data": {
      "text/plain": [
       "<matplotlib.axes._subplots.AxesSubplot at 0x7f8fe9f9e240>"
      ]
     },
     "execution_count": 4,
     "metadata": {},
     "output_type": "execute_result"
    },
    {
     "data": {
      "image/png": "[encoded data removed]",
      "text/plain": [
       "<Figure size 432x288 with 1 Axes>"
      ]
     },
     "metadata": {
      "needs_background": "light"
     },
     "output_type": "display_data"
    }
   ],
   "source": [
    "import matplotlib.pyplot as plt\n",
    "import seaborn as sns\n",
    "# sns.set()\n",
    "# for jupyetr u need this\n",
    "sns.countplot([13,2,2,4,12,5,4])  # histgram"
   ]
  }
 ],
 "metadata": {
  "kernelspec": {
   "display_name": "Python 3",
   "language": "python",
   "name": "python3"
  },
  "language_info": {
   "codemirror_mode": {
    "name": "ipython",
    "version": 3
   },
   "file_extension": ".py",
   "mimetype": "text/x-python",
   "name": "python",
   "nbconvert_exporter": "python",
   "pygments_lexer": "ipython3",
   "version": "3.6.10"
  },
  "toc": {
   "base_numbering": 1,
   "nav_menu": {},
   "number_sections": true,
   "sideBar": true,
   "skip_h1_title": false,
   "title_cell": "Table of Contents",
   "title_sidebar": "Contents",
   "toc_cell": false,
   "toc_position": {},
   "toc_section_display": true,
   "toc_window_display": false
  },
  "toc-autonumbering": true,
  "toc-showcode": true,
  "toc-showmarkdowntxt": false,
  "toc-showtags": false
 },
 "nbformat": 4,
 "nbformat_minor": 4
}
