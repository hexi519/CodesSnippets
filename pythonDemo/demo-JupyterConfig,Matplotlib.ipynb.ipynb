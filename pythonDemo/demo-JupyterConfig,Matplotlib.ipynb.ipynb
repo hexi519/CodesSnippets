{
 "cells": [
  {
   "cell_type": "markdown",
   "id": "oriental-capitol",
   "metadata": {},
   "source": [
    "# config Settings\n",
    "<div class=\"alert alert-block alert-info\">\n",
    "<b> 显示这样效果的源代码在下方 </b> \n",
    "</div>"
   ]
  },
  {
   "cell_type": "markdown",
   "id": "changing-rendering",
   "metadata": {},
   "source": [
    "<div class=\"alert alert-block alert-info\">\n",
    "<b>raw link :</b> \n",
    "</div>"
   ]
  },
  {
   "cell_type": "markdown",
   "id": "emerging-neutral",
   "metadata": {},
   "source": [
    "## jupyter notebook theme"
   ]
  },
  {
   "cell_type": "markdown",
   "id": "incident-corpus",
   "metadata": {},
   "source": [
    "jt -t monokai -f firacode -cellw 95% -fs 10 -tf fira -tfs 8 -nf firacode -nfs 8 -dfs 8 -lineh 120 -T  # set to be sublime alike style"
   ]
  },
  {
   "cell_type": "markdown",
   "id": "intimate-rogers",
   "metadata": {},
   "source": [
    "## basic \n",
    "numpy, pandas, matplotlib, path-settings"
   ]
  },
  {
   "cell_type": "code",
   "execution_count": 2,
   "id": "considered-partnership",
   "metadata": {
    "ExecuteTime": {
     "end_time": "2020-11-02T18:11:44.762748Z",
     "start_time": "2020-11-02T18:11:44.745073Z"
    }
   },
   "outputs": [
    {
     "name": "stdout",
     "output_type": "stream",
     "text": [
      "Populating the interactive namespace from numpy and matplotlib\n"
     ]
    }
   ],
   "source": [
    "from __future__ import print_function\n",
    "from IPython.core.interactiveshell import InteractiveShell\n",
    "# InteractiveShell.ast_node_interactivity='all'\n",
    "\n",
    "from matplotlib import pyplot as plt\n",
    "plt.style.use(['science','no-latex','grid','high-contrast']) # high-contrast指的是配色的选取\n",
    "%pylab inline\n",
    "\n",
    "# %load_ext autoreload\n",
    "# %autoreload 2\n",
    "import numpy as np\n",
    "import pandas as pd \n",
    "pd.options.display.max_rows=5  # 设置dataframe最多的显示行数\n",
    "import os\n",
    "import sys\n",
    "if os.getcwd() not in sys.path:\n",
    "    sys.path.append(os.getcwd())\n",
    "    print(f\"After inserting, sys.path is {sys.path}\")"
   ]
  },
  {
   "cell_type": "markdown",
   "id": "instructional-sauce",
   "metadata": {},
   "source": [
    "## Trivial"
   ]
  },
  {
   "cell_type": "code",
   "execution_count": 6,
   "id": "consistent-wichita",
   "metadata": {
    "ExecuteTime": {
     "end_time": "2020-11-27T12:28:11.253702Z",
     "start_time": "2020-11-27T12:28:11.200250Z"
    }
   },
   "outputs": [
    {
     "data": {
      "text/html": [
       "<style>[data-mime-type=\"application/vnd.jupyter.stdout\"] pre { font-size:28px}</style>"
      ],
      "text/plain": [
       "<IPython.core.display.HTML object>"
      ]
     },
     "metadata": {},
     "output_type": "display_data"
    }
   ],
   "source": [
    "# enlarge output in jupyter lab\n",
    "from IPython.display import HTML\n",
    "display(HTML('''<style>[data-mime-type=\"application/vnd.jupyter.stdout\"] pre { font-size:28px}</style>'''))"
   ]
  },
  {
   "cell_type": "markdown",
   "id": "assisted-perception",
   "metadata": {},
   "source": [
    "-----"
   ]
  },
  {
   "cell_type": "markdown",
   "id": "irish-cleanup",
   "metadata": {},
   "source": [
    "# 画图"
   ]
  },
  {
   "cell_type": "markdown",
   "id": "accomplished-fields",
   "metadata": {},
   "source": [
    "## matplotlib"
   ]
  },
  {
   "cell_type": "markdown",
   "id": "criminal-bacon",
   "metadata": {},
   "source": [
    "### reference\n",
    "* [x] [differ fig/axes/plot](https://zhuanlan.zhihu.com/p/93423829)\n",
    "* [x] [official doc](https://matplotlib.org/tutorials/introductory/usage.html)\n",
    "* [x] [色彩大全](https://juejin.cn/post/6844904145032331272)\n",
    "* [x] [这个笔记](https://zhuanlan.zhihu.com/p/33270402)讲解的很完整"
   ]
  },
  {
   "cell_type": "code",
   "execution_count": 3,
   "id": "electronic-electricity",
   "metadata": {
    "ExecuteTime": {
     "end_time": "2020-11-02T18:13:27.787711Z",
     "start_time": "2020-11-02T18:13:27.783168Z"
    }
   },
   "outputs": [],
   "source": [
    "InteractiveShell.ast_node_interactivity='last_expr'"
   ]
  },
  {
   "cell_type": "markdown",
   "id": "rapid-bradford",
   "metadata": {},
   "source": [
    "#### SciencePlots已经够用"
   ]
  },
  {
   "cell_type": "markdown",
   "id": "adult-broadway",
   "metadata": {},
   "source": [
    "就是要确保 Times New Roman字体可用，具体教程可以看[Hesy:论文写作相关 目录](https://blog.csdn.net/Hesy_H/article/details/109104483)"
   ]
  },
  {
   "cell_type": "markdown",
   "id": "impaired-chamber",
   "metadata": {},
   "source": [
    "with结构，脱离于全局，仅使用一次，不影响全局设置"
   ]
  },
  {
   "cell_type": "code",
   "execution_count": 7,
   "id": "complex-edwards",
   "metadata": {},
   "outputs": [
    {
     "data": {
      "image/png": "[encoded data removed]",
      "text/plain": [
       "<Figure size 252x189 with 1 Axes>"
      ]
     },
     "metadata": {
      "needs_background": "light"
     },
     "output_type": "display_data"
    }
   ],
   "source": [
    "with plt.style.context(['science', 'no-latex','grid','scatter']):\n",
    "    plt.plot(np.array(range(1,15)),np.array(range(1,15)),)\n",
    "    plt.xlabel('Time (s)')\n",
    "    plt.ylabel('ylabel') \n",
    "    plt.title('title') "
   ]
  },
  {
   "cell_type": "markdown",
   "id": "indirect-heating",
   "metadata": {},
   "source": [
    "for both ax and plt API，it works well."
   ]
  },
  {
   "cell_type": "code",
   "execution_count": 5,
   "id": "supreme-irrigation",
   "metadata": {},
   "outputs": [
    {
     "data": {
      "text/plain": [
       "[Text(0.5, 0, 'Time (s)'), Text(0, 0.5, 'ylabel'), Text(0.5, 1.0, 'title')]"
      ]
     },
     "execution_count": 5,
     "metadata": {},
     "output_type": "execute_result"
    },
    {
     "data": {
      "image/png": "[encoded data removed]",
      "text/plain": [
       "<Figure size 252x189 with 1 Axes>"
      ]
     },
     "metadata": {
      "needs_background": "light"
     },
     "output_type": "display_data"
    }
   ],
   "source": [
    "# plt.style.use(['science','no-latex','grid','high-contrast']) # this is put in the header\n",
    "fig,ax = plt.subplots() # differ from plt.subplot() which adds a subplot to the current figure , subplots adds subplots to a new figure and return both\n",
    "\"\"\" this is my commly used settings \"\"\"\n",
    "ax.plot(np.array(range(1,15)),np.array(range(1,15)),)\n",
    "ax.set(xlabel='Time (s)',ylabel='ylabel',title='title')"
   ]
  },
  {
   "cell_type": "markdown",
   "id": "external-extraction",
   "metadata": {},
   "source": [
    "#### 进一步精细的调整"
   ]
  },
  {
   "cell_type": "code",
   "execution_count": 9,
   "id": "amazing-annual",
   "metadata": {
    "ExecuteTime": {
     "end_time": "2020-11-02T18:22:05.444914Z",
     "start_time": "2020-11-02T18:22:04.953749Z"
    }
   },
   "outputs": [
    {
     "data": {
      "text/plain": [
       "'\\nplt.subplots_adjust(wspace =0.998, hspace=0.2, left= 0.2 , right=0.8)#调整子图间距\\nplt.figure()\\nfor city in range(3):\\n    for day in range(5):   \\n        plt.subplot(131+city)\\n        plt.plot( range(traffic_data.shape[1]),traffic_data[day_index+day,:,city_index+city] )\\n        plt.legend([f\"day{str(i+10)}\" for i in range(10)])\\n        plt.xlabel(\"time\")\\n        plt.ylabel(\"traffic_flow\")\\n'"
      ]
     },
     "execution_count": 9,
     "metadata": {},
     "output_type": "execute_result"
    },
    {
     "data": {
      "image/png": "[encoded data removed]",
      "text/plain": [
       "<Figure size 864x432 with 1 Axes>"
      ]
     },
     "metadata": {
      "needs_background": "light"
     },
     "output_type": "display_data"
    }
   ],
   "source": [
    "######### recommend axex usage ######### \n",
    "fig,ax = plt.subplots() # differ from plt.subplot() which adds a subplot to the current figure , subplots adds subplots to a new figure and return both\n",
    "# fig, ax = plt.subplots(2,1,figsize(14,7))\n",
    "# ax[0].***\n",
    "# ax[1].***\n",
    "\n",
    "\"\"\" this is my commly used settings \"\"\"\n",
    "ax.plot(np.array(range(1,15)),\n",
    "        np.array(range(1,15)),\n",
    "        label='generated by ax',\n",
    "        color='b',\n",
    "        linewidth=3.0\n",
    "       )\n",
    "ax.grid(axis=\"y\",linestyle='--')\t# set grid ,default axis is both of x and y, and line of \"-\"\n",
    "ax.set_xlabel('Time (s)', fontsize=20)\t# label setting , fontweight=\"bold\" is ugly ,fontdict也可以（including size ,label）\n",
    "ax.xaxis.set_tick_params(labelsize=20,rotation=45)\t# tick setting ( larger and will get bold )\n",
    "ax.set_yticklabels(range(1,15),fontsize=15)\n",
    "\n",
    "### keep the figure range\n",
    "ax.set_xlim(0, int(math.ceil(20)))\n",
    "plt.axis([0, 15, 0, 15])\n",
    "\n",
    "fig.set_size_inches(12, 6)\n",
    "\n",
    "# legend setting \n",
    "handlers, labels = ax.get_legend_handles_labels()  # handler is the line object (e.g. Line2D once you print it out)\n",
    "ax.legend( handlers, labels,loc='lower center',bbox_to_anchor=(0.8,0.1) )\n",
    "# \"\"\"\n",
    "### method 1\n",
    "lgd = ax.legend(handlers, labels, scatterpoints=1, bbox_to_anchor=(0.5, -0.1), \n",
    "      loc='upper center', ncol=2, fontsize=20,framealpha=0.6)    # bbox_to_anchor(bigger and righter, bigger and upper), loc is governed by bbox_to_anchor\n",
    "fig.savefig(\"fig.svg\", bbox_extra_artists=(lgd,),bbox_inches='tight', pad_inches=0.1,type = \"svg\")   \n",
    "# \"\"\"\n",
    "\"\"\"\n",
    "### method 2\n",
    "plt.legend(handlers[:],[\"test1\",\"test2\"],prop = {'size':20},loc='lower center',bbox_to_anchor=(0.8,0.1),framealpha=0.6)\t # framealpha controls transparency\n",
    "fig.savefig(\"fig.svg\",bbox_inches='tight', pad_inches=0.1,type = \"svg\")  \n",
    "\"\"\"\n",
    "\n",
    "######### not recommend plt, but quick for subplooting recursively ######### \n",
    "\"\"\"\n",
    "plt.subplots_adjust(wspace =0.998, hspace=0.2, left= 0.2 , right=0.8)#调整子图间距\n",
    "plt.figure()\n",
    "for city in range(3):\n",
    "    for day in range(5):   \n",
    "        plt.subplot(131+city)\n",
    "        plt.plot( range(traffic_data.shape[1]),traffic_data[day_index+day,:,city_index+city] )\n",
    "        plt.legend([f\"day{str(i+10)}\" for i in range(10)])\n",
    "        plt.xlabel(\"time\")\n",
    "        plt.ylabel(\"traffic_flow\")\n",
    "\"\"\""
   ]
  },
  {
   "cell_type": "markdown",
   "id": "macro-administration",
   "metadata": {},
   "source": [
    "### 双y轴画法"
   ]
  },
  {
   "cell_type": "code",
   "execution_count": 17,
   "id": "inside-checklist",
   "metadata": {},
   "outputs": [
    {
     "data": {
      "image/png": "[encoded data removed]",
      "text/plain": [
       "<Figure size 252x189 with 2 Axes>"
      ]
     },
     "metadata": {
      "needs_background": "light"
     },
     "output_type": "display_data"
    }
   ],
   "source": [
    "from matplotlib import rc\n",
    "rc('mathtext', default='regular')\n",
    "\n",
    "time = np.arange(10)\n",
    "temp = np.random.random(10)*30\n",
    "Swdown = np.random.random(10)*100-10\n",
    "Rn = np.random.random(10)*100-10\n",
    "\n",
    "fig = plt.figure()\n",
    "ax = fig.add_subplot(111)\n",
    "ax2 = ax.twinx()\n",
    "\n",
    "\n",
    "ax.plot(time, Swdown, '-', )\n",
    "ax.plot(time, Rn, '-', label = 'Rn')\n",
    "ax.legend(['Swdown','Rn'],loc=\"lower left\")\n",
    "\n",
    "ax2.plot(time, temp, '-r', label = 'temp')\n",
    "ax2.legend(['temp'],loc=\"lower right\")\n",
    "\n",
    "ax.set(xlabel='Time (h)',ylabel=r\"Radiation ($MJ\\,m^{-2}\\,d^{-1}$)\")\n",
    "ax2.set(ylabel=r\"Temperature ($^\\circ$C)\")\n",
    "\n",
    "fig.suptitle(\"hesyTemplate\")\n",
    "fig.savefig('hesyTemplate.pdf')"
   ]
  },
  {
   "cell_type": "markdown",
   "id": "working-administration",
   "metadata": {},
   "source": [
    "### bar 柱状图"
   ]
  },
  {
   "cell_type": "markdown",
   "id": "wicked-satisfaction",
   "metadata": {},
   "source": [
    "数据制造"
   ]
  },
  {
   "cell_type": "code",
   "execution_count": 5,
   "id": "spare-mattress",
   "metadata": {},
   "outputs": [],
   "source": [
    "deci_time = pd.DataFrame({\n",
    "    'Mars': [0.69, 0.95, 1.43],\n",
    "    'DRL-TE': [6.32, 26.73, 91.13],\n",
    "    'LP-based': [9.46, 92.34, 493.65],\n",
    "}) \n",
    "MC = pd.DataFrame({\n",
    "    'Mars': [4.5,6.2, 8.3],\n",
    "    'DRL-TE': [14.5, 16, 18.2],\n",
    "    'LP-based': [12.2, 13, 14],\n",
    "}) \n",
    "TC = pd.DataFrame({\n",
    "    'Mars': [4.7, 10.1, 18.3],\n",
    "    'DRL-TE': [19.4, 20, 32],\n",
    "    'LP-based': [30.1, 45, 88.7],\n",
    "}) \n",
    "topo_name = ['GEANT','Ntelos','Viatel']\n",
    "deci_time.index =topo_name\n",
    "MC.index =topo_name\n",
    "TC.index =topo_name"
   ]
  },
  {
   "cell_type": "code",
   "execution_count": 6,
   "id": "applied-message",
   "metadata": {},
   "outputs": [
    {
     "data": {
      "text/html": [
       "<div>\n",
       "<style scoped>\n",
       "    .dataframe tbody tr th:only-of-type {\n",
       "        vertical-align: middle;\n",
       "    }\n",
       "\n",
       "    .dataframe tbody tr th {\n",
       "        vertical-align: top;\n",
       "    }\n",
       "\n",
       "    .dataframe thead th {\n",
       "        text-align: right;\n",
       "    }\n",
       "</style>\n",
       "<table border=\"1\" class=\"dataframe\">\n",
       "  <thead>\n",
       "    <tr style=\"text-align: right;\">\n",
       "      <th></th>\n",
       "      <th>Mars</th>\n",
       "      <th>DRL-TE</th>\n",
       "      <th>LP-based</th>\n",
       "    </tr>\n",
       "  </thead>\n",
       "  <tbody>\n",
       "    <tr>\n",
       "      <th>GEANT</th>\n",
       "      <td>0.69</td>\n",
       "      <td>6.32</td>\n",
       "      <td>9.46</td>\n",
       "    </tr>\n",
       "    <tr>\n",
       "      <th>Ntelos</th>\n",
       "      <td>0.95</td>\n",
       "      <td>26.73</td>\n",
       "      <td>92.34</td>\n",
       "    </tr>\n",
       "    <tr>\n",
       "      <th>Viatel</th>\n",
       "      <td>1.43</td>\n",
       "      <td>91.13</td>\n",
       "      <td>493.65</td>\n",
       "    </tr>\n",
       "  </tbody>\n",
       "</table>\n",
       "</div>"
      ],
      "text/plain": [
       "        Mars  DRL-TE  LP-based\n",
       "GEANT   0.69    6.32      9.46\n",
       "Ntelos  0.95   26.73     92.34\n",
       "Viatel  1.43   91.13    493.65"
      ]
     },
     "execution_count": 6,
     "metadata": {},
     "output_type": "execute_result"
    }
   ],
   "source": [
    "deci_time.head()"
   ]
  },
  {
   "cell_type": "markdown",
   "id": "rotary-heath",
   "metadata": {},
   "source": [
    "处理横轴的位置"
   ]
  },
  {
   "cell_type": "code",
   "execution_count": 17,
   "id": "aging-raleigh",
   "metadata": {},
   "outputs": [],
   "source": [
    "bar_wid=0.4\n",
    "r1 = [1,3,5]\n",
    "r2 = [x + bar_wid+0.1 for x in r1]\n",
    "r3 = [x + bar_wid+0.1 for x in r2]\n",
    "\n",
    "indexs = []\n",
    "for cur_index in range(3):\n",
    "    indexs.append(r1[cur_index])\n",
    "    indexs.append(r2[cur_index])    \n",
    "    indexs.append(r3[cur_index])    "
   ]
  },
  {
   "cell_type": "code",
   "execution_count": 30,
   "id": "heated-textbook",
   "metadata": {},
   "outputs": [
    {
     "data": {
      "image/png": "[encoded data removed]",
      "text/plain": [
       "<Figure size 432x288 with 1 Axes>"
      ]
     },
     "metadata": {
      "needs_background": "light"
     },
     "output_type": "display_data"
    }
   ],
   "source": [
    "# with plt.style.context(['science', 'no-latex','grid','notebook']):\n",
    "plt.bar(r1,deci_time['Mars'],width=bar_wid,color='silver')\n",
    "plt.bar(r1,MC['Mars'],width=bar_wid,color='darkblue',bottom =deci_time['Mars'])\n",
    "plt.bar(r1,TC['Mars'],width=bar_wid,color='orange',bottom =deci_time['Mars']+MC['Mars'])\n",
    "plt.legend(['Decision','Data Collection','Rule Table Update'])\n",
    "\n",
    "# duplicate for legend without hatch\n",
    "plt.bar(r1,deci_time['Mars'],width=bar_wid,color='silver')\n",
    "plt.bar(r1,MC['Mars'],width=bar_wid,color='darkblue',bottom =deci_time['Mars'])\n",
    "plt.bar(r1,TC['Mars'],width=bar_wid,color='orange',bottom =deci_time['Mars']+MC['Mars'])\n",
    "\n",
    "plt.bar(r2,deci_time['DRL-TE'],width=bar_wid,color='silver',hatch='////')\n",
    "plt.bar(r2,MC['DRL-TE'],width=bar_wid,color='darkblue',bottom =deci_time['DRL-TE'],hatch='////')\n",
    "plt.bar(r2,TC['DRL-TE'],width=bar_wid,color='orange',bottom =deci_time['DRL-TE']+MC['DRL-TE'],hatch='////')\n",
    "\n",
    "plt.bar(r3,deci_time['LP-based'],width=bar_wid,color='silver',hatch='xxx')\n",
    "plt.bar(r3,MC['LP-based'],width=bar_wid,color='darkblue',bottom =deci_time['LP-based'],hatch='xxx')\n",
    "plt.bar(r3,TC['LP-based'],width=bar_wid,color='orange',bottom =deci_time['LP-based']+MC['LP-based'],hatch='xxx')\n",
    "\n",
    "xticks(r1, topo_name,)\n",
    "plt.ylabel('time consumption (ms)')\n",
    "# plt.savefig('control-loop-time-cost.pdf')"
   ]
  },
  {
   "cell_type": "code",
   "execution_count": 35,
   "id": "honest-recipient",
   "metadata": {},
   "outputs": [
    {
     "data": {
      "image/png": "[encoded data removed]",
      "text/plain": [
       "<Figure size 432x288 with 1 Axes>"
      ]
     },
     "metadata": {
      "needs_background": "light"
     },
     "output_type": "display_data"
    }
   ],
   "source": [
    "plt.bar(r1,deci_time['Mars'],width=bar_wid,color='white',edgecolor='black')\n",
    "plt.bar(r2,deci_time['DRL-TE'],width=bar_wid,color='white',edgecolor='black',hatch='////')\n",
    "plt.bar(r3,deci_time['LP-based'],width=bar_wid,color='white',edgecolor='black',hatch='xxx')\n",
    "plt.legend(['Mars','DRL-TE','LP-based routing'])\n",
    "# plt.savefig('legend.pdf')"
   ]
  },
  {
   "cell_type": "markdown",
   "id": "level-exhaust",
   "metadata": {},
   "source": [
    "<br><br><br>\n",
    "\n",
    "\n",
    "-----"
   ]
  },
  {
   "cell_type": "markdown",
   "id": "downtown-dependence",
   "metadata": {},
   "source": [
    "## seaborn"
   ]
  },
  {
   "cell_type": "code",
   "execution_count": 4,
   "id": "extra-memphis",
   "metadata": {},
   "outputs": [
    {
     "data": {
      "text/plain": [
       "<matplotlib.axes._subplots.AxesSubplot at 0x7f8fe9f9e240>"
      ]
     },
     "execution_count": 4,
     "metadata": {},
     "output_type": "execute_result"
    },
    {
     "data": {
      "image/png": "[encoded data removed]",
      "text/plain": [
       "<Figure size 432x288 with 1 Axes>"
      ]
     },
     "metadata": {
      "needs_background": "light"
     },
     "output_type": "display_data"
    }
   ],
   "source": [
    "import matplotlib.pyplot as plt\n",
    "import seaborn as sns\n",
    "# sns.set()\n",
    "# for jupyetr u need this\n",
    "sns.countplot([13,2,2,4,12,5,4])  # histgram"
   ]
  }
 ],
 "metadata": {
  "kernelspec": {
   "display_name": "Python 3",
   "language": "python",
   "name": "python3"
  },
  "language_info": {
   "codemirror_mode": {
    "name": "ipython",
    "version": 3
   },
   "file_extension": ".py",
   "mimetype": "text/x-python",
   "name": "python",
   "nbconvert_exporter": "python",
   "pygments_lexer": "ipython3",
   "version": "3.7.10"
  },
  "toc-autonumbering": true
 },
 "nbformat": 4,
 "nbformat_minor": 5
}
