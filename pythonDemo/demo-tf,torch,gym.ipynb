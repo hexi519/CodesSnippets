{
 "cells": [
  {
   "cell_type": "code",
   "execution_count": null,
   "metadata": {},
   "outputs": [],
   "source": [
    "%load_ext wurlitzer # redirect C/C++ log to ipython"
   ]
  },
  {
   "cell_type": "markdown",
   "metadata": {},
   "source": [
    "# tensorflow"
   ]
  },
  {
   "cell_type": "code",
   "execution_count": null,
   "metadata": {},
   "outputs": [],
   "source": [
    "import tensorflow as tf\n",
    "\n",
    "# log-related\n",
    "from tensorflow.compat.v1.logging import log, log_if, log_first_n, set_verbosity\n",
    "from tensorflow.compat.v1.logging import INFO, ERROR, DEBUG, WARN\n",
    "\n",
    "set_verbosity(INFO)\n"
   ]
  },
  {
   "cell_type": "markdown",
   "metadata": {},
   "source": [
    "## logging format"
   ]
  },
  {
   "cell_type": "code",
   "execution_count": null,
   "metadata": {},
   "outputs": [],
   "source": [
    "import logging\n",
    "import logging.handlers\n",
    "\n",
    "tfLog = logging.getLogger('tensorflow')\n",
    "# adds .1s after %(levelname) in order to be \"I\" instead of \"INFO\"\n",
    "# changes datetime format as well\n",
    "formatter = logging.Formatter('[%(levelname).1s %(asctime)s %(filename)s:\\\n",
    "%(lineno)d] %(message)s',datefmt='%m-%d %H:%M')\n",
    "# add formatter to each handler (default one)\n",
    "for h in tfLog.handlers:\n",
    "    h.setFormatter(formatter)\n",
    "    \n",
    "set_verbosity(INFO)"
   ]
  },
  {
   "cell_type": "code",
   "execution_count": null,
   "metadata": {},
   "outputs": [],
   "source": [
    "log(INFO,f\"version:{tf.__version__} with GPU? {tf.test.is_gpu_available()}\")"
   ]
  },
  {
   "cell_type": "markdown",
   "metadata": {},
   "source": [
    "## common settings"
   ]
  },
  {
   "cell_type": "code",
   "execution_count": null,
   "metadata": {},
   "outputs": [],
   "source": [
    "# 按需设置显存\n",
    "gpu_options = tf.GPUOptions(allow_growth=True)\n",
    "sess = tf.Session(config=tf.ConfigProto(gpu_options=gpu_options))   "
   ]
  },
  {
   "cell_type": "markdown",
   "metadata": {},
   "source": [
    "禁用gpu"
   ]
  },
  {
   "cell_type": "code",
   "execution_count": null,
   "metadata": {},
   "outputs": [],
   "source": [
    "import os\n",
    "os.environ[\"CUDA_VISIBLE_DEVICES\"]=\"-1\""
   ]
  },
  {
   "cell_type": "markdown",
   "metadata": {},
   "source": [
    "## app.flags usage"
   ]
  },
  {
   "cell_type": "code",
   "execution_count": null,
   "metadata": {},
   "outputs": [],
   "source": [
    "tf.app.flags.DEFINE_string('gpus', None, 'gpus to use')\n",
    "tf.app.flags.DEFINE_integer('batch_size', 5, 'batch size')"
   ]
  },
  {
   "cell_type": "markdown",
   "metadata": {},
   "source": [
    "# torch"
   ]
  },
  {
   "cell_type": "markdown",
   "metadata": {},
   "source": [
    "## difference between expand and repeat"
   ]
  },
  {
   "cell_type": "code",
   "execution_count": 12,
   "metadata": {},
   "outputs": [],
   "source": [
    "y = torch.tensor([[1], [2], [3]])\n",
    "x = torch.tensor([1,2,3])"
   ]
  },
  {
   "cell_type": "code",
   "execution_count": 63,
   "metadata": {},
   "outputs": [
    {
     "data": {
      "text/plain": [
       "tensor([[1, 2, 3, 1, 2, 3],\n",
       "        [1, 2, 3, 1, 2, 3],\n",
       "        [1, 2, 3, 1, 2, 3]])"
      ]
     },
     "execution_count": 63,
     "metadata": {},
     "output_type": "execute_result"
    },
    {
     "data": {
      "text/plain": [
       "tensor([[1, 1],\n",
       "        [2, 2],\n",
       "        [3, 3],\n",
       "        [1, 1],\n",
       "        [2, 2],\n",
       "        [3, 3],\n",
       "        [1, 1],\n",
       "        [2, 2],\n",
       "        [3, 3]])"
      ]
     },
     "execution_count": 63,
     "metadata": {},
     "output_type": "execute_result"
    },
    {
     "data": {
      "text/plain": [
       "tensor([[1, 1],\n",
       "        [2, 2],\n",
       "        [3, 3]])"
      ]
     },
     "execution_count": 63,
     "metadata": {},
     "output_type": "execute_result"
    },
    {
     "name": "stdout",
     "output_type": "stream",
     "text": [
      "x.size is <built-in method size of Tensor object at 0x7f4eb3f96828> and size after repeat is torch.Size([3, 6])\n",
      "y.size is <built-in method size of Tensor object at 0x7f4eb369e360> and size after repeat is torch.Size([9, 2])\n",
      "y.size is <built-in method size of Tensor object at 0x7f4eb369e360> and size after expand is torch.Size([3, 2])\n"
     ]
    }
   ],
   "source": [
    "x.repeat(3, 2)\n",
    "y.repeat(3, 2)\n",
    "y.expand(3, 2)\n",
    "print(f\"x.size is {x.size} and size after repeat is {x.repeat(3, 2).size()}\" )\n",
    "print(f\"y.size is {y.size} and size after repeat is {y.repeat(3, 2).size()}\" )\n",
    "print(f\"y.size is {y.size} and size after expand is {y.expand(3, 2).size()}\" )"
   ]
  },
  {
   "cell_type": "markdown",
   "metadata": {},
   "source": [
    "# gym"
   ]
  },
  {
   "cell_type": "code",
   "execution_count": 71,
   "metadata": {},
   "outputs": [
    {
     "data": {
      "text/plain": [
       "'0.15.3'"
      ]
     },
     "execution_count": 71,
     "metadata": {},
     "output_type": "execute_result"
    }
   ],
   "source": [
    "import gym\n",
    "gym.__version__"
   ]
  },
  {
   "cell_type": "markdown",
   "metadata": {},
   "source": [
    "## CartPole-v0"
   ]
  },
  {
   "cell_type": "code",
   "execution_count": null,
   "metadata": {},
   "outputs": [],
   "source": [
    "env = gym.make('CartPole-v0') \n",
    "env.seed(1) # 设置env随机种子\n",
    "env.observation_space  # 速度，角速度，x\n",
    "env.action_space\n",
    "n_states = env.observation_space.shape[0] # 获取总的状态数\n",
    "n_actions = env.action_space.n # 获取总的动作数"
   ]
  },
  {
   "cell_type": "markdown",
   "metadata": {},
   "source": [
    "## Callable\n",
    "callable就是类的<u>实例</u>可以像函数一样调用"
   ]
  },
  {
   "cell_type": "code",
   "execution_count": 8,
   "metadata": {},
   "outputs": [
    {
     "name": "stdout",
     "output_type": "stream",
     "text": [
      "True\n",
      "小明 is running\n",
      "93915877628576\n",
      "id of self.test is 93915877628576\n",
      "self.test's value and id after change is (3,93915877628672)\n"
     ]
    }
   ],
   "source": [
    "class Stu(object):\n",
    "    test= 0\n",
    "    def __init__(self, name):\n",
    "        self.name = name\n",
    "    def __call__(self, *args, **kwargs):\n",
    "        self.run()\n",
    "\n",
    "    def run(self):\n",
    "        print('{name} is running'.format(name=self.name))\n",
    "        \n",
    "    def updateTest(self,num):\n",
    "        print(f\"id of self.test is {id(self.test)}\")\n",
    "        self.test=num\n",
    "        print(f\"self.test's value and id after change is ({self.test},{id(self.test)})\")\n",
    "\n",
    "stu = Stu('小明')\n",
    "print(callable(stu))    # True\n",
    "stu()   \n",
    "print(id(Stu.test))\n",
    "stu.updateTest(3)"
   ]
  }
 ],
 "metadata": {
  "kernelspec": {
   "display_name": "Python 3",
   "language": "python",
   "name": "python3"
  },
  "language_info": {
   "codemirror_mode": {
    "name": "ipython",
    "version": 3
   },
   "file_extension": ".py",
   "mimetype": "text/x-python",
   "name": "python",
   "nbconvert_exporter": "python",
   "pygments_lexer": "ipython3",
   "version": "3.6.10"
  }
 },
 "nbformat": 4,
 "nbformat_minor": 4
}
