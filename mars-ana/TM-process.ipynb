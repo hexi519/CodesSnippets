{
 "cells": [
  {
   "cell_type": "code",
   "execution_count": 18,
   "metadata": {},
   "outputs": [
    {
     "data": {
      "text/plain": [
       "'0120_0205'"
      ]
     },
     "execution_count": 18,
     "metadata": {},
     "output_type": "execute_result"
    }
   ],
   "source": [
    "from datetime import datetime\n",
    "datetime.now().strftime('%Y%m%d_%H%M%S')[4:-2]  # 月日_时分 即可"
   ]
  },
  {
   "cell_type": "markdown",
   "metadata": {},
   "source": [
    "# 使用现有的TM阵shuffle时空"
   ]
  },
  {
   "cell_type": "markdown",
   "metadata": {},
   "source": [
    "## shuffle时空"
   ]
  },
  {
   "cell_type": "code",
   "execution_count": 29,
   "metadata": {},
   "outputs": [],
   "source": [
    "from IPython.core.interactiveshell import InteractiveShell\n",
    "InteractiveShell.ast_node_interactivity='all'\n",
    "\n",
    "import itertools\n",
    "import random\n",
    "import pandas as pd\n",
    "import numpy as np\n"
   ]
  },
  {
   "cell_type": "code",
   "execution_count": 19,
   "metadata": {},
   "outputs": [
    {
     "data": {
      "text/plain": [
       "(4000, 132)"
      ]
     },
     "execution_count": 19,
     "metadata": {},
     "output_type": "execute_result"
    },
    {
     "data": {
      "text/plain": [
       "RangeIndex(start=0, stop=4000, step=1)"
      ]
     },
     "execution_count": 19,
     "metadata": {},
     "output_type": "execute_result"
    },
    {
     "data": {
      "text/plain": [
       "Int64Index([  0,   1,   2,   3,   4,   5,   6,   7,   8,   9,\n",
       "            ...\n",
       "            122, 123, 124, 125, 126, 127, 128, 129, 130, 131],\n",
       "           dtype='int64', length=132)"
      ]
     },
     "execution_count": 19,
     "metadata": {},
     "output_type": "execute_result"
    },
    {
     "data": {
      "text/plain": [
       "array([3495, 2523, 1321, ...,  526, 2263, 1071])"
      ]
     },
     "execution_count": 19,
     "metadata": {},
     "output_type": "execute_result"
    },
    {
     "data": {
      "text/plain": [
       "array([118,  38, 102,  91,  41,   4, 125, 117,  25,  52,  66, 122, 129,\n",
       "        86,  58, 108,  28,   3,  13,   9, 106, 130,  95, 111, 123,  19,\n",
       "       127, 113,  55,  30,  22,  29,  85, 120,  94,  96, 101,  34,  88,\n",
       "        75,  21,  53,  59,  73,  14,  87,  65,  37,  23,  84, 119, 103,\n",
       "        35, 126, 131,  76,  64,  32,  71,  99,   2,  90,  50,  16, 104,\n",
       "        79,  24,  78,   6,   0,  83,  69, 105,  45, 115,  70,  74,   8,\n",
       "        33, 110,  11,  49,  62,   1, 109,  51,  61,  10,  93,  57,  43,\n",
       "        31,  39,  15,  46, 100,  92,  56, 114,  60, 128,  42,  26,  27,\n",
       "        72,  47,  48,   5,  77, 121,  89,  12,  44,  68,  17,  18,  82,\n",
       "        97,  20, 124,  98, 107,  81,   7,  63,  36, 112, 116,  54,  40,\n",
       "        80,  67])"
      ]
     },
     "execution_count": 19,
     "metadata": {},
     "output_type": "execute_result"
    }
   ],
   "source": [
    "# tmData = pd.read_csv(\"/home/hesy/projects/genflow/lambda_data/TmDataIn15min.csv\", header=None)\n",
    "tmData = pd.read_csv(\"/home/guifei/ns3_RL_LP_hesy/mars/DRLTE/inputs/help_data/abi/Abi-TM.txt\", header=None)\n",
    "\n",
    "tmData.shape\n",
    "tmData.index\n",
    "tmData.columns\n",
    "\n",
    "# shuffle（保留空间相关性）\n",
    "reRange_time = np.random.permutation( range( tmData.shape[0] ) )\n",
    "reRange_time\n",
    "\n",
    "# shuffle（保留时间相关性）\n",
    "reRange_shape = np.random.permutation( range( tmData.shape[1] ) )\n",
    "reRange_shape"
   ]
  },
  {
   "cell_type": "code",
   "execution_count": null,
   "metadata": {},
   "outputs": [],
   "source": [
    "tmData.head()\n",
    "\n",
    "with open(\"/home/guifei/ns3_RL_LP_hesy/mars/DRLTE/inputs/help_data/abi/shuffleTime-15minTm.txt\",\"w\") as f:\n",
    "    tmData_ = tmData.iloc[reRange_time,:]\n",
    "    tmData_.head()\n",
    "    tmData_.shape\n",
    "    # tmData_.dtypes\n",
    "    np.savetxt( f ,tmData_.values ,fmt='%d' )\n",
    "\n",
    "with open(\"/home/hesy/projects/genflow/lambda_data/shuffleSpace-15minTm.txt\",\"w\") as f:\n",
    "    tmData_ = tmData.iloc[:,reRange_shape]\n",
    "    tmData_.head()\n",
    "    tmData_.shape\n",
    "    np.savetxt( f ,tmData_.values ,fmt='%d')"
   ]
  },
  {
   "cell_type": "markdown",
   "metadata": {},
   "source": [
    "## 转换数据格式\n",
    "/home/guifei/ns3_RL_LP_hesy/LP_KSP/LP_NS3_GEA_5561/DRLTE/inputs\n",
    "randTM\n",
    "shuffleTime\n",
    "shuffleSpace"
   ]
  },
  {
   "cell_type": "code",
   "execution_count": null,
   "metadata": {},
   "outputs": [],
   "source": [
    "/home/guifei/ns3_RL_LP_hesy/mars/DRLTE/inputs/TM_real"
   ]
  },
  {
   "cell_type": "markdown",
   "metadata": {},
   "source": [
    "### 造的数据"
   ]
  },
  {
   "cell_type": "code",
   "execution_count": 25,
   "metadata": {},
   "outputs": [
    {
     "data": {
      "text/plain": [
       "dtype('int64')"
      ]
     },
     "execution_count": 25,
     "metadata": {},
     "output_type": "execute_result"
    }
   ],
   "source": [
    "np.loadtxt(\"/home/hesy/projects/genflow/lambda_data/shuffleSpace-15minTm.txt\",dtype=np.int).dtype"
   ]
  },
  {
   "cell_type": "code",
   "execution_count": 26,
   "metadata": {},
   "outputs": [
    {
     "data": {
      "text/html": [
       "<div>\n",
       "<style scoped>\n",
       "    .dataframe tbody tr th:only-of-type {\n",
       "        vertical-align: middle;\n",
       "    }\n",
       "\n",
       "    .dataframe tbody tr th {\n",
       "        vertical-align: top;\n",
       "    }\n",
       "\n",
       "    .dataframe thead th {\n",
       "        text-align: right;\n",
       "    }\n",
       "</style>\n",
       "<table border=\"1\" class=\"dataframe\">\n",
       "  <thead>\n",
       "    <tr style=\"text-align: right;\">\n",
       "      <th></th>\n",
       "      <th>0</th>\n",
       "      <th>1</th>\n",
       "      <th>2</th>\n",
       "      <th>3</th>\n",
       "      <th>4</th>\n",
       "      <th>5</th>\n",
       "      <th>6</th>\n",
       "      <th>7</th>\n",
       "      <th>8</th>\n",
       "      <th>9</th>\n",
       "      <th>...</th>\n",
       "      <th>496</th>\n",
       "      <th>497</th>\n",
       "      <th>498</th>\n",
       "      <th>499</th>\n",
       "      <th>500</th>\n",
       "      <th>501</th>\n",
       "      <th>502</th>\n",
       "      <th>503</th>\n",
       "      <th>504</th>\n",
       "      <th>505</th>\n",
       "    </tr>\n",
       "  </thead>\n",
       "  <tbody>\n",
       "    <tr>\n",
       "      <th>0</th>\n",
       "      <td>19634</td>\n",
       "      <td>7500</td>\n",
       "      <td>7799</td>\n",
       "      <td>310</td>\n",
       "      <td>3</td>\n",
       "      <td>258621</td>\n",
       "      <td>282</td>\n",
       "      <td>4370</td>\n",
       "      <td>2491</td>\n",
       "      <td>1102</td>\n",
       "      <td>...</td>\n",
       "      <td>132</td>\n",
       "      <td>99</td>\n",
       "      <td>7</td>\n",
       "      <td>616</td>\n",
       "      <td>22954</td>\n",
       "      <td>42</td>\n",
       "      <td>2</td>\n",
       "      <td>37</td>\n",
       "      <td>85</td>\n",
       "      <td>24</td>\n",
       "    </tr>\n",
       "    <tr>\n",
       "      <th>1</th>\n",
       "      <td>33294</td>\n",
       "      <td>237</td>\n",
       "      <td>363</td>\n",
       "      <td>40</td>\n",
       "      <td>1</td>\n",
       "      <td>13400</td>\n",
       "      <td>531</td>\n",
       "      <td>3525</td>\n",
       "      <td>640</td>\n",
       "      <td>3047</td>\n",
       "      <td>...</td>\n",
       "      <td>571</td>\n",
       "      <td>6</td>\n",
       "      <td>1</td>\n",
       "      <td>1</td>\n",
       "      <td>1494</td>\n",
       "      <td>272</td>\n",
       "      <td>4</td>\n",
       "      <td>15</td>\n",
       "      <td>180</td>\n",
       "      <td>83</td>\n",
       "    </tr>\n",
       "    <tr>\n",
       "      <th>2</th>\n",
       "      <td>110643</td>\n",
       "      <td>6383</td>\n",
       "      <td>2499</td>\n",
       "      <td>286</td>\n",
       "      <td>1177</td>\n",
       "      <td>8495</td>\n",
       "      <td>330</td>\n",
       "      <td>1550</td>\n",
       "      <td>184</td>\n",
       "      <td>79</td>\n",
       "      <td>...</td>\n",
       "      <td>1388</td>\n",
       "      <td>13</td>\n",
       "      <td>40</td>\n",
       "      <td>3336</td>\n",
       "      <td>30777</td>\n",
       "      <td>41</td>\n",
       "      <td>17</td>\n",
       "      <td>120</td>\n",
       "      <td>3657</td>\n",
       "      <td>160</td>\n",
       "    </tr>\n",
       "    <tr>\n",
       "      <th>3</th>\n",
       "      <td>1581</td>\n",
       "      <td>52</td>\n",
       "      <td>2157</td>\n",
       "      <td>406</td>\n",
       "      <td>15</td>\n",
       "      <td>3600</td>\n",
       "      <td>6</td>\n",
       "      <td>574</td>\n",
       "      <td>602</td>\n",
       "      <td>79</td>\n",
       "      <td>...</td>\n",
       "      <td>25</td>\n",
       "      <td>1</td>\n",
       "      <td>14</td>\n",
       "      <td>16565</td>\n",
       "      <td>1486</td>\n",
       "      <td>240</td>\n",
       "      <td>1</td>\n",
       "      <td>103</td>\n",
       "      <td>1526</td>\n",
       "      <td>136</td>\n",
       "    </tr>\n",
       "    <tr>\n",
       "      <th>4</th>\n",
       "      <td>7779</td>\n",
       "      <td>1377</td>\n",
       "      <td>11184</td>\n",
       "      <td>356</td>\n",
       "      <td>84</td>\n",
       "      <td>30448</td>\n",
       "      <td>129</td>\n",
       "      <td>1952</td>\n",
       "      <td>740</td>\n",
       "      <td>132</td>\n",
       "      <td>...</td>\n",
       "      <td>141</td>\n",
       "      <td>520</td>\n",
       "      <td>203</td>\n",
       "      <td>105</td>\n",
       "      <td>13598</td>\n",
       "      <td>16</td>\n",
       "      <td>320</td>\n",
       "      <td>240</td>\n",
       "      <td>422</td>\n",
       "      <td>165</td>\n",
       "    </tr>\n",
       "  </tbody>\n",
       "</table>\n",
       "<p>5 rows × 506 columns</p>\n",
       "</div>"
      ],
      "text/plain": [
       "      0     1      2    3     4       5    6     7     8     9    ...   496  \\\n",
       "0   19634  7500   7799  310     3  258621  282  4370  2491  1102  ...   132   \n",
       "1   33294   237    363   40     1   13400  531  3525   640  3047  ...   571   \n",
       "2  110643  6383   2499  286  1177    8495  330  1550   184    79  ...  1388   \n",
       "3    1581    52   2157  406    15    3600    6   574   602    79  ...    25   \n",
       "4    7779  1377  11184  356    84   30448  129  1952   740   132  ...   141   \n",
       "\n",
       "   497  498    499    500  501  502  503   504  505  \n",
       "0   99    7    616  22954   42    2   37    85   24  \n",
       "1    6    1      1   1494  272    4   15   180   83  \n",
       "2   13   40   3336  30777   41   17  120  3657  160  \n",
       "3    1   14  16565   1486  240    1  103  1526  136  \n",
       "4  520  203    105  13598   16  320  240   422  165  \n",
       "\n",
       "[5 rows x 506 columns]"
      ]
     },
     "execution_count": 26,
     "metadata": {},
     "output_type": "execute_result"
    },
    {
     "data": {
      "text/html": [
       "<div>\n",
       "<style scoped>\n",
       "    .dataframe tbody tr th:only-of-type {\n",
       "        vertical-align: middle;\n",
       "    }\n",
       "\n",
       "    .dataframe tbody tr th {\n",
       "        vertical-align: top;\n",
       "    }\n",
       "\n",
       "    .dataframe thead th {\n",
       "        text-align: right;\n",
       "    }\n",
       "</style>\n",
       "<table border=\"1\" class=\"dataframe\">\n",
       "  <thead>\n",
       "    <tr style=\"text-align: right;\">\n",
       "      <th></th>\n",
       "      <th>0</th>\n",
       "      <th>1</th>\n",
       "      <th>2</th>\n",
       "      <th>3</th>\n",
       "      <th>4</th>\n",
       "      <th>5</th>\n",
       "      <th>6</th>\n",
       "      <th>7</th>\n",
       "      <th>8</th>\n",
       "      <th>9</th>\n",
       "      <th>...</th>\n",
       "      <th>496</th>\n",
       "      <th>497</th>\n",
       "      <th>498</th>\n",
       "      <th>499</th>\n",
       "      <th>500</th>\n",
       "      <th>501</th>\n",
       "      <th>502</th>\n",
       "      <th>503</th>\n",
       "      <th>504</th>\n",
       "      <th>505</th>\n",
       "    </tr>\n",
       "  </thead>\n",
       "  <tbody>\n",
       "    <tr>\n",
       "      <th>0</th>\n",
       "      <td>33</td>\n",
       "      <td>1</td>\n",
       "      <td>1601</td>\n",
       "      <td>20547</td>\n",
       "      <td>4655</td>\n",
       "      <td>55</td>\n",
       "      <td>244</td>\n",
       "      <td>280</td>\n",
       "      <td>360</td>\n",
       "      <td>288</td>\n",
       "      <td>...</td>\n",
       "      <td>160886</td>\n",
       "      <td>16362</td>\n",
       "      <td>202</td>\n",
       "      <td>2</td>\n",
       "      <td>37</td>\n",
       "      <td>1</td>\n",
       "      <td>4913</td>\n",
       "      <td>851</td>\n",
       "      <td>2</td>\n",
       "      <td>4054</td>\n",
       "    </tr>\n",
       "    <tr>\n",
       "      <th>1</th>\n",
       "      <td>1</td>\n",
       "      <td>1</td>\n",
       "      <td>1144</td>\n",
       "      <td>22377</td>\n",
       "      <td>2964</td>\n",
       "      <td>3034</td>\n",
       "      <td>11</td>\n",
       "      <td>636</td>\n",
       "      <td>39</td>\n",
       "      <td>246</td>\n",
       "      <td>...</td>\n",
       "      <td>63118</td>\n",
       "      <td>4654</td>\n",
       "      <td>27</td>\n",
       "      <td>1</td>\n",
       "      <td>9</td>\n",
       "      <td>1</td>\n",
       "      <td>274</td>\n",
       "      <td>21</td>\n",
       "      <td>7</td>\n",
       "      <td>3926</td>\n",
       "    </tr>\n",
       "    <tr>\n",
       "      <th>2</th>\n",
       "      <td>14</td>\n",
       "      <td>1</td>\n",
       "      <td>1788</td>\n",
       "      <td>12426</td>\n",
       "      <td>24952</td>\n",
       "      <td>166</td>\n",
       "      <td>33</td>\n",
       "      <td>2305</td>\n",
       "      <td>737</td>\n",
       "      <td>1493</td>\n",
       "      <td>...</td>\n",
       "      <td>171155</td>\n",
       "      <td>11072</td>\n",
       "      <td>592</td>\n",
       "      <td>2332</td>\n",
       "      <td>19</td>\n",
       "      <td>80</td>\n",
       "      <td>7</td>\n",
       "      <td>496</td>\n",
       "      <td>41</td>\n",
       "      <td>1</td>\n",
       "    </tr>\n",
       "    <tr>\n",
       "      <th>3</th>\n",
       "      <td>1</td>\n",
       "      <td>13</td>\n",
       "      <td>91</td>\n",
       "      <td>7819</td>\n",
       "      <td>353</td>\n",
       "      <td>87</td>\n",
       "      <td>5</td>\n",
       "      <td>162</td>\n",
       "      <td>6</td>\n",
       "      <td>6150</td>\n",
       "      <td>...</td>\n",
       "      <td>48913</td>\n",
       "      <td>5955</td>\n",
       "      <td>42</td>\n",
       "      <td>2681</td>\n",
       "      <td>68</td>\n",
       "      <td>5803</td>\n",
       "      <td>3</td>\n",
       "      <td>2586</td>\n",
       "      <td>2</td>\n",
       "      <td>1</td>\n",
       "    </tr>\n",
       "    <tr>\n",
       "      <th>4</th>\n",
       "      <td>35</td>\n",
       "      <td>1</td>\n",
       "      <td>723</td>\n",
       "      <td>21055</td>\n",
       "      <td>2424</td>\n",
       "      <td>99</td>\n",
       "      <td>321</td>\n",
       "      <td>160</td>\n",
       "      <td>1836</td>\n",
       "      <td>250</td>\n",
       "      <td>...</td>\n",
       "      <td>18873</td>\n",
       "      <td>5796</td>\n",
       "      <td>158</td>\n",
       "      <td>2136</td>\n",
       "      <td>1</td>\n",
       "      <td>1</td>\n",
       "      <td>73</td>\n",
       "      <td>396</td>\n",
       "      <td>1</td>\n",
       "      <td>533</td>\n",
       "    </tr>\n",
       "  </tbody>\n",
       "</table>\n",
       "<p>5 rows × 506 columns</p>\n",
       "</div>"
      ],
      "text/plain": [
       "   0    1     2      3      4     5    6     7     8     9    ...     496  \\\n",
       "0   33    1  1601  20547   4655    55  244   280   360   288  ...  160886   \n",
       "1    1    1  1144  22377   2964  3034   11   636    39   246  ...   63118   \n",
       "2   14    1  1788  12426  24952   166   33  2305   737  1493  ...  171155   \n",
       "3    1   13    91   7819    353    87    5   162     6  6150  ...   48913   \n",
       "4   35    1   723  21055   2424    99  321   160  1836   250  ...   18873   \n",
       "\n",
       "     497  498   499  500   501   502   503  504   505  \n",
       "0  16362  202     2   37     1  4913   851    2  4054  \n",
       "1   4654   27     1    9     1   274    21    7  3926  \n",
       "2  11072  592  2332   19    80     7   496   41     1  \n",
       "3   5955   42  2681   68  5803     3  2586    2     1  \n",
       "4   5796  158  2136    1     1    73   396    1   533  \n",
       "\n",
       "[5 rows x 506 columns]"
      ]
     },
     "execution_count": 26,
     "metadata": {},
     "output_type": "execute_result"
    }
   ],
   "source": [
    "# GEA_randTM.txt\n",
    "tm_ = pd.DataFrame(np.loadtxt(\"/home/hesy/projects/genflow/lambda_data/shuffleSpace-15minTm.txt\",dtype=np.int))\n",
    "tm__ = pd.DataFrame(np.loadtxt(\"/home/hesy/projects/genflow/lambda_data/shuffleTime-15minTm.txt\",dtype=np.int))\n",
    "\n",
    "tm_.head()\n",
    "tm__.head()"
   ]
  },
  {
   "cell_type": "code",
   "execution_count": 33,
   "metadata": {},
   "outputs": [],
   "source": [
    "for tmIdx in range(tm_.shape[0]):\n",
    "    with open(f\"/home/guifei/ns3_RL_LP_hesy/mars/DRLTE/inputs/shuffleSpatial/tm.{tmIdx+1}\",\"w\") as f:\n",
    "        # 每一行转成 23*22\n",
    "        tmp = tm_.iloc[tmIdx,:].values.reshape(23,-1)\n",
    "        np.savetxt(f,tmp,fmt=\"%d\")\n",
    "\n",
    "for tmIdx in range(tm__.shape[0]):\n",
    "    with open(f\"/home/guifei/ns3_RL_LP_hesy/mars/DRLTE/inputs/shuffleTemporal/tm.{tmIdx+1}\",\"w\") as f:\n",
    "        # 每一行转成 23*22\n",
    "        tmp = tm__.iloc[tmIdx,:].values.reshape(23,-1)\n",
    "        np.savetxt(f,tmp,fmt=\"%d\")"
   ]
  },
  {
   "cell_type": "markdown",
   "metadata": {},
   "source": [
    "### 真实数据"
   ]
  },
  {
   "cell_type": "code",
   "execution_count": null,
   "metadata": {},
   "outputs": [],
   "source": [
    "for i in range()\n",
    "tm = pd.DataFrame(np.loadtxt(\"/home/hesy/projects/genflow/lambda_data/TmDataIn15min.txt\",dtype=np.int))\n",
    "for tmIdx in range(tm_.shape[0]):\n",
    "    with open(f\"/home/guifei/ns3_RL_LP_hesy/mars/DRLTE/inputs/TM_real/tm.{tmIdx+1}\",\"w\") as f:\n",
    "        # 每一行转成 23*22\n",
    "        tmp = tm_.iloc[tmIdx,:].values.reshape(23,-1)\n",
    "        np.savetxt(f,tmp,fmt=\"%d\")"
   ]
  },
  {
   "cell_type": "markdown",
   "metadata": {},
   "source": [
    "## C端的KSP代码"
   ]
  },
  {
   "cell_type": "markdown",
   "metadata": {},
   "source": [
    "### trueTM"
   ]
  },
  {
   "cell_type": "code",
   "execution_count": 56,
   "metadata": {},
   "outputs": [],
   "source": [
    "# 读入数据 3231个tm\n",
    "import os.path as osp\n",
    "import math\n",
    "parDir = \"/home/guifei/ns3_RL_LP_hesy/mars/DRLTE/inputs/TM_real\"\n",
    "true_data_3231 = []\n",
    "\n",
    "## 辅助处理函数\n",
    "def processTM( tmIdx ):\n",
    "    tmp = np.loadtxt( osp.join(parDir,f\"{tmIdx}.txt\" ) )\n",
    "    tmp = map(math.ceil, tmp[:,2])\n",
    "    return list(tmp)\n",
    "    \n",
    "for tmIdx in range(3231):\n",
    "    true_data_3231.append( processTM(tmIdx) )"
   ]
  },
  {
   "cell_type": "code",
   "execution_count": 57,
   "metadata": {},
   "outputs": [
    {
     "data": {
      "text/plain": [
       "(3231, 529)"
      ]
     },
     "execution_count": 57,
     "metadata": {},
     "output_type": "execute_result"
    },
    {
     "data": {
      "text/html": [
       "<div>\n",
       "<style scoped>\n",
       "    .dataframe tbody tr th:only-of-type {\n",
       "        vertical-align: middle;\n",
       "    }\n",
       "\n",
       "    .dataframe tbody tr th {\n",
       "        vertical-align: top;\n",
       "    }\n",
       "\n",
       "    .dataframe thead th {\n",
       "        text-align: right;\n",
       "    }\n",
       "</style>\n",
       "<table border=\"1\" class=\"dataframe\">\n",
       "  <thead>\n",
       "    <tr style=\"text-align: right;\">\n",
       "      <th></th>\n",
       "      <th>0</th>\n",
       "      <th>1</th>\n",
       "      <th>2</th>\n",
       "      <th>3</th>\n",
       "      <th>4</th>\n",
       "      <th>5</th>\n",
       "      <th>6</th>\n",
       "      <th>7</th>\n",
       "      <th>8</th>\n",
       "      <th>9</th>\n",
       "      <th>...</th>\n",
       "      <th>519</th>\n",
       "      <th>520</th>\n",
       "      <th>521</th>\n",
       "      <th>522</th>\n",
       "      <th>523</th>\n",
       "      <th>524</th>\n",
       "      <th>525</th>\n",
       "      <th>526</th>\n",
       "      <th>527</th>\n",
       "      <th>528</th>\n",
       "    </tr>\n",
       "  </thead>\n",
       "  <tbody>\n",
       "    <tr>\n",
       "      <th>0</th>\n",
       "      <td>26060</td>\n",
       "      <td>45729</td>\n",
       "      <td>13056</td>\n",
       "      <td>9340</td>\n",
       "      <td>356</td>\n",
       "      <td>1</td>\n",
       "      <td>1597</td>\n",
       "      <td>49</td>\n",
       "      <td>1546</td>\n",
       "      <td>821</td>\n",
       "      <td>...</td>\n",
       "      <td>1</td>\n",
       "      <td>204</td>\n",
       "      <td>5</td>\n",
       "      <td>8075</td>\n",
       "      <td>1683</td>\n",
       "      <td>2</td>\n",
       "      <td>1</td>\n",
       "      <td>851</td>\n",
       "      <td>161</td>\n",
       "      <td>0</td>\n",
       "    </tr>\n",
       "    <tr>\n",
       "      <th>1</th>\n",
       "      <td>104</td>\n",
       "      <td>68369</td>\n",
       "      <td>71010</td>\n",
       "      <td>3151</td>\n",
       "      <td>372</td>\n",
       "      <td>0</td>\n",
       "      <td>41874</td>\n",
       "      <td>67</td>\n",
       "      <td>1068</td>\n",
       "      <td>173</td>\n",
       "      <td>...</td>\n",
       "      <td>11</td>\n",
       "      <td>0</td>\n",
       "      <td>25</td>\n",
       "      <td>327</td>\n",
       "      <td>1280</td>\n",
       "      <td>2</td>\n",
       "      <td>25</td>\n",
       "      <td>21</td>\n",
       "      <td>111</td>\n",
       "      <td>0</td>\n",
       "    </tr>\n",
       "    <tr>\n",
       "      <th>2</th>\n",
       "      <td>547113</td>\n",
       "      <td>53671</td>\n",
       "      <td>1192</td>\n",
       "      <td>418627</td>\n",
       "      <td>441</td>\n",
       "      <td>0</td>\n",
       "      <td>1334</td>\n",
       "      <td>35</td>\n",
       "      <td>5111</td>\n",
       "      <td>17822</td>\n",
       "      <td>...</td>\n",
       "      <td>51</td>\n",
       "      <td>27</td>\n",
       "      <td>543</td>\n",
       "      <td>37949</td>\n",
       "      <td>28</td>\n",
       "      <td>15</td>\n",
       "      <td>58</td>\n",
       "      <td>496</td>\n",
       "      <td>14</td>\n",
       "      <td>0</td>\n",
       "    </tr>\n",
       "    <tr>\n",
       "      <th>3</th>\n",
       "      <td>17821</td>\n",
       "      <td>15383</td>\n",
       "      <td>91</td>\n",
       "      <td>206</td>\n",
       "      <td>582</td>\n",
       "      <td>0</td>\n",
       "      <td>502</td>\n",
       "      <td>79</td>\n",
       "      <td>1292</td>\n",
       "      <td>1050</td>\n",
       "      <td>...</td>\n",
       "      <td>14</td>\n",
       "      <td>54</td>\n",
       "      <td>1081</td>\n",
       "      <td>7424</td>\n",
       "      <td>0</td>\n",
       "      <td>14</td>\n",
       "      <td>1</td>\n",
       "      <td>2586</td>\n",
       "      <td>1535</td>\n",
       "      <td>0</td>\n",
       "    </tr>\n",
       "    <tr>\n",
       "      <th>4</th>\n",
       "      <td>8307</td>\n",
       "      <td>1826</td>\n",
       "      <td>1068</td>\n",
       "      <td>5659</td>\n",
       "      <td>684</td>\n",
       "      <td>1</td>\n",
       "      <td>2022</td>\n",
       "      <td>84</td>\n",
       "      <td>1092</td>\n",
       "      <td>207</td>\n",
       "      <td>...</td>\n",
       "      <td>0</td>\n",
       "      <td>2</td>\n",
       "      <td>338</td>\n",
       "      <td>20754</td>\n",
       "      <td>551</td>\n",
       "      <td>39</td>\n",
       "      <td>0</td>\n",
       "      <td>396</td>\n",
       "      <td>172</td>\n",
       "      <td>0</td>\n",
       "    </tr>\n",
       "  </tbody>\n",
       "</table>\n",
       "<p>5 rows × 529 columns</p>\n",
       "</div>"
      ],
      "text/plain": [
       "      0      1      2       3    4    5      6    7     8      9    ...  519  \\\n",
       "0   26060  45729  13056    9340  356    1   1597   49  1546    821  ...    1   \n",
       "1     104  68369  71010    3151  372    0  41874   67  1068    173  ...   11   \n",
       "2  547113  53671   1192  418627  441    0   1334   35  5111  17822  ...   51   \n",
       "3   17821  15383     91     206  582    0    502   79  1292   1050  ...   14   \n",
       "4    8307   1826   1068    5659  684    1   2022   84  1092    207  ...    0   \n",
       "\n",
       "   520   521    522   523  524  525   526   527  528  \n",
       "0  204     5   8075  1683    2    1   851   161    0  \n",
       "1    0    25    327  1280    2   25    21   111    0  \n",
       "2   27   543  37949    28   15   58   496    14    0  \n",
       "3   54  1081   7424     0   14    1  2586  1535    0  \n",
       "4    2   338  20754   551   39    0   396   172    0  \n",
       "\n",
       "[5 rows x 529 columns]"
      ]
     },
     "execution_count": 57,
     "metadata": {},
     "output_type": "execute_result"
    }
   ],
   "source": [
    "# check下是否一致\n",
    "true_data_3231 = pd.DataFrame( true_data_3231 )\n",
    "true_data_3231.shape\n",
    "true_data_3231.head()"
   ]
  },
  {
   "cell_type": "code",
   "execution_count": 66,
   "metadata": {},
   "outputs": [],
   "source": [
    "start =[0]\n",
    "for i in range(22):\n",
    "    start.append(start[-1]+23+1)"
   ]
  },
  {
   "cell_type": "markdown",
   "metadata": {},
   "source": [
    "#### 生成格式"
   ]
  },
  {
   "cell_type": "code",
   "execution_count": 95,
   "metadata": {},
   "outputs": [],
   "source": [
    "train_num = 2000\n",
    "test_num = 500\n",
    "parDir = \"/home/guifei/ns3_RL_LP_hesy/mars/DRLTE/inputs\"\n",
    "\n",
    "for tmIdx in range(train_num): \n",
    "    with open( osp.join(parDir,\"trueTM/train\",f\"{tmIdx}.txt\" ),\"w\") as f:\n",
    "        index = 0\n",
    "        for fromNode in range(23):\n",
    "            for toNode in range(23):\n",
    "                if fromNode==toNode:\n",
    "                    print(f\"{fromNode} {toNode} 0\" ,file = f) \n",
    "                    continue\n",
    "                else:\n",
    "                    print(f\"{fromNode} {toNode} {true_data_3231x506.iloc[tmIdx,index]}\" ,file = f) \n",
    "                    index+=1\n",
    "\n",
    "for tmIdx in range(train_num,train_num+test_num): \n",
    "    with open( osp.join(parDir,\"trueTM/test\",f\"{tmIdx-train_num}.txt\"),\"w\") as f:\n",
    "        index = 0\n",
    "        for fromNode in range(23):\n",
    "            for toNode in range(23):\n",
    "                if fromNode==toNode:\n",
    "                    print(f\"{fromNode} {toNode} 0\" ,file = f) \n",
    "                    continue\n",
    "                else:\n",
    "                    print(f\"{fromNode} {toNode} {true_data_3231x506.iloc[tmIdx,index]}\" ,file = f) \n",
    "                    index+=1\n",
    "    "
   ]
  },
  {
   "cell_type": "markdown",
   "metadata": {},
   "source": [
    "### saveSpace & saveTime (shuffle 数据生成)"
   ]
  },
  {
   "cell_type": "code",
   "execution_count": 96,
   "metadata": {},
   "outputs": [],
   "source": [
    "true_data_2500x529 = true_data_3231[:2500]\n",
    "true_data_2500x506 = true_data_3231x506[:2500]"
   ]
  },
  {
   "cell_type": "markdown",
   "metadata": {},
   "source": [
    "#### shuffle time（保留空间相关性）- save space"
   ]
  },
  {
   "cell_type": "code",
   "execution_count": 109,
   "metadata": {},
   "outputs": [],
   "source": [
    "reRange_time = np.random.permutation( range( true_data_2500x506.shape[0] ) )\n",
    "saveSpace = true_data_2500x506.iloc[reRange_time,:]\n",
    "\n",
    "train_num = 2000\n",
    "test_num = 500\n",
    "parDir = \"/home/guifei/ns3_RL_LP_hesy/mars/DRLTE/inputs\"\n",
    "\n",
    "for tmIdx in range(train_num): \n",
    "    with open( osp.join(parDir,\"saveSpace/train\",f\"{tmIdx}.txt\" ),\"w\") as f:\n",
    "        index = 0\n",
    "        for fromNode in range(23):\n",
    "            for toNode in range(23):\n",
    "                if fromNode==toNode:\n",
    "                    print(f\"{fromNode} {toNode} 0\" ,file = f) \n",
    "                    continue\n",
    "                else:\n",
    "                    print(f\"{fromNode} {toNode} {saveSpace.iloc[tmIdx,index]}\" ,file = f) \n",
    "                    index+=1\n",
    "\n",
    "for tmIdx in range(train_num,train_num+test_num): \n",
    "    with open( osp.join(parDir,\"saveSpace/test\",f\"{tmIdx-train_num}.txt\" ),\"w\") as f:\n",
    "        index = 0\n",
    "        for fromNode in range(23):\n",
    "            for toNode in range(23):\n",
    "                if fromNode==toNode:\n",
    "                    print(f\"{fromNode} {toNode} 0\" ,file = f) \n",
    "                    continue\n",
    "                else:\n",
    "                    print(f\"{fromNode} {toNode} {saveSpace.iloc[tmIdx,index]}\" ,file = f) \n",
    "                    index+=1\n",
    "                    "
   ]
  },
  {
   "cell_type": "code",
   "execution_count": 114,
   "metadata": {},
   "outputs": [
    {
     "data": {
      "text/html": [
       "<div>\n",
       "<style scoped>\n",
       "    .dataframe tbody tr th:only-of-type {\n",
       "        vertical-align: middle;\n",
       "    }\n",
       "\n",
       "    .dataframe tbody tr th {\n",
       "        vertical-align: top;\n",
       "    }\n",
       "\n",
       "    .dataframe thead th {\n",
       "        text-align: right;\n",
       "    }\n",
       "</style>\n",
       "<table border=\"1\" class=\"dataframe\">\n",
       "  <thead>\n",
       "    <tr style=\"text-align: right;\">\n",
       "      <th></th>\n",
       "      <th>1</th>\n",
       "      <th>2</th>\n",
       "      <th>3</th>\n",
       "      <th>4</th>\n",
       "      <th>5</th>\n",
       "      <th>6</th>\n",
       "      <th>7</th>\n",
       "      <th>8</th>\n",
       "      <th>9</th>\n",
       "      <th>10</th>\n",
       "      <th>...</th>\n",
       "      <th>518</th>\n",
       "      <th>519</th>\n",
       "      <th>520</th>\n",
       "      <th>521</th>\n",
       "      <th>522</th>\n",
       "      <th>523</th>\n",
       "      <th>524</th>\n",
       "      <th>525</th>\n",
       "      <th>526</th>\n",
       "      <th>527</th>\n",
       "    </tr>\n",
       "  </thead>\n",
       "  <tbody>\n",
       "    <tr>\n",
       "      <th>57</th>\n",
       "      <td>15752</td>\n",
       "      <td>9016</td>\n",
       "      <td>3577</td>\n",
       "      <td>293</td>\n",
       "      <td>0</td>\n",
       "      <td>5098</td>\n",
       "      <td>4</td>\n",
       "      <td>629</td>\n",
       "      <td>156</td>\n",
       "      <td>967</td>\n",
       "      <td>...</td>\n",
       "      <td>23</td>\n",
       "      <td>4</td>\n",
       "      <td>27</td>\n",
       "      <td>15</td>\n",
       "      <td>101</td>\n",
       "      <td>640</td>\n",
       "      <td>27</td>\n",
       "      <td>0</td>\n",
       "      <td>0</td>\n",
       "      <td>22</td>\n",
       "    </tr>\n",
       "    <tr>\n",
       "      <th>2128</th>\n",
       "      <td>45817</td>\n",
       "      <td>30176</td>\n",
       "      <td>5409</td>\n",
       "      <td>519</td>\n",
       "      <td>0</td>\n",
       "      <td>51295</td>\n",
       "      <td>1527</td>\n",
       "      <td>1085</td>\n",
       "      <td>2846</td>\n",
       "      <td>221</td>\n",
       "      <td>...</td>\n",
       "      <td>618</td>\n",
       "      <td>0</td>\n",
       "      <td>94</td>\n",
       "      <td>341</td>\n",
       "      <td>3047</td>\n",
       "      <td>243</td>\n",
       "      <td>171</td>\n",
       "      <td>1906</td>\n",
       "      <td>176</td>\n",
       "      <td>143</td>\n",
       "    </tr>\n",
       "    <tr>\n",
       "      <th>1715</th>\n",
       "      <td>8433</td>\n",
       "      <td>74</td>\n",
       "      <td>839</td>\n",
       "      <td>428</td>\n",
       "      <td>0</td>\n",
       "      <td>17539</td>\n",
       "      <td>567</td>\n",
       "      <td>8052</td>\n",
       "      <td>339</td>\n",
       "      <td>130</td>\n",
       "      <td>...</td>\n",
       "      <td>140</td>\n",
       "      <td>1</td>\n",
       "      <td>0</td>\n",
       "      <td>0</td>\n",
       "      <td>6186</td>\n",
       "      <td>14</td>\n",
       "      <td>20</td>\n",
       "      <td>0</td>\n",
       "      <td>912</td>\n",
       "      <td>22</td>\n",
       "    </tr>\n",
       "    <tr>\n",
       "      <th>686</th>\n",
       "      <td>8352</td>\n",
       "      <td>23</td>\n",
       "      <td>926</td>\n",
       "      <td>635</td>\n",
       "      <td>0</td>\n",
       "      <td>232</td>\n",
       "      <td>754</td>\n",
       "      <td>6934</td>\n",
       "      <td>402</td>\n",
       "      <td>88</td>\n",
       "      <td>...</td>\n",
       "      <td>1797</td>\n",
       "      <td>4</td>\n",
       "      <td>4</td>\n",
       "      <td>19</td>\n",
       "      <td>2056</td>\n",
       "      <td>29</td>\n",
       "      <td>14</td>\n",
       "      <td>0</td>\n",
       "      <td>809</td>\n",
       "      <td>75</td>\n",
       "    </tr>\n",
       "    <tr>\n",
       "      <th>2021</th>\n",
       "      <td>15112</td>\n",
       "      <td>21</td>\n",
       "      <td>13497</td>\n",
       "      <td>229099</td>\n",
       "      <td>0</td>\n",
       "      <td>12307</td>\n",
       "      <td>110238</td>\n",
       "      <td>203778</td>\n",
       "      <td>0</td>\n",
       "      <td>98</td>\n",
       "      <td>...</td>\n",
       "      <td>101</td>\n",
       "      <td>2</td>\n",
       "      <td>3387</td>\n",
       "      <td>126</td>\n",
       "      <td>81</td>\n",
       "      <td>6451</td>\n",
       "      <td>15</td>\n",
       "      <td>28</td>\n",
       "      <td>147</td>\n",
       "      <td>768</td>\n",
       "    </tr>\n",
       "  </tbody>\n",
       "</table>\n",
       "<p>5 rows × 506 columns</p>\n",
       "</div>"
      ],
      "text/plain": [
       "        1      2      3       4    5      6       7       8     9    10   ...  \\\n",
       "57    15752   9016   3577     293    0   5098       4     629   156  967  ...   \n",
       "2128  45817  30176   5409     519    0  51295    1527    1085  2846  221  ...   \n",
       "1715   8433     74    839     428    0  17539     567    8052   339  130  ...   \n",
       "686    8352     23    926     635    0    232     754    6934   402   88  ...   \n",
       "2021  15112     21  13497  229099    0  12307  110238  203778     0   98  ...   \n",
       "\n",
       "       518  519   520  521   522   523  524   525  526  527  \n",
       "57      23    4    27   15   101   640   27     0    0   22  \n",
       "2128   618    0    94  341  3047   243  171  1906  176  143  \n",
       "1715   140    1     0    0  6186    14   20     0  912   22  \n",
       "686   1797    4     4   19  2056    29   14     0  809   75  \n",
       "2021   101    2  3387  126    81  6451   15    28  147  768  \n",
       "\n",
       "[5 rows x 506 columns]"
      ]
     },
     "execution_count": 114,
     "metadata": {},
     "output_type": "execute_result"
    }
   ],
   "source": [
    "saveSpace.iloc[57]"
   ]
  },
  {
   "cell_type": "code",
   "execution_count": 117,
   "metadata": {},
   "outputs": [
    {
     "data": {
      "text/plain": [
       "1      3226\n",
       "2       628\n",
       "3       946\n",
       "4       599\n",
       "5        66\n",
       "       ... \n",
       "523     265\n",
       "524     229\n",
       "525      12\n",
       "526    4196\n",
       "527     830\n",
       "Name: 851, Length: 506, dtype: int64"
      ]
     },
     "execution_count": 117,
     "metadata": {},
     "output_type": "execute_result"
    }
   ],
   "source": [
    "saveSpace.iloc[2000]"
   ]
  },
  {
   "cell_type": "markdown",
   "metadata": {},
   "source": [
    "#### shuffle space（保留时间相关性）- save time"
   ]
  },
  {
   "cell_type": "code",
   "execution_count": 110,
   "metadata": {},
   "outputs": [],
   "source": [
    "reRange_time = np.random.permutation( range( true_data_2500x506.shape[1] ) )\n",
    "saveTime = true_data_2500x506.iloc[:,reRange_time]\n",
    "\n",
    "train_num = 2000\n",
    "test_num = 500\n",
    "parDir = \"/home/guifei/ns3_RL_LP_hesy/mars/DRLTE/inputs\"\n",
    "\n",
    "for tmIdx in range(train_num): \n",
    "    with open( osp.join(parDir,\"saveTime/train\",f\"{tmIdx}.txt\" ),\"w\") as f:\n",
    "        index = 0\n",
    "        for fromNode in range(23):\n",
    "            for toNode in range(23):\n",
    "                if fromNode==toNode:\n",
    "                    print(f\"{fromNode} {toNode} 0\" ,file = f) \n",
    "                    continue\n",
    "                else:\n",
    "                    print(f\"{fromNode} {toNode} {saveTime.iloc[tmIdx,index]}\" ,file = f) \n",
    "                    index+=1\n",
    "\n",
    "for tmIdx in range(train_num,train_num+test_num): \n",
    "    with open( osp.join(parDir,\"saveTime/test\",f\"{tmIdx-train_num}.txt\" ),\"w\") as f:\n",
    "        index = 0\n",
    "        for fromNode in range(23):\n",
    "            for toNode in range(23):\n",
    "                if fromNode==toNode:\n",
    "                    print(f\"{fromNode} {toNode} 0\" ,file = f) \n",
    "                    continue\n",
    "                else:\n",
    "                    print(f\"{fromNode} {toNode} {saveTime.iloc[tmIdx,index]}\" ,file = f) \n",
    "                    index+=1\n",
    "                    "
   ]
  },
  {
   "cell_type": "code",
   "execution_count": 113,
   "metadata": {},
   "outputs": [
    {
     "data": {
      "text/html": [
       "<div>\n",
       "<style scoped>\n",
       "    .dataframe tbody tr th:only-of-type {\n",
       "        vertical-align: middle;\n",
       "    }\n",
       "\n",
       "    .dataframe tbody tr th {\n",
       "        vertical-align: top;\n",
       "    }\n",
       "\n",
       "    .dataframe thead th {\n",
       "        text-align: right;\n",
       "    }\n",
       "</style>\n",
       "<table border=\"1\" class=\"dataframe\">\n",
       "  <thead>\n",
       "    <tr style=\"text-align: right;\">\n",
       "      <th></th>\n",
       "      <th>213</th>\n",
       "      <th>154</th>\n",
       "      <th>145</th>\n",
       "      <th>199</th>\n",
       "      <th>453</th>\n",
       "      <th>410</th>\n",
       "      <th>284</th>\n",
       "      <th>469</th>\n",
       "      <th>13</th>\n",
       "      <th>171</th>\n",
       "      <th>...</th>\n",
       "      <th>155</th>\n",
       "      <th>476</th>\n",
       "      <th>502</th>\n",
       "      <th>190</th>\n",
       "      <th>339</th>\n",
       "      <th>170</th>\n",
       "      <th>172</th>\n",
       "      <th>12</th>\n",
       "      <th>483</th>\n",
       "      <th>330</th>\n",
       "    </tr>\n",
       "  </thead>\n",
       "  <tbody>\n",
       "    <tr>\n",
       "      <th>0</th>\n",
       "      <td>21112</td>\n",
       "      <td>16362</td>\n",
       "      <td>191</td>\n",
       "      <td>956</td>\n",
       "      <td>6084</td>\n",
       "      <td>21</td>\n",
       "      <td>19181</td>\n",
       "      <td>924</td>\n",
       "      <td>162</td>\n",
       "      <td>1</td>\n",
       "      <td>...</td>\n",
       "      <td>1270</td>\n",
       "      <td>38247</td>\n",
       "      <td>0</td>\n",
       "      <td>127</td>\n",
       "      <td>25</td>\n",
       "      <td>101</td>\n",
       "      <td>26943</td>\n",
       "      <td>679</td>\n",
       "      <td>138</td>\n",
       "      <td>371</td>\n",
       "    </tr>\n",
       "    <tr>\n",
       "      <th>1</th>\n",
       "      <td>8621</td>\n",
       "      <td>4654</td>\n",
       "      <td>362</td>\n",
       "      <td>3237</td>\n",
       "      <td>9144</td>\n",
       "      <td>33</td>\n",
       "      <td>20515</td>\n",
       "      <td>950</td>\n",
       "      <td>48</td>\n",
       "      <td>101</td>\n",
       "      <td>...</td>\n",
       "      <td>313</td>\n",
       "      <td>42093</td>\n",
       "      <td>0</td>\n",
       "      <td>910</td>\n",
       "      <td>24</td>\n",
       "      <td>266</td>\n",
       "      <td>3264</td>\n",
       "      <td>15922</td>\n",
       "      <td>458</td>\n",
       "      <td>99</td>\n",
       "    </tr>\n",
       "    <tr>\n",
       "      <th>2</th>\n",
       "      <td>7164</td>\n",
       "      <td>11072</td>\n",
       "      <td>247</td>\n",
       "      <td>167531</td>\n",
       "      <td>2069</td>\n",
       "      <td>4</td>\n",
       "      <td>10539</td>\n",
       "      <td>3486</td>\n",
       "      <td>235</td>\n",
       "      <td>4</td>\n",
       "      <td>...</td>\n",
       "      <td>1198</td>\n",
       "      <td>26556</td>\n",
       "      <td>0</td>\n",
       "      <td>837</td>\n",
       "      <td>2</td>\n",
       "      <td>1081</td>\n",
       "      <td>29441</td>\n",
       "      <td>8995</td>\n",
       "      <td>241</td>\n",
       "      <td>2276</td>\n",
       "    </tr>\n",
       "    <tr>\n",
       "      <th>3</th>\n",
       "      <td>0</td>\n",
       "      <td>5955</td>\n",
       "      <td>1</td>\n",
       "      <td>461007</td>\n",
       "      <td>3103</td>\n",
       "      <td>3</td>\n",
       "      <td>613</td>\n",
       "      <td>1334</td>\n",
       "      <td>143</td>\n",
       "      <td>14</td>\n",
       "      <td>...</td>\n",
       "      <td>31</td>\n",
       "      <td>22040</td>\n",
       "      <td>0</td>\n",
       "      <td>0</td>\n",
       "      <td>1</td>\n",
       "      <td>35</td>\n",
       "      <td>7221</td>\n",
       "      <td>1444</td>\n",
       "      <td>114</td>\n",
       "      <td>398</td>\n",
       "    </tr>\n",
       "    <tr>\n",
       "      <th>4</th>\n",
       "      <td>6580</td>\n",
       "      <td>5796</td>\n",
       "      <td>502</td>\n",
       "      <td>119576</td>\n",
       "      <td>8739</td>\n",
       "      <td>8</td>\n",
       "      <td>4609</td>\n",
       "      <td>861</td>\n",
       "      <td>142</td>\n",
       "      <td>0</td>\n",
       "      <td>...</td>\n",
       "      <td>24</td>\n",
       "      <td>23791</td>\n",
       "      <td>0</td>\n",
       "      <td>222</td>\n",
       "      <td>0</td>\n",
       "      <td>150</td>\n",
       "      <td>8702</td>\n",
       "      <td>388</td>\n",
       "      <td>252</td>\n",
       "      <td>452</td>\n",
       "    </tr>\n",
       "  </tbody>\n",
       "</table>\n",
       "<p>5 rows × 506 columns</p>\n",
       "</div>"
      ],
      "text/plain": [
       "     213    154  145     199   453  410    284   469  13   171  ...   155  \\\n",
       "0  21112  16362  191     956  6084   21  19181   924  162    1  ...  1270   \n",
       "1   8621   4654  362    3237  9144   33  20515   950   48  101  ...   313   \n",
       "2   7164  11072  247  167531  2069    4  10539  3486  235    4  ...  1198   \n",
       "3      0   5955    1  461007  3103    3    613  1334  143   14  ...    31   \n",
       "4   6580   5796  502  119576  8739    8   4609   861  142    0  ...    24   \n",
       "\n",
       "     476  502  190  339   170    172    12   483   330  \n",
       "0  38247    0  127   25   101  26943    679  138   371  \n",
       "1  42093    0  910   24   266   3264  15922  458    99  \n",
       "2  26556    0  837    2  1081  29441   8995  241  2276  \n",
       "3  22040    0    0    1    35   7221   1444  114   398  \n",
       "4  23791    0  222    0   150   8702    388  252   452  \n",
       "\n",
       "[5 rows x 506 columns]"
      ]
     },
     "execution_count": 113,
     "metadata": {},
     "output_type": "execute_result"
    }
   ],
   "source": [
    "saveTime.head()"
   ]
  },
  {
   "cell_type": "code",
   "execution_count": 120,
   "metadata": {},
   "outputs": [
    {
     "data": {
      "text/plain": [
       "213         3\n",
       "154      3464\n",
       "145       207\n",
       "199    504945\n",
       "453      1852\n",
       "        ...  \n",
       "170        93\n",
       "172      5303\n",
       "12       1490\n",
       "483       186\n",
       "330       260\n",
       "Name: 2001, Length: 506, dtype: int64"
      ]
     },
     "execution_count": 120,
     "metadata": {},
     "output_type": "execute_result"
    }
   ],
   "source": [
    "saveTime.iloc[2001]"
   ]
  },
  {
   "cell_type": "code",
   "execution_count": null,
   "metadata": {},
   "outputs": [],
   "source": [
    "# shuffle（保留时间相关性）\n",
    "reRange_shape = np.random.permutation( range( true_data_2500x506.shape[1] ) )\n",
    "reRange_shape"
   ]
  },
  {
   "cell_type": "code",
   "execution_count": null,
   "metadata": {},
   "outputs": [],
   "source": [
    "tmData.head()\n",
    "\n",
    "with open(\"/home/hesy/projects/genflow/lambda_data/shuffleTime-15minTm.txt\",\"w\") as f:\n",
    "    tmData_ = tmData.iloc[reRange_time,:]\n",
    "    tmData_.head()\n",
    "    tmData_.shape\n",
    "    # tmData_.dtypes\n",
    "    np.savetxt( f ,tmData_.values ,fmt='%d' )\n",
    "\n",
    "with open(\"/home/hesy/projects/genflow/lambda_data/shuffleSpace-15minTm.txt\",\"w\") as f:\n",
    "    tmData_ = tmData.iloc[:,reRange_shape]\n",
    "    tmData_.head()\n",
    "    tmData_.shape\n",
    "    np.savetxt( f ,tmData_.values ,fmt='%d')"
   ]
  },
  {
   "cell_type": "markdown",
   "metadata": {},
   "source": [
    "### randomTM"
   ]
  },
  {
   "cell_type": "code",
   "execution_count": null,
   "metadata": {},
   "outputs": [],
   "source": [
    "randomTM = np.loadtxt(\"/home/guifei/ns3_RL_LP_hesy/mars/DRLTE/inputs/randTM.txt\")\n",
    "randomTM = pd.DataFrame(randomTM)\n",
    "randomTM.shape"
   ]
  },
  {
   "cell_type": "code",
   "execution_count": null,
   "metadata": {},
   "outputs": [],
   "source": [
    "train_num = 2000\n",
    "test_num = 500\n",
    "parDir = \"/home/guifei/ns3_RL_LP_hesy/mars/DRLTE/inputs\"\n",
    "\n",
    "for tmIdx in range(train_num): \n",
    "    with open( osp.join(parDir,\"randTM/train\",f\"{tmIdx}.txt\" ),\"w\") as f:\n",
    "        index = 0\n",
    "        for fromNode in range(23):\n",
    "            for toNode in range(23):\n",
    "                if fromNode==toNode:\n",
    "                    print(f\"{fromNode} {toNode} 0\" ,file = f) \n",
    "                    continue\n",
    "                else:\n",
    "                    print(f\"{fromNode} {toNode} {randomTM.iloc[tmIdx,index]}\" ,file = f) \n",
    "                    index+=1\n",
    "\n",
    "for tmIdx in range(train_num,train_num+test_num): \n",
    "    with open( osp.join(parDir,\"randTM/test\",f\"{tmIdx-train_num}.txt\" ),\"w\") as f:\n",
    "        index = 0\n",
    "        for fromNode in range(23):\n",
    "            for toNode in range(23):\n",
    "                if fromNode==toNode:\n",
    "                    print(f\"{fromNode} {toNode} 0\" ,file = f) \n",
    "                    continue\n",
    "                else:\n",
    "                    print(f\"{fromNode} {toNode} {randomTM.iloc[tmIdx,index]}\" ,file = f) \n",
    "                    index+=1\n",
    "                    "
   ]
  },
  {
   "cell_type": "code",
   "execution_count": null,
   "metadata": {},
   "outputs": [],
   "source": []
  },
  {
   "cell_type": "markdown",
   "metadata": {},
   "source": [
    "# 对record的*.tm文件读入处理"
   ]
  },
  {
   "cell_type": "markdown",
   "metadata": {},
   "source": [
    "## 旧的逻辑(含有多进程处理)"
   ]
  },
  {
   "cell_type": "markdown",
   "metadata": {},
   "source": [
    "### 按照顺序读入目的地址中的所有tm文件"
   ]
  },
  {
   "cell_type": "code",
   "execution_count": 16,
   "metadata": {
    "scrolled": true
   },
   "outputs": [
    {
     "data": {
      "application/javascript": [
       "\n",
       "        if (window._pyforest_update_imports_cell) { window._pyforest_update_imports_cell('import tqdm\\nimport numpy as np\\nimport pandas as pd\\nimport os'); }\n",
       "    "
      ],
      "text/plain": [
       "<IPython.core.display.Javascript object>"
      ]
     },
     "metadata": {},
     "output_type": "display_data"
    },
    {
     "name": "stderr",
     "output_type": "stream",
     "text": [
      "\n",
      "  0%|          | 0/10 [00:00<?, ?it/s]\u001b[A"
     ]
    },
    {
     "data": {
      "application/javascript": [
       "\n",
       "        if (window._pyforest_update_imports_cell) { window._pyforest_update_imports_cell('import tqdm\\nimport numpy as np\\nimport pandas as pd\\nimport os'); }\n",
       "    "
      ],
      "text/plain": [
       "<IPython.core.display.Javascript object>"
      ]
     },
     "metadata": {},
     "output_type": "display_data"
    },
    {
     "name": "stdout",
     "output_type": "stream",
     "text": [
      "(1, 529)\t"
     ]
    },
    {
     "data": {
      "application/javascript": [
       "\n",
       "        if (window._pyforest_update_imports_cell) { window._pyforest_update_imports_cell('import tqdm\\nimport numpy as np\\nimport pandas as pd\\nimport os'); }\n",
       "    "
      ],
      "text/plain": [
       "<IPython.core.display.Javascript object>"
      ]
     },
     "metadata": {},
     "output_type": "display_data"
    },
    {
     "name": "stdout",
     "output_type": "stream",
     "text": [
      "(1, 529)\t"
     ]
    },
    {
     "data": {
      "application/javascript": [
       "\n",
       "        if (window._pyforest_update_imports_cell) { window._pyforest_update_imports_cell('import tqdm\\nimport numpy as np\\nimport pandas as pd\\nimport os'); }\n",
       "    "
      ],
      "text/plain": [
       "<IPython.core.display.Javascript object>"
      ]
     },
     "metadata": {},
     "output_type": "display_data"
    },
    {
     "name": "stdout",
     "output_type": "stream",
     "text": [
      "(1, 529)\t"
     ]
    },
    {
     "data": {
      "application/javascript": [
       "\n",
       "        if (window._pyforest_update_imports_cell) { window._pyforest_update_imports_cell('import tqdm\\nimport numpy as np\\nimport pandas as pd\\nimport os'); }\n",
       "    "
      ],
      "text/plain": [
       "<IPython.core.display.Javascript object>"
      ]
     },
     "metadata": {},
     "output_type": "display_data"
    },
    {
     "name": "stdout",
     "output_type": "stream",
     "text": [
      "(1, 529)\t"
     ]
    },
    {
     "data": {
      "application/javascript": [
       "\n",
       "        if (window._pyforest_update_imports_cell) { window._pyforest_update_imports_cell('import tqdm\\nimport numpy as np\\nimport pandas as pd\\nimport os'); }\n",
       "    "
      ],
      "text/plain": [
       "<IPython.core.display.Javascript object>"
      ]
     },
     "metadata": {},
     "output_type": "display_data"
    },
    {
     "name": "stdout",
     "output_type": "stream",
     "text": [
      "(1, 529)\t"
     ]
    },
    {
     "data": {
      "application/javascript": [
       "\n",
       "        if (window._pyforest_update_imports_cell) { window._pyforest_update_imports_cell('import tqdm\\nimport numpy as np\\nimport pandas as pd\\nimport os'); }\n",
       "    "
      ],
      "text/plain": [
       "<IPython.core.display.Javascript object>"
      ]
     },
     "metadata": {},
     "output_type": "display_data"
    },
    {
     "name": "stdout",
     "output_type": "stream",
     "text": [
      "(1, 529)\t"
     ]
    },
    {
     "data": {
      "application/javascript": [
       "\n",
       "        if (window._pyforest_update_imports_cell) { window._pyforest_update_imports_cell('import tqdm\\nimport numpy as np\\nimport pandas as pd\\nimport os'); }\n",
       "    "
      ],
      "text/plain": [
       "<IPython.core.display.Javascript object>"
      ]
     },
     "metadata": {},
     "output_type": "display_data"
    },
    {
     "name": "stdout",
     "output_type": "stream",
     "text": [
      "(1, 529)\t"
     ]
    },
    {
     "data": {
      "application/javascript": [
       "\n",
       "        if (window._pyforest_update_imports_cell) { window._pyforest_update_imports_cell('import tqdm\\nimport numpy as np\\nimport pandas as pd\\nimport os'); }\n",
       "    "
      ],
      "text/plain": [
       "<IPython.core.display.Javascript object>"
      ]
     },
     "metadata": {},
     "output_type": "display_data"
    },
    {
     "name": "stdout",
     "output_type": "stream",
     "text": [
      "(1, 529)\t"
     ]
    },
    {
     "data": {
      "application/javascript": [
       "\n",
       "        if (window._pyforest_update_imports_cell) { window._pyforest_update_imports_cell('import tqdm\\nimport numpy as np\\nimport pandas as pd\\nimport os'); }\n",
       "    "
      ],
      "text/plain": [
       "<IPython.core.display.Javascript object>"
      ]
     },
     "metadata": {},
     "output_type": "display_data"
    },
    {
     "name": "stderr",
     "output_type": "stream",
     "text": [
      "\n",
      " 90%|█████████ | 9/10 [00:00<00:00, 86.05it/s]\u001b[A"
     ]
    },
    {
     "name": "stdout",
     "output_type": "stream",
     "text": [
      "(1, 529)\t"
     ]
    },
    {
     "data": {
      "application/javascript": [
       "\n",
       "        if (window._pyforest_update_imports_cell) { window._pyforest_update_imports_cell('import tqdm\\nimport numpy as np\\nimport pandas as pd\\nimport os'); }\n",
       "    "
      ],
      "text/plain": [
       "<IPython.core.display.Javascript object>"
      ]
     },
     "metadata": {},
     "output_type": "display_data"
    },
    {
     "name": "stderr",
     "output_type": "stream",
     "text": [
      "100%|██████████| 10/10 [00:00<00:00, 86.36it/s]"
     ]
    },
    {
     "name": "stdout",
     "output_type": "stream",
     "text": [
      "(1, 529)\t"
     ]
    },
    {
     "name": "stderr",
     "output_type": "stream",
     "text": [
      "\n"
     ]
    },
    {
     "data": {
      "application/javascript": [
       "\n",
       "        if (window._pyforest_update_imports_cell) { window._pyforest_update_imports_cell('import tqdm\\nimport numpy as np\\nimport pandas as pd\\nimport os'); }\n",
       "    "
      ],
      "text/plain": [
       "<IPython.core.display.Javascript object>"
      ]
     },
     "metadata": {},
     "output_type": "display_data"
    }
   ],
   "source": [
    "import os.path as osp\n",
    "parDir =\"/home/hesy/projects/ns3/ns3_inter/Mars-Code-NOW/data/rl_deci2/0.005000\"\n",
    "dirPath = osp.join(parDir, \"trafficMatrix\")\n",
    "files = os.listdir(dirPath)   # return a list\n",
    "\n",
    "from tqdm import tqdm\n",
    "data_tm=[]\n",
    "\"\"\" ========== this logic is for TM only ========== \"\"\"\n",
    "# for fileIndex in tqdm(range(len(files))):    # 不用glob通配符匹配的好处就是 文件读入是按照顺序的\n",
    "for fileIndex in tqdm(range(10)):  # for test at first\n",
    "    filePath = osp.join(dirPath, \"tm.\"+str(fileIndex))\n",
    "    tmData = pd.read_csv(filePath,header=None)\n",
    "    # print(f\"read in {filePath} and shape is f{tmData.shape}\")\n",
    "    tmData=tmData[tmData.index%2==1] \n",
    "    tmData = tmData.drop([23],axis=1)   # 多出来了一列\n",
    "    npData = tmData.values.copy()  # 把一个tm里面的23*23转成529*1 \n",
    "    npData = npData.reshape(1,-1)\n",
    "    \n",
    "    data_tm.append(npData)\n",
    "#     print(npData.shape,end = '\\t')\n",
    "\n",
    "data_tm = np.array(data_tm).squeeze()    # shape ( tm_file_numbers , 506(23*22) )"
   ]
  },
  {
   "cell_type": "markdown",
   "metadata": {},
   "source": [
    "### 多线程读入 并 处理 非完整的 tm数据"
   ]
  },
  {
   "cell_type": "code",
   "execution_count": null,
   "metadata": {},
   "outputs": [],
   "source": [
    "# 补全TM的数据，因为TM的每一行并不一定是完整的23个数据\n",
    "def completeData( ip :pd.DataFrame,size:pd.DataFrame)->list: \n",
    "    ipdb.set_trace()\n",
    "    # process each line\n",
    "    res = [ [] for i in range(len(ip.index) ) ]\n",
    "    for line in range(len(ip.index) ):\n",
    "        first_router = int( ip.iloc[line,0].split('.')[2] )  \n",
    "        last_router = first_router\n",
    "#         for col_ip in range(1,23):\n",
    "        for col in range(1,23):\n",
    "#             ipdb.set_trace()\n",
    "            if(len(res[line])==first_router-1): #  set 0 for size to itself\n",
    "                res[line].append(0)\n",
    "            if(len(res[line])==23):\n",
    "                break\n",
    "                \n",
    "            ip_str = ip.iloc[line,col]\n",
    "\n",
    "            if any([ ip_str ==x for x in [\" \",'']]): \n",
    "                res[line].append(0) \n",
    "            else:\n",
    "                # router to be dealt with\n",
    "                cur_router = int( ip_str.split('.')[2])\n",
    "                cur_size= int(size.iloc[line,col])   # origin is object type\n",
    "#                 cur_router = int( ip_str.split('.')[2])\n",
    "#                 cur_size= int(size.iloc[line,col_size])   # origin is object type\n",
    "                if(col==1 and line>0):  # 只有第一行 全都是递增的router index\n",
    "                    if(cur_router==2):\n",
    "                        res[line].append(cur_size)\n",
    "                        col_size+=1\n",
    "                        last_router = 2\n",
    "                        continue\n",
    "                while(cur_router>last_router+1):\n",
    "                    # 其中一种情况是 4...7 （first_router is 5） 介于两者之间\n",
    "                    if(len(res)==first_router-1 ):\n",
    "                        res[line].append(0) \n",
    "                        last_router+=1\n",
    "                        continue\n",
    "                    last_router+=1\n",
    "                    res[line].append(0) \n",
    "                # 边界情况 到最后了\n",
    "                res[line].append( cur_size )\n",
    "                last_router = cur_router\n",
    "#     return res # list of (23:22) node->node\n",
    "    return np.array(res) # array of (23:22) node->node\n",
    "                    \n",
    "def processTM(tmDataFile:list)->list: \n",
    "    tm = pd.read_csv(tmDataFile,header=None,keep_default_na=False)\n",
    "    ip = tm[tm.index%2==0] \n",
    "    size = tm[tm.index%2==1]\n",
    "    ip.index = range(len(ip.index))\n",
    "    size.index = range(len(ip.index))\n",
    "                       \n",
    "    return tmDataFile,completeData( ip,size ) # 第一个维度的第i个元素就是第i个TM"
   ]
  },
  {
   "cell_type": "code",
   "execution_count": null,
   "metadata": {},
   "outputs": [],
   "source": [
    "import h5py\n",
    "\n",
    "if not os.path.exists(\"tmData_after_process.h5\"):\n",
    "    print(\"create tmData_after_process.h5\")\n",
    "    global f,g1,g2\n",
    "    f= h5py.File('tmData_after_process.h5','w') # {tmIndex:array of (23,22)}\n",
    "    g1 = f.create_group(\"tmIndex\")\n",
    "    g2 = f.create_group(\"end_to_end\")  # {fromNode-toNode-timeSequence}"
   ]
  },
  {
   "cell_type": "code",
   "execution_count": null,
   "metadata": {},
   "outputs": [],
   "source": [
    "filename , res = processTM(\"/home/hesy/projects/ns3_RL_LP/Mars-Code-NOW/data/readFile_0.4/0.005000/trafficMatrix/tm.0\")"
   ]
  },
  {
   "cell_type": "code",
   "execution_count": null,
   "metadata": {},
   "outputs": [],
   "source": [
    "tm_after_process = {}\n",
    "with futures.ProcessPoolExecutor(max_workers=os.cpu_count()) as executor:\n",
    "    for future in executor.map(processTM,files[:10],chunksize=len(files)//os.cpu_count() ):\n",
    "        tm_after_process[int( future[0].split('.')[-1] )] = future[1]  #  e. \n",
    "#         g1[ futures[0].split('.')[-1] ] =future[1]\n",
    "\n",
    "pprint(tm_after_process.keys())\n",
    "# pprint(tm_after_process)"
   ]
  },
  {
   "cell_type": "code",
   "execution_count": null,
   "metadata": {},
   "outputs": [],
   "source": [
    "\"\"\"\n",
    "# 测试文件写成功\n",
    "f.close()\n",
    "with h5py.File('tmData_after_process.h5','r') as f:\n",
    "#     print(f[\"1\"])\n",
    "    print(f['tmIndex'][\"1\"])\n",
    "\"\"\""
   ]
  },
  {
   "cell_type": "markdown",
   "metadata": {},
   "source": [
    "## 2021新的逻辑(但是没有多进程...)"
   ]
  },
  {
   "cell_type": "markdown",
   "metadata": {},
   "source": [
    "### 读入TM文件"
   ]
  },
  {
   "cell_type": "code",
   "execution_count": 1,
   "metadata": {},
   "outputs": [],
   "source": [
    "def getNodeFromIp( ipAdd ) : # return number in range(node)\n",
    "    try:\n",
    "        return int(ipAdd.split('.')[2])-1\n",
    "    except:\n",
    "        print(f\"ipAdd,ipAdd.split('.') is {ipAdd} and {ipAdd.split('.')}\")\n",
    "        exit(-1)\n",
    "\n",
    "def ParseTMRecord(tmFile):  # 从trafficMatrix的tm.x文件中提取信息\n",
    "    TMdata = [[0 for _ in range(node)] for __ in range(node)]\n",
    "    with open(tmFile) as file:\n",
    "        for _ in range(node):\n",
    "            try:\n",
    "                line_ip= file.readline()\n",
    "                line_pn= file.readline()\n",
    "                ips = line_ip.strip(' \\n,').split(',')\n",
    "                packets = [ int(strData) for strData in line_pn.strip(' \\n,').split(',')]\n",
    "    #             assert len(ips)==len(packets)==node,f\"data number in line is {len(ips)},{len(packets)} instead of {node}\"\n",
    "            except:\n",
    "                print(f\"line_ip,line_pn is {line_ip} and {line_pn}\")\n",
    "                print(f\"ips,packets is {ips} and {packets}\")    \n",
    "                raise RuntimeError('testError')        \n",
    "\n",
    "            else:\n",
    "                try:\n",
    "                    fromNode = getNodeFromIp(ips[0])\n",
    "                    for toIdx in range(1,node):\n",
    "                        if toIdx>=len(packets): break   # 有时候没有收到相应的饿包\n",
    "                        toNode = getNodeFromIp(ips[toIdx])\n",
    "                        TMdata[fromNode][toNode]=packets[toIdx]\n",
    "                except:\n",
    "                    print(f\"fromNode,toNode,toIdx is {fromNode},{toNode},{toIdx}\")\n",
    "                    raise RuntimeError('testError')    \n",
    "\n",
    "    return TMdata"
   ]
  },
  {
   "cell_type": "code",
   "execution_count": null,
   "metadata": {},
   "outputs": [],
   "source": [
    "port_rl_5=42560\n",
    "proName_rl_5=\"rl-newTrue-diff\" \n",
    "TMs_rl=[]\n",
    "for TMindex in range(6000):  # 30s\n",
    "    tmFile =f\"/home/hesy/projects/mars_ns3/data/{proName_rl_5}/{record_interval}_lamTimes{lamTimes}_port{port_rl_5}/trafficMatrix/tm.{TMindex}\"\n",
    "    TMs_rl.append(ParseTMRecord(tmFile))\n",
    "TMs_rl=np.array(TMs_rl)"
   ]
  },
  {
   "cell_type": "markdown",
   "metadata": {},
   "source": [
    "### 把所有的矩阵对应加起来（用于check）"
   ]
  },
  {
   "cell_type": "code",
   "execution_count": null,
   "metadata": {},
   "outputs": [],
   "source": [
    "TMsum_rl = [[0 for _ in range(node)] for __ in range(node)]"
   ]
  },
  {
   "cell_type": "code",
   "execution_count": null,
   "metadata": {},
   "outputs": [],
   "source": [
    "for tm in TMs_rl:\n",
    "    TMsum_rl+=tm\n",
    "pd.DataFrame(TMsum_rl)"
   ]
  },
  {
   "cell_type": "markdown",
   "metadata": {},
   "source": [
    "### 将采集下来的TM存储"
   ]
  },
  {
   "cell_type": "code",
   "execution_count": null,
   "metadata": {},
   "outputs": [],
   "source": [
    "with open(\"/home/hesy/projects/mars_ns3/scratch/collected_TM4560_6k.txt\",\"w\") as ff:\n",
    "    for tm in TMs_rl:\n",
    "        for nFrom in range(23):\n",
    "            for nTo in range(23):  \n",
    "                print(f\"{tm[nFrom][nTo]}\" if nFrom==0 and nTo==0 else f\",{tm[nFrom][nTo]}\" ,end=\"\",file=ff) \n",
    "        print(\"\",file=ff)"
   ]
  },
  {
   "cell_type": "markdown",
   "metadata": {},
   "source": [
    "# 真实TM数据分析和生成possion流量"
   ]
  },
  {
   "cell_type": "markdown",
   "metadata": {},
   "source": [
    "## TM数据(GEANT)"
   ]
  },
  {
   "cell_type": "markdown",
   "metadata": {},
   "source": [
    "### 分析"
   ]
  },
  {
   "cell_type": "code",
   "execution_count": 2,
   "metadata": {},
   "outputs": [
    {
     "name": "stdout",
     "output_type": "stream",
     "text": [
      "des.shape is (8, 9988)\n",
      "tms.shape is (9988, 529)\n"
     ]
    },
    {
     "data": {
      "text/html": [
       "<div>\n",
       "<style scoped>\n",
       "    .dataframe tbody tr th:only-of-type {\n",
       "        vertical-align: middle;\n",
       "    }\n",
       "\n",
       "    .dataframe tbody tr th {\n",
       "        vertical-align: top;\n",
       "    }\n",
       "\n",
       "    .dataframe thead th {\n",
       "        text-align: right;\n",
       "    }\n",
       "</style>\n",
       "<table border=\"1\" class=\"dataframe\">\n",
       "  <thead>\n",
       "    <tr style=\"text-align: right;\">\n",
       "      <th></th>\n",
       "      <th>0</th>\n",
       "      <th>1</th>\n",
       "      <th>2</th>\n",
       "      <th>3</th>\n",
       "      <th>4</th>\n",
       "      <th>5</th>\n",
       "      <th>6</th>\n",
       "      <th>7</th>\n",
       "      <th>8</th>\n",
       "      <th>9</th>\n",
       "      <th>...</th>\n",
       "      <th>519</th>\n",
       "      <th>520</th>\n",
       "      <th>521</th>\n",
       "      <th>522</th>\n",
       "      <th>523</th>\n",
       "      <th>524</th>\n",
       "      <th>525</th>\n",
       "      <th>526</th>\n",
       "      <th>527</th>\n",
       "      <th>528</th>\n",
       "    </tr>\n",
       "  </thead>\n",
       "  <tbody>\n",
       "    <tr>\n",
       "      <th>0</th>\n",
       "      <td>0.000619</td>\n",
       "      <td>0.179845</td>\n",
       "      <td>1.092293</td>\n",
       "      <td>0.225766</td>\n",
       "      <td>2.890328</td>\n",
       "      <td>0.115929</td>\n",
       "      <td>0.149449</td>\n",
       "      <td>1.662423</td>\n",
       "      <td>3.249104</td>\n",
       "      <td>0.0</td>\n",
       "      <td>...</td>\n",
       "      <td>0.000116</td>\n",
       "      <td>0.003495</td>\n",
       "      <td>0.001855</td>\n",
       "      <td>0.023599</td>\n",
       "      <td>0.003970</td>\n",
       "      <td>0.001099</td>\n",
       "      <td>0.019200</td>\n",
       "      <td>0.014409</td>\n",
       "      <td>0.004897</td>\n",
       "      <td>0.0</td>\n",
       "    </tr>\n",
       "    <tr>\n",
       "      <th>1</th>\n",
       "      <td>0.000776</td>\n",
       "      <td>0.119931</td>\n",
       "      <td>0.822905</td>\n",
       "      <td>0.220074</td>\n",
       "      <td>2.608241</td>\n",
       "      <td>0.092302</td>\n",
       "      <td>0.147640</td>\n",
       "      <td>1.496076</td>\n",
       "      <td>3.010443</td>\n",
       "      <td>0.0</td>\n",
       "      <td>...</td>\n",
       "      <td>0.000122</td>\n",
       "      <td>0.000561</td>\n",
       "      <td>0.006485</td>\n",
       "      <td>0.018455</td>\n",
       "      <td>0.001282</td>\n",
       "      <td>0.002537</td>\n",
       "      <td>0.000833</td>\n",
       "      <td>0.009887</td>\n",
       "      <td>0.003832</td>\n",
       "      <td>0.0</td>\n",
       "    </tr>\n",
       "    <tr>\n",
       "      <th>2</th>\n",
       "      <td>0.000809</td>\n",
       "      <td>0.080779</td>\n",
       "      <td>0.810575</td>\n",
       "      <td>0.199942</td>\n",
       "      <td>2.543415</td>\n",
       "      <td>0.100608</td>\n",
       "      <td>0.123332</td>\n",
       "      <td>1.550540</td>\n",
       "      <td>3.084200</td>\n",
       "      <td>0.0</td>\n",
       "      <td>...</td>\n",
       "      <td>0.000682</td>\n",
       "      <td>0.000246</td>\n",
       "      <td>0.002363</td>\n",
       "      <td>0.026669</td>\n",
       "      <td>0.004361</td>\n",
       "      <td>0.001213</td>\n",
       "      <td>0.000334</td>\n",
       "      <td>0.015791</td>\n",
       "      <td>0.001616</td>\n",
       "      <td>0.0</td>\n",
       "    </tr>\n",
       "    <tr>\n",
       "      <th>3</th>\n",
       "      <td>0.000550</td>\n",
       "      <td>0.072630</td>\n",
       "      <td>0.787669</td>\n",
       "      <td>0.189035</td>\n",
       "      <td>2.606974</td>\n",
       "      <td>0.093107</td>\n",
       "      <td>0.079639</td>\n",
       "      <td>1.527909</td>\n",
       "      <td>3.053899</td>\n",
       "      <td>0.0</td>\n",
       "      <td>...</td>\n",
       "      <td>0.000003</td>\n",
       "      <td>0.004850</td>\n",
       "      <td>0.000371</td>\n",
       "      <td>0.029072</td>\n",
       "      <td>0.006354</td>\n",
       "      <td>0.000719</td>\n",
       "      <td>0.016797</td>\n",
       "      <td>0.007489</td>\n",
       "      <td>0.001717</td>\n",
       "      <td>0.0</td>\n",
       "    </tr>\n",
       "    <tr>\n",
       "      <th>4</th>\n",
       "      <td>0.000625</td>\n",
       "      <td>0.094076</td>\n",
       "      <td>0.530138</td>\n",
       "      <td>0.246777</td>\n",
       "      <td>2.644017</td>\n",
       "      <td>0.082445</td>\n",
       "      <td>0.069661</td>\n",
       "      <td>1.549725</td>\n",
       "      <td>2.996552</td>\n",
       "      <td>0.0</td>\n",
       "      <td>...</td>\n",
       "      <td>0.000000</td>\n",
       "      <td>0.000600</td>\n",
       "      <td>0.000521</td>\n",
       "      <td>0.006746</td>\n",
       "      <td>0.010485</td>\n",
       "      <td>0.000696</td>\n",
       "      <td>0.001557</td>\n",
       "      <td>0.006787</td>\n",
       "      <td>0.007353</td>\n",
       "      <td>0.0</td>\n",
       "    </tr>\n",
       "  </tbody>\n",
       "</table>\n",
       "<p>5 rows × 529 columns</p>\n",
       "</div>"
      ],
      "text/plain": [
       "        0         1         2         3         4         5         6    \\\n",
       "0  0.000619  0.179845  1.092293  0.225766  2.890328  0.115929  0.149449   \n",
       "1  0.000776  0.119931  0.822905  0.220074  2.608241  0.092302  0.147640   \n",
       "2  0.000809  0.080779  0.810575  0.199942  2.543415  0.100608  0.123332   \n",
       "3  0.000550  0.072630  0.787669  0.189035  2.606974  0.093107  0.079639   \n",
       "4  0.000625  0.094076  0.530138  0.246777  2.644017  0.082445  0.069661   \n",
       "\n",
       "        7         8    9    ...       519       520       521       522  \\\n",
       "0  1.662423  3.249104  0.0  ...  0.000116  0.003495  0.001855  0.023599   \n",
       "1  1.496076  3.010443  0.0  ...  0.000122  0.000561  0.006485  0.018455   \n",
       "2  1.550540  3.084200  0.0  ...  0.000682  0.000246  0.002363  0.026669   \n",
       "3  1.527909  3.053899  0.0  ...  0.000003  0.004850  0.000371  0.029072   \n",
       "4  1.549725  2.996552  0.0  ...  0.000000  0.000600  0.000521  0.006746   \n",
       "\n",
       "        523       524       525       526       527  528  \n",
       "0  0.003970  0.001099  0.019200  0.014409  0.004897  0.0  \n",
       "1  0.001282  0.002537  0.000833  0.009887  0.003832  0.0  \n",
       "2  0.004361  0.001213  0.000334  0.015791  0.001616  0.0  \n",
       "3  0.006354  0.000719  0.016797  0.007489  0.001717  0.0  \n",
       "4  0.010485  0.000696  0.001557  0.006787  0.007353  0.0  \n",
       "\n",
       "[5 rows x 529 columns]"
      ]
     },
     "execution_count": 2,
     "metadata": {},
     "output_type": "execute_result"
    }
   ],
   "source": [
    "tms = pd.read_csv(\"/home/hesy/projects/genflow/GEA_9988_inMpbs.csv\",header =None)#*8/(9*10**5)# --> changes ori to Mbps\n",
    "des = tms.transpose().describe()\n",
    "print(f\"des.shape is {des.shape}\")\n",
    "print(f\"tms.shape is {tms.shape}\")\n",
    "tms.head()"
   ]
  },
  {
   "cell_type": "markdown",
   "metadata": {},
   "source": [
    "tms=tms.drop(5140)\n",
    "tms.index = range(10**4-1)"
   ]
  },
  {
   "cell_type": "code",
   "execution_count": 3,
   "metadata": {
    "tags": []
   },
   "outputs": [],
   "source": [
    "p25,p75 = des.loc[\"25%\",:].values,des.loc[\"75%\",:].values\n",
    "mean_ = des.loc[\"mean\",:].values\n",
    "max_ = des.loc[\"max\",:].values\n",
    "data_distribs =[p25,mean_,p75,max_]\n",
    "distribs_names = [[\"p25\"],[\"mean\"],[\"p75\"],[\"max\"]]"
   ]
  },
  {
   "cell_type": "code",
   "execution_count": 35,
   "metadata": {
    "collapsed": true,
    "jupyter": {
     "outputs_hidden": true
    },
    "tags": []
   },
   "outputs": [
    {
     "data": {
      "image/png": "[encoded data removed]",
      "text/plain": [
       "<Figure size 432x288 with 4 Axes>"
      ]
     },
     "metadata": {
      "needs_background": "light"
     },
     "output_type": "display_data"
    }
   ],
   "source": [
    "fig,ax=plt.subplots(2,2,sharex='col')#,linkIdx+1)#,sharex='col',sharey='row')\n",
    "plt.subplots_adjust(left=0.01,  # left，right，top 和 bottom 参数指定了子图的四个边的位置。它们是图形的宽度和高度的比例\n",
    "                    bottom=0.01, \n",
    "                    right=1, \n",
    "                    top=1, \n",
    "                    wspace=0.2, \n",
    "                    hspace=0.2)\n",
    "\n",
    "for idx, data in enumerate(data_distribs):\n",
    "#     ax[idx//2,idx%2].plot(range(5100,5200),data[5100:5200])\n",
    "    ax[idx//2,idx%2].plot(range(len(data)),data)\n",
    "    ax[idx//2,idx%2].set_ylabel(\"Mbps\")\n",
    "    ax[idx//2,idx%2].legend(distribs_names[idx])"
   ]
  },
  {
   "cell_type": "markdown",
   "metadata": {},
   "source": [
    "#### 寻找合适的缩放比"
   ]
  },
  {
   "cell_type": "code",
   "execution_count": 527,
   "metadata": {},
   "outputs": [],
   "source": [
    "pf = pd.DataFrame(np.loadtxt(\"/home/guifei/projects/g8_hesy/LP_Final/LP_output/pr_GEA_seer_trueTM3999.txt\"))\n",
    "des_pf = pf.describe()"
   ]
  },
  {
   "cell_type": "code",
   "execution_count": null,
   "metadata": {
    "tags": []
   },
   "outputs": [],
   "source": [
    "pf_ = pf*40\n",
    "des_pf_ = pf_.describe()\n",
    "# print(des_pf_.iloc[:,0])\n",
    "des_pf_"
   ]
  },
  {
   "cell_type": "code",
   "execution_count": 568,
   "metadata": {
    "collapsed": true,
    "jupyter": {
     "outputs_hidden": true
    },
    "tags": []
   },
   "outputs": [
    {
     "data": {
      "text/plain": [
       "Text(0.5, 1.0, 'cdf')"
      ]
     },
     "execution_count": 568,
     "metadata": {},
     "output_type": "execute_result"
    },
    {
     "data": {
      "image/png": "[encoded data removed]",
      "text/plain": [
       "<Figure size 432x288 with 1 Axes>"
      ]
     },
     "metadata": {
      "needs_background": "light"
     },
     "output_type": "display_data"
    }
   ],
   "source": [
    "import statsmodels.api as sm\n",
    "cdf_data=[]\n",
    "\n",
    "# for idx, data in enumerate(data_distribs):\n",
    "for idx, data in enumerate(data_distribs[:-1]):  # 不要包含max ，差太多了\n",
    "    ecdf = sm.distributions.ECDF(data)\n",
    "    #等差数列，用于绘制X轴数据\n",
    "    x = np.linspace(min(data), max(data))\n",
    "    # x轴数据上值对应的累计密度概率\n",
    "    y = ecdf(x)\n",
    "#     cdf_data.append({\"x\":x,\"y\":y})\n",
    "#     plt.step(data[\"x\"],data[\"y\"])\n",
    "    plt.step(x,y)\n",
    "\n",
    "plt.legend(distribs_names)\n",
    "\n",
    "plt.xlabel(\"Mbps\")\n",
    "plt.title(\"cdf\")"
   ]
  },
  {
   "cell_type": "markdown",
   "metadata": {},
   "source": [
    "### 处理(生成flows)"
   ]
  },
  {
   "cell_type": "markdown",
   "metadata": {},
   "source": [
    "数据文件的地址：(g14)\n",
    "\n",
    "/home/hesy/pro/g8/genflow/TmDataIn15min.txt\n",
    "\n",
    "/home/hesy/pro/g8/genflow/codes-trueTM/tencent_cdf.txt"
   ]
  },
  {
   "cell_type": "markdown",
   "metadata": {},
   "source": [
    "<div class=\"alert alert-block alert-info\">\n",
    "<b>查看腾讯数据cdf的情况</b> \n",
    "</div>"
   ]
  },
  {
   "cell_type": "code",
   "execution_count": 4,
   "metadata": {},
   "outputs": [],
   "source": [
    "cdfData_ori= np.loadtxt(\"/home/hesy/projects/genflow/codes-trueTM/tencent_cdf.txt\")"
   ]
  },
  {
   "cell_type": "code",
   "execution_count": 5,
   "metadata": {},
   "outputs": [],
   "source": [
    "tmp = cdfData_ori[:-1]\n",
    "cdfData = np.append(tmp,[[1e+5, 1]],axis =0)"
   ]
  },
  {
   "cell_type": "code",
   "execution_count": null,
   "metadata": {},
   "outputs": [],
   "source": [
    "cdfData,tmp"
   ]
  },
  {
   "cell_type": "code",
   "execution_count": null,
   "metadata": {},
   "outputs": [],
   "source": [
    "# nums,pdf = cdfData_ori[:,0],cdfData_ori[:,-1]\n",
    "nums,pdf = cdfData[:,0],cdfData[:,-1]\n",
    "plt.plot(nums,pdf)\n",
    "plt.xlabel(\"size of a flow(bytes)\")\n",
    "plt.ylabel(\"pdf(%)\")\n",
    "plt.title(\"distribution of flow size at tencent gateway\")"
   ]
  },
  {
   "cell_type": "markdown",
   "metadata": {},
   "source": [
    "---"
   ]
  },
  {
   "cell_type": "markdown",
   "metadata": {},
   "source": [
    "<div class=\"alert alert-block alert-info\">\n",
    "<b>人工放缩比</b>\n",
    "<br> 这两个参数其实最后会影响flows[fromNode][toNode]的流的数量 和 分布(scale调整数量，scale_调整分布)\n",
    "</div>"
   ]
  },
  {
   "cell_type": "markdown",
   "metadata": {},
   "source": [
    "#### 人工缩放比(hypermeters)"
   ]
  },
  {
   "cell_type": "code",
   "execution_count": 119,
   "metadata": {},
   "outputs": [],
   "source": [
    "scale = 20 # hesy:这个缩放比不是真实数据的得到的，是我们自己搞的，为了让流量合理 （直接作用在TM流量上）\n",
    "# scale_ =1000 # hesy: 人工对cdf数据的调整\n",
    "scale_ =1 # hesy: 人工对cdf数据的调整"
   ]
  },
  {
   "cell_type": "code",
   "execution_count": 120,
   "metadata": {},
   "outputs": [],
   "source": [
    "from bisect import bisect\n",
    "def chazhi(nums,distributionOfFlows,poss=None): # -> 根据cdf采样得到的随机生成的流大小\n",
    "#     global scale_ \n",
    "    poss = np.random.random() if not poss else poss\n",
    "    index,poss2num = 0,0\n",
    "    while index<1:  # 其实一般来讲index不会<1的\n",
    "        index = bisect(distributionOfFlows, poss)\n",
    "    # 线性插值  (end_y-p_y)/(end_y-begin_y) = (end_x-p_x)/(end_x-begin_x)\n",
    "    poss2num = nums[index] - (distributionOfFlows[index] - poss)/(\n",
    "    distributionOfFlows[index] - distributionOfFlows[index-1])*(nums[index]-nums[index-1])\n",
    "#     if int(poss2num)==0:\n",
    "#         print(f\"poss2num is 0 when index is {index} and poss is {poss}\")\n",
    "    return poss2num/scale_   # 其实不一定要整数，出来的太规整了吧...\n",
    "\n",
    "def generateFlows(nums,distributionOfFlows,flowSize):\n",
    "    sumFlow = 0\n",
    "    flows = []\n",
    "    while sumFlow<flowSize:\n",
    "        tmp = chazhi(nums,distributionOfFlows)\n",
    "        if tmp:  # 因为小数的原因...有时候会出现0\n",
    "            sumFlow+=tmp\n",
    "            flows.append(tmp)\n",
    "    if flowSize:\n",
    "        sumFlow-=flows.pop()\n",
    "        flows.append(flowSize-sumFlow)\n",
    "    return flows"
   ]
  },
  {
   "cell_type": "markdown",
   "metadata": {},
   "source": [
    "<div class=\"alert alert-block alert-info\">\n",
    "<b>取4500-4600</b> \n",
    "</div>"
   ]
  },
  {
   "cell_type": "markdown",
   "metadata": {},
   "source": [
    "#### 529->506"
   ]
  },
  {
   "cell_type": "code",
   "execution_count": 121,
   "metadata": {},
   "outputs": [],
   "source": [
    "# Mbps为单位，还未缩放过的\n",
    "diags_list = [ i*23+i for i in range(23) ]\n",
    "tms_506 = tms.drop(diags_list,axis=1)\n",
    "tms_506.columns=range(23*22)  # drop了还得重新让columns升序"
   ]
  },
  {
   "cell_type": "code",
   "execution_count": 122,
   "metadata": {},
   "outputs": [],
   "source": [
    "tm4500_4600 = tms_506.iloc[4500:4600,:]*30*scale/100 # len(tm1) = 506 = 23*23 # 因为ns3里面带宽缩小了100倍，所以这里也除以100。 # 30代表30s\n",
    "len_tms = len(tm4500_4600)\n",
    "tm4500_4600.index = range(len_tms)\n",
    "# 注意，这里别搞成小数\n",
    "#这里的单位是MBps，但是我没有*8，相当于整体缩小了8倍"
   ]
  },
  {
   "cell_type": "code",
   "execution_count": null,
   "metadata": {},
   "outputs": [],
   "source": [
    "tm4500_4600"
   ]
  },
  {
   "cell_type": "code",
   "execution_count": 123,
   "metadata": {},
   "outputs": [],
   "source": [
    "flows_ =[ [] for _ in range(len_tms)] \n",
    "# flows = np.array([[[] for _ in range(22)] for _ in range(23)])  # 23*22的list\n",
    "flows = [[[0 for _ in range(22)] for __ in range(23)] for ___ in range(len_tms)] # len(tm)*23*22的list\n",
    "flowNum =[[[ 0 for _ in range(22)] for __ in range(23)] for ___ in range(len_tms)]\n",
    "# for fromNode in range(2):\n",
    "#     for toNode in range(2)\n",
    "import ipdb\n",
    "\n",
    "try:\n",
    "    for tmIdx in range(len_tms):\n",
    "        for fromNode in range(23):\n",
    "            for toNode in range(22):\n",
    "\n",
    "                flows[tmIdx][fromNode][toNode]=generateFlows(nums,pdf,tm4500_4600.iloc[tmIdx,fromNode*22+toNode]*(10**6)/8) # Mbps --> Bps\n",
    "                flows_[tmIdx].extend(flows[tmIdx][fromNode][toNode])\n",
    "                flowNum[tmIdx][fromNode][toNode] = len(flows[tmIdx][fromNode][toNode])\n",
    "                \n",
    "except:\n",
    "    print(f\"tmIdx,fromNode,toNode is {tmIdx},{fromNode},{toNode} \")\n",
    "    print(f\"fromNode*22+toNode is {fromNode*22+toNode} \")    "
   ]
  },
  {
   "cell_type": "markdown",
   "metadata": {},
   "source": [
    "flows : list of 1000 * 23 * 22 , each is also a list\n",
    "flows_: list of 1000 个list , which "
   ]
  },
  {
   "cell_type": "code",
   "execution_count": 409,
   "metadata": {
    "tags": []
   },
   "outputs": [],
   "source": [
    "np.save(\"flows23*22.npy\",flows)\n",
    "np.save(\"flowNum23*22.npy\",flowNum)"
   ]
  },
  {
   "cell_type": "markdown",
   "metadata": {
    "tags": []
   },
   "source": [
    "<div class=\"alert alert-block alert-info\">\n",
    "<b>如果每条流的CBR是1/10的2488 --> 2le6 30s最多让你发，所以这个flows里面的数值最大是60(le6是本来就要缩放的大小)</b> \n",
    "<br> 现在check下到底是多少以决定要缩放多少\n",
    "</div>"
   ]
  },
  {
   "cell_type": "markdown",
   "metadata": {
    "tags": []
   },
   "source": [
    "scale为1的时候，mean是le3,max是le5。 <br>\n",
    "所以将scale设置为1000试试（再缩小1000倍）。"
   ]
  },
  {
   "cell_type": "markdown",
   "metadata": {
    "tags": []
   },
   "source": [
    "进一步的，如果采用On-Off的形式，ratio为10的情况下，发送时间(x)和关闭时间(y)要满足的大小关系是(y=9x),所以就让发送时间为10s的话，开的时间不能超过1s,which means30s内实际能发的是2(le6)*3而不是2(le6)*30 --> 所以流最好别超过6le6"
   ]
  },
  {
   "cell_type": "markdown",
   "metadata": {
    "toc-hr-collapsed": true
   },
   "source": [
    "#### 生成流的查看 -- 最初TM1的生成情况 作为基准(肯定正确的)"
   ]
  },
  {
   "cell_type": "markdown",
   "metadata": {},
   "source": [
    "<div class=\"alert alert-block alert-info\">\n",
    "<b>生成的单位都是B了</b> \n",
    "</div>"
   ]
  },
  {
   "cell_type": "markdown",
   "metadata": {},
   "source": [
    "##### 流的大小分布情况查看"
   ]
  },
  {
   "cell_type": "code",
   "execution_count": null,
   "metadata": {},
   "outputs": [],
   "source": [
    "print(np.percentile(flows_, 50))\n",
    "print(np.percentile(flows_, 95))\n",
    "max(flows_)"
   ]
  },
  {
   "cell_type": "code",
   "execution_count": null,
   "metadata": {},
   "outputs": [],
   "source": [
    "原结果是148，400+ 和 9988"
   ]
  },
  {
   "cell_type": "code",
   "execution_count": null,
   "metadata": {},
   "outputs": [],
   "source": [
    "import statsmodels.api as sm\n",
    "data = flows_\n",
    "ecdf = sm.distributions.ECDF(data)\n",
    "#等差数列，用于绘制X轴数据\n",
    "x = np.linspace(min(data), max(data))\n",
    "# x轴数据上值对应的累计密度概率\n",
    "y = ecdf(x)\n",
    "plt.step(x,y)\n",
    "plt.xlabel(\"session对之间的流大小（bytes）\")\n",
    "plt.ylabel(\"cdf\")"
   ]
  },
  {
   "cell_type": "markdown",
   "metadata": {},
   "source": [
    "大流不多\n",
    "\n",
    "??? 50% 是100多B是不是有点小了..."
   ]
  },
  {
   "cell_type": "markdown",
   "metadata": {},
   "source": [
    "##### session对之间生成的流的数量分布情况查看"
   ]
  },
  {
   "cell_type": "markdown",
   "metadata": {},
   "source": [
    "<div class=\"alert alert-block alert-info\">\n",
    "<b>查看下session * session的flows的num数量大概是多少</b> \n",
    "</div>"
   ]
  },
  {
   "cell_type": "code",
   "execution_count": 677,
   "metadata": {},
   "outputs": [
    {
     "name": "stdout",
     "output_type": "stream",
     "text": [
      "39.0\n",
      "2035.0\n"
     ]
    },
    {
     "data": {
      "text/plain": [
       "8092"
      ]
     },
     "execution_count": 677,
     "metadata": {},
     "output_type": "execute_result"
    }
   ],
   "source": [
    "flowNums_= np.array(flowNum).reshape((-1,))\n",
    "print(np.percentile(flowNum, 50))\n",
    "print(np.percentile(flowNum, 95))\n",
    "max(flowNums_)  "
   ]
  },
  {
   "cell_type": "code",
   "execution_count": 678,
   "metadata": {},
   "outputs": [
    {
     "data": {
      "text/plain": [
       "Text(0, 0.5, 'cdf')"
      ]
     },
     "execution_count": 678,
     "metadata": {},
     "output_type": "execute_result"
    },
    {
     "data": {
      "image/png": "[encoded data removed]",
      "text/plain": [
       "<Figure size 432x288 with 1 Axes>"
      ]
     },
     "metadata": {
      "needs_background": "light"
     },
     "output_type": "display_data"
    }
   ],
   "source": [
    "import statsmodels.api as sm\n",
    "data = flowNums_\n",
    "ecdf = sm.distributions.ECDF(data)\n",
    "#等差数列，用于绘制X轴数据\n",
    "x = np.linspace(min(data), max(data))\n",
    "# x轴数据上值对应的累计密度概率\n",
    "y = ecdf(x)\n",
    "plt.step(x,y)\n",
    "plt.xlabel(\"session对之间的流数量\")\n",
    "plt.ylabel(\"cdf\")"
   ]
  },
  {
   "cell_type": "markdown",
   "metadata": {},
   "source": [
    "1s内流的数量不超过300条 ，变成30s之后就是不超过le4条"
   ]
  },
  {
   "cell_type": "markdown",
   "metadata": {},
   "source": [
    "<div class=\"alert alert-block alert-info\">\n",
    "<b>这个单位就全都是bytes了</b> , 上面生成流的过程中全部转为bytes了\n",
    "</div>"
   ]
  },
  {
   "cell_type": "code",
   "execution_count": 680,
   "metadata": {
    "tags": []
   },
   "outputs": [
    {
     "data": {
      "text/html": [
       "<div>\n",
       "<style scoped>\n",
       "    .dataframe tbody tr th:only-of-type {\n",
       "        vertical-align: middle;\n",
       "    }\n",
       "\n",
       "    .dataframe tbody tr th {\n",
       "        vertical-align: top;\n",
       "    }\n",
       "\n",
       "    .dataframe thead th {\n",
       "        text-align: right;\n",
       "    }\n",
       "</style>\n",
       "<table border=\"1\" class=\"dataframe\">\n",
       "  <thead>\n",
       "    <tr style=\"text-align: right;\">\n",
       "      <th></th>\n",
       "      <th>0</th>\n",
       "      <th>1</th>\n",
       "      <th>2</th>\n",
       "      <th>3</th>\n",
       "      <th>4</th>\n",
       "      <th>5</th>\n",
       "      <th>6</th>\n",
       "      <th>7</th>\n",
       "      <th>8</th>\n",
       "      <th>9</th>\n",
       "      <th>...</th>\n",
       "      <th>12</th>\n",
       "      <th>13</th>\n",
       "      <th>14</th>\n",
       "      <th>15</th>\n",
       "      <th>16</th>\n",
       "      <th>17</th>\n",
       "      <th>18</th>\n",
       "      <th>19</th>\n",
       "      <th>20</th>\n",
       "      <th>21</th>\n",
       "    </tr>\n",
       "  </thead>\n",
       "  <tbody>\n",
       "    <tr>\n",
       "      <th>0</th>\n",
       "      <td>[126.69682697064766, 25.669692420675403, 193.9...</td>\n",
       "      <td>[237.80086091556808, 85.56726766152741, 528.25...</td>\n",
       "      <td>[86.82945920969266, 1453.4972779629202, 163.30...</td>\n",
       "      <td>[1427.3973922406128, 164.6289259844003, 827.12...</td>\n",
       "      <td>[1794.0361708661521, 286.50157744215664, 1800....</td>\n",
       "      <td>[1517.6325847563764, 102.06835351385044, 39.60...</td>\n",
       "      <td>[12.32730094452917, 46.899507162123875, 1884.1...</td>\n",
       "      <td>[188.31401908674528, 79.90098558291794, 1463.7...</td>\n",
       "      <td>[]</td>\n",
       "      <td>[155.05308627976237, 7.844752232966542, 83.810...</td>\n",
       "      <td>...</td>\n",
       "      <td>[396.33720452271064, 705.0367555631138, 407.69...</td>\n",
       "      <td>[169.3911026391445, 705.0370877155987, 536.346...</td>\n",
       "      <td>[2718.6007250864172, 167.86645397749885, 89.83...</td>\n",
       "      <td>[1773.7385478889398, 119.01063865378647, 10.14...</td>\n",
       "      <td>[670.9294680702804, 71.36515855777205, 190.696...</td>\n",
       "      <td>[252.2466344511156, 125.60334838045, 72.336039...</td>\n",
       "      <td>[1865.8524854380457, 1832.2368703521186, 2963....</td>\n",
       "      <td>[47.135603740561436, 86.05362645644735, 260.30...</td>\n",
       "      <td>[85.05605851602053, 685.7592881511525, 442.907...</td>\n",
       "      <td>[7.856983254085563, 1544.0720552959551, 102.22...</td>\n",
       "    </tr>\n",
       "    <tr>\n",
       "      <th>1</th>\n",
       "      <td>[33.594686780282636, 70.11461723867923, 1197.1...</td>\n",
       "      <td>[73.24887387496992, 19.857345621622727, 46.171...</td>\n",
       "      <td>[49.46736005557241, 64.5214396261654, 165.3491...</td>\n",
       "      <td>[217.78188529157154, 68.93076556275804, 59.291...</td>\n",
       "      <td>[143.60055124229882, 53.34909730524162, 513.45...</td>\n",
       "      <td>[9.499209481655939, 88.9037347603602, 73.17495...</td>\n",
       "      <td>[150.8049283314835, 101.48248153206865, 1196.4...</td>\n",
       "      <td>[3217.332701804651, 89.27867147150374, 35.4663...</td>\n",
       "      <td>[]</td>\n",
       "      <td>[526.9115572439052, 900.8851205351777, 39.7594...</td>\n",
       "      <td>...</td>\n",
       "      <td>[280.973577952284, 147.54482797158406, 106.383...</td>\n",
       "      <td>[113.00483855196228, 7646.60947391128, 2463.21...</td>\n",
       "      <td>[25.763660452057216, 341.47106576504945, 244.3...</td>\n",
       "      <td>[1165.4782060790876, 143.84816188914024, 641.6...</td>\n",
       "      <td>[191.6273472627413, 207.33671178194524, 1316.7...</td>\n",
       "      <td>[1723.8243522860987, 44.628448101614914, 172.8...</td>\n",
       "      <td>[471.5531755115195, 66.2850307749189, 936.7512...</td>\n",
       "      <td>[207.60226276585888, 1231.082054012663, 13.656...</td>\n",
       "      <td>[154.74971197618885, 102.2457379038174, 84.166...</td>\n",
       "      <td>[99.44144783560246, 110.57321883106414]</td>\n",
       "    </tr>\n",
       "    <tr>\n",
       "      <th>2</th>\n",
       "      <td>[221.41600055595234, 128.9152807485386, 400.18...</td>\n",
       "      <td>[88.80622242232837, 654.0561392391689, 1640.04...</td>\n",
       "      <td>[1327.362356861633, 1501.8196086494652, 112.11...</td>\n",
       "      <td>[198.2424502155271, 106.40882952503664, 1309.5...</td>\n",
       "      <td>[215.5347337672073, 157.67993289945946]</td>\n",
       "      <td>[29.211033071093645, 172.32217381235213, 115.1...</td>\n",
       "      <td>[743.8664195443505, 202.9586153335366, 261.857...</td>\n",
       "      <td>[24.04220499120374, 906.9756329341537, 115.269...</td>\n",
       "      <td>[]</td>\n",
       "      <td>[1071.656980239948, 993.336028156381, 67.25558...</td>\n",
       "      <td>...</td>\n",
       "      <td>[42.24418027939209, 1084.3472068374595, 14.249...</td>\n",
       "      <td>[886.3999999999999]</td>\n",
       "      <td>[1887.8957906190492, 92.86763284437504, 131.86...</td>\n",
       "      <td>[89.26388862547256, 1802.776461542525, 1825.33...</td>\n",
       "      <td>[88.07733635695165, 1603.0297836034142, 105.88...</td>\n",
       "      <td>[1579.895088014771, 171.92412108030726, 975.43...</td>\n",
       "      <td>[85.77671294373528, 86.87521245538284, 37.5221...</td>\n",
       "      <td>[80.53102555862596, 127.43255248081174, 37.015...</td>\n",
       "      <td>[185.40304595441228, 93.48112547702326, 162.44...</td>\n",
       "      <td>[166.77610054003205, 1108.2185775623864, 88.41...</td>\n",
       "    </tr>\n",
       "    <tr>\n",
       "      <th>3</th>\n",
       "      <td>[42.73879928180706, 165.54630759575883, 5.9207...</td>\n",
       "      <td>[1104.8509265124335, 209.98470300161844, 4908....</td>\n",
       "      <td>[88.55049853671879, 146.86170614673858, 1208.9...</td>\n",
       "      <td>[84.12132343970575, 74.3476447160355, 85.22874...</td>\n",
       "      <td>[1002.6666666666669]</td>\n",
       "      <td>[75.89350695892703, 1336.184534589836, 81.4379...</td>\n",
       "      <td>[89.371007079636, 54.438522388386914, 58.12539...</td>\n",
       "      <td>[723.8792544165129, 1600.086411685505, 241.492...</td>\n",
       "      <td>[]</td>\n",
       "      <td>[444.2819141917952, 64.81873037991048, 79.7487...</td>\n",
       "      <td>...</td>\n",
       "      <td>[3.9985733515007382, 334.64908415320264, 17.70...</td>\n",
       "      <td>[104.90124693058802, 6.8920497022587455, 62.33...</td>\n",
       "      <td>[63.656555456387785, 803.56274571982, 72.44322...</td>\n",
       "      <td>[251.2278379620612, 423.2500928886162, 75.3323...</td>\n",
       "      <td>[11.474263602177885, 85.94917190946533, 115.14...</td>\n",
       "      <td>[1496.5382681111362, 1443.081287010776, 5090.1...</td>\n",
       "      <td>[241.91975615141274, 216.77793275830578, 739.3...</td>\n",
       "      <td>[482.6690278390985, 4.197993479760115, 744.791...</td>\n",
       "      <td>[1414.5503570004907, 504.2130236172653, 843.04...</td>\n",
       "      <td>[47.88133333333334]</td>\n",
       "    </tr>\n",
       "    <tr>\n",
       "      <th>4</th>\n",
       "      <td>[974.9086265508461, 89.80497952412172, 551.878...</td>\n",
       "      <td>[88.09109975108016, 219.32900896366357, 430.69...</td>\n",
       "      <td>[117.07070459658597, 1727.9308184276379, 343.4...</td>\n",
       "      <td>[47.011930069271614, 1893.3686502201706, 106.0...</td>\n",
       "      <td>[346.9363271186504, 153.21167288134956]</td>\n",
       "      <td>[106.17465553421724, 146.50647034080902, 8605....</td>\n",
       "      <td>[5090.493923123814, 127.8278452942112, 88.6384...</td>\n",
       "      <td>[236.4748418520531, 113.1309706906837, 295.958...</td>\n",
       "      <td>[]</td>\n",
       "      <td>[3.0184731016842647, 88.02175730852107, 1801.4...</td>\n",
       "      <td>...</td>\n",
       "      <td>[58.3517434871928, 78.10486467620272, 1223.019...</td>\n",
       "      <td>[1498.8751005333374, 134.02698116782042, 67.22...</td>\n",
       "      <td>[1428.8900516874467, 1231.1318267050244, 155.1...</td>\n",
       "      <td>[1887.8976151528775, 393.9796189252912, 259.27...</td>\n",
       "      <td>[387.5781117432201, 958.5641549216979, 1884.79...</td>\n",
       "      <td>[59.860402129888364, 33.137437257552534, 428.9...</td>\n",
       "      <td>[1783.3644647242018, 57.15093836243179, 1895.9...</td>\n",
       "      <td>[15.559006043134076, 171.66825725735242, 99.71...</td>\n",
       "      <td>[1.3677034274706585, 63.791946598311526, 157.6...</td>\n",
       "      <td>[195.79199999999997]</td>\n",
       "    </tr>\n",
       "  </tbody>\n",
       "</table>\n",
       "<p>5 rows × 22 columns</p>\n",
       "</div>"
      ],
      "text/plain": [
       "                                                  0   \\\n",
       "0  [126.69682697064766, 25.669692420675403, 193.9...   \n",
       "1  [33.594686780282636, 70.11461723867923, 1197.1...   \n",
       "2  [221.41600055595234, 128.9152807485386, 400.18...   \n",
       "3  [42.73879928180706, 165.54630759575883, 5.9207...   \n",
       "4  [974.9086265508461, 89.80497952412172, 551.878...   \n",
       "\n",
       "                                                  1   \\\n",
       "0  [237.80086091556808, 85.56726766152741, 528.25...   \n",
       "1  [73.24887387496992, 19.857345621622727, 46.171...   \n",
       "2  [88.80622242232837, 654.0561392391689, 1640.04...   \n",
       "3  [1104.8509265124335, 209.98470300161844, 4908....   \n",
       "4  [88.09109975108016, 219.32900896366357, 430.69...   \n",
       "\n",
       "                                                  2   \\\n",
       "0  [86.82945920969266, 1453.4972779629202, 163.30...   \n",
       "1  [49.46736005557241, 64.5214396261654, 165.3491...   \n",
       "2  [1327.362356861633, 1501.8196086494652, 112.11...   \n",
       "3  [88.55049853671879, 146.86170614673858, 1208.9...   \n",
       "4  [117.07070459658597, 1727.9308184276379, 343.4...   \n",
       "\n",
       "                                                  3   \\\n",
       "0  [1427.3973922406128, 164.6289259844003, 827.12...   \n",
       "1  [217.78188529157154, 68.93076556275804, 59.291...   \n",
       "2  [198.2424502155271, 106.40882952503664, 1309.5...   \n",
       "3  [84.12132343970575, 74.3476447160355, 85.22874...   \n",
       "4  [47.011930069271614, 1893.3686502201706, 106.0...   \n",
       "\n",
       "                                                  4   \\\n",
       "0  [1794.0361708661521, 286.50157744215664, 1800....   \n",
       "1  [143.60055124229882, 53.34909730524162, 513.45...   \n",
       "2            [215.5347337672073, 157.67993289945946]   \n",
       "3                               [1002.6666666666669]   \n",
       "4            [346.9363271186504, 153.21167288134956]   \n",
       "\n",
       "                                                  5   \\\n",
       "0  [1517.6325847563764, 102.06835351385044, 39.60...   \n",
       "1  [9.499209481655939, 88.9037347603602, 73.17495...   \n",
       "2  [29.211033071093645, 172.32217381235213, 115.1...   \n",
       "3  [75.89350695892703, 1336.184534589836, 81.4379...   \n",
       "4  [106.17465553421724, 146.50647034080902, 8605....   \n",
       "\n",
       "                                                  6   \\\n",
       "0  [12.32730094452917, 46.899507162123875, 1884.1...   \n",
       "1  [150.8049283314835, 101.48248153206865, 1196.4...   \n",
       "2  [743.8664195443505, 202.9586153335366, 261.857...   \n",
       "3  [89.371007079636, 54.438522388386914, 58.12539...   \n",
       "4  [5090.493923123814, 127.8278452942112, 88.6384...   \n",
       "\n",
       "                                                  7   8   \\\n",
       "0  [188.31401908674528, 79.90098558291794, 1463.7...  []   \n",
       "1  [3217.332701804651, 89.27867147150374, 35.4663...  []   \n",
       "2  [24.04220499120374, 906.9756329341537, 115.269...  []   \n",
       "3  [723.8792544165129, 1600.086411685505, 241.492...  []   \n",
       "4  [236.4748418520531, 113.1309706906837, 295.958...  []   \n",
       "\n",
       "                                                  9   ...  \\\n",
       "0  [155.05308627976237, 7.844752232966542, 83.810...  ...   \n",
       "1  [526.9115572439052, 900.8851205351777, 39.7594...  ...   \n",
       "2  [1071.656980239948, 993.336028156381, 67.25558...  ...   \n",
       "3  [444.2819141917952, 64.81873037991048, 79.7487...  ...   \n",
       "4  [3.0184731016842647, 88.02175730852107, 1801.4...  ...   \n",
       "\n",
       "                                                  12  \\\n",
       "0  [396.33720452271064, 705.0367555631138, 407.69...   \n",
       "1  [280.973577952284, 147.54482797158406, 106.383...   \n",
       "2  [42.24418027939209, 1084.3472068374595, 14.249...   \n",
       "3  [3.9985733515007382, 334.64908415320264, 17.70...   \n",
       "4  [58.3517434871928, 78.10486467620272, 1223.019...   \n",
       "\n",
       "                                                  13  \\\n",
       "0  [169.3911026391445, 705.0370877155987, 536.346...   \n",
       "1  [113.00483855196228, 7646.60947391128, 2463.21...   \n",
       "2                                [886.3999999999999]   \n",
       "3  [104.90124693058802, 6.8920497022587455, 62.33...   \n",
       "4  [1498.8751005333374, 134.02698116782042, 67.22...   \n",
       "\n",
       "                                                  14  \\\n",
       "0  [2718.6007250864172, 167.86645397749885, 89.83...   \n",
       "1  [25.763660452057216, 341.47106576504945, 244.3...   \n",
       "2  [1887.8957906190492, 92.86763284437504, 131.86...   \n",
       "3  [63.656555456387785, 803.56274571982, 72.44322...   \n",
       "4  [1428.8900516874467, 1231.1318267050244, 155.1...   \n",
       "\n",
       "                                                  15  \\\n",
       "0  [1773.7385478889398, 119.01063865378647, 10.14...   \n",
       "1  [1165.4782060790876, 143.84816188914024, 641.6...   \n",
       "2  [89.26388862547256, 1802.776461542525, 1825.33...   \n",
       "3  [251.2278379620612, 423.2500928886162, 75.3323...   \n",
       "4  [1887.8976151528775, 393.9796189252912, 259.27...   \n",
       "\n",
       "                                                  16  \\\n",
       "0  [670.9294680702804, 71.36515855777205, 190.696...   \n",
       "1  [191.6273472627413, 207.33671178194524, 1316.7...   \n",
       "2  [88.07733635695165, 1603.0297836034142, 105.88...   \n",
       "3  [11.474263602177885, 85.94917190946533, 115.14...   \n",
       "4  [387.5781117432201, 958.5641549216979, 1884.79...   \n",
       "\n",
       "                                                  17  \\\n",
       "0  [252.2466344511156, 125.60334838045, 72.336039...   \n",
       "1  [1723.8243522860987, 44.628448101614914, 172.8...   \n",
       "2  [1579.895088014771, 171.92412108030726, 975.43...   \n",
       "3  [1496.5382681111362, 1443.081287010776, 5090.1...   \n",
       "4  [59.860402129888364, 33.137437257552534, 428.9...   \n",
       "\n",
       "                                                  18  \\\n",
       "0  [1865.8524854380457, 1832.2368703521186, 2963....   \n",
       "1  [471.5531755115195, 66.2850307749189, 936.7512...   \n",
       "2  [85.77671294373528, 86.87521245538284, 37.5221...   \n",
       "3  [241.91975615141274, 216.77793275830578, 739.3...   \n",
       "4  [1783.3644647242018, 57.15093836243179, 1895.9...   \n",
       "\n",
       "                                                  19  \\\n",
       "0  [47.135603740561436, 86.05362645644735, 260.30...   \n",
       "1  [207.60226276585888, 1231.082054012663, 13.656...   \n",
       "2  [80.53102555862596, 127.43255248081174, 37.015...   \n",
       "3  [482.6690278390985, 4.197993479760115, 744.791...   \n",
       "4  [15.559006043134076, 171.66825725735242, 99.71...   \n",
       "\n",
       "                                                  20  \\\n",
       "0  [85.05605851602053, 685.7592881511525, 442.907...   \n",
       "1  [154.74971197618885, 102.2457379038174, 84.166...   \n",
       "2  [185.40304595441228, 93.48112547702326, 162.44...   \n",
       "3  [1414.5503570004907, 504.2130236172653, 843.04...   \n",
       "4  [1.3677034274706585, 63.791946598311526, 157.6...   \n",
       "\n",
       "                                                  21  \n",
       "0  [7.856983254085563, 1544.0720552959551, 102.22...  \n",
       "1            [99.44144783560246, 110.57321883106414]  \n",
       "2  [166.77610054003205, 1108.2185775623864, 88.41...  \n",
       "3                                [47.88133333333334]  \n",
       "4                               [195.79199999999997]  \n",
       "\n",
       "[5 rows x 22 columns]"
      ]
     },
     "execution_count": 680,
     "metadata": {},
     "output_type": "execute_result"
    }
   ],
   "source": [
    "flows_ = pd.DataFrame(flows)\n",
    "# flows_.iloc[0,3]\n",
    "flows_.head()"
   ]
  },
  {
   "cell_type": "markdown",
   "metadata": {},
   "source": [
    "#### TM 4503 查看 -- check"
   ]
  },
  {
   "cell_type": "markdown",
   "metadata": {},
   "source": [
    "##### 流的大小分布情况查看"
   ]
  },
  {
   "cell_type": "code",
   "execution_count": 124,
   "metadata": {},
   "outputs": [
    {
     "name": "stdout",
     "output_type": "stream",
     "text": [
      "146.66268262319517\n",
      "2267.421713466332\n"
     ]
    },
    {
     "data": {
      "text/plain": [
       "99812.61056070848"
      ]
     },
     "execution_count": 124,
     "metadata": {},
     "output_type": "execute_result"
    }
   ],
   "source": [
    "print(np.percentile(flows_[3], 50))\n",
    "print(np.percentile(flows_[3], 95))\n",
    "max(flows_[3])"
   ]
  },
  {
   "cell_type": "markdown",
   "metadata": {},
   "source": [
    "跟上面的差不多哈，感觉没有造错"
   ]
  },
  {
   "cell_type": "code",
   "execution_count": 125,
   "metadata": {},
   "outputs": [
    {
     "data": {
      "text/plain": [
       "Text(0, 0.5, 'cdf')"
      ]
     },
     "execution_count": 125,
     "metadata": {},
     "output_type": "execute_result"
    },
    {
     "data": {
      "image/png": "[encoded data removed]",
      "text/plain": [
       "<Figure size 432x288 with 1 Axes>"
      ]
     },
     "metadata": {
      "needs_background": "light"
     },
     "output_type": "display_data"
    }
   ],
   "source": [
    "import statsmodels.api as sm\n",
    "data = flows_[3]\n",
    "ecdf = sm.distributions.ECDF(data)\n",
    "#等差数列，用于绘制X轴数据\n",
    "x = np.linspace(min(data), max(data))\n",
    "# x轴数据上值对应的累计密度概率\n",
    "y = ecdf(x)\n",
    "plt.step(x,y)\n",
    "plt.xlabel(\"session对之间的流大小（bytes）\")\n",
    "plt.ylabel(\"cdf\")"
   ]
  },
  {
   "cell_type": "markdown",
   "metadata": {},
   "source": [
    "大流不多\n",
    "\n",
    "??? 50% 是100多B是不是有点小了..."
   ]
  },
  {
   "cell_type": "markdown",
   "metadata": {},
   "source": [
    "##### session对之间生成的流的数量分布情况查看"
   ]
  },
  {
   "cell_type": "markdown",
   "metadata": {},
   "source": [
    "<div class=\"alert alert-block alert-info\">\n",
    "<b>查看下session * session的flows的num数量大概是多少</b> \n",
    "</div>"
   ]
  },
  {
   "cell_type": "code",
   "execution_count": 126,
   "metadata": {},
   "outputs": [
    {
     "name": "stdout",
     "output_type": "stream",
     "text": [
      "8.0\n",
      "425.0\n"
     ]
    },
    {
     "data": {
      "text/plain": [
       "3726"
      ]
     },
     "execution_count": 126,
     "metadata": {},
     "output_type": "execute_result"
    }
   ],
   "source": [
    "flowNums_= np.array(flowNum[3]).reshape((-1,))\n",
    "print(np.percentile(flowNums_, 50))\n",
    "print(np.percentile(flowNums_, 95))\n",
    "max(flowNums_)  "
   ]
  },
  {
   "cell_type": "code",
   "execution_count": 127,
   "metadata": {},
   "outputs": [
    {
     "data": {
      "text/plain": [
       "Text(0, 0.5, 'cdf')"
      ]
     },
     "execution_count": 127,
     "metadata": {},
     "output_type": "execute_result"
    },
    {
     "data": {
      "image/png": "[encoded data removed]",
      "text/plain": [
       "<Figure size 432x288 with 1 Axes>"
      ]
     },
     "metadata": {
      "needs_background": "light"
     },
     "output_type": "display_data"
    }
   ],
   "source": [
    "import statsmodels.api as sm\n",
    "data = flowNums_\n",
    "ecdf = sm.distributions.ECDF(data)\n",
    "#等差数列，用于绘制X轴数据\n",
    "x = np.linspace(min(data), max(data))\n",
    "# x轴数据上值对应的累计密度概率\n",
    "y = ecdf(x)\n",
    "plt.step(x,y)\n",
    "plt.xlabel(\"session对之间的流数量\")\n",
    "plt.ylabel(\"cdf\")"
   ]
  },
  {
   "cell_type": "markdown",
   "metadata": {},
   "source": [
    "1s内流的数量不超过300条 ，变成30s之后就是不超过le4条"
   ]
  },
  {
   "cell_type": "markdown",
   "metadata": {},
   "source": [
    "<div class=\"alert alert-block alert-info\">\n",
    "<b>这个单位就全都是bytes了</b> , 上面生成流的过程中全部转为bytes了\n",
    "</div>"
   ]
  },
  {
   "cell_type": "code",
   "execution_count": 107,
   "metadata": {
    "tags": []
   },
   "outputs": [
    {
     "data": {
      "text/plain": [
       "29"
      ]
     },
     "execution_count": 107,
     "metadata": {},
     "output_type": "execute_result"
    }
   ],
   "source": [
    "len(pd.DataFrame(flows).iloc[2,1][3])"
   ]
  },
  {
   "cell_type": "code",
   "execution_count": null,
   "metadata": {},
   "outputs": [],
   "source": [
    "flows_ = pd.DataFrame(flows)\n",
    "# flows_.iloc[0,3]\n",
    "flows_.head()"
   ]
  },
  {
   "cell_type": "markdown",
   "metadata": {},
   "source": [
    "##### 将流和间隔时间写入文件夹中"
   ]
  },
  {
   "cell_type": "markdown",
   "metadata": {},
   "source": [
    "把上述的东西 记录到文件夹中，路径为：<br>\n",
    "/home/hesy/projects/genflow/data-onoff/lam_1/TMx/tmy/sizea_b (g2) <br>\n",
    "/home/hesy/pro/g8/genflow/data-onoff/lam_1/TM1/tm1 (g14)"
   ]
  },
  {
   "cell_type": "code",
   "execution_count": 128,
   "metadata": {},
   "outputs": [
    {
     "name": "stdout",
     "output_type": "stream",
     "text": [
      "(100, 23)\n",
      "22\n",
      "25\n"
     ]
    }
   ],
   "source": [
    "df_flow = pd.DataFrame(flows)\n",
    "print(df_flow.shape)   # tmNUm * 23 * 22 * sessionFlowNum\n",
    "print(len(df_flow[1][3]))  # 22\n",
    "print(len(df_flow[1][3][3]))  # len of flowNum of this session"
   ]
  },
  {
   "cell_type": "code",
   "execution_count": 129,
   "metadata": {},
   "outputs": [
    {
     "name": "stdout",
     "output_type": "stream",
     "text": [
      "(100, 23)\n",
      "22\n",
      "26\n"
     ]
    }
   ],
   "source": [
    "df_flowNum = pd.DataFrame(flowNum)\n",
    "print(df_flow.shape)   # tmNUm * 23 * 22 * sessionFlowNum\n",
    "print(len(df_flow.iloc[1,3]))  # 22\n",
    "print(len(df_flow.iloc[1,3][3]))  # len of flowNum of this session"
   ]
  },
  {
   "cell_type": "code",
   "execution_count": null,
   "metadata": {
    "tags": []
   },
   "outputs": [],
   "source": [
    "df_flowNum.head()"
   ]
  },
  {
   "cell_type": "code",
   "execution_count": 110,
   "metadata": {
    "scrolled": true,
    "tags": []
   },
   "outputs": [
    {
     "data": {
      "text/plain": [
       "22"
      ]
     },
     "execution_count": 110,
     "metadata": {},
     "output_type": "execute_result"
    }
   ],
   "source": [
    "len(df_flow.iloc[1,3])"
   ]
  },
  {
   "cell_type": "code",
   "execution_count": null,
   "metadata": {},
   "outputs": [],
   "source": [
    "df_flow[23][0]"
   ]
  },
  {
   "cell_type": "code",
   "execution_count": null,
   "metadata": {
    "tags": []
   },
   "outputs": [],
   "source": [
    "df_flow.iloc[23,0]"
   ]
  },
  {
   "cell_type": "code",
   "execution_count": 130,
   "metadata": {},
   "outputs": [],
   "source": [
    "TMbegin = 4500\n",
    "TMnum = 100\n",
    "prefix = f\"/home/hesy/projects/genflow/data-newTrue-diff-lam/lam_{scale}/\" # \""
   ]
  },
  {
   "cell_type": "code",
   "execution_count": 131,
   "metadata": {},
   "outputs": [],
   "source": [
    "import random\n",
    "def saveFlows( TMidx,TMbegin, df_flow,df_flowNum):\n",
    "    try:\n",
    "        for fromNode in range(23):\n",
    "            toNode = -1\n",
    "            for toIdx in range(23):\n",
    "                if fromNode == toIdx :\n",
    "                    continue\n",
    "                toNode+=1 # 这个只是个下标志,从0-21，只有toIdx才代表Node的index(0-22)\n",
    "                with open(prefix+f\"TM{TMidx+TMbegin}/tm1/size{fromNode+1}_{toIdx+1}\",\"w\") as sizeFile:\n",
    "                    with open(prefix+f\"TM{TMidx+TMbegin}/tm1/interval{fromNode+1}_{toIdx+1}\",\"w\") as intervalFile:\n",
    "                        for flow in df_flow.iloc[TMidx,fromNode][toNode]:\n",
    "                            print(int(flow),file = sizeFile)\n",
    "                            print(random.expovariate(1.0*df_flowNum.iloc[TMidx,fromNode][toNode]/30),file = intervalFile)  # 平均速率是 30/flowNUm 再求个倒数\n",
    "    except :\n",
    "        print(f\"TMidx,fromNode,toNode is {TMidx},{fromNode},{toNode}\")"
   ]
  },
  {
   "cell_type": "markdown",
   "metadata": {},
   "source": [
    "<div class=\"alert alert-block alert-warning\">\n",
    "<b> 应该写成多进程 </b>\n",
    "<br>\n",
    "python的try怎么写更规范\n",
    "</div>"
   ]
  },
  {
   "cell_type": "code",
   "execution_count": 132,
   "metadata": {},
   "outputs": [],
   "source": [
    "for TMidx in range(TMnum):\n",
    "    saveFlows(TMidx,TMbegin,df_flow,df_flowNum)"
   ]
  },
  {
   "cell_type": "markdown",
   "metadata": {},
   "source": [
    "---"
   ]
  },
  {
   "cell_type": "markdown",
   "metadata": {},
   "source": [
    "## TM数据(Abilene)"
   ]
  },
  {
   "cell_type": "markdown",
   "metadata": {},
   "source": [
    "### 分析"
   ]
  },
  {
   "cell_type": "code",
   "execution_count": 3,
   "metadata": {},
   "outputs": [
    {
     "name": "stdout",
     "output_type": "stream",
     "text": [
      "des_abi.shape is (8, 6000)\n",
      "tms_abi.shape is (6000, 144)\n"
     ]
    },
    {
     "data": {
      "text/html": [
       "<div>\n",
       "<style scoped>\n",
       "    .dataframe tbody tr th:only-of-type {\n",
       "        vertical-align: middle;\n",
       "    }\n",
       "\n",
       "    .dataframe tbody tr th {\n",
       "        vertical-align: top;\n",
       "    }\n",
       "\n",
       "    .dataframe thead th {\n",
       "        text-align: right;\n",
       "    }\n",
       "</style>\n",
       "<table border=\"1\" class=\"dataframe\">\n",
       "  <thead>\n",
       "    <tr style=\"text-align: right;\">\n",
       "      <th></th>\n",
       "      <th>0</th>\n",
       "      <th>1</th>\n",
       "      <th>2</th>\n",
       "      <th>3</th>\n",
       "      <th>4</th>\n",
       "      <th>5</th>\n",
       "      <th>6</th>\n",
       "      <th>7</th>\n",
       "      <th>8</th>\n",
       "      <th>9</th>\n",
       "      <th>...</th>\n",
       "      <th>134</th>\n",
       "      <th>135</th>\n",
       "      <th>136</th>\n",
       "      <th>137</th>\n",
       "      <th>138</th>\n",
       "      <th>139</th>\n",
       "      <th>140</th>\n",
       "      <th>141</th>\n",
       "      <th>142</th>\n",
       "      <th>143</th>\n",
       "    </tr>\n",
       "  </thead>\n",
       "  <tbody>\n",
       "    <tr>\n",
       "      <th>0</th>\n",
       "      <td>7.111111e-08</td>\n",
       "      <td>0.000001</td>\n",
       "      <td>0.000004</td>\n",
       "      <td>8.952747e-07</td>\n",
       "      <td>0.000001</td>\n",
       "      <td>0.000001</td>\n",
       "      <td>9.735396e-07</td>\n",
       "      <td>2.180985e-06</td>\n",
       "      <td>0.000001</td>\n",
       "      <td>1.993081e-06</td>\n",
       "      <td>...</td>\n",
       "      <td>0.000177</td>\n",
       "      <td>0.000096</td>\n",
       "      <td>0.000041</td>\n",
       "      <td>0.000167</td>\n",
       "      <td>0.000087</td>\n",
       "      <td>0.000244</td>\n",
       "      <td>0.000356</td>\n",
       "      <td>0.000005</td>\n",
       "      <td>0.000079</td>\n",
       "      <td>0.000500</td>\n",
       "    </tr>\n",
       "    <tr>\n",
       "      <th>1</th>\n",
       "      <td>7.111111e-08</td>\n",
       "      <td>0.000001</td>\n",
       "      <td>0.000002</td>\n",
       "      <td>3.955911e-07</td>\n",
       "      <td>0.000001</td>\n",
       "      <td>0.000005</td>\n",
       "      <td>1.072384e-06</td>\n",
       "      <td>2.908928e-06</td>\n",
       "      <td>0.000002</td>\n",
       "      <td>0.000000e+00</td>\n",
       "      <td>...</td>\n",
       "      <td>0.000166</td>\n",
       "      <td>0.000091</td>\n",
       "      <td>0.000042</td>\n",
       "      <td>0.000152</td>\n",
       "      <td>0.000066</td>\n",
       "      <td>0.000268</td>\n",
       "      <td>0.000366</td>\n",
       "      <td>0.000012</td>\n",
       "      <td>0.000082</td>\n",
       "      <td>0.000509</td>\n",
       "    </tr>\n",
       "    <tr>\n",
       "      <th>2</th>\n",
       "      <td>1.422222e-07</td>\n",
       "      <td>0.000001</td>\n",
       "      <td>0.000003</td>\n",
       "      <td>7.363627e-07</td>\n",
       "      <td>0.000001</td>\n",
       "      <td>0.000005</td>\n",
       "      <td>1.085739e-06</td>\n",
       "      <td>1.076437e-06</td>\n",
       "      <td>0.000002</td>\n",
       "      <td>3.194738e-07</td>\n",
       "      <td>...</td>\n",
       "      <td>0.000187</td>\n",
       "      <td>0.000080</td>\n",
       "      <td>0.000053</td>\n",
       "      <td>0.000156</td>\n",
       "      <td>0.000051</td>\n",
       "      <td>0.000246</td>\n",
       "      <td>0.000410</td>\n",
       "      <td>0.000014</td>\n",
       "      <td>0.000107</td>\n",
       "      <td>0.000583</td>\n",
       "    </tr>\n",
       "    <tr>\n",
       "      <th>3</th>\n",
       "      <td>1.793991e-07</td>\n",
       "      <td>0.000001</td>\n",
       "      <td>0.000004</td>\n",
       "      <td>3.233849e-07</td>\n",
       "      <td>0.000001</td>\n",
       "      <td>0.000002</td>\n",
       "      <td>1.351324e-06</td>\n",
       "      <td>3.795413e-07</td>\n",
       "      <td>0.000002</td>\n",
       "      <td>4.504747e-07</td>\n",
       "      <td>...</td>\n",
       "      <td>0.000199</td>\n",
       "      <td>0.000120</td>\n",
       "      <td>0.000043</td>\n",
       "      <td>0.000135</td>\n",
       "      <td>0.000050</td>\n",
       "      <td>0.000261</td>\n",
       "      <td>0.000425</td>\n",
       "      <td>0.000012</td>\n",
       "      <td>0.000102</td>\n",
       "      <td>0.000708</td>\n",
       "    </tr>\n",
       "    <tr>\n",
       "      <th>4</th>\n",
       "      <td>7.111111e-08</td>\n",
       "      <td>0.000002</td>\n",
       "      <td>0.000004</td>\n",
       "      <td>4.425031e-07</td>\n",
       "      <td>0.000001</td>\n",
       "      <td>0.000001</td>\n",
       "      <td>8.086827e-07</td>\n",
       "      <td>6.876729e-07</td>\n",
       "      <td>0.000002</td>\n",
       "      <td>1.967289e-07</td>\n",
       "      <td>...</td>\n",
       "      <td>0.000186</td>\n",
       "      <td>0.000119</td>\n",
       "      <td>0.000049</td>\n",
       "      <td>0.000136</td>\n",
       "      <td>0.000050</td>\n",
       "      <td>0.000249</td>\n",
       "      <td>0.000404</td>\n",
       "      <td>0.000009</td>\n",
       "      <td>0.000116</td>\n",
       "      <td>0.000561</td>\n",
       "    </tr>\n",
       "  </tbody>\n",
       "</table>\n",
       "<p>5 rows × 144 columns</p>\n",
       "</div>"
      ],
      "text/plain": [
       "            0         1         2             3         4         5    \\\n",
       "0  7.111111e-08  0.000001  0.000004  8.952747e-07  0.000001  0.000001   \n",
       "1  7.111111e-08  0.000001  0.000002  3.955911e-07  0.000001  0.000005   \n",
       "2  1.422222e-07  0.000001  0.000003  7.363627e-07  0.000001  0.000005   \n",
       "3  1.793991e-07  0.000001  0.000004  3.233849e-07  0.000001  0.000002   \n",
       "4  7.111111e-08  0.000002  0.000004  4.425031e-07  0.000001  0.000001   \n",
       "\n",
       "            6             7         8             9    ...       134  \\\n",
       "0  9.735396e-07  2.180985e-06  0.000001  1.993081e-06  ...  0.000177   \n",
       "1  1.072384e-06  2.908928e-06  0.000002  0.000000e+00  ...  0.000166   \n",
       "2  1.085739e-06  1.076437e-06  0.000002  3.194738e-07  ...  0.000187   \n",
       "3  1.351324e-06  3.795413e-07  0.000002  4.504747e-07  ...  0.000199   \n",
       "4  8.086827e-07  6.876729e-07  0.000002  1.967289e-07  ...  0.000186   \n",
       "\n",
       "        135       136       137       138       139       140       141  \\\n",
       "0  0.000096  0.000041  0.000167  0.000087  0.000244  0.000356  0.000005   \n",
       "1  0.000091  0.000042  0.000152  0.000066  0.000268  0.000366  0.000012   \n",
       "2  0.000080  0.000053  0.000156  0.000051  0.000246  0.000410  0.000014   \n",
       "3  0.000120  0.000043  0.000135  0.000050  0.000261  0.000425  0.000012   \n",
       "4  0.000119  0.000049  0.000136  0.000050  0.000249  0.000404  0.000009   \n",
       "\n",
       "        142       143  \n",
       "0  0.000079  0.000500  \n",
       "1  0.000082  0.000509  \n",
       "2  0.000107  0.000583  \n",
       "3  0.000102  0.000708  \n",
       "4  0.000116  0.000561  \n",
       "\n",
       "[5 rows x 144 columns]"
      ]
     },
     "execution_count": 3,
     "metadata": {},
     "output_type": "execute_result"
    }
   ],
   "source": [
    "tms_abi = pd.read_csv(\"/home/hesy/projects/genflow/Abi_6k_inMpbs.csv\",header =None)*8/(3*10**6)# --> changes ori to Mbps\n",
    "des_abi = tms_abi.transpose().describe()\n",
    "print(f\"des_abi.shape is {des_abi.shape}\")\n",
    "print(f\"tms_abi.shape is {tms_abi.shape}\")\n",
    "tms_abi.head()"
   ]
  },
  {
   "cell_type": "code",
   "execution_count": 4,
   "metadata": {
    "tags": []
   },
   "outputs": [],
   "source": [
    "p25,p75 = des_abi.loc[\"25%\",:].values,des_abi.loc[\"75%\",:].values\n",
    "mean_ = des_abi.loc[\"mean\",:].values\n",
    "max_ = des_abi.loc[\"max\",:].values\n",
    "data_distribs =[p25,mean_,p75,max_]\n",
    "distribs_names = [[\"p25\"],[\"mean\"],[\"p75\"],[\"max\"]]"
   ]
  },
  {
   "cell_type": "code",
   "execution_count": 5,
   "metadata": {
    "tags": []
   },
   "outputs": [
    {
     "data": {
      "image/png": "[encoded data removed]",
      "text/plain": [
       "<Figure size 432x288 with 4 Axes>"
      ]
     },
     "metadata": {
      "needs_background": "light"
     },
     "output_type": "display_data"
    }
   ],
   "source": [
    "fig,ax=plt.subplots(2,2,sharex='col')#,linkIdx+1)#,sharex='col',sharey='row')\n",
    "plt.subplots_adjust(left=0.01,  # left，right，top 和 bottom 参数指定了子图的四个边的位置。它们是图形的宽度和高度的比例\n",
    "                    bottom=0.01, \n",
    "                    right=1, \n",
    "                    top=1, \n",
    "                    wspace=0.2, \n",
    "                    hspace=0.2)\n",
    "\n",
    "for idx, data in enumerate(data_distribs):\n",
    "#     ax[idx//2,idx%2].plot(range(0,5000),data[0:5000])\n",
    "    ax[idx//2,idx%2].plot(range(len(data)),data)\n",
    "    ax[idx//2,idx%2].set_ylabel(\"Mbps\")\n",
    "    ax[idx//2,idx%2].legend(distribs_names[idx])"
   ]
  },
  {
   "cell_type": "markdown",
   "metadata": {},
   "source": [
    "#### 寻找合适的缩放比"
   ]
  },
  {
   "cell_type": "code",
   "execution_count": 161,
   "metadata": {
    "tags": []
   },
   "outputs": [],
   "source": [
    "pf = pd.DataFrame(np.loadtxt(\"/home/guifei/projects/g8_hesy/LP_Final/LP_output/Abi-se-huge.txt\"))*8/3/10**3\n",
    "# des_pf = pf.describe()"
   ]
  },
  {
   "cell_type": "code",
   "execution_count": null,
   "metadata": {},
   "outputs": [],
   "source": []
  },
  {
   "cell_type": "code",
   "execution_count": 1,
   "metadata": {},
   "outputs": [
    {
     "ename": "NameError",
     "evalue": "name 'plt' is not defined",
     "output_type": "error",
     "traceback": [
      "\u001b[0;31m---------------------------------------------------------------------------\u001b[0m",
      "\u001b[0;31mNameError\u001b[0m                                 Traceback (most recent call last)",
      "\u001b[0;32m<ipython-input-1-c3b0ea90047d>\u001b[0m in \u001b[0;36m<module>\u001b[0;34m\u001b[0m\n\u001b[0;32m----> 1\u001b[0;31m \u001b[0mplt\u001b[0m\u001b[0;34m.\u001b[0m\u001b[0mplot\u001b[0m\u001b[0;34m(\u001b[0m\u001b[0mrange\u001b[0m\u001b[0;34m(\u001b[0m\u001b[0mlen\u001b[0m\u001b[0;34m(\u001b[0m\u001b[0mpf\u001b[0m\u001b[0;34m[\u001b[0m\u001b[0;34m:\u001b[0m\u001b[0;36m5000\u001b[0m\u001b[0;34m]\u001b[0m\u001b[0;34m)\u001b[0m\u001b[0;34m)\u001b[0m\u001b[0;34m,\u001b[0m\u001b[0mpf\u001b[0m\u001b[0;34m[\u001b[0m\u001b[0;34m:\u001b[0m\u001b[0;36m5000\u001b[0m\u001b[0;34m]\u001b[0m\u001b[0;34m*\u001b[0m\u001b[0;36m5\u001b[0m\u001b[0;34m)\u001b[0m\u001b[0;34m\u001b[0m\u001b[0;34m\u001b[0m\u001b[0m\n\u001b[0m",
      "\u001b[0;31mNameError\u001b[0m: name 'plt' is not defined"
     ]
    }
   ],
   "source": [
    "plt.plot(range(len(pf[:5000])),pf[:5000]*5)"
   ]
  },
  {
   "cell_type": "code",
   "execution_count": 181,
   "metadata": {},
   "outputs": [
    {
     "data": {
      "text/plain": [
       "Text(0, 0.5, 'MLU(%)')"
      ]
     },
     "execution_count": 181,
     "metadata": {},
     "output_type": "execute_result"
    },
    {
     "data": {
      "image/png": "[encoded data removed]",
      "text/plain": [
       "<Figure size 432x288 with 1 Axes>"
      ]
     },
     "metadata": {
      "needs_background": "light"
     },
     "output_type": "display_data"
    }
   ],
   "source": [
    "plt.plot(range(len(pf)),pf)\n",
    "plt.xlabel(\"TM index\")\n",
    "plt.ylabel(\"MLU(%)\")"
   ]
  },
  {
   "cell_type": "code",
   "execution_count": null,
   "metadata": {
    "tags": []
   },
   "outputs": [],
   "source": [
    "pf_ = pf*40\n",
    "des_pf_ = pf_.describe()\n",
    "# print(des_pf_.iloc[:,0])\n",
    "des_pf_"
   ]
  },
  {
   "cell_type": "code",
   "execution_count": 568,
   "metadata": {
    "tags": []
   },
   "outputs": [
    {
     "data": {
      "text/plain": [
       "Text(0.5, 1.0, 'cdf')"
      ]
     },
     "execution_count": 568,
     "metadata": {},
     "output_type": "execute_result"
    },
    {
     "data": {
      "image/png": "[encoded data removed]",
      "text/plain": [
       "<Figure size 432x288 with 1 Axes>"
      ]
     },
     "metadata": {
      "needs_background": "light"
     },
     "output_type": "display_data"
    }
   ],
   "source": [
    "import statsmodels.api as sm\n",
    "cdf_data=[]\n",
    "\n",
    "# for idx, data in enumerate(data_distribs):\n",
    "for idx, data in enumerate(data_distribs[:-1]):  # 不要包含max ，差太多了\n",
    "    ecdf = sm.distributions.ECDF(data)\n",
    "    #等差数列，用于绘制X轴数据\n",
    "    x = np.linspace(min(data), max(data))\n",
    "    # x轴数据上值对应的累计密度概率\n",
    "    y = ecdf(x)\n",
    "#     cdf_data.append({\"x\":x,\"y\":y})\n",
    "#     plt.step(data[\"x\"],data[\"y\"])\n",
    "    plt.step(x,y)\n",
    "\n",
    "plt.legend(distribs_names)\n",
    "\n",
    "plt.xlabel(\"Mbps\")\n",
    "plt.title(\"cdf\")"
   ]
  },
  {
   "cell_type": "markdown",
   "metadata": {},
   "source": [
    "### 处理(生成flows)"
   ]
  },
  {
   "cell_type": "markdown",
   "metadata": {},
   "source": [
    "数据文件的地址：(g14)\n",
    "\n",
    "/home/hesy/pro/g8/genflow/TmDataIn15min.txt\n",
    "\n",
    "/home/hesy/pro/g8/genflow/codes-trueTM/tencent_cdf.txt"
   ]
  },
  {
   "cell_type": "markdown",
   "metadata": {},
   "source": [
    "<div class=\"alert alert-block alert-info\">\n",
    "<b>查看腾讯数据cdf的情况</b> \n",
    "</div>"
   ]
  },
  {
   "cell_type": "code",
   "execution_count": 4,
   "metadata": {},
   "outputs": [],
   "source": [
    "cdfData_ori= np.loadtxt(\"/home/hesy/projects/genflow/codes-trueTM/tencent_cdf.txt\")"
   ]
  },
  {
   "cell_type": "code",
   "execution_count": 5,
   "metadata": {},
   "outputs": [],
   "source": [
    "tmp = cdfData_ori[:-1]\n",
    "cdfData = np.append(tmp,[[1e+5, 1]],axis =0)"
   ]
  },
  {
   "cell_type": "code",
   "execution_count": null,
   "metadata": {},
   "outputs": [],
   "source": [
    "cdfData,tmp"
   ]
  },
  {
   "cell_type": "code",
   "execution_count": null,
   "metadata": {},
   "outputs": [],
   "source": [
    "# nums,pdf = cdfData_ori[:,0],cdfData_ori[:,-1]\n",
    "nums,pdf = cdfData[:,0],cdfData[:,-1]\n",
    "plt.plot(nums,pdf)\n",
    "plt.xlabel(\"size of a flow(bytes)\")\n",
    "plt.ylabel(\"pdf(%)\")\n",
    "plt.title(\"distribution of flow size at tencent gateway\")"
   ]
  },
  {
   "cell_type": "markdown",
   "metadata": {},
   "source": [
    "---"
   ]
  },
  {
   "cell_type": "markdown",
   "metadata": {},
   "source": [
    "<div class=\"alert alert-block alert-info\">\n",
    "<b>人工放缩比</b>\n",
    "<br> 这两个参数其实最后会影响flows[fromNode][toNode]的流的数量 和 分布(scale调整数量，scale_调整分布)\n",
    "</div>"
   ]
  },
  {
   "cell_type": "markdown",
   "metadata": {},
   "source": [
    "#### 人工缩放比(hypermeters)"
   ]
  },
  {
   "cell_type": "code",
   "execution_count": 119,
   "metadata": {},
   "outputs": [],
   "source": [
    "scale = 20 # hesy:这个缩放比不是真实数据的得到的，是我们自己搞的，为了让流量合理 （直接作用在TM流量上）\n",
    "# scale_ =1000 # hesy: 人工对cdf数据的调整\n",
    "scale_ =1 # hesy: 人工对cdf数据的调整"
   ]
  },
  {
   "cell_type": "code",
   "execution_count": 120,
   "metadata": {},
   "outputs": [],
   "source": [
    "from bisect import bisect\n",
    "def chazhi(nums,distributionOfFlows,poss=None): # -> 根据cdf采样得到的随机生成的流大小\n",
    "#     global scale_ \n",
    "    poss = np.random.random() if not poss else poss\n",
    "    index,poss2num = 0,0\n",
    "    while index<1:  # 其实一般来讲index不会<1的\n",
    "        index = bisect(distributionOfFlows, poss)\n",
    "    # 线性插值  (end_y-p_y)/(end_y-begin_y) = (end_x-p_x)/(end_x-begin_x)\n",
    "    poss2num = nums[index] - (distributionOfFlows[index] - poss)/(\n",
    "    distributionOfFlows[index] - distributionOfFlows[index-1])*(nums[index]-nums[index-1])\n",
    "#     if int(poss2num)==0:\n",
    "#         print(f\"poss2num is 0 when index is {index} and poss is {poss}\")\n",
    "    return poss2num/scale_   # 其实不一定要整数，出来的太规整了吧...\n",
    "\n",
    "def generateFlows(nums,distributionOfFlows,flowSize):\n",
    "    sumFlow = 0\n",
    "    flows = []\n",
    "    while sumFlow<flowSize:\n",
    "        tmp = chazhi(nums,distributionOfFlows)\n",
    "        if tmp:  # 因为小数的原因...有时候会出现0\n",
    "            sumFlow+=tmp\n",
    "            flows.append(tmp)\n",
    "    if flowSize:\n",
    "        sumFlow-=flows.pop()\n",
    "        flows.append(flowSize-sumFlow)\n",
    "    return flows"
   ]
  },
  {
   "cell_type": "markdown",
   "metadata": {},
   "source": [
    "<div class=\"alert alert-block alert-info\">\n",
    "<b>取4500-4600</b> \n",
    "</div>"
   ]
  },
  {
   "cell_type": "markdown",
   "metadata": {},
   "source": [
    "#### 529->506"
   ]
  },
  {
   "cell_type": "code",
   "execution_count": 121,
   "metadata": {},
   "outputs": [],
   "source": [
    "# Mbps为单位，还未缩放过的\n",
    "diags_list = [ i*23+i for i in range(23) ]\n",
    "tms_506 = tms.drop(diags_list,axis=1)\n",
    "tms_506.columns=range(23*22)  # drop了还得重新让columns升序"
   ]
  },
  {
   "cell_type": "code",
   "execution_count": 122,
   "metadata": {},
   "outputs": [],
   "source": [
    "tm4500_4600 = tms_506.iloc[4500:4600,:]*30*scale/100 # len(tm1) = 506 = 23*23 # 因为ns3里面带宽缩小了100倍，所以这里也除以100。 # 30代表30s\n",
    "len_tms = len(tm4500_4600)\n",
    "tm4500_4600.index = range(len_tms)\n",
    "# 注意，这里别搞成小数\n",
    "#这里的单位是MBps，但是我没有*8，相当于整体缩小了8倍"
   ]
  },
  {
   "cell_type": "code",
   "execution_count": null,
   "metadata": {},
   "outputs": [],
   "source": [
    "tm4500_4600"
   ]
  },
  {
   "cell_type": "code",
   "execution_count": 123,
   "metadata": {},
   "outputs": [],
   "source": [
    "flows_ =[ [] for _ in range(len_tms)] \n",
    "# flows = np.array([[[] for _ in range(22)] for _ in range(23)])  # 23*22的list\n",
    "flows = [[[0 for _ in range(22)] for __ in range(23)] for ___ in range(len_tms)] # len(tm)*23*22的list\n",
    "flowNum =[[[ 0 for _ in range(22)] for __ in range(23)] for ___ in range(len_tms)]\n",
    "# for fromNode in range(2):\n",
    "#     for toNode in range(2)\n",
    "import ipdb\n",
    "\n",
    "try:\n",
    "    for tmIdx in range(len_tms):\n",
    "        for fromNode in range(23):\n",
    "            for toNode in range(22):\n",
    "\n",
    "                flows[tmIdx][fromNode][toNode]=generateFlows(nums,pdf,tm4500_4600.iloc[tmIdx,fromNode*22+toNode]*(10**6)/8) # Mbps --> Bps\n",
    "                flows_[tmIdx].extend(flows[tmIdx][fromNode][toNode])\n",
    "                flowNum[tmIdx][fromNode][toNode] = len(flows[tmIdx][fromNode][toNode])\n",
    "                \n",
    "except:\n",
    "    print(f\"tmIdx,fromNode,toNode is {tmIdx},{fromNode},{toNode} \")\n",
    "    print(f\"fromNode*22+toNode is {fromNode*22+toNode} \")    "
   ]
  },
  {
   "cell_type": "markdown",
   "metadata": {},
   "source": [
    "flows : list of 1000 * 23 * 22 , each is also a list\n",
    "flows_: list of 1000 个list , which "
   ]
  },
  {
   "cell_type": "code",
   "execution_count": 409,
   "metadata": {
    "tags": []
   },
   "outputs": [],
   "source": [
    "np.save(\"flows23*22.npy\",flows)\n",
    "np.save(\"flowNum23*22.npy\",flowNum)"
   ]
  },
  {
   "cell_type": "markdown",
   "metadata": {
    "tags": []
   },
   "source": [
    "<div class=\"alert alert-block alert-info\">\n",
    "<b>如果每条流的CBR是1/10的2488 --> 2le6 30s最多让你发，所以这个flows里面的数值最大是60(le6是本来就要缩放的大小)</b> \n",
    "<br> 现在check下到底是多少以决定要缩放多少\n",
    "</div>"
   ]
  },
  {
   "cell_type": "markdown",
   "metadata": {
    "tags": []
   },
   "source": [
    "scale为1的时候，mean是le3,max是le5。 <br>\n",
    "所以将scale设置为1000试试（再缩小1000倍）。"
   ]
  },
  {
   "cell_type": "markdown",
   "metadata": {
    "tags": []
   },
   "source": [
    "进一步的，如果采用On-Off的形式，ratio为10的情况下，发送时间(x)和关闭时间(y)要满足的大小关系是(y=9x),所以就让发送时间为10s的话，开的时间不能超过1s,which means30s内实际能发的是2(le6)*3而不是2(le6)*30 --> 所以流最好别超过6le6"
   ]
  },
  {
   "cell_type": "markdown",
   "metadata": {
    "toc-hr-collapsed": true
   },
   "source": [
    "### 生成流的查看 -- 最初TM1的生成情况 作为基准(肯定正确的)"
   ]
  },
  {
   "cell_type": "markdown",
   "metadata": {},
   "source": [
    "<div class=\"alert alert-block alert-info\">\n",
    "<b>生成的单位都是B了</b> \n",
    "</div>"
   ]
  },
  {
   "cell_type": "markdown",
   "metadata": {},
   "source": [
    "#### 流的大小分布情况查看"
   ]
  },
  {
   "cell_type": "code",
   "execution_count": null,
   "metadata": {},
   "outputs": [],
   "source": [
    "print(np.percentile(flows_, 50))\n",
    "print(np.percentile(flows_, 95))\n",
    "max(flows_)"
   ]
  },
  {
   "cell_type": "code",
   "execution_count": null,
   "metadata": {},
   "outputs": [],
   "source": [
    "原结果是148，400+ 和 9988"
   ]
  },
  {
   "cell_type": "code",
   "execution_count": null,
   "metadata": {},
   "outputs": [],
   "source": [
    "import statsmodels.api as sm\n",
    "data = flows_\n",
    "ecdf = sm.distributions.ECDF(data)\n",
    "#等差数列，用于绘制X轴数据\n",
    "x = np.linspace(min(data), max(data))\n",
    "# x轴数据上值对应的累计密度概率\n",
    "y = ecdf(x)\n",
    "plt.step(x,y)\n",
    "plt.xlabel(\"session对之间的流大小（bytes）\")\n",
    "plt.ylabel(\"cdf\")"
   ]
  },
  {
   "cell_type": "markdown",
   "metadata": {},
   "source": [
    "大流不多\n",
    "\n",
    "??? 50% 是100多B是不是有点小了..."
   ]
  },
  {
   "cell_type": "markdown",
   "metadata": {},
   "source": [
    "#### session对之间生成的流的数量分布情况查看"
   ]
  },
  {
   "cell_type": "markdown",
   "metadata": {},
   "source": [
    "<div class=\"alert alert-block alert-info\">\n",
    "<b>查看下session * session的flows的num数量大概是多少</b> \n",
    "</div>"
   ]
  },
  {
   "cell_type": "code",
   "execution_count": 677,
   "metadata": {},
   "outputs": [
    {
     "name": "stdout",
     "output_type": "stream",
     "text": [
      "39.0\n",
      "2035.0\n"
     ]
    },
    {
     "data": {
      "text/plain": [
       "8092"
      ]
     },
     "execution_count": 677,
     "metadata": {},
     "output_type": "execute_result"
    }
   ],
   "source": [
    "flowNums_= np.array(flowNum).reshape((-1,))\n",
    "print(np.percentile(flowNum, 50))\n",
    "print(np.percentile(flowNum, 95))\n",
    "max(flowNums_)  "
   ]
  },
  {
   "cell_type": "code",
   "execution_count": 678,
   "metadata": {},
   "outputs": [
    {
     "data": {
      "text/plain": [
       "Text(0, 0.5, 'cdf')"
      ]
     },
     "execution_count": 678,
     "metadata": {},
     "output_type": "execute_result"
    },
    {
     "data": {
      "image/png": "[encoded data removed]",
      "text/plain": [
       "<Figure size 432x288 with 1 Axes>"
      ]
     },
     "metadata": {
      "needs_background": "light"
     },
     "output_type": "display_data"
    }
   ],
   "source": [
    "import statsmodels.api as sm\n",
    "data = flowNums_\n",
    "ecdf = sm.distributions.ECDF(data)\n",
    "#等差数列，用于绘制X轴数据\n",
    "x = np.linspace(min(data), max(data))\n",
    "# x轴数据上值对应的累计密度概率\n",
    "y = ecdf(x)\n",
    "plt.step(x,y)\n",
    "plt.xlabel(\"session对之间的流数量\")\n",
    "plt.ylabel(\"cdf\")"
   ]
  },
  {
   "cell_type": "markdown",
   "metadata": {},
   "source": [
    "1s内流的数量不超过300条 ，变成30s之后就是不超过le4条"
   ]
  },
  {
   "cell_type": "markdown",
   "metadata": {},
   "source": [
    "<div class=\"alert alert-block alert-info\">\n",
    "<b>这个单位就全都是bytes了</b> , 上面生成流的过程中全部转为bytes了\n",
    "</div>"
   ]
  },
  {
   "cell_type": "code",
   "execution_count": 680,
   "metadata": {
    "tags": []
   },
   "outputs": [
    {
     "data": {
      "text/html": [
       "<div>\n",
       "<style scoped>\n",
       "    .dataframe tbody tr th:only-of-type {\n",
       "        vertical-align: middle;\n",
       "    }\n",
       "\n",
       "    .dataframe tbody tr th {\n",
       "        vertical-align: top;\n",
       "    }\n",
       "\n",
       "    .dataframe thead th {\n",
       "        text-align: right;\n",
       "    }\n",
       "</style>\n",
       "<table border=\"1\" class=\"dataframe\">\n",
       "  <thead>\n",
       "    <tr style=\"text-align: right;\">\n",
       "      <th></th>\n",
       "      <th>0</th>\n",
       "      <th>1</th>\n",
       "      <th>2</th>\n",
       "      <th>3</th>\n",
       "      <th>4</th>\n",
       "      <th>5</th>\n",
       "      <th>6</th>\n",
       "      <th>7</th>\n",
       "      <th>8</th>\n",
       "      <th>9</th>\n",
       "      <th>...</th>\n",
       "      <th>12</th>\n",
       "      <th>13</th>\n",
       "      <th>14</th>\n",
       "      <th>15</th>\n",
       "      <th>16</th>\n",
       "      <th>17</th>\n",
       "      <th>18</th>\n",
       "      <th>19</th>\n",
       "      <th>20</th>\n",
       "      <th>21</th>\n",
       "    </tr>\n",
       "  </thead>\n",
       "  <tbody>\n",
       "    <tr>\n",
       "      <th>0</th>\n",
       "      <td>[126.69682697064766, 25.669692420675403, 193.9...</td>\n",
       "      <td>[237.80086091556808, 85.56726766152741, 528.25...</td>\n",
       "      <td>[86.82945920969266, 1453.4972779629202, 163.30...</td>\n",
       "      <td>[1427.3973922406128, 164.6289259844003, 827.12...</td>\n",
       "      <td>[1794.0361708661521, 286.50157744215664, 1800....</td>\n",
       "      <td>[1517.6325847563764, 102.06835351385044, 39.60...</td>\n",
       "      <td>[12.32730094452917, 46.899507162123875, 1884.1...</td>\n",
       "      <td>[188.31401908674528, 79.90098558291794, 1463.7...</td>\n",
       "      <td>[]</td>\n",
       "      <td>[155.05308627976237, 7.844752232966542, 83.810...</td>\n",
       "      <td>...</td>\n",
       "      <td>[396.33720452271064, 705.0367555631138, 407.69...</td>\n",
       "      <td>[169.3911026391445, 705.0370877155987, 536.346...</td>\n",
       "      <td>[2718.6007250864172, 167.86645397749885, 89.83...</td>\n",
       "      <td>[1773.7385478889398, 119.01063865378647, 10.14...</td>\n",
       "      <td>[670.9294680702804, 71.36515855777205, 190.696...</td>\n",
       "      <td>[252.2466344511156, 125.60334838045, 72.336039...</td>\n",
       "      <td>[1865.8524854380457, 1832.2368703521186, 2963....</td>\n",
       "      <td>[47.135603740561436, 86.05362645644735, 260.30...</td>\n",
       "      <td>[85.05605851602053, 685.7592881511525, 442.907...</td>\n",
       "      <td>[7.856983254085563, 1544.0720552959551, 102.22...</td>\n",
       "    </tr>\n",
       "    <tr>\n",
       "      <th>1</th>\n",
       "      <td>[33.594686780282636, 70.11461723867923, 1197.1...</td>\n",
       "      <td>[73.24887387496992, 19.857345621622727, 46.171...</td>\n",
       "      <td>[49.46736005557241, 64.5214396261654, 165.3491...</td>\n",
       "      <td>[217.78188529157154, 68.93076556275804, 59.291...</td>\n",
       "      <td>[143.60055124229882, 53.34909730524162, 513.45...</td>\n",
       "      <td>[9.499209481655939, 88.9037347603602, 73.17495...</td>\n",
       "      <td>[150.8049283314835, 101.48248153206865, 1196.4...</td>\n",
       "      <td>[3217.332701804651, 89.27867147150374, 35.4663...</td>\n",
       "      <td>[]</td>\n",
       "      <td>[526.9115572439052, 900.8851205351777, 39.7594...</td>\n",
       "      <td>...</td>\n",
       "      <td>[280.973577952284, 147.54482797158406, 106.383...</td>\n",
       "      <td>[113.00483855196228, 7646.60947391128, 2463.21...</td>\n",
       "      <td>[25.763660452057216, 341.47106576504945, 244.3...</td>\n",
       "      <td>[1165.4782060790876, 143.84816188914024, 641.6...</td>\n",
       "      <td>[191.6273472627413, 207.33671178194524, 1316.7...</td>\n",
       "      <td>[1723.8243522860987, 44.628448101614914, 172.8...</td>\n",
       "      <td>[471.5531755115195, 66.2850307749189, 936.7512...</td>\n",
       "      <td>[207.60226276585888, 1231.082054012663, 13.656...</td>\n",
       "      <td>[154.74971197618885, 102.2457379038174, 84.166...</td>\n",
       "      <td>[99.44144783560246, 110.57321883106414]</td>\n",
       "    </tr>\n",
       "    <tr>\n",
       "      <th>2</th>\n",
       "      <td>[221.41600055595234, 128.9152807485386, 400.18...</td>\n",
       "      <td>[88.80622242232837, 654.0561392391689, 1640.04...</td>\n",
       "      <td>[1327.362356861633, 1501.8196086494652, 112.11...</td>\n",
       "      <td>[198.2424502155271, 106.40882952503664, 1309.5...</td>\n",
       "      <td>[215.5347337672073, 157.67993289945946]</td>\n",
       "      <td>[29.211033071093645, 172.32217381235213, 115.1...</td>\n",
       "      <td>[743.8664195443505, 202.9586153335366, 261.857...</td>\n",
       "      <td>[24.04220499120374, 906.9756329341537, 115.269...</td>\n",
       "      <td>[]</td>\n",
       "      <td>[1071.656980239948, 993.336028156381, 67.25558...</td>\n",
       "      <td>...</td>\n",
       "      <td>[42.24418027939209, 1084.3472068374595, 14.249...</td>\n",
       "      <td>[886.3999999999999]</td>\n",
       "      <td>[1887.8957906190492, 92.86763284437504, 131.86...</td>\n",
       "      <td>[89.26388862547256, 1802.776461542525, 1825.33...</td>\n",
       "      <td>[88.07733635695165, 1603.0297836034142, 105.88...</td>\n",
       "      <td>[1579.895088014771, 171.92412108030726, 975.43...</td>\n",
       "      <td>[85.77671294373528, 86.87521245538284, 37.5221...</td>\n",
       "      <td>[80.53102555862596, 127.43255248081174, 37.015...</td>\n",
       "      <td>[185.40304595441228, 93.48112547702326, 162.44...</td>\n",
       "      <td>[166.77610054003205, 1108.2185775623864, 88.41...</td>\n",
       "    </tr>\n",
       "    <tr>\n",
       "      <th>3</th>\n",
       "      <td>[42.73879928180706, 165.54630759575883, 5.9207...</td>\n",
       "      <td>[1104.8509265124335, 209.98470300161844, 4908....</td>\n",
       "      <td>[88.55049853671879, 146.86170614673858, 1208.9...</td>\n",
       "      <td>[84.12132343970575, 74.3476447160355, 85.22874...</td>\n",
       "      <td>[1002.6666666666669]</td>\n",
       "      <td>[75.89350695892703, 1336.184534589836, 81.4379...</td>\n",
       "      <td>[89.371007079636, 54.438522388386914, 58.12539...</td>\n",
       "      <td>[723.8792544165129, 1600.086411685505, 241.492...</td>\n",
       "      <td>[]</td>\n",
       "      <td>[444.2819141917952, 64.81873037991048, 79.7487...</td>\n",
       "      <td>...</td>\n",
       "      <td>[3.9985733515007382, 334.64908415320264, 17.70...</td>\n",
       "      <td>[104.90124693058802, 6.8920497022587455, 62.33...</td>\n",
       "      <td>[63.656555456387785, 803.56274571982, 72.44322...</td>\n",
       "      <td>[251.2278379620612, 423.2500928886162, 75.3323...</td>\n",
       "      <td>[11.474263602177885, 85.94917190946533, 115.14...</td>\n",
       "      <td>[1496.5382681111362, 1443.081287010776, 5090.1...</td>\n",
       "      <td>[241.91975615141274, 216.77793275830578, 739.3...</td>\n",
       "      <td>[482.6690278390985, 4.197993479760115, 744.791...</td>\n",
       "      <td>[1414.5503570004907, 504.2130236172653, 843.04...</td>\n",
       "      <td>[47.88133333333334]</td>\n",
       "    </tr>\n",
       "    <tr>\n",
       "      <th>4</th>\n",
       "      <td>[974.9086265508461, 89.80497952412172, 551.878...</td>\n",
       "      <td>[88.09109975108016, 219.32900896366357, 430.69...</td>\n",
       "      <td>[117.07070459658597, 1727.9308184276379, 343.4...</td>\n",
       "      <td>[47.011930069271614, 1893.3686502201706, 106.0...</td>\n",
       "      <td>[346.9363271186504, 153.21167288134956]</td>\n",
       "      <td>[106.17465553421724, 146.50647034080902, 8605....</td>\n",
       "      <td>[5090.493923123814, 127.8278452942112, 88.6384...</td>\n",
       "      <td>[236.4748418520531, 113.1309706906837, 295.958...</td>\n",
       "      <td>[]</td>\n",
       "      <td>[3.0184731016842647, 88.02175730852107, 1801.4...</td>\n",
       "      <td>...</td>\n",
       "      <td>[58.3517434871928, 78.10486467620272, 1223.019...</td>\n",
       "      <td>[1498.8751005333374, 134.02698116782042, 67.22...</td>\n",
       "      <td>[1428.8900516874467, 1231.1318267050244, 155.1...</td>\n",
       "      <td>[1887.8976151528775, 393.9796189252912, 259.27...</td>\n",
       "      <td>[387.5781117432201, 958.5641549216979, 1884.79...</td>\n",
       "      <td>[59.860402129888364, 33.137437257552534, 428.9...</td>\n",
       "      <td>[1783.3644647242018, 57.15093836243179, 1895.9...</td>\n",
       "      <td>[15.559006043134076, 171.66825725735242, 99.71...</td>\n",
       "      <td>[1.3677034274706585, 63.791946598311526, 157.6...</td>\n",
       "      <td>[195.79199999999997]</td>\n",
       "    </tr>\n",
       "  </tbody>\n",
       "</table>\n",
       "<p>5 rows × 22 columns</p>\n",
       "</div>"
      ],
      "text/plain": [
       "                                                  0   \\\n",
       "0  [126.69682697064766, 25.669692420675403, 193.9...   \n",
       "1  [33.594686780282636, 70.11461723867923, 1197.1...   \n",
       "2  [221.41600055595234, 128.9152807485386, 400.18...   \n",
       "3  [42.73879928180706, 165.54630759575883, 5.9207...   \n",
       "4  [974.9086265508461, 89.80497952412172, 551.878...   \n",
       "\n",
       "                                                  1   \\\n",
       "0  [237.80086091556808, 85.56726766152741, 528.25...   \n",
       "1  [73.24887387496992, 19.857345621622727, 46.171...   \n",
       "2  [88.80622242232837, 654.0561392391689, 1640.04...   \n",
       "3  [1104.8509265124335, 209.98470300161844, 4908....   \n",
       "4  [88.09109975108016, 219.32900896366357, 430.69...   \n",
       "\n",
       "                                                  2   \\\n",
       "0  [86.82945920969266, 1453.4972779629202, 163.30...   \n",
       "1  [49.46736005557241, 64.5214396261654, 165.3491...   \n",
       "2  [1327.362356861633, 1501.8196086494652, 112.11...   \n",
       "3  [88.55049853671879, 146.86170614673858, 1208.9...   \n",
       "4  [117.07070459658597, 1727.9308184276379, 343.4...   \n",
       "\n",
       "                                                  3   \\\n",
       "0  [1427.3973922406128, 164.6289259844003, 827.12...   \n",
       "1  [217.78188529157154, 68.93076556275804, 59.291...   \n",
       "2  [198.2424502155271, 106.40882952503664, 1309.5...   \n",
       "3  [84.12132343970575, 74.3476447160355, 85.22874...   \n",
       "4  [47.011930069271614, 1893.3686502201706, 106.0...   \n",
       "\n",
       "                                                  4   \\\n",
       "0  [1794.0361708661521, 286.50157744215664, 1800....   \n",
       "1  [143.60055124229882, 53.34909730524162, 513.45...   \n",
       "2            [215.5347337672073, 157.67993289945946]   \n",
       "3                               [1002.6666666666669]   \n",
       "4            [346.9363271186504, 153.21167288134956]   \n",
       "\n",
       "                                                  5   \\\n",
       "0  [1517.6325847563764, 102.06835351385044, 39.60...   \n",
       "1  [9.499209481655939, 88.9037347603602, 73.17495...   \n",
       "2  [29.211033071093645, 172.32217381235213, 115.1...   \n",
       "3  [75.89350695892703, 1336.184534589836, 81.4379...   \n",
       "4  [106.17465553421724, 146.50647034080902, 8605....   \n",
       "\n",
       "                                                  6   \\\n",
       "0  [12.32730094452917, 46.899507162123875, 1884.1...   \n",
       "1  [150.8049283314835, 101.48248153206865, 1196.4...   \n",
       "2  [743.8664195443505, 202.9586153335366, 261.857...   \n",
       "3  [89.371007079636, 54.438522388386914, 58.12539...   \n",
       "4  [5090.493923123814, 127.8278452942112, 88.6384...   \n",
       "\n",
       "                                                  7   8   \\\n",
       "0  [188.31401908674528, 79.90098558291794, 1463.7...  []   \n",
       "1  [3217.332701804651, 89.27867147150374, 35.4663...  []   \n",
       "2  [24.04220499120374, 906.9756329341537, 115.269...  []   \n",
       "3  [723.8792544165129, 1600.086411685505, 241.492...  []   \n",
       "4  [236.4748418520531, 113.1309706906837, 295.958...  []   \n",
       "\n",
       "                                                  9   ...  \\\n",
       "0  [155.05308627976237, 7.844752232966542, 83.810...  ...   \n",
       "1  [526.9115572439052, 900.8851205351777, 39.7594...  ...   \n",
       "2  [1071.656980239948, 993.336028156381, 67.25558...  ...   \n",
       "3  [444.2819141917952, 64.81873037991048, 79.7487...  ...   \n",
       "4  [3.0184731016842647, 88.02175730852107, 1801.4...  ...   \n",
       "\n",
       "                                                  12  \\\n",
       "0  [396.33720452271064, 705.0367555631138, 407.69...   \n",
       "1  [280.973577952284, 147.54482797158406, 106.383...   \n",
       "2  [42.24418027939209, 1084.3472068374595, 14.249...   \n",
       "3  [3.9985733515007382, 334.64908415320264, 17.70...   \n",
       "4  [58.3517434871928, 78.10486467620272, 1223.019...   \n",
       "\n",
       "                                                  13  \\\n",
       "0  [169.3911026391445, 705.0370877155987, 536.346...   \n",
       "1  [113.00483855196228, 7646.60947391128, 2463.21...   \n",
       "2                                [886.3999999999999]   \n",
       "3  [104.90124693058802, 6.8920497022587455, 62.33...   \n",
       "4  [1498.8751005333374, 134.02698116782042, 67.22...   \n",
       "\n",
       "                                                  14  \\\n",
       "0  [2718.6007250864172, 167.86645397749885, 89.83...   \n",
       "1  [25.763660452057216, 341.47106576504945, 244.3...   \n",
       "2  [1887.8957906190492, 92.86763284437504, 131.86...   \n",
       "3  [63.656555456387785, 803.56274571982, 72.44322...   \n",
       "4  [1428.8900516874467, 1231.1318267050244, 155.1...   \n",
       "\n",
       "                                                  15  \\\n",
       "0  [1773.7385478889398, 119.01063865378647, 10.14...   \n",
       "1  [1165.4782060790876, 143.84816188914024, 641.6...   \n",
       "2  [89.26388862547256, 1802.776461542525, 1825.33...   \n",
       "3  [251.2278379620612, 423.2500928886162, 75.3323...   \n",
       "4  [1887.8976151528775, 393.9796189252912, 259.27...   \n",
       "\n",
       "                                                  16  \\\n",
       "0  [670.9294680702804, 71.36515855777205, 190.696...   \n",
       "1  [191.6273472627413, 207.33671178194524, 1316.7...   \n",
       "2  [88.07733635695165, 1603.0297836034142, 105.88...   \n",
       "3  [11.474263602177885, 85.94917190946533, 115.14...   \n",
       "4  [387.5781117432201, 958.5641549216979, 1884.79...   \n",
       "\n",
       "                                                  17  \\\n",
       "0  [252.2466344511156, 125.60334838045, 72.336039...   \n",
       "1  [1723.8243522860987, 44.628448101614914, 172.8...   \n",
       "2  [1579.895088014771, 171.92412108030726, 975.43...   \n",
       "3  [1496.5382681111362, 1443.081287010776, 5090.1...   \n",
       "4  [59.860402129888364, 33.137437257552534, 428.9...   \n",
       "\n",
       "                                                  18  \\\n",
       "0  [1865.8524854380457, 1832.2368703521186, 2963....   \n",
       "1  [471.5531755115195, 66.2850307749189, 936.7512...   \n",
       "2  [85.77671294373528, 86.87521245538284, 37.5221...   \n",
       "3  [241.91975615141274, 216.77793275830578, 739.3...   \n",
       "4  [1783.3644647242018, 57.15093836243179, 1895.9...   \n",
       "\n",
       "                                                  19  \\\n",
       "0  [47.135603740561436, 86.05362645644735, 260.30...   \n",
       "1  [207.60226276585888, 1231.082054012663, 13.656...   \n",
       "2  [80.53102555862596, 127.43255248081174, 37.015...   \n",
       "3  [482.6690278390985, 4.197993479760115, 744.791...   \n",
       "4  [15.559006043134076, 171.66825725735242, 99.71...   \n",
       "\n",
       "                                                  20  \\\n",
       "0  [85.05605851602053, 685.7592881511525, 442.907...   \n",
       "1  [154.74971197618885, 102.2457379038174, 84.166...   \n",
       "2  [185.40304595441228, 93.48112547702326, 162.44...   \n",
       "3  [1414.5503570004907, 504.2130236172653, 843.04...   \n",
       "4  [1.3677034274706585, 63.791946598311526, 157.6...   \n",
       "\n",
       "                                                  21  \n",
       "0  [7.856983254085563, 1544.0720552959551, 102.22...  \n",
       "1            [99.44144783560246, 110.57321883106414]  \n",
       "2  [166.77610054003205, 1108.2185775623864, 88.41...  \n",
       "3                                [47.88133333333334]  \n",
       "4                               [195.79199999999997]  \n",
       "\n",
       "[5 rows x 22 columns]"
      ]
     },
     "execution_count": 680,
     "metadata": {},
     "output_type": "execute_result"
    }
   ],
   "source": [
    "flows_ = pd.DataFrame(flows)\n",
    "# flows_.iloc[0,3]\n",
    "flows_.head()"
   ]
  },
  {
   "cell_type": "markdown",
   "metadata": {},
   "source": [
    "### TM 4503 查看 -- check"
   ]
  },
  {
   "cell_type": "markdown",
   "metadata": {},
   "source": [
    "#### 流的大小分布情况查看"
   ]
  },
  {
   "cell_type": "code",
   "execution_count": 124,
   "metadata": {},
   "outputs": [
    {
     "name": "stdout",
     "output_type": "stream",
     "text": [
      "146.66268262319517\n",
      "2267.421713466332\n"
     ]
    },
    {
     "data": {
      "text/plain": [
       "99812.61056070848"
      ]
     },
     "execution_count": 124,
     "metadata": {},
     "output_type": "execute_result"
    }
   ],
   "source": [
    "print(np.percentile(flows_[3], 50))\n",
    "print(np.percentile(flows_[3], 95))\n",
    "max(flows_[3])"
   ]
  },
  {
   "cell_type": "markdown",
   "metadata": {},
   "source": [
    "跟上面的差不多哈，感觉没有造错"
   ]
  },
  {
   "cell_type": "code",
   "execution_count": 125,
   "metadata": {},
   "outputs": [
    {
     "data": {
      "text/plain": [
       "Text(0, 0.5, 'cdf')"
      ]
     },
     "execution_count": 125,
     "metadata": {},
     "output_type": "execute_result"
    },
    {
     "data": {
      "image/png": "[encoded data removed]",
      "text/plain": [
       "<Figure size 432x288 with 1 Axes>"
      ]
     },
     "metadata": {
      "needs_background": "light"
     },
     "output_type": "display_data"
    }
   ],
   "source": [
    "import statsmodels.api as sm\n",
    "data = flows_[3]\n",
    "ecdf = sm.distributions.ECDF(data)\n",
    "#等差数列，用于绘制X轴数据\n",
    "x = np.linspace(min(data), max(data))\n",
    "# x轴数据上值对应的累计密度概率\n",
    "y = ecdf(x)\n",
    "plt.step(x,y)\n",
    "plt.xlabel(\"session对之间的流大小（bytes）\")\n",
    "plt.ylabel(\"cdf\")"
   ]
  },
  {
   "cell_type": "markdown",
   "metadata": {},
   "source": [
    "大流不多\n",
    "\n",
    "??? 50% 是100多B是不是有点小了..."
   ]
  },
  {
   "cell_type": "markdown",
   "metadata": {},
   "source": [
    "#### session对之间生成的流的数量分布情况查看"
   ]
  },
  {
   "cell_type": "markdown",
   "metadata": {},
   "source": [
    "<div class=\"alert alert-block alert-info\">\n",
    "<b>查看下session * session的flows的num数量大概是多少</b> \n",
    "</div>"
   ]
  },
  {
   "cell_type": "code",
   "execution_count": 126,
   "metadata": {},
   "outputs": [
    {
     "name": "stdout",
     "output_type": "stream",
     "text": [
      "8.0\n",
      "425.0\n"
     ]
    },
    {
     "data": {
      "text/plain": [
       "3726"
      ]
     },
     "execution_count": 126,
     "metadata": {},
     "output_type": "execute_result"
    }
   ],
   "source": [
    "flowNums_= np.array(flowNum[3]).reshape((-1,))\n",
    "print(np.percentile(flowNums_, 50))\n",
    "print(np.percentile(flowNums_, 95))\n",
    "max(flowNums_)  "
   ]
  },
  {
   "cell_type": "code",
   "execution_count": 127,
   "metadata": {},
   "outputs": [
    {
     "data": {
      "text/plain": [
       "Text(0, 0.5, 'cdf')"
      ]
     },
     "execution_count": 127,
     "metadata": {},
     "output_type": "execute_result"
    },
    {
     "data": {
      "image/png": "[encoded data removed]",
      "text/plain": [
       "<Figure size 432x288 with 1 Axes>"
      ]
     },
     "metadata": {
      "needs_background": "light"
     },
     "output_type": "display_data"
    }
   ],
   "source": [
    "import statsmodels.api as sm\n",
    "data = flowNums_\n",
    "ecdf = sm.distributions.ECDF(data)\n",
    "#等差数列，用于绘制X轴数据\n",
    "x = np.linspace(min(data), max(data))\n",
    "# x轴数据上值对应的累计密度概率\n",
    "y = ecdf(x)\n",
    "plt.step(x,y)\n",
    "plt.xlabel(\"session对之间的流数量\")\n",
    "plt.ylabel(\"cdf\")"
   ]
  },
  {
   "cell_type": "markdown",
   "metadata": {},
   "source": [
    "1s内流的数量不超过300条 ，变成30s之后就是不超过le4条"
   ]
  },
  {
   "cell_type": "markdown",
   "metadata": {},
   "source": [
    "<div class=\"alert alert-block alert-info\">\n",
    "<b>这个单位就全都是bytes了</b> , 上面生成流的过程中全部转为bytes了\n",
    "</div>"
   ]
  },
  {
   "cell_type": "code",
   "execution_count": 107,
   "metadata": {
    "tags": []
   },
   "outputs": [
    {
     "data": {
      "text/plain": [
       "29"
      ]
     },
     "execution_count": 107,
     "metadata": {},
     "output_type": "execute_result"
    }
   ],
   "source": [
    "len(pd.DataFrame(flows).iloc[2,1][3])"
   ]
  },
  {
   "cell_type": "code",
   "execution_count": null,
   "metadata": {},
   "outputs": [],
   "source": [
    "flows_ = pd.DataFrame(flows)\n",
    "# flows_.iloc[0,3]\n",
    "flows_.head()"
   ]
  },
  {
   "cell_type": "markdown",
   "metadata": {},
   "source": [
    "#### 将流和间隔时间写入文件夹中"
   ]
  },
  {
   "cell_type": "markdown",
   "metadata": {},
   "source": [
    "把上述的东西 记录到文件夹中，路径为：<br>\n",
    "/home/hesy/projects/genflow/data-onoff/lam_1/TMx/tmy/sizea_b (g2) <br>\n",
    "/home/hesy/pro/g8/genflow/data-onoff/lam_1/TM1/tm1 (g14)"
   ]
  },
  {
   "cell_type": "code",
   "execution_count": 128,
   "metadata": {},
   "outputs": [
    {
     "name": "stdout",
     "output_type": "stream",
     "text": [
      "(100, 23)\n",
      "22\n",
      "25\n"
     ]
    }
   ],
   "source": [
    "df_flow = pd.DataFrame(flows)\n",
    "print(df_flow.shape)   # tmNUm * 23 * 22 * sessionFlowNum\n",
    "print(len(df_flow[1][3]))  # 22\n",
    "print(len(df_flow[1][3][3]))  # len of flowNum of this session"
   ]
  },
  {
   "cell_type": "code",
   "execution_count": 129,
   "metadata": {},
   "outputs": [
    {
     "name": "stdout",
     "output_type": "stream",
     "text": [
      "(100, 23)\n",
      "22\n",
      "26\n"
     ]
    }
   ],
   "source": [
    "df_flowNum = pd.DataFrame(flowNum)\n",
    "print(df_flow.shape)   # tmNUm * 23 * 22 * sessionFlowNum\n",
    "print(len(df_flow.iloc[1,3]))  # 22\n",
    "print(len(df_flow.iloc[1,3][3]))  # len of flowNum of this session"
   ]
  },
  {
   "cell_type": "code",
   "execution_count": null,
   "metadata": {
    "tags": []
   },
   "outputs": [],
   "source": [
    "df_flowNum.head()"
   ]
  },
  {
   "cell_type": "code",
   "execution_count": 110,
   "metadata": {
    "scrolled": true,
    "tags": []
   },
   "outputs": [
    {
     "data": {
      "text/plain": [
       "22"
      ]
     },
     "execution_count": 110,
     "metadata": {},
     "output_type": "execute_result"
    }
   ],
   "source": [
    "len(df_flow.iloc[1,3])"
   ]
  },
  {
   "cell_type": "code",
   "execution_count": null,
   "metadata": {},
   "outputs": [],
   "source": [
    "df_flow[23][0]"
   ]
  },
  {
   "cell_type": "code",
   "execution_count": null,
   "metadata": {
    "tags": []
   },
   "outputs": [],
   "source": [
    "df_flow.iloc[23,0]"
   ]
  },
  {
   "cell_type": "code",
   "execution_count": 130,
   "metadata": {},
   "outputs": [],
   "source": [
    "TMbegin = 4500\n",
    "TMnum = 100\n",
    "prefix = f\"/home/hesy/projects/genflow/data-newTrue-diff-lam/lam_{scale}/\" # \""
   ]
  },
  {
   "cell_type": "code",
   "execution_count": 131,
   "metadata": {},
   "outputs": [],
   "source": [
    "import random\n",
    "def saveFlows( TMidx,TMbegin, df_flow,df_flowNum):\n",
    "    try:\n",
    "        for fromNode in range(23):\n",
    "            toNode = -1\n",
    "            for toIdx in range(23):\n",
    "                if fromNode == toIdx :\n",
    "                    continue\n",
    "                toNode+=1 # 这个只是个下标志,从0-21，只有toIdx才代表Node的index(0-22)\n",
    "                with open(prefix+f\"TM{TMidx+TMbegin}/tm1/size{fromNode+1}_{toIdx+1}\",\"w\") as sizeFile:\n",
    "                    with open(prefix+f\"TM{TMidx+TMbegin}/tm1/interval{fromNode+1}_{toIdx+1}\",\"w\") as intervalFile:\n",
    "                        for flow in df_flow.iloc[TMidx,fromNode][toNode]:\n",
    "                            print(int(flow),file = sizeFile)\n",
    "                            print(random.expovariate(1.0*df_flowNum.iloc[TMidx,fromNode][toNode]/30),file = intervalFile)  # 平均速率是 30/flowNUm 再求个倒数\n",
    "    except :\n",
    "        print(f\"TMidx,fromNode,toNode is {TMidx},{fromNode},{toNode}\")"
   ]
  },
  {
   "cell_type": "markdown",
   "metadata": {},
   "source": [
    "<div class=\"alert alert-block alert-warning\">\n",
    "<b> 应该写成多进程 </b>\n",
    "<br>\n",
    "python的try怎么写更规范\n",
    "</div>"
   ]
  },
  {
   "cell_type": "code",
   "execution_count": 132,
   "metadata": {},
   "outputs": [],
   "source": [
    "for TMidx in range(TMnum):\n",
    "    saveFlows(TMidx,TMbegin,df_flow,df_flowNum)"
   ]
  },
  {
   "cell_type": "markdown",
   "metadata": {},
   "source": [
    "---"
   ]
  },
  {
   "cell_type": "markdown",
   "metadata": {},
   "source": [
    "# 根据TM构造流量"
   ]
  }
 ],
 "metadata": {
  "kernelspec": {
   "display_name": "Python 3",
   "language": "python",
   "name": "python3"
  },
  "language_info": {
   "codemirror_mode": {
    "name": "ipython",
    "version": 3
   },
   "file_extension": ".py",
   "mimetype": "text/x-python",
   "name": "python",
   "nbconvert_exporter": "python",
   "pygments_lexer": "ipython3",
   "version": "3.6.10"
  }
 },
 "nbformat": 4,
 "nbformat_minor": 4
}
