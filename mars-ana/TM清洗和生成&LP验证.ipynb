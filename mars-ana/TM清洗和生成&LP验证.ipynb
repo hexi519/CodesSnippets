{
 "cells": [
  {
   "cell_type": "code",
   "execution_count": 62,
   "id": "dirty-volunteer",
   "metadata": {},
   "outputs": [
    {
     "name": "stdout",
     "output_type": "stream",
     "text": [
      "Populating the interactive namespace from numpy and matplotlib\n"
     ]
    }
   ],
   "source": [
    "from __future__ import print_function\n",
    "from IPython.core.interactiveshell import InteractiveShell\n",
    "# InteractiveShell.ast_node_interactivity='all'\n",
    "InteractiveShell.ast_node_interactivity='last_expr'\n",
    "\n",
    "from matplotlib import pyplot as plt\n",
    "plt.style.use(['science','no-latex','grid','high-contrast','notebook']) # high-contrast指的是配色的选取\n",
    "%pylab inline\n",
    "\n",
    "# %load_ext autoreload/\n",
    "# %autoreload 2\n",
    "import numpy as np\n",
    "import pandas as pd \n",
    "pd.options.display.max_rows=10  # 设置dataframe最多的显示行数\n",
    "import os\n",
    "from os import path as osp\n",
    "import sys\n",
    "if os.getcwd() not in sys.path:\n",
    "    sys.path.append(os.getcwd())\n",
    "    print(f\"After inserting, sys.path is {sys.path}\")"
   ]
  },
  {
   "cell_type": "markdown",
   "id": "promising-pledge",
   "metadata": {},
   "source": [
    "<div class=\"alert alert-block alert-info\">\n",
    "<b> 数据默认存储位置在g2\n",
    "</b> \n",
    "</div>"
   ]
  },
  {
   "cell_type": "markdown",
   "id": "radical-explosion",
   "metadata": {},
   "source": [
    "# LP结果验证"
   ]
  },
  {
   "cell_type": "markdown",
   "id": "serious-destruction",
   "metadata": {},
   "source": [
    "<div class=\"alert alert-block alert-info\">\n",
    "<b>ospf，alt-path，seer <br>\n",
    "未缩放\n",
    "</b> \n",
    "</div>"
   ]
  },
  {
   "cell_type": "code",
   "execution_count": 21,
   "id": "metallic-professional",
   "metadata": {},
   "outputs": [
    {
     "data": {
      "text/html": [
       "<div>\n",
       "<style scoped>\n",
       "    .dataframe tbody tr th:only-of-type {\n",
       "        vertical-align: middle;\n",
       "    }\n",
       "\n",
       "    .dataframe tbody tr th {\n",
       "        vertical-align: top;\n",
       "    }\n",
       "\n",
       "    .dataframe thead th {\n",
       "        text-align: right;\n",
       "    }\n",
       "</style>\n",
       "<table border=\"1\" class=\"dataframe\">\n",
       "  <thead>\n",
       "    <tr style=\"text-align: right;\">\n",
       "      <th></th>\n",
       "      <th>0</th>\n",
       "      <th>1</th>\n",
       "      <th>2</th>\n",
       "      <th>3</th>\n",
       "      <th>4</th>\n",
       "      <th>5</th>\n",
       "      <th>6</th>\n",
       "      <th>7</th>\n",
       "      <th>8</th>\n",
       "      <th>9</th>\n",
       "      <th>...</th>\n",
       "      <th>134</th>\n",
       "      <th>135</th>\n",
       "      <th>136</th>\n",
       "      <th>137</th>\n",
       "      <th>138</th>\n",
       "      <th>139</th>\n",
       "      <th>140</th>\n",
       "      <th>141</th>\n",
       "      <th>142</th>\n",
       "      <th>143</th>\n",
       "    </tr>\n",
       "  </thead>\n",
       "  <tbody>\n",
       "    <tr>\n",
       "      <th>0</th>\n",
       "      <td>0.026667</td>\n",
       "      <td>0.522208</td>\n",
       "      <td>1.641339</td>\n",
       "      <td>0.335728</td>\n",
       "      <td>0.413032</td>\n",
       "      <td>0.489875</td>\n",
       "      <td>0.365077</td>\n",
       "      <td>0.817869</td>\n",
       "      <td>0.452061</td>\n",
       "      <td>0.747405</td>\n",
       "      <td>...</td>\n",
       "      <td>66.541197</td>\n",
       "      <td>36.063421</td>\n",
       "      <td>15.439312</td>\n",
       "      <td>62.781813</td>\n",
       "      <td>32.642733</td>\n",
       "      <td>91.675627</td>\n",
       "      <td>133.661405</td>\n",
       "      <td>1.980576</td>\n",
       "      <td>29.760203</td>\n",
       "      <td>187.653483</td>\n",
       "    </tr>\n",
       "    <tr>\n",
       "      <th>1</th>\n",
       "      <td>0.026667</td>\n",
       "      <td>0.465701</td>\n",
       "      <td>0.868099</td>\n",
       "      <td>0.148347</td>\n",
       "      <td>0.398701</td>\n",
       "      <td>1.821269</td>\n",
       "      <td>0.402144</td>\n",
       "      <td>1.090848</td>\n",
       "      <td>0.585203</td>\n",
       "      <td>0.000000</td>\n",
       "      <td>...</td>\n",
       "      <td>62.246088</td>\n",
       "      <td>34.109811</td>\n",
       "      <td>15.664965</td>\n",
       "      <td>56.823611</td>\n",
       "      <td>24.912211</td>\n",
       "      <td>100.567461</td>\n",
       "      <td>137.277728</td>\n",
       "      <td>4.411589</td>\n",
       "      <td>30.667267</td>\n",
       "      <td>190.925981</td>\n",
       "    </tr>\n",
       "    <tr>\n",
       "      <th>2</th>\n",
       "      <td>0.053333</td>\n",
       "      <td>0.375261</td>\n",
       "      <td>1.082379</td>\n",
       "      <td>0.276136</td>\n",
       "      <td>0.453427</td>\n",
       "      <td>1.703384</td>\n",
       "      <td>0.407152</td>\n",
       "      <td>0.403664</td>\n",
       "      <td>0.853005</td>\n",
       "      <td>0.119803</td>\n",
       "      <td>...</td>\n",
       "      <td>70.181931</td>\n",
       "      <td>29.905896</td>\n",
       "      <td>19.918581</td>\n",
       "      <td>58.658568</td>\n",
       "      <td>19.036715</td>\n",
       "      <td>92.415480</td>\n",
       "      <td>153.845555</td>\n",
       "      <td>5.300653</td>\n",
       "      <td>39.990880</td>\n",
       "      <td>218.742773</td>\n",
       "    </tr>\n",
       "    <tr>\n",
       "      <th>3</th>\n",
       "      <td>0.067275</td>\n",
       "      <td>0.498360</td>\n",
       "      <td>1.332205</td>\n",
       "      <td>0.121269</td>\n",
       "      <td>0.425168</td>\n",
       "      <td>0.794472</td>\n",
       "      <td>0.506747</td>\n",
       "      <td>0.142328</td>\n",
       "      <td>0.818728</td>\n",
       "      <td>0.168928</td>\n",
       "      <td>...</td>\n",
       "      <td>74.490416</td>\n",
       "      <td>44.822789</td>\n",
       "      <td>16.250043</td>\n",
       "      <td>50.589923</td>\n",
       "      <td>18.758725</td>\n",
       "      <td>97.793093</td>\n",
       "      <td>159.339533</td>\n",
       "      <td>4.490272</td>\n",
       "      <td>38.331688</td>\n",
       "      <td>265.665077</td>\n",
       "    </tr>\n",
       "    <tr>\n",
       "      <th>4</th>\n",
       "      <td>0.026667</td>\n",
       "      <td>0.723963</td>\n",
       "      <td>1.428480</td>\n",
       "      <td>0.165939</td>\n",
       "      <td>0.459965</td>\n",
       "      <td>0.403757</td>\n",
       "      <td>0.303256</td>\n",
       "      <td>0.257877</td>\n",
       "      <td>0.848208</td>\n",
       "      <td>0.073773</td>\n",
       "      <td>...</td>\n",
       "      <td>69.881267</td>\n",
       "      <td>44.536856</td>\n",
       "      <td>18.448840</td>\n",
       "      <td>51.095165</td>\n",
       "      <td>18.614133</td>\n",
       "      <td>93.446560</td>\n",
       "      <td>151.623424</td>\n",
       "      <td>3.487808</td>\n",
       "      <td>43.462373</td>\n",
       "      <td>210.540787</td>\n",
       "    </tr>\n",
       "  </tbody>\n",
       "</table>\n",
       "<p>5 rows × 144 columns</p>\n",
       "</div>"
      ],
      "text/plain": [
       "        0         1         2         3         4         5         6    \\\n",
       "0  0.026667  0.522208  1.641339  0.335728  0.413032  0.489875  0.365077   \n",
       "1  0.026667  0.465701  0.868099  0.148347  0.398701  1.821269  0.402144   \n",
       "2  0.053333  0.375261  1.082379  0.276136  0.453427  1.703384  0.407152   \n",
       "3  0.067275  0.498360  1.332205  0.121269  0.425168  0.794472  0.506747   \n",
       "4  0.026667  0.723963  1.428480  0.165939  0.459965  0.403757  0.303256   \n",
       "\n",
       "        7         8         9    ...        134        135        136  \\\n",
       "0  0.817869  0.452061  0.747405  ...  66.541197  36.063421  15.439312   \n",
       "1  1.090848  0.585203  0.000000  ...  62.246088  34.109811  15.664965   \n",
       "2  0.403664  0.853005  0.119803  ...  70.181931  29.905896  19.918581   \n",
       "3  0.142328  0.818728  0.168928  ...  74.490416  44.822789  16.250043   \n",
       "4  0.257877  0.848208  0.073773  ...  69.881267  44.536856  18.448840   \n",
       "\n",
       "         137        138         139         140       141        142  \\\n",
       "0  62.781813  32.642733   91.675627  133.661405  1.980576  29.760203   \n",
       "1  56.823611  24.912211  100.567461  137.277728  4.411589  30.667267   \n",
       "2  58.658568  19.036715   92.415480  153.845555  5.300653  39.990880   \n",
       "3  50.589923  18.758725   97.793093  159.339533  4.490272  38.331688   \n",
       "4  51.095165  18.614133   93.446560  151.623424  3.487808  43.462373   \n",
       "\n",
       "          143  \n",
       "0  187.653483  \n",
       "1  190.925981  \n",
       "2  218.742773  \n",
       "3  265.665077  \n",
       "4  210.540787  \n",
       "\n",
       "[5 rows x 144 columns]"
      ]
     },
     "execution_count": 21,
     "metadata": {},
     "output_type": "execute_result"
    }
   ],
   "source": [
    "tms_abi = pd.read_csv(\"/home/hesy/projects/genflow/abi-6k-Mpbs.csv\",header =None)\n",
    "tms_abi.head()\n",
    "tms_abi.shape"
   ]
  },
  {
   "cell_type": "code",
   "execution_count": 87,
   "id": "polished-elements",
   "metadata": {},
   "outputs": [
    {
     "data": {
      "text/html": [
       "<div>\n",
       "<style scoped>\n",
       "    .dataframe tbody tr th:only-of-type {\n",
       "        vertical-align: middle;\n",
       "    }\n",
       "\n",
       "    .dataframe tbody tr th {\n",
       "        vertical-align: top;\n",
       "    }\n",
       "\n",
       "    .dataframe thead th {\n",
       "        text-align: right;\n",
       "    }\n",
       "</style>\n",
       "<table border=\"1\" class=\"dataframe\">\n",
       "  <thead>\n",
       "    <tr style=\"text-align: right;\">\n",
       "      <th></th>\n",
       "      <th>0</th>\n",
       "      <th>1</th>\n",
       "      <th>2</th>\n",
       "      <th>3</th>\n",
       "      <th>4</th>\n",
       "      <th>5</th>\n",
       "      <th>6</th>\n",
       "      <th>7</th>\n",
       "      <th>8</th>\n",
       "      <th>9</th>\n",
       "      <th>...</th>\n",
       "      <th>122</th>\n",
       "      <th>123</th>\n",
       "      <th>124</th>\n",
       "      <th>125</th>\n",
       "      <th>126</th>\n",
       "      <th>127</th>\n",
       "      <th>128</th>\n",
       "      <th>129</th>\n",
       "      <th>130</th>\n",
       "      <th>131</th>\n",
       "    </tr>\n",
       "  </thead>\n",
       "  <tbody>\n",
       "    <tr>\n",
       "      <th>0</th>\n",
       "      <td>0.522208</td>\n",
       "      <td>1.641339</td>\n",
       "      <td>0.335728</td>\n",
       "      <td>0.413032</td>\n",
       "      <td>0.489875</td>\n",
       "      <td>0.365077</td>\n",
       "      <td>0.817869</td>\n",
       "      <td>0.452061</td>\n",
       "      <td>0.747405</td>\n",
       "      <td>0.388317</td>\n",
       "      <td>...</td>\n",
       "      <td>125.937728</td>\n",
       "      <td>66.541197</td>\n",
       "      <td>36.063421</td>\n",
       "      <td>15.439312</td>\n",
       "      <td>62.781813</td>\n",
       "      <td>32.642733</td>\n",
       "      <td>91.675627</td>\n",
       "      <td>133.661405</td>\n",
       "      <td>1.980576</td>\n",
       "      <td>29.760203</td>\n",
       "    </tr>\n",
       "    <tr>\n",
       "      <th>1</th>\n",
       "      <td>0.465701</td>\n",
       "      <td>0.868099</td>\n",
       "      <td>0.148347</td>\n",
       "      <td>0.398701</td>\n",
       "      <td>1.821269</td>\n",
       "      <td>0.402144</td>\n",
       "      <td>1.090848</td>\n",
       "      <td>0.585203</td>\n",
       "      <td>0.000000</td>\n",
       "      <td>0.680696</td>\n",
       "      <td>...</td>\n",
       "      <td>146.998333</td>\n",
       "      <td>62.246088</td>\n",
       "      <td>34.109811</td>\n",
       "      <td>15.664965</td>\n",
       "      <td>56.823611</td>\n",
       "      <td>24.912211</td>\n",
       "      <td>100.567461</td>\n",
       "      <td>137.277728</td>\n",
       "      <td>4.411589</td>\n",
       "      <td>30.667267</td>\n",
       "    </tr>\n",
       "    <tr>\n",
       "      <th>2</th>\n",
       "      <td>0.375261</td>\n",
       "      <td>1.082379</td>\n",
       "      <td>0.276136</td>\n",
       "      <td>0.453427</td>\n",
       "      <td>1.703384</td>\n",
       "      <td>0.407152</td>\n",
       "      <td>0.403664</td>\n",
       "      <td>0.853005</td>\n",
       "      <td>0.119803</td>\n",
       "      <td>0.436928</td>\n",
       "      <td>...</td>\n",
       "      <td>132.247843</td>\n",
       "      <td>70.181931</td>\n",
       "      <td>29.905896</td>\n",
       "      <td>19.918581</td>\n",
       "      <td>58.658568</td>\n",
       "      <td>19.036715</td>\n",
       "      <td>92.415480</td>\n",
       "      <td>153.845555</td>\n",
       "      <td>5.300653</td>\n",
       "      <td>39.990880</td>\n",
       "    </tr>\n",
       "    <tr>\n",
       "      <th>3</th>\n",
       "      <td>0.498360</td>\n",
       "      <td>1.332205</td>\n",
       "      <td>0.121269</td>\n",
       "      <td>0.425168</td>\n",
       "      <td>0.794472</td>\n",
       "      <td>0.506747</td>\n",
       "      <td>0.142328</td>\n",
       "      <td>0.818728</td>\n",
       "      <td>0.168928</td>\n",
       "      <td>0.171541</td>\n",
       "      <td>...</td>\n",
       "      <td>120.693360</td>\n",
       "      <td>74.490416</td>\n",
       "      <td>44.822789</td>\n",
       "      <td>16.250043</td>\n",
       "      <td>50.589923</td>\n",
       "      <td>18.758725</td>\n",
       "      <td>97.793093</td>\n",
       "      <td>159.339533</td>\n",
       "      <td>4.490272</td>\n",
       "      <td>38.331688</td>\n",
       "    </tr>\n",
       "    <tr>\n",
       "      <th>4</th>\n",
       "      <td>0.723963</td>\n",
       "      <td>1.428480</td>\n",
       "      <td>0.165939</td>\n",
       "      <td>0.459965</td>\n",
       "      <td>0.403757</td>\n",
       "      <td>0.303256</td>\n",
       "      <td>0.257877</td>\n",
       "      <td>0.848208</td>\n",
       "      <td>0.073773</td>\n",
       "      <td>0.359965</td>\n",
       "      <td>...</td>\n",
       "      <td>138.325472</td>\n",
       "      <td>69.881267</td>\n",
       "      <td>44.536856</td>\n",
       "      <td>18.448840</td>\n",
       "      <td>51.095165</td>\n",
       "      <td>18.614133</td>\n",
       "      <td>93.446560</td>\n",
       "      <td>151.623424</td>\n",
       "      <td>3.487808</td>\n",
       "      <td>43.462373</td>\n",
       "    </tr>\n",
       "  </tbody>\n",
       "</table>\n",
       "<p>5 rows × 132 columns</p>\n",
       "</div>"
      ],
      "text/plain": [
       "        0         1         2         3         4         5         6    \\\n",
       "0  0.522208  1.641339  0.335728  0.413032  0.489875  0.365077  0.817869   \n",
       "1  0.465701  0.868099  0.148347  0.398701  1.821269  0.402144  1.090848   \n",
       "2  0.375261  1.082379  0.276136  0.453427  1.703384  0.407152  0.403664   \n",
       "3  0.498360  1.332205  0.121269  0.425168  0.794472  0.506747  0.142328   \n",
       "4  0.723963  1.428480  0.165939  0.459965  0.403757  0.303256  0.257877   \n",
       "\n",
       "        7         8         9    ...         122        123        124  \\\n",
       "0  0.452061  0.747405  0.388317  ...  125.937728  66.541197  36.063421   \n",
       "1  0.585203  0.000000  0.680696  ...  146.998333  62.246088  34.109811   \n",
       "2  0.853005  0.119803  0.436928  ...  132.247843  70.181931  29.905896   \n",
       "3  0.818728  0.168928  0.171541  ...  120.693360  74.490416  44.822789   \n",
       "4  0.848208  0.073773  0.359965  ...  138.325472  69.881267  44.536856   \n",
       "\n",
       "         125        126        127         128         129       130  \\\n",
       "0  15.439312  62.781813  32.642733   91.675627  133.661405  1.980576   \n",
       "1  15.664965  56.823611  24.912211  100.567461  137.277728  4.411589   \n",
       "2  19.918581  58.658568  19.036715   92.415480  153.845555  5.300653   \n",
       "3  16.250043  50.589923  18.758725   97.793093  159.339533  4.490272   \n",
       "4  18.448840  51.095165  18.614133   93.446560  151.623424  3.487808   \n",
       "\n",
       "         131  \n",
       "0  29.760203  \n",
       "1  30.667267  \n",
       "2  39.990880  \n",
       "3  38.331688  \n",
       "4  43.462373  \n",
       "\n",
       "[5 rows x 132 columns]"
      ]
     },
     "execution_count": 87,
     "metadata": {},
     "output_type": "execute_result"
    }
   ],
   "source": [
    "abi_132= pd.read_csv('../genflow/abi-6k-Mbps-132.csv',header=None,)\n",
    "abi_132.head()\n",
    "abi.shape"
   ]
  },
  {
   "cell_type": "markdown",
   "id": "atmospheric-breed",
   "metadata": {},
   "source": [
    "## gea"
   ]
  },
  {
   "cell_type": "code",
   "execution_count": 35,
   "id": "floating-southwest",
   "metadata": {},
   "outputs": [],
   "source": [
    "ppath=\"/home/hesy/projects/g8guifei/wzy/hesy_sum/output/GEA\""
   ]
  },
  {
   "cell_type": "code",
   "execution_count": 36,
   "id": "ranging-dance",
   "metadata": {},
   "outputs": [],
   "source": [
    "gea_shr,gea_ap,gea_se = np.loadtxt( osp.join(ppath,'shr_9988.txt') ),np.loadtxt( osp.join(ppath,'ap_9988.txt') ),np.loadtxt( osp.join(ppath,'se_9988.txt') )"
   ]
  },
  {
   "cell_type": "code",
   "execution_count": 65,
   "id": "collectible-director",
   "metadata": {},
   "outputs": [
    {
     "data": {
      "text/plain": [
       "Text(0.5, 1.0, 'GEA')"
      ]
     },
     "execution_count": 65,
     "metadata": {},
     "output_type": "execute_result"
    },
    {
     "data": {
      "image/png": "[encoded data removed]",
      "text/plain": [
       "<Figure size 432x288 with 1 Axes>"
      ]
     },
     "metadata": {
      "needs_background": "light"
     },
     "output_type": "display_data"
    }
   ],
   "source": [
    "plt.plot(range(len(gea_shr)),gea_shr)\n",
    "plt.plot(range(len(gea_ap)),gea_ap)\n",
    "plt.plot(range(len(gea_se)),gea_se)\n",
    "\n",
    "plt.legend(['shr','ap','se'])\n",
    "plt.title('GEA')"
   ]
  },
  {
   "cell_type": "code",
   "execution_count": 50,
   "id": "known-oriental",
   "metadata": {},
   "outputs": [],
   "source": [
    "cpm = pd.DataFrame([gea_shr,gea_ap,gea_se]).transpose()\n",
    "cpm.columns=[ 'shr','ap','se' ]\n",
    "cpm_desc=cpm.describe()"
   ]
  },
  {
   "cell_type": "code",
   "execution_count": 66,
   "id": "filled-measurement",
   "metadata": {},
   "outputs": [
    {
     "data": {
      "image/png": "[encoded data removed]",
      "text/plain": [
       "<Figure size 576x432 with 1 Axes>"
      ]
     },
     "metadata": {
      "needs_background": "light"
     },
     "output_type": "display_data"
    }
   ],
   "source": [
    "with plt.style.context(['science', 'no-latex','grid','notebook']):\n",
    "    plt.plot(cpm_desc.loc['mean'],label='mean')\n",
    "    plt.plot(cpm_desc.loc['50%'],label='50%')\n",
    "    plt.plot(cpm_desc.loc['75%'],label='75%')\n",
    "    plt.plot(cpm_desc.loc['max'],label='max')\n",
    "    plt.legend()\n",
    "    plt.title('GEA')"
   ]
  },
  {
   "cell_type": "markdown",
   "id": "monthly-montana",
   "metadata": {},
   "source": [
    "## abi"
   ]
  },
  {
   "cell_type": "code",
   "execution_count": 67,
   "id": "super-performer",
   "metadata": {},
   "outputs": [],
   "source": [
    "ppath=\"/home/hesy/projects/g8guifei/wzy/hesy_sum/output/Abi\""
   ]
  },
  {
   "cell_type": "code",
   "execution_count": 90,
   "id": "otherwise-coverage",
   "metadata": {},
   "outputs": [],
   "source": [
    "abi_shr,abi_ap,abi_se = np.loadtxt( osp.join(ppath,'shr_6k.txt') ),np.loadtxt( osp.join(ppath,'ap_6k.txt') ),np.loadtxt( osp.join(ppath,'se_6k.txt') )"
   ]
  },
  {
   "cell_type": "code",
   "execution_count": 69,
   "id": "compound-store",
   "metadata": {},
   "outputs": [
    {
     "data": {
      "text/plain": [
       "<matplotlib.legend.Legend at 0x7f493b781c50>"
      ]
     },
     "execution_count": 69,
     "metadata": {},
     "output_type": "execute_result"
    },
    {
     "data": {
      "image/png": "[encoded data removed]",
      "text/plain": [
       "<Figure size 432x288 with 1 Axes>"
      ]
     },
     "metadata": {
      "needs_background": "light"
     },
     "output_type": "display_data"
    }
   ],
   "source": [
    "plt.plot(range(len(abi_shr)),abi_shr)\n",
    "plt.plot(range(len(abi_ap)),abi_ap)\n",
    "plt.plot(range(len(abi_se)),abi_se)\n",
    "\n",
    "plt.title('Abi')\n",
    "plt.legend(['shr','ap','se'])"
   ]
  },
  {
   "cell_type": "code",
   "execution_count": 70,
   "id": "marked-summit",
   "metadata": {},
   "outputs": [],
   "source": [
    "cpm = pd.DataFrame([gea_shr,gea_ap,gea_se]).transpose()\n",
    "cpm.columns=[ 'shr','ap','se' ]\n",
    "cpm_desc=cpm.describe()"
   ]
  },
  {
   "cell_type": "code",
   "execution_count": 71,
   "id": "stupid-edward",
   "metadata": {},
   "outputs": [
    {
     "data": {
      "image/png": "[encoded data removed]",
      "text/plain": [
       "<Figure size 576x432 with 1 Axes>"
      ]
     },
     "metadata": {
      "needs_background": "light"
     },
     "output_type": "display_data"
    }
   ],
   "source": [
    "with plt.style.context(['science', 'no-latex','grid','notebook']):\n",
    "    plt.plot(cpm_desc.loc['mean'],label='mean')\n",
    "    plt.plot(cpm_desc.loc['50%'],label='50%')\n",
    "    plt.plot(cpm_desc.loc['75%'],label='75%')\n",
    "    plt.plot(cpm_desc.loc['max'],label='max')\n",
    "    plt.legend()\n",
    "    plt.title('Abi')"
   ]
  },
  {
   "cell_type": "markdown",
   "id": "civil-french",
   "metadata": {},
   "source": [
    "## 结论"
   ]
  },
  {
   "cell_type": "markdown",
   "id": "friendly-provincial",
   "metadata": {},
   "source": [
    "### LP结果正确性验证"
   ]
  },
  {
   "cell_type": "markdown",
   "id": "developing-neighborhood",
   "metadata": {},
   "source": [
    "<div class=\"alert alert-block alert-info\">\n",
    "<b>ospf得到的结果确实比ap和se要差，且ap和se看起来差不多，但是看describes数据，整体性能是差很多的\n",
    "</b> \n",
    "</div>"
   ]
  },
  {
   "cell_type": "markdown",
   "id": "wicked-engineering",
   "metadata": {},
   "source": [
    "### 缩放比"
   ]
  },
  {
   "cell_type": "markdown",
   "id": "extraordinary-fountain",
   "metadata": {},
   "source": [
    "#### gea"
   ]
  },
  {
   "cell_type": "code",
   "execution_count": 98,
   "id": "limiting-correspondence",
   "metadata": {},
   "outputs": [
    {
     "data": {
      "text/plain": [
       "Text(0.5, 1.0, 'GEA_scale100')"
      ]
     },
     "execution_count": 98,
     "metadata": {},
     "output_type": "execute_result"
    },
    {
     "data": {
      "image/png": "[encoded data removed]",
      "text/plain": [
       "<Figure size 432x288 with 1 Axes>"
      ]
     },
     "metadata": {
      "needs_background": "light"
     },
     "output_type": "display_data"
    }
   ],
   "source": [
    "topo=\"GEA\"\n",
    "scale =100\n",
    "plt.plot(range(len(gea_shr)),gea_shr*scale)\n",
    "plt.plot(range(len(gea_se)),gea_se*scale)\n",
    "plt.legend( [ 'shr','se' ] )\n",
    "plt.title(f\"{topo}_scale{scale}\")"
   ]
  },
  {
   "cell_type": "code",
   "execution_count": 99,
   "id": "skilled-seven",
   "metadata": {},
   "outputs": [
    {
     "data": {
      "text/plain": [
       "Text(0.5, 1.0, 'GEA_scale80')"
      ]
     },
     "execution_count": 99,
     "metadata": {},
     "output_type": "execute_result"
    },
    {
     "data": {
      "image/png": "[encoded data removed]",
      "text/plain": [
       "<Figure size 432x288 with 1 Axes>"
      ]
     },
     "metadata": {
      "needs_background": "light"
     },
     "output_type": "display_data"
    }
   ],
   "source": [
    "topo=\"GEA\"\n",
    "scale =80\n",
    "plt.plot(range(len(gea_shr)),gea_shr*scale)\n",
    "plt.plot(range(len(gea_se)),gea_se*scale)\n",
    "plt.legend( [ 'shr','se' ] )\n",
    "plt.title(f\"{topo}_scale{scale}\")"
   ]
  },
  {
   "cell_type": "markdown",
   "id": "adjacent-biodiversity",
   "metadata": {},
   "source": [
    "<div class=\"alert alert-block alert-info\">\n",
    "在shr流量情况下，gea其实放大100倍，优化空间还是很高\n",
    "<b> 所以确定为放大100倍\n",
    "</b> \n",
    "   \n",
    "</div>"
   ]
  },
  {
   "cell_type": "markdown",
   "id": "expensive-classroom",
   "metadata": {},
   "source": [
    "#### abi"
   ]
  },
  {
   "cell_type": "code",
   "execution_count": 109,
   "id": "ultimate-switzerland",
   "metadata": {},
   "outputs": [
    {
     "data": {
      "text/plain": [
       "(0.0, 2.0)"
      ]
     },
     "execution_count": 109,
     "metadata": {},
     "output_type": "execute_result"
    },
    {
     "data": {
      "image/png": "[encoded data removed]",
      "text/plain": [
       "<Figure size 432x288 with 1 Axes>"
      ]
     },
     "metadata": {
      "needs_background": "light"
     },
     "output_type": "display_data"
    }
   ],
   "source": [
    "topo=\"Abi\"\n",
    "scale =4\n",
    "plt.plot(range(len(abi_shr)),abi_shr*scale)\n",
    "plt.plot(range(len(abi_se)),abi_se*scale)\n",
    "plt.legend( [ 'shr','se' ] )\n",
    "plt.title(f\"{topo}_scale{scale}\")\n",
    "plt.ylim([0,2])"
   ]
  },
  {
   "cell_type": "code",
   "execution_count": 112,
   "id": "informed-public",
   "metadata": {},
   "outputs": [
    {
     "data": {
      "text/plain": [
       "(0.0, 2.0)"
      ]
     },
     "execution_count": 112,
     "metadata": {},
     "output_type": "execute_result"
    },
    {
     "data": {
      "image/png": "[encoded data removed]",
      "text/plain": [
       "<Figure size 432x288 with 1 Axes>"
      ]
     },
     "metadata": {
      "needs_background": "light"
     },
     "output_type": "display_data"
    }
   ],
   "source": [
    "topo=\"Abi\"\n",
    "scale =6\n",
    "plt.plot(range(len(abi_shr)),abi_shr*scale)\n",
    "plt.plot(range(len(abi_se)),abi_se*scale)\n",
    "plt.legend( [ 'shr','se' ] )\n",
    "plt.title(f\"{topo}_scale{scale}\")\n",
    "plt.ylim([0,2])"
   ]
  },
  {
   "cell_type": "markdown",
   "id": "loaded-preference",
   "metadata": {},
   "source": [
    "<div class=\"alert alert-block alert-info\">\n",
    "    在shr流量情况下，<b> abi其实放大4倍就差不多了。<\\b>\n",
    "    <br>\n",
    "    另一方面，要注意，<b>取前4k个数据差不多了，接近6k的数据似乎有点问题</b> \n",
    "</div>"
   ]
  },
  {
   "cell_type": "markdown",
   "id": "numerous-portfolio",
   "metadata": {},
   "source": [
    "---"
   ]
  },
  {
   "cell_type": "markdown",
   "id": "lonely-chain",
   "metadata": {},
   "source": [
    "# TM数据(GEANT)"
   ]
  },
  {
   "cell_type": "markdown",
   "id": "informational-conversation",
   "metadata": {},
   "source": [
    "## 分析"
   ]
  },
  {
   "cell_type": "code",
   "execution_count": 5,
   "id": "normal-garlic",
   "metadata": {},
   "outputs": [
    {
     "name": "stdout",
     "output_type": "stream",
     "text": [
      "des.shape is (8, 9988)\n",
      "tms.shape is (9988, 529)\n"
     ]
    },
    {
     "data": {
      "text/html": [
       "<div>\n",
       "<style scoped>\n",
       "    .dataframe tbody tr th:only-of-type {\n",
       "        vertical-align: middle;\n",
       "    }\n",
       "\n",
       "    .dataframe tbody tr th {\n",
       "        vertical-align: top;\n",
       "    }\n",
       "\n",
       "    .dataframe thead th {\n",
       "        text-align: right;\n",
       "    }\n",
       "</style>\n",
       "<table border=\"1\" class=\"dataframe\">\n",
       "  <thead>\n",
       "    <tr style=\"text-align: right;\">\n",
       "      <th></th>\n",
       "      <th>0</th>\n",
       "      <th>1</th>\n",
       "      <th>2</th>\n",
       "      <th>3</th>\n",
       "      <th>4</th>\n",
       "      <th>5</th>\n",
       "      <th>6</th>\n",
       "      <th>7</th>\n",
       "      <th>8</th>\n",
       "      <th>9</th>\n",
       "      <th>...</th>\n",
       "      <th>519</th>\n",
       "      <th>520</th>\n",
       "      <th>521</th>\n",
       "      <th>522</th>\n",
       "      <th>523</th>\n",
       "      <th>524</th>\n",
       "      <th>525</th>\n",
       "      <th>526</th>\n",
       "      <th>527</th>\n",
       "      <th>528</th>\n",
       "    </tr>\n",
       "  </thead>\n",
       "  <tbody>\n",
       "    <tr>\n",
       "      <th>0</th>\n",
       "      <td>0.000619</td>\n",
       "      <td>0.179845</td>\n",
       "      <td>1.092293</td>\n",
       "      <td>0.225766</td>\n",
       "      <td>2.890328</td>\n",
       "      <td>0.115929</td>\n",
       "      <td>0.149449</td>\n",
       "      <td>1.662423</td>\n",
       "      <td>3.249104</td>\n",
       "      <td>0.0</td>\n",
       "      <td>...</td>\n",
       "      <td>0.000116</td>\n",
       "      <td>0.003495</td>\n",
       "      <td>0.001855</td>\n",
       "      <td>0.023599</td>\n",
       "      <td>0.003970</td>\n",
       "      <td>0.001099</td>\n",
       "      <td>0.019200</td>\n",
       "      <td>0.014409</td>\n",
       "      <td>0.004897</td>\n",
       "      <td>0.0</td>\n",
       "    </tr>\n",
       "    <tr>\n",
       "      <th>1</th>\n",
       "      <td>0.000776</td>\n",
       "      <td>0.119931</td>\n",
       "      <td>0.822905</td>\n",
       "      <td>0.220074</td>\n",
       "      <td>2.608241</td>\n",
       "      <td>0.092302</td>\n",
       "      <td>0.147640</td>\n",
       "      <td>1.496076</td>\n",
       "      <td>3.010443</td>\n",
       "      <td>0.0</td>\n",
       "      <td>...</td>\n",
       "      <td>0.000122</td>\n",
       "      <td>0.000561</td>\n",
       "      <td>0.006485</td>\n",
       "      <td>0.018455</td>\n",
       "      <td>0.001282</td>\n",
       "      <td>0.002537</td>\n",
       "      <td>0.000833</td>\n",
       "      <td>0.009887</td>\n",
       "      <td>0.003832</td>\n",
       "      <td>0.0</td>\n",
       "    </tr>\n",
       "    <tr>\n",
       "      <th>2</th>\n",
       "      <td>0.000809</td>\n",
       "      <td>0.080779</td>\n",
       "      <td>0.810575</td>\n",
       "      <td>0.199942</td>\n",
       "      <td>2.543415</td>\n",
       "      <td>0.100608</td>\n",
       "      <td>0.123332</td>\n",
       "      <td>1.550540</td>\n",
       "      <td>3.084200</td>\n",
       "      <td>0.0</td>\n",
       "      <td>...</td>\n",
       "      <td>0.000682</td>\n",
       "      <td>0.000246</td>\n",
       "      <td>0.002363</td>\n",
       "      <td>0.026669</td>\n",
       "      <td>0.004361</td>\n",
       "      <td>0.001213</td>\n",
       "      <td>0.000334</td>\n",
       "      <td>0.015791</td>\n",
       "      <td>0.001616</td>\n",
       "      <td>0.0</td>\n",
       "    </tr>\n",
       "    <tr>\n",
       "      <th>3</th>\n",
       "      <td>0.000550</td>\n",
       "      <td>0.072630</td>\n",
       "      <td>0.787669</td>\n",
       "      <td>0.189035</td>\n",
       "      <td>2.606974</td>\n",
       "      <td>0.093107</td>\n",
       "      <td>0.079639</td>\n",
       "      <td>1.527909</td>\n",
       "      <td>3.053899</td>\n",
       "      <td>0.0</td>\n",
       "      <td>...</td>\n",
       "      <td>0.000003</td>\n",
       "      <td>0.004850</td>\n",
       "      <td>0.000371</td>\n",
       "      <td>0.029072</td>\n",
       "      <td>0.006354</td>\n",
       "      <td>0.000719</td>\n",
       "      <td>0.016797</td>\n",
       "      <td>0.007489</td>\n",
       "      <td>0.001717</td>\n",
       "      <td>0.0</td>\n",
       "    </tr>\n",
       "    <tr>\n",
       "      <th>4</th>\n",
       "      <td>0.000625</td>\n",
       "      <td>0.094076</td>\n",
       "      <td>0.530138</td>\n",
       "      <td>0.246777</td>\n",
       "      <td>2.644017</td>\n",
       "      <td>0.082445</td>\n",
       "      <td>0.069661</td>\n",
       "      <td>1.549725</td>\n",
       "      <td>2.996552</td>\n",
       "      <td>0.0</td>\n",
       "      <td>...</td>\n",
       "      <td>0.000000</td>\n",
       "      <td>0.000600</td>\n",
       "      <td>0.000521</td>\n",
       "      <td>0.006746</td>\n",
       "      <td>0.010485</td>\n",
       "      <td>0.000696</td>\n",
       "      <td>0.001557</td>\n",
       "      <td>0.006787</td>\n",
       "      <td>0.007353</td>\n",
       "      <td>0.0</td>\n",
       "    </tr>\n",
       "  </tbody>\n",
       "</table>\n",
       "<p>5 rows × 529 columns</p>\n",
       "</div>"
      ],
      "text/plain": [
       "        0         1         2         3         4         5         6    \\\n",
       "0  0.000619  0.179845  1.092293  0.225766  2.890328  0.115929  0.149449   \n",
       "1  0.000776  0.119931  0.822905  0.220074  2.608241  0.092302  0.147640   \n",
       "2  0.000809  0.080779  0.810575  0.199942  2.543415  0.100608  0.123332   \n",
       "3  0.000550  0.072630  0.787669  0.189035  2.606974  0.093107  0.079639   \n",
       "4  0.000625  0.094076  0.530138  0.246777  2.644017  0.082445  0.069661   \n",
       "\n",
       "        7         8    9    ...       519       520       521       522  \\\n",
       "0  1.662423  3.249104  0.0  ...  0.000116  0.003495  0.001855  0.023599   \n",
       "1  1.496076  3.010443  0.0  ...  0.000122  0.000561  0.006485  0.018455   \n",
       "2  1.550540  3.084200  0.0  ...  0.000682  0.000246  0.002363  0.026669   \n",
       "3  1.527909  3.053899  0.0  ...  0.000003  0.004850  0.000371  0.029072   \n",
       "4  1.549725  2.996552  0.0  ...  0.000000  0.000600  0.000521  0.006746   \n",
       "\n",
       "        523       524       525       526       527  528  \n",
       "0  0.003970  0.001099  0.019200  0.014409  0.004897  0.0  \n",
       "1  0.001282  0.002537  0.000833  0.009887  0.003832  0.0  \n",
       "2  0.004361  0.001213  0.000334  0.015791  0.001616  0.0  \n",
       "3  0.006354  0.000719  0.016797  0.007489  0.001717  0.0  \n",
       "4  0.010485  0.000696  0.001557  0.006787  0.007353  0.0  \n",
       "\n",
       "[5 rows x 529 columns]"
      ]
     },
     "execution_count": 5,
     "metadata": {},
     "output_type": "execute_result"
    }
   ],
   "source": [
    "tms = pd.read_csv(\"/home/hesy/projects/genflow/gea-9988-Mbps.csv\",header =None)#*8/(9*10**5)# --> changes ori to Mbps\n",
    "des = tms.transpose().describe()\n",
    "print(f\"des.shape is {des.shape}\")\n",
    "print(f\"tms.shape is {tms.shape}\")\n",
    "tms.head()"
   ]
  },
  {
   "cell_type": "markdown",
   "id": "opening-uncertainty",
   "metadata": {},
   "source": [
    "## ori logic -- deprecated"
   ]
  },
  {
   "cell_type": "markdown",
   "id": "arranged-pointer",
   "metadata": {},
   "source": [
    "tms=tms.drop(5140)\n",
    "tms.index = range(10**4-1)"
   ]
  },
  {
   "cell_type": "code",
   "execution_count": 3,
   "id": "unavailable-evolution",
   "metadata": {
    "tags": []
   },
   "outputs": [],
   "source": [
    "p25,p75 = des.loc[\"25%\",:].values,des.loc[\"75%\",:].values\n",
    "mean_ = des.loc[\"mean\",:].values\n",
    "max_ = des.loc[\"max\",:].values\n",
    "data_distribs =[p25,mean_,p75,max_]\n",
    "distribs_names = [[\"p25\"],[\"mean\"],[\"p75\"],[\"max\"]]"
   ]
  },
  {
   "cell_type": "code",
   "execution_count": 35,
   "id": "upper-eleven",
   "metadata": {
    "tags": []
   },
   "outputs": [
    {
     "data": {
      "image/png": "[encoded data removed]",
      "text/plain": [
       "<Figure size 432x288 with 4 Axes>"
      ]
     },
     "metadata": {
      "needs_background": "light"
     },
     "output_type": "display_data"
    }
   ],
   "source": [
    "fig,ax=plt.subplots(2,2,sharex='col')#,linkIdx+1)#,sharex='col',sharey='row')\n",
    "plt.subplots_adjust(left=0.01,  # left，right，top 和 bottom 参数指定了子图的四个边的位置。它们是图形的宽度和高度的比例\n",
    "                    bottom=0.01, \n",
    "                    right=1, \n",
    "                    top=1, \n",
    "                    wspace=0.2, \n",
    "                    hspace=0.2)\n",
    "\n",
    "for idx, data in enumerate(data_distribs):\n",
    "#     ax[idx//2,idx%2].plot(range(5100,5200),data[5100:5200])\n",
    "    ax[idx//2,idx%2].plot(range(len(data)),data)\n",
    "    ax[idx//2,idx%2].set_ylabel(\"Mbps\")\n",
    "    ax[idx//2,idx%2].legend(distribs_names[idx])"
   ]
  },
  {
   "cell_type": "markdown",
   "id": "peaceful-announcement",
   "metadata": {},
   "source": [
    "### 寻找合适的缩放比"
   ]
  },
  {
   "cell_type": "code",
   "execution_count": 527,
   "id": "cooperative-barrier",
   "metadata": {
    "jupyter": {
     "source_hidden": true
    },
    "tags": []
   },
   "outputs": [],
   "source": [
    "pf = pd.DataFrame(np.loadtxt(\"/home/guifei/projects/g8_hesy/LP_Final/LP_output/pr_GEA_seer_trueTM3999.txt\"))\n",
    "des_pf = pf.describe()"
   ]
  },
  {
   "cell_type": "code",
   "execution_count": null,
   "id": "stable-utility",
   "metadata": {
    "jupyter": {
     "source_hidden": true
    },
    "tags": []
   },
   "outputs": [],
   "source": [
    "pf_ = pf*40\n",
    "des_pf_ = pf_.describe()\n",
    "# print(des_pf_.iloc[:,0])\n",
    "des_pf_"
   ]
  },
  {
   "cell_type": "code",
   "execution_count": 568,
   "id": "limiting-collapse",
   "metadata": {
    "collapsed": true,
    "jupyter": {
     "outputs_hidden": true,
     "source_hidden": true
    },
    "tags": []
   },
   "outputs": [
    {
     "data": {
      "text/plain": [
       "Text(0.5, 1.0, 'cdf')"
      ]
     },
     "execution_count": 568,
     "metadata": {},
     "output_type": "execute_result"
    },
    {
     "data": {
      "image/png": "[encoded data removed]",
      "text/plain": [
       "<Figure size 432x288 with 1 Axes>"
      ]
     },
     "metadata": {
      "needs_background": "light"
     },
     "output_type": "display_data"
    }
   ],
   "source": [
    "import statsmodels.api as sm\n",
    "cdf_data=[]\n",
    "\n",
    "# for idx, data in enumerate(data_distribs):\n",
    "for idx, data in enumerate(data_distribs[:-1]):  # 不要包含max ，差太多了\n",
    "    ecdf = sm.distributions.ECDF(data)\n",
    "    #等差数列，用于绘制X轴数据\n",
    "    x = np.linspace(min(data), max(data))\n",
    "    # x轴数据上值对应的累计密度概率\n",
    "    y = ecdf(x)\n",
    "#     cdf_data.append({\"x\":x,\"y\":y})\n",
    "#     plt.step(data[\"x\"],data[\"y\"])\n",
    "    plt.step(x,y)\n",
    "\n",
    "plt.legend(distribs_names)\n",
    "\n",
    "plt.xlabel(\"Mbps\")\n",
    "plt.title(\"cdf\")"
   ]
  },
  {
   "cell_type": "markdown",
   "id": "level-spoke",
   "metadata": {},
   "source": [
    "## 处理(生成flows)"
   ]
  },
  {
   "cell_type": "markdown",
   "id": "realistic-coach",
   "metadata": {},
   "source": [
    "数据文件的地址：(g14)\n",
    "\n",
    "/home/hesy/pro/g8/genflow/TmDataIn15min.txt\n",
    "\n",
    "/home/hesy/pro/g8/genflow/codes-trueTM/tencent_cdf.txt"
   ]
  },
  {
   "cell_type": "markdown",
   "id": "absent-worship",
   "metadata": {},
   "source": [
    "<div class=\"alert alert-block alert-info\">\n",
    "<b>查看腾讯数据cdf的情况</b> \n",
    "</div>"
   ]
  },
  {
   "cell_type": "code",
   "execution_count": 32,
   "id": "amateur-running",
   "metadata": {},
   "outputs": [],
   "source": [
    "cdfData_ori= np.loadtxt(\"/home/hesy/projects/genflow/codes-trueTM/tencent_cdf.txt\")"
   ]
  },
  {
   "cell_type": "markdown",
   "id": "musical-commodity",
   "metadata": {},
   "source": [
    "截去长尾，修改长尾"
   ]
  },
  {
   "cell_type": "code",
   "execution_count": 33,
   "id": "forbidden-calgary",
   "metadata": {},
   "outputs": [],
   "source": [
    "tmp = cdfData_ori[:-1]\n",
    "cdfData = np.append(tmp,[[1e+5, 1]],axis =0)"
   ]
  },
  {
   "cell_type": "code",
   "execution_count": 6,
   "id": "exciting-provincial",
   "metadata": {
    "collapsed": true,
    "jupyter": {
     "outputs_hidden": true
    },
    "tags": []
   },
   "outputs": [
    {
     "data": {
      "text/plain": [
       "(array([[0.00000000e+00, 0.00000000e+00],\n",
       "        [8.40000000e+01, 2.46714679e-01],\n",
       "        [9.00000000e+01, 3.47627520e-01],\n",
       "        [1.19000000e+02, 4.34059571e-01],\n",
       "        [1.67000000e+02, 5.42245725e-01],\n",
       "        [2.60000000e+02, 6.40284114e-01],\n",
       "        [5.48000000e+02, 7.40204331e-01],\n",
       "        [1.40400000e+03, 8.40000374e-01],\n",
       "        [1.89600000e+03, 9.40010542e-01],\n",
       "        [2.92400000e+03, 9.60006123e-01],\n",
       "        [4.43400000e+03, 9.80519907e-01],\n",
       "        [8.33700000e+03, 9.89999874e-01],\n",
       "        [1.60930000e+04, 9.94000359e-01],\n",
       "        [2.97120000e+04, 9.96009727e-01],\n",
       "        [5.80950000e+04, 9.98029633e-01],\n",
       "        [8.90470000e+04, 9.98999553e-01],\n",
       "        [1.00000000e+05, 1.00000000e+00]]),\n",
       " array([[0.00000000e+00, 0.00000000e+00],\n",
       "        [8.40000000e+01, 2.46714679e-01],\n",
       "        [9.00000000e+01, 3.47627520e-01],\n",
       "        [1.19000000e+02, 4.34059571e-01],\n",
       "        [1.67000000e+02, 5.42245725e-01],\n",
       "        [2.60000000e+02, 6.40284114e-01],\n",
       "        [5.48000000e+02, 7.40204331e-01],\n",
       "        [1.40400000e+03, 8.40000374e-01],\n",
       "        [1.89600000e+03, 9.40010542e-01],\n",
       "        [2.92400000e+03, 9.60006123e-01],\n",
       "        [4.43400000e+03, 9.80519907e-01],\n",
       "        [8.33700000e+03, 9.89999874e-01],\n",
       "        [1.60930000e+04, 9.94000359e-01],\n",
       "        [2.97120000e+04, 9.96009727e-01],\n",
       "        [5.80950000e+04, 9.98029633e-01],\n",
       "        [8.90470000e+04, 9.98999553e-01]]))"
      ]
     },
     "execution_count": 6,
     "metadata": {},
     "output_type": "execute_result"
    }
   ],
   "source": [
    "cdfData,tmp"
   ]
  },
  {
   "cell_type": "code",
   "execution_count": 6,
   "id": "champion-tomorrow",
   "metadata": {
    "collapsed": true,
    "jupyter": {
     "outputs_hidden": true,
     "source_hidden": true
    },
    "tags": []
   },
   "outputs": [
    {
     "data": {
      "text/plain": [
       "Text(0.5, 1.0, 'distribution of flow size at tencent gateway')"
      ]
     },
     "execution_count": 6,
     "metadata": {},
     "output_type": "execute_result"
    },
    {
     "data": {
      "image/png": "[encoded data removed]",
      "text/plain": [
       "<Figure size 432x288 with 1 Axes>"
      ]
     },
     "metadata": {
      "needs_background": "light"
     },
     "output_type": "display_data"
    }
   ],
   "source": [
    "# nums,pdf = cdfData_ori[:,0],cdfData_ori[:,-1]\n",
    "nums,pdf = cdfData[:,0],cdfData[:,-1]\n",
    "plt.plot(nums,pdf)\n",
    "plt.xlabel(\"size of a flow(bytes)\")\n",
    "plt.ylabel(\"pdf(%)\")\n",
    "plt.title(\"distribution of flow size at tencent gateway\")"
   ]
  },
  {
   "cell_type": "markdown",
   "id": "consolidated-partition",
   "metadata": {},
   "source": [
    "---"
   ]
  },
  {
   "cell_type": "markdown",
   "id": "worse-congo",
   "metadata": {},
   "source": [
    "<div class=\"alert alert-block alert-info\">\n",
    "<b>人工放缩比</b>\n",
    "<br> 这两个参数其实最后会影响flows[fromNode][toNode]的流的数量 和 分布(scale调整数量，scale_调整分布)\n",
    "</div>"
   ]
  },
  {
   "cell_type": "markdown",
   "id": "alpine-playlist",
   "metadata": {},
   "source": [
    "#### 人工缩放比(hypermeters)"
   ]
  },
  {
   "cell_type": "code",
   "execution_count": 40,
   "id": "appropriate-casting",
   "metadata": {},
   "outputs": [],
   "source": [
    "scale = 1 # hesy:这个缩放比不是真实数据的得到的，是我们自己搞的，为了让流量合理 （直接作用在TM流量上）\n",
    "# scale_ =1000 # hesy: 人工对cdf数据的调整\n",
    "scale_ =1 # hesy: 人工对cdf数据的调整 （目前没有修改过这个\n",
    "# scale_ =0.25 # hesy: 人工对cdf数据的调整 （目前没有修改过这个"
   ]
  },
  {
   "cell_type": "code",
   "execution_count": 41,
   "id": "pressing-intervention",
   "metadata": {},
   "outputs": [],
   "source": [
    "from bisect import bisect\n",
    "def chazhi(nums,distributionOfFlows,poss=None): # -> 根据cdf采样得到的随机生成的流大小\n",
    "#     global scale_ \n",
    "    poss = np.random.random() if not poss else poss\n",
    "    index,poss2num = 0,0\n",
    "    while index<1:  # 其实一般来讲index不会<1的\n",
    "        index = bisect(distributionOfFlows, poss)\n",
    "    # 线性插值  (end_y-p_y)/(end_y-begin_y) = (end_x-p_x)/(end_x-begin_x)\n",
    "    poss2num = nums[index] - (distributionOfFlows[index] - poss)/(\n",
    "    distributionOfFlows[index] - distributionOfFlows[index-1])*(nums[index]-nums[index-1])\n",
    "#     if int(poss2num)==0:\n",
    "#         print(f\"poss2num is 0 when index is {index} and poss is {poss}\")\n",
    "    return poss2num/scale_   # 其实不一定要整数，出来的太规整了吧...\n",
    "\n",
    "def generateFlows(nums,distributionOfFlows,flowSize): # -> List\n",
    "    sumFlow = 0\n",
    "    flows = []\n",
    "    while sumFlow<flowSize:\n",
    "        tmp = chazhi(nums,distributionOfFlows)\n",
    "        if tmp:  # 因为小数的原因...有时候会出现0\n",
    "            sumFlow+=tmp\n",
    "            flows.append(tmp)\n",
    "    if flowSize:\n",
    "        sumFlow-=flows.pop()\n",
    "        flows.append(flowSize-sumFlow)\n",
    "    return flows"
   ]
  },
  {
   "cell_type": "markdown",
   "id": "original-smell",
   "metadata": {},
   "source": [
    "<div class=\"alert alert-block alert-info\">\n",
    "<b>取4500-4600</b> \n",
    "</div>"
   ]
  },
  {
   "cell_type": "markdown",
   "id": "enormous-horse",
   "metadata": {},
   "source": [
    "#### 529->506"
   ]
  },
  {
   "cell_type": "code",
   "execution_count": 80,
   "id": "worst-houston",
   "metadata": {},
   "outputs": [
    {
     "data": {
      "text/html": [
       "<div>\n",
       "<style scoped>\n",
       "    .dataframe tbody tr th:only-of-type {\n",
       "        vertical-align: middle;\n",
       "    }\n",
       "\n",
       "    .dataframe tbody tr th {\n",
       "        vertical-align: top;\n",
       "    }\n",
       "\n",
       "    .dataframe thead th {\n",
       "        text-align: right;\n",
       "    }\n",
       "</style>\n",
       "<table border=\"1\" class=\"dataframe\">\n",
       "  <thead>\n",
       "    <tr style=\"text-align: right;\">\n",
       "      <th></th>\n",
       "      <th>0</th>\n",
       "      <th>1</th>\n",
       "      <th>2</th>\n",
       "      <th>3</th>\n",
       "      <th>4</th>\n",
       "      <th>5</th>\n",
       "      <th>6</th>\n",
       "      <th>7</th>\n",
       "      <th>8</th>\n",
       "      <th>9</th>\n",
       "      <th>...</th>\n",
       "      <th>496</th>\n",
       "      <th>497</th>\n",
       "      <th>498</th>\n",
       "      <th>499</th>\n",
       "      <th>500</th>\n",
       "      <th>501</th>\n",
       "      <th>502</th>\n",
       "      <th>503</th>\n",
       "      <th>504</th>\n",
       "      <th>505</th>\n",
       "    </tr>\n",
       "  </thead>\n",
       "  <tbody>\n",
       "    <tr>\n",
       "      <th>0</th>\n",
       "      <td>0.179845</td>\n",
       "      <td>1.092293</td>\n",
       "      <td>0.225766</td>\n",
       "      <td>2.890328</td>\n",
       "      <td>0.115929</td>\n",
       "      <td>0.149449</td>\n",
       "      <td>1.662423</td>\n",
       "      <td>3.249104</td>\n",
       "      <td>0.0</td>\n",
       "      <td>0.045254</td>\n",
       "      <td>...</td>\n",
       "      <td>0.004311</td>\n",
       "      <td>0.000116</td>\n",
       "      <td>0.003495</td>\n",
       "      <td>0.001855</td>\n",
       "      <td>0.023599</td>\n",
       "      <td>0.003970</td>\n",
       "      <td>0.001099</td>\n",
       "      <td>0.019200</td>\n",
       "      <td>0.014409</td>\n",
       "      <td>0.004897</td>\n",
       "    </tr>\n",
       "    <tr>\n",
       "      <th>1</th>\n",
       "      <td>0.119931</td>\n",
       "      <td>0.822905</td>\n",
       "      <td>0.220074</td>\n",
       "      <td>2.608241</td>\n",
       "      <td>0.092302</td>\n",
       "      <td>0.147640</td>\n",
       "      <td>1.496076</td>\n",
       "      <td>3.010443</td>\n",
       "      <td>0.0</td>\n",
       "      <td>0.013565</td>\n",
       "      <td>...</td>\n",
       "      <td>0.007581</td>\n",
       "      <td>0.000122</td>\n",
       "      <td>0.000561</td>\n",
       "      <td>0.006485</td>\n",
       "      <td>0.018455</td>\n",
       "      <td>0.001282</td>\n",
       "      <td>0.002537</td>\n",
       "      <td>0.000833</td>\n",
       "      <td>0.009887</td>\n",
       "      <td>0.003832</td>\n",
       "    </tr>\n",
       "    <tr>\n",
       "      <th>2</th>\n",
       "      <td>0.080779</td>\n",
       "      <td>0.810575</td>\n",
       "      <td>0.199942</td>\n",
       "      <td>2.543415</td>\n",
       "      <td>0.100608</td>\n",
       "      <td>0.123332</td>\n",
       "      <td>1.550540</td>\n",
       "      <td>3.084200</td>\n",
       "      <td>0.0</td>\n",
       "      <td>0.100460</td>\n",
       "      <td>...</td>\n",
       "      <td>0.004604</td>\n",
       "      <td>0.000682</td>\n",
       "      <td>0.000246</td>\n",
       "      <td>0.002363</td>\n",
       "      <td>0.026669</td>\n",
       "      <td>0.004361</td>\n",
       "      <td>0.001213</td>\n",
       "      <td>0.000334</td>\n",
       "      <td>0.015791</td>\n",
       "      <td>0.001616</td>\n",
       "    </tr>\n",
       "    <tr>\n",
       "      <th>3</th>\n",
       "      <td>0.072630</td>\n",
       "      <td>0.787669</td>\n",
       "      <td>0.189035</td>\n",
       "      <td>2.606974</td>\n",
       "      <td>0.093107</td>\n",
       "      <td>0.079639</td>\n",
       "      <td>1.527909</td>\n",
       "      <td>3.053899</td>\n",
       "      <td>0.0</td>\n",
       "      <td>0.799323</td>\n",
       "      <td>...</td>\n",
       "      <td>0.005514</td>\n",
       "      <td>0.000003</td>\n",
       "      <td>0.004850</td>\n",
       "      <td>0.000371</td>\n",
       "      <td>0.029072</td>\n",
       "      <td>0.006354</td>\n",
       "      <td>0.000719</td>\n",
       "      <td>0.016797</td>\n",
       "      <td>0.007489</td>\n",
       "      <td>0.001717</td>\n",
       "    </tr>\n",
       "    <tr>\n",
       "      <th>4</th>\n",
       "      <td>0.094076</td>\n",
       "      <td>0.530138</td>\n",
       "      <td>0.246777</td>\n",
       "      <td>2.644017</td>\n",
       "      <td>0.082445</td>\n",
       "      <td>0.069661</td>\n",
       "      <td>1.549725</td>\n",
       "      <td>2.996552</td>\n",
       "      <td>0.0</td>\n",
       "      <td>0.049241</td>\n",
       "      <td>...</td>\n",
       "      <td>0.006374</td>\n",
       "      <td>0.000000</td>\n",
       "      <td>0.000600</td>\n",
       "      <td>0.000521</td>\n",
       "      <td>0.006746</td>\n",
       "      <td>0.010485</td>\n",
       "      <td>0.000696</td>\n",
       "      <td>0.001557</td>\n",
       "      <td>0.006787</td>\n",
       "      <td>0.007353</td>\n",
       "    </tr>\n",
       "  </tbody>\n",
       "</table>\n",
       "<p>5 rows × 506 columns</p>\n",
       "</div>"
      ],
      "text/plain": [
       "        0         1         2         3         4         5         6    \\\n",
       "0  0.179845  1.092293  0.225766  2.890328  0.115929  0.149449  1.662423   \n",
       "1  0.119931  0.822905  0.220074  2.608241  0.092302  0.147640  1.496076   \n",
       "2  0.080779  0.810575  0.199942  2.543415  0.100608  0.123332  1.550540   \n",
       "3  0.072630  0.787669  0.189035  2.606974  0.093107  0.079639  1.527909   \n",
       "4  0.094076  0.530138  0.246777  2.644017  0.082445  0.069661  1.549725   \n",
       "\n",
       "        7    8         9    ...       496       497       498       499  \\\n",
       "0  3.249104  0.0  0.045254  ...  0.004311  0.000116  0.003495  0.001855   \n",
       "1  3.010443  0.0  0.013565  ...  0.007581  0.000122  0.000561  0.006485   \n",
       "2  3.084200  0.0  0.100460  ...  0.004604  0.000682  0.000246  0.002363   \n",
       "3  3.053899  0.0  0.799323  ...  0.005514  0.000003  0.004850  0.000371   \n",
       "4  2.996552  0.0  0.049241  ...  0.006374  0.000000  0.000600  0.000521   \n",
       "\n",
       "        500       501       502       503       504       505  \n",
       "0  0.023599  0.003970  0.001099  0.019200  0.014409  0.004897  \n",
       "1  0.018455  0.001282  0.002537  0.000833  0.009887  0.003832  \n",
       "2  0.026669  0.004361  0.001213  0.000334  0.015791  0.001616  \n",
       "3  0.029072  0.006354  0.000719  0.016797  0.007489  0.001717  \n",
       "4  0.006746  0.010485  0.000696  0.001557  0.006787  0.007353  \n",
       "\n",
       "[5 rows x 506 columns]"
      ]
     },
     "execution_count": 80,
     "metadata": {},
     "output_type": "execute_result"
    }
   ],
   "source": [
    "tms_506 = pd.read_csv('/home/hesy/projects/genflow/gea-9988-Mbps-506.csv',header=None)  # 存的时候都是header=None\n",
    "tms_506_.shape"
   ]
  },
  {
   "cell_type": "markdown",
   "id": "sufficient-cleveland",
   "metadata": {},
   "source": [
    "#### 划分训练测试集并输出到文件中去"
   ]
  },
  {
   "cell_type": "code",
   "execution_count": 43,
   "id": "quality-karen",
   "metadata": {},
   "outputs": [],
   "source": [
    "tm4500_4600 = tms_506.iloc[4500:4600,:]*30*scale/100 # len(tm1) = 506 = 23*23 # 因为ns3里面带宽缩小了100倍，所以这里也除以100。 # 30代表30s\n",
    "len_tms = len(tm4500_4600)\n",
    "tm4500_4600.index = range(len_tms)\n",
    "# 注意，这里别搞成小数\n",
    "#这里的单位是MBps，但是我没有*8，相当于整体缩小了8倍"
   ]
  },
  {
   "cell_type": "code",
   "execution_count": 44,
   "id": "intensive-fifteen",
   "metadata": {},
   "outputs": [],
   "source": [
    "flows_ =[ [] for _ in range(len_tms)] \n",
    "# flows = np.array([[[] for _ in range(22)] for _ in range(23)])  # 23*22的list\n",
    "flows = [[[0 for _ in range(22)] for __ in range(23)] for ___ in range(len_tms)] # len(tm)*23*22的list\n",
    "flowNum =[[[ 0 for _ in range(22)] for __ in range(23)] for ___ in range(len_tms)]\n",
    "# for fromNode in range(2):\n",
    "#     for toNode in range(2)\n",
    "import ipdb\n",
    "\n",
    "try:\n",
    "    for tmIdx in range(len_tms):\n",
    "        for fromNode in range(23):\n",
    "            for toNode in range(22):\n",
    "\n",
    "                flows[tmIdx][fromNode][toNode]=generateFlows(nums,pdf,tm4500_4600.iloc[tmIdx,fromNode*22+toNode]*(10**6)/8) # Mbps --> Bps\n",
    "                flows_[tmIdx].extend(flows[tmIdx][fromNode][toNode])\n",
    "                flowNum[tmIdx][fromNode][toNode] = len(flows[tmIdx][fromNode][toNode])\n",
    "                \n",
    "except:\n",
    "    print(f\"tmIdx,fromNode,toNode is {tmIdx},{fromNode},{toNode} \")\n",
    "    print(f\"fromNode*22+toNode is {fromNode*22+toNode} \")    "
   ]
  },
  {
   "cell_type": "code",
   "execution_count": null,
   "id": "organizational-display",
   "metadata": {},
   "outputs": [],
   "source": [
    "flows_[:3]"
   ]
  },
  {
   "cell_type": "markdown",
   "id": "announced-courage",
   "metadata": {},
   "source": [
    "flows : list of 1000 * 23 * 22 , each is also a list\n",
    "flows_: list of 1000 个list , which "
   ]
  },
  {
   "cell_type": "markdown",
   "id": "cross-session",
   "metadata": {
    "tags": []
   },
   "source": [
    "<div class=\"alert alert-block alert-info\">\n",
    "<b>如果每条流的CBR是1/10的2488 --> 2le6 30s最多让你发，所以这个flows里面的数值最大是60(le6是本来就要缩放的大小)</b> \n",
    "<br> 现在check下到底是多少以决定要缩放多少\n",
    "</div>"
   ]
  },
  {
   "cell_type": "markdown",
   "id": "vietnamese-interaction",
   "metadata": {
    "tags": []
   },
   "source": [
    "scale为1的时候，mean是le3,max是le5。 <br>\n",
    "所以将scale设置为1000试试（再缩小1000倍）。"
   ]
  },
  {
   "cell_type": "markdown",
   "id": "finnish-bones",
   "metadata": {
    "tags": []
   },
   "source": [
    "进一步的，如果采用On-Off的形式，ratio为10的情况下，发送时间(x)和关闭时间(y)要满足的大小关系是(y=9x),所以就让发送时间为10s的话，开的时间不能超过1s,which means30s内实际能发的是2(le6)*3而不是2(le6)*30 --> 所以流最好别超过6le6"
   ]
  },
  {
   "cell_type": "markdown",
   "id": "administrative-alabama",
   "metadata": {
    "toc-hr-collapsed": true
   },
   "source": [
    "### 生成流的查看 -- 最初TM1的生成情况 作为基准(肯定正确的)"
   ]
  },
  {
   "cell_type": "markdown",
   "id": "polar-raise",
   "metadata": {},
   "source": [
    "<div class=\"alert alert-block alert-info\">\n",
    "<b>生成的单位都是B了</b> \n",
    "</div>"
   ]
  },
  {
   "cell_type": "markdown",
   "id": "designed-investing",
   "metadata": {},
   "source": [
    "#### 流的大小分布情况查看[此为lam为40的情况用于参考]"
   ]
  },
  {
   "cell_type": "code",
   "execution_count": 22,
   "id": "spoken-strand",
   "metadata": {},
   "outputs": [
    {
     "name": "stdout",
     "output_type": "stream",
     "text": [
      "100\n",
      "123188\n"
     ]
    }
   ],
   "source": [
    "print(len(flows_))\n",
    "print(len(flows_[0]))"
   ]
  },
  {
   "cell_type": "code",
   "execution_count": 35,
   "id": "atomic-potter",
   "metadata": {},
   "outputs": [],
   "source": [
    "anaFlow=[]\n",
    "for item in flows_:\n",
    "    anaFlow.extend(item)"
   ]
  },
  {
   "cell_type": "code",
   "execution_count": 37,
   "id": "surgical-january",
   "metadata": {},
   "outputs": [
    {
     "data": {
      "text/plain": [
       "12207211"
      ]
     },
     "execution_count": 37,
     "metadata": {},
     "output_type": "execute_result"
    }
   ],
   "source": [
    "len(anaFlow)"
   ]
  },
  {
   "cell_type": "code",
   "execution_count": 39,
   "id": "applicable-individual",
   "metadata": {},
   "outputs": [
    {
     "name": "stdout",
     "output_type": "stream",
     "text": [
      "147.94247496547217\n",
      "2373.626801297712\n"
     ]
    },
    {
     "data": {
      "text/plain": [
       "99998.75795006772"
      ]
     },
     "execution_count": 39,
     "metadata": {},
     "output_type": "execute_result"
    }
   ],
   "source": [
    "print(np.percentile(anaFlow, 50))\n",
    "print(np.percentile(anaFlow, 95))\n",
    "max(anaFlow)"
   ]
  },
  {
   "cell_type": "code",
   "execution_count": null,
   "id": "adequate-switch",
   "metadata": {},
   "outputs": [],
   "source": [
    "原结果是148，400+ 和 9988"
   ]
  },
  {
   "cell_type": "code",
   "execution_count": 41,
   "id": "anonymous-cleaner",
   "metadata": {},
   "outputs": [
    {
     "data": {
      "text/plain": [
       "Text(0, 0.5, 'cdf')"
      ]
     },
     "execution_count": 41,
     "metadata": {},
     "output_type": "execute_result"
    },
    {
     "name": "stderr",
     "output_type": "stream",
     "text": [
      "/home/hesy/.conda/envs/tf1.15/lib/python3.7/site-packages/matplotlib/backends/backend_agg.py:240: RuntimeWarning: Glyph 23545 missing from current font.\n",
      "  font.set_text(s, 0.0, flags=flags)\n",
      "/home/hesy/.conda/envs/tf1.15/lib/python3.7/site-packages/matplotlib/backends/backend_agg.py:240: RuntimeWarning: Glyph 20043 missing from current font.\n",
      "  font.set_text(s, 0.0, flags=flags)\n",
      "/home/hesy/.conda/envs/tf1.15/lib/python3.7/site-packages/matplotlib/backends/backend_agg.py:240: RuntimeWarning: Glyph 38388 missing from current font.\n",
      "  font.set_text(s, 0.0, flags=flags)\n",
      "/home/hesy/.conda/envs/tf1.15/lib/python3.7/site-packages/matplotlib/backends/backend_agg.py:240: RuntimeWarning: Glyph 30340 missing from current font.\n",
      "  font.set_text(s, 0.0, flags=flags)\n",
      "/home/hesy/.conda/envs/tf1.15/lib/python3.7/site-packages/matplotlib/backends/backend_agg.py:240: RuntimeWarning: Glyph 27969 missing from current font.\n",
      "  font.set_text(s, 0.0, flags=flags)\n",
      "/home/hesy/.conda/envs/tf1.15/lib/python3.7/site-packages/matplotlib/backends/backend_agg.py:240: RuntimeWarning: Glyph 22823 missing from current font.\n",
      "  font.set_text(s, 0.0, flags=flags)\n",
      "/home/hesy/.conda/envs/tf1.15/lib/python3.7/site-packages/matplotlib/backends/backend_agg.py:240: RuntimeWarning: Glyph 23567 missing from current font.\n",
      "  font.set_text(s, 0.0, flags=flags)\n",
      "/home/hesy/.conda/envs/tf1.15/lib/python3.7/site-packages/matplotlib/backends/backend_agg.py:240: RuntimeWarning: Glyph 65288 missing from current font.\n",
      "  font.set_text(s, 0.0, flags=flags)\n",
      "/home/hesy/.conda/envs/tf1.15/lib/python3.7/site-packages/matplotlib/backends/backend_agg.py:240: RuntimeWarning: Glyph 65289 missing from current font.\n",
      "  font.set_text(s, 0.0, flags=flags)\n",
      "/home/hesy/.conda/envs/tf1.15/lib/python3.7/site-packages/matplotlib/backends/backend_agg.py:203: RuntimeWarning: Glyph 23545 missing from current font.\n",
      "  font.set_text(s, 0, flags=flags)\n",
      "/home/hesy/.conda/envs/tf1.15/lib/python3.7/site-packages/matplotlib/backends/backend_agg.py:203: RuntimeWarning: Glyph 20043 missing from current font.\n",
      "  font.set_text(s, 0, flags=flags)\n",
      "/home/hesy/.conda/envs/tf1.15/lib/python3.7/site-packages/matplotlib/backends/backend_agg.py:203: RuntimeWarning: Glyph 38388 missing from current font.\n",
      "  font.set_text(s, 0, flags=flags)\n",
      "/home/hesy/.conda/envs/tf1.15/lib/python3.7/site-packages/matplotlib/backends/backend_agg.py:203: RuntimeWarning: Glyph 30340 missing from current font.\n",
      "  font.set_text(s, 0, flags=flags)\n",
      "/home/hesy/.conda/envs/tf1.15/lib/python3.7/site-packages/matplotlib/backends/backend_agg.py:203: RuntimeWarning: Glyph 27969 missing from current font.\n",
      "  font.set_text(s, 0, flags=flags)\n",
      "/home/hesy/.conda/envs/tf1.15/lib/python3.7/site-packages/matplotlib/backends/backend_agg.py:203: RuntimeWarning: Glyph 22823 missing from current font.\n",
      "  font.set_text(s, 0, flags=flags)\n",
      "/home/hesy/.conda/envs/tf1.15/lib/python3.7/site-packages/matplotlib/backends/backend_agg.py:203: RuntimeWarning: Glyph 23567 missing from current font.\n",
      "  font.set_text(s, 0, flags=flags)\n",
      "/home/hesy/.conda/envs/tf1.15/lib/python3.7/site-packages/matplotlib/backends/backend_agg.py:203: RuntimeWarning: Glyph 65288 missing from current font.\n",
      "  font.set_text(s, 0, flags=flags)\n",
      "/home/hesy/.conda/envs/tf1.15/lib/python3.7/site-packages/matplotlib/backends/backend_agg.py:203: RuntimeWarning: Glyph 65289 missing from current font.\n",
      "  font.set_text(s, 0, flags=flags)\n"
     ]
    },
    {
     "data": {
      "image/png": "[encoded data removed]",
      "text/plain": [
       "<Figure size 432x288 with 1 Axes>"
      ]
     },
     "metadata": {
      "needs_background": "light"
     },
     "output_type": "display_data"
    }
   ],
   "source": [
    "import statsmodels.api as sm\n",
    "# data = flows_\n",
    "data = anaFlow\n",
    "ecdf = sm.distributions.ECDF(data)\n",
    "#等差数列，用于绘制X轴数据\n",
    "x = np.linspace(min(data), max(data))\n",
    "# x轴数据上值对应的累计密度概率\n",
    "y = ecdf(x)\n",
    "plt.step(x,y)\n",
    "plt.xlabel(\"session对之间的流大小（bytes）\")\n",
    "plt.ylabel(\"cdf\")"
   ]
  },
  {
   "cell_type": "markdown",
   "id": "collaborative-heater",
   "metadata": {},
   "source": [
    "大流不多\n",
    "\n",
    "??? 50% 是100多B是不是有点小了..."
   ]
  },
  {
   "cell_type": "markdown",
   "id": "operational-record",
   "metadata": {},
   "source": [
    "#### 流的大小分布情况查看[此次生成的情况参考]"
   ]
  },
  {
   "cell_type": "code",
   "execution_count": 50,
   "id": "selected-survivor",
   "metadata": {},
   "outputs": [
    {
     "name": "stdout",
     "output_type": "stream",
     "text": [
      "100\n",
      "54757\n"
     ]
    }
   ],
   "source": [
    "print(len(flows_))\n",
    "print(len(flows_[0]))"
   ]
  },
  {
   "cell_type": "code",
   "execution_count": 51,
   "id": "coordinated-nicaragua",
   "metadata": {},
   "outputs": [],
   "source": [
    "anaFlow=[]\n",
    "for item in flows_:\n",
    "    anaFlow.extend(item)"
   ]
  },
  {
   "cell_type": "code",
   "execution_count": 52,
   "id": "opponent-appendix",
   "metadata": {},
   "outputs": [
    {
     "data": {
      "text/plain": [
       "5523274"
      ]
     },
     "execution_count": 52,
     "metadata": {},
     "output_type": "execute_result"
    }
   ],
   "source": [
    "len(anaFlow)"
   ]
  },
  {
   "cell_type": "code",
   "execution_count": 53,
   "id": "orange-pitch",
   "metadata": {},
   "outputs": [
    {
     "name": "stdout",
     "output_type": "stream",
     "text": [
      "590.1091311533567\n",
      "9354.73133509959\n"
     ]
    },
    {
     "data": {
      "text/plain": [
       "399965.92914713355"
      ]
     },
     "execution_count": 53,
     "metadata": {},
     "output_type": "execute_result"
    }
   ],
   "source": [
    "print(np.percentile(anaFlow, 50))\n",
    "print(np.percentile(anaFlow, 95))\n",
    "max(anaFlow)"
   ]
  },
  {
   "cell_type": "markdown",
   "id": "norwegian-chorus",
   "metadata": {},
   "source": [
    "上述是流大小的分布"
   ]
  },
  {
   "cell_type": "code",
   "execution_count": 54,
   "id": "seasonal-starter",
   "metadata": {},
   "outputs": [
    {
     "data": {
      "text/plain": [
       "Text(0, 0.5, 'cdf')"
      ]
     },
     "execution_count": 54,
     "metadata": {},
     "output_type": "execute_result"
    },
    {
     "name": "stderr",
     "output_type": "stream",
     "text": [
      "/home/hesy/.conda/envs/tf1.15/lib/python3.7/site-packages/matplotlib/backends/backend_agg.py:240: RuntimeWarning: Glyph 23545 missing from current font.\n",
      "  font.set_text(s, 0.0, flags=flags)\n",
      "/home/hesy/.conda/envs/tf1.15/lib/python3.7/site-packages/matplotlib/backends/backend_agg.py:240: RuntimeWarning: Glyph 20043 missing from current font.\n",
      "  font.set_text(s, 0.0, flags=flags)\n",
      "/home/hesy/.conda/envs/tf1.15/lib/python3.7/site-packages/matplotlib/backends/backend_agg.py:240: RuntimeWarning: Glyph 38388 missing from current font.\n",
      "  font.set_text(s, 0.0, flags=flags)\n",
      "/home/hesy/.conda/envs/tf1.15/lib/python3.7/site-packages/matplotlib/backends/backend_agg.py:240: RuntimeWarning: Glyph 30340 missing from current font.\n",
      "  font.set_text(s, 0.0, flags=flags)\n",
      "/home/hesy/.conda/envs/tf1.15/lib/python3.7/site-packages/matplotlib/backends/backend_agg.py:240: RuntimeWarning: Glyph 27969 missing from current font.\n",
      "  font.set_text(s, 0.0, flags=flags)\n",
      "/home/hesy/.conda/envs/tf1.15/lib/python3.7/site-packages/matplotlib/backends/backend_agg.py:240: RuntimeWarning: Glyph 22823 missing from current font.\n",
      "  font.set_text(s, 0.0, flags=flags)\n",
      "/home/hesy/.conda/envs/tf1.15/lib/python3.7/site-packages/matplotlib/backends/backend_agg.py:240: RuntimeWarning: Glyph 23567 missing from current font.\n",
      "  font.set_text(s, 0.0, flags=flags)\n",
      "/home/hesy/.conda/envs/tf1.15/lib/python3.7/site-packages/matplotlib/backends/backend_agg.py:240: RuntimeWarning: Glyph 65288 missing from current font.\n",
      "  font.set_text(s, 0.0, flags=flags)\n",
      "/home/hesy/.conda/envs/tf1.15/lib/python3.7/site-packages/matplotlib/backends/backend_agg.py:240: RuntimeWarning: Glyph 65289 missing from current font.\n",
      "  font.set_text(s, 0.0, flags=flags)\n",
      "/home/hesy/.conda/envs/tf1.15/lib/python3.7/site-packages/matplotlib/backends/backend_agg.py:203: RuntimeWarning: Glyph 23545 missing from current font.\n",
      "  font.set_text(s, 0, flags=flags)\n",
      "/home/hesy/.conda/envs/tf1.15/lib/python3.7/site-packages/matplotlib/backends/backend_agg.py:203: RuntimeWarning: Glyph 20043 missing from current font.\n",
      "  font.set_text(s, 0, flags=flags)\n",
      "/home/hesy/.conda/envs/tf1.15/lib/python3.7/site-packages/matplotlib/backends/backend_agg.py:203: RuntimeWarning: Glyph 38388 missing from current font.\n",
      "  font.set_text(s, 0, flags=flags)\n",
      "/home/hesy/.conda/envs/tf1.15/lib/python3.7/site-packages/matplotlib/backends/backend_agg.py:203: RuntimeWarning: Glyph 30340 missing from current font.\n",
      "  font.set_text(s, 0, flags=flags)\n",
      "/home/hesy/.conda/envs/tf1.15/lib/python3.7/site-packages/matplotlib/backends/backend_agg.py:203: RuntimeWarning: Glyph 27969 missing from current font.\n",
      "  font.set_text(s, 0, flags=flags)\n",
      "/home/hesy/.conda/envs/tf1.15/lib/python3.7/site-packages/matplotlib/backends/backend_agg.py:203: RuntimeWarning: Glyph 22823 missing from current font.\n",
      "  font.set_text(s, 0, flags=flags)\n",
      "/home/hesy/.conda/envs/tf1.15/lib/python3.7/site-packages/matplotlib/backends/backend_agg.py:203: RuntimeWarning: Glyph 23567 missing from current font.\n",
      "  font.set_text(s, 0, flags=flags)\n",
      "/home/hesy/.conda/envs/tf1.15/lib/python3.7/site-packages/matplotlib/backends/backend_agg.py:203: RuntimeWarning: Glyph 65288 missing from current font.\n",
      "  font.set_text(s, 0, flags=flags)\n",
      "/home/hesy/.conda/envs/tf1.15/lib/python3.7/site-packages/matplotlib/backends/backend_agg.py:203: RuntimeWarning: Glyph 65289 missing from current font.\n",
      "  font.set_text(s, 0, flags=flags)\n"
     ]
    },
    {
     "data": {
      "image/png": "[encoded data removed]",
      "text/plain": [
       "<Figure size 432x288 with 1 Axes>"
      ]
     },
     "metadata": {
      "needs_background": "light"
     },
     "output_type": "display_data"
    }
   ],
   "source": [
    "import statsmodels.api as sm\n",
    "# data = flows_\n",
    "data = anaFlow\n",
    "ecdf = sm.distributions.ECDF(data)\n",
    "#等差数列，用于绘制X轴数据\n",
    "x = np.linspace(min(data), max(data))\n",
    "# x轴数据上值对应的累计密度概率\n",
    "y = ecdf(x)\n",
    "plt.step(x,y)\n",
    "plt.xlabel(\"session对之间的流大小（bytes）\")\n",
    "plt.ylabel(\"cdf\")"
   ]
  },
  {
   "cell_type": "markdown",
   "id": "cathedral-recovery",
   "metadata": {},
   "source": [
    "#### session对之间生成的流的数量分布情况查看[lam为40的供参考]"
   ]
  },
  {
   "cell_type": "markdown",
   "id": "literary-occupation",
   "metadata": {},
   "source": [
    "<div class=\"alert alert-block alert-info\">\n",
    "<b>查看下session * session的flows的num数量大概是多少</b> \n",
    "</div>"
   ]
  },
  {
   "cell_type": "code",
   "execution_count": 42,
   "id": "metallic-smile",
   "metadata": {},
   "outputs": [
    {
     "name": "stdout",
     "output_type": "stream",
     "text": [
      "17.0\n",
      "978.0499999999956\n"
     ]
    },
    {
     "data": {
      "text/plain": [
       "14864"
      ]
     },
     "execution_count": 42,
     "metadata": {},
     "output_type": "execute_result"
    }
   ],
   "source": [
    "flowNums_= np.array(flowNum).reshape((-1,))\n",
    "print(np.percentile(flowNum, 50))\n",
    "print(np.percentile(flowNum, 95))\n",
    "max(flowNums_)  "
   ]
  },
  {
   "cell_type": "code",
   "execution_count": 43,
   "id": "latin-garage",
   "metadata": {},
   "outputs": [
    {
     "data": {
      "text/plain": [
       "Text(0, 0.5, 'cdf')"
      ]
     },
     "execution_count": 43,
     "metadata": {},
     "output_type": "execute_result"
    },
    {
     "name": "stderr",
     "output_type": "stream",
     "text": [
      "/home/hesy/.conda/envs/tf1.15/lib/python3.7/site-packages/matplotlib/backends/backend_agg.py:240: RuntimeWarning: Glyph 23545 missing from current font.\n",
      "  font.set_text(s, 0.0, flags=flags)\n",
      "/home/hesy/.conda/envs/tf1.15/lib/python3.7/site-packages/matplotlib/backends/backend_agg.py:240: RuntimeWarning: Glyph 20043 missing from current font.\n",
      "  font.set_text(s, 0.0, flags=flags)\n",
      "/home/hesy/.conda/envs/tf1.15/lib/python3.7/site-packages/matplotlib/backends/backend_agg.py:240: RuntimeWarning: Glyph 38388 missing from current font.\n",
      "  font.set_text(s, 0.0, flags=flags)\n",
      "/home/hesy/.conda/envs/tf1.15/lib/python3.7/site-packages/matplotlib/backends/backend_agg.py:240: RuntimeWarning: Glyph 30340 missing from current font.\n",
      "  font.set_text(s, 0.0, flags=flags)\n",
      "/home/hesy/.conda/envs/tf1.15/lib/python3.7/site-packages/matplotlib/backends/backend_agg.py:240: RuntimeWarning: Glyph 27969 missing from current font.\n",
      "  font.set_text(s, 0.0, flags=flags)\n",
      "/home/hesy/.conda/envs/tf1.15/lib/python3.7/site-packages/matplotlib/backends/backend_agg.py:240: RuntimeWarning: Glyph 25968 missing from current font.\n",
      "  font.set_text(s, 0.0, flags=flags)\n",
      "/home/hesy/.conda/envs/tf1.15/lib/python3.7/site-packages/matplotlib/backends/backend_agg.py:240: RuntimeWarning: Glyph 37327 missing from current font.\n",
      "  font.set_text(s, 0.0, flags=flags)\n",
      "/home/hesy/.conda/envs/tf1.15/lib/python3.7/site-packages/matplotlib/backends/backend_agg.py:203: RuntimeWarning: Glyph 23545 missing from current font.\n",
      "  font.set_text(s, 0, flags=flags)\n",
      "/home/hesy/.conda/envs/tf1.15/lib/python3.7/site-packages/matplotlib/backends/backend_agg.py:203: RuntimeWarning: Glyph 20043 missing from current font.\n",
      "  font.set_text(s, 0, flags=flags)\n",
      "/home/hesy/.conda/envs/tf1.15/lib/python3.7/site-packages/matplotlib/backends/backend_agg.py:203: RuntimeWarning: Glyph 38388 missing from current font.\n",
      "  font.set_text(s, 0, flags=flags)\n",
      "/home/hesy/.conda/envs/tf1.15/lib/python3.7/site-packages/matplotlib/backends/backend_agg.py:203: RuntimeWarning: Glyph 30340 missing from current font.\n",
      "  font.set_text(s, 0, flags=flags)\n",
      "/home/hesy/.conda/envs/tf1.15/lib/python3.7/site-packages/matplotlib/backends/backend_agg.py:203: RuntimeWarning: Glyph 27969 missing from current font.\n",
      "  font.set_text(s, 0, flags=flags)\n",
      "/home/hesy/.conda/envs/tf1.15/lib/python3.7/site-packages/matplotlib/backends/backend_agg.py:203: RuntimeWarning: Glyph 25968 missing from current font.\n",
      "  font.set_text(s, 0, flags=flags)\n",
      "/home/hesy/.conda/envs/tf1.15/lib/python3.7/site-packages/matplotlib/backends/backend_agg.py:203: RuntimeWarning: Glyph 37327 missing from current font.\n",
      "  font.set_text(s, 0, flags=flags)\n"
     ]
    },
    {
     "data": {
      "image/png": "[encoded data removed]",
      "text/plain": [
       "<Figure size 432x288 with 1 Axes>"
      ]
     },
     "metadata": {
      "needs_background": "light"
     },
     "output_type": "display_data"
    }
   ],
   "source": [
    "import statsmodels.api as sm\n",
    "data = flowNums_\n",
    "ecdf = sm.distributions.ECDF(data)\n",
    "#等差数列，用于绘制X轴数据\n",
    "x = np.linspace(min(data), max(data))\n",
    "# x轴数据上值对应的累计密度概率\n",
    "y = ecdf(x)\n",
    "plt.step(x,y)\n",
    "plt.xlabel(\"session对之间的流数量\")\n",
    "plt.ylabel(\"cdf\")"
   ]
  },
  {
   "cell_type": "markdown",
   "id": "fundamental-polls",
   "metadata": {},
   "source": [
    "1s内流的数量不超过300条 ，变成30s之后就是不超过le4条"
   ]
  },
  {
   "cell_type": "markdown",
   "id": "soviet-february",
   "metadata": {},
   "source": [
    "<div class=\"alert alert-block alert-info\">\n",
    "<b>这个单位就全都是bytes了</b> , 上面生成流的过程中全部转为bytes了\n",
    "</div>"
   ]
  },
  {
   "cell_type": "code",
   "execution_count": 44,
   "id": "empty-platinum",
   "metadata": {
    "collapsed": true,
    "jupyter": {
     "outputs_hidden": true
    },
    "tags": []
   },
   "outputs": [
    {
     "data": {
      "text/html": [
       "<div>\n",
       "<style scoped>\n",
       "    .dataframe tbody tr th:only-of-type {\n",
       "        vertical-align: middle;\n",
       "    }\n",
       "\n",
       "    .dataframe tbody tr th {\n",
       "        vertical-align: top;\n",
       "    }\n",
       "\n",
       "    .dataframe thead th {\n",
       "        text-align: right;\n",
       "    }\n",
       "</style>\n",
       "<table border=\"1\" class=\"dataframe\">\n",
       "  <thead>\n",
       "    <tr style=\"text-align: right;\">\n",
       "      <th></th>\n",
       "      <th>0</th>\n",
       "      <th>1</th>\n",
       "      <th>2</th>\n",
       "      <th>3</th>\n",
       "      <th>4</th>\n",
       "      <th>5</th>\n",
       "      <th>6</th>\n",
       "      <th>7</th>\n",
       "      <th>8</th>\n",
       "      <th>9</th>\n",
       "      <th>...</th>\n",
       "      <th>13</th>\n",
       "      <th>14</th>\n",
       "      <th>15</th>\n",
       "      <th>16</th>\n",
       "      <th>17</th>\n",
       "      <th>18</th>\n",
       "      <th>19</th>\n",
       "      <th>20</th>\n",
       "      <th>21</th>\n",
       "      <th>22</th>\n",
       "    </tr>\n",
       "  </thead>\n",
       "  <tbody>\n",
       "    <tr>\n",
       "      <th>0</th>\n",
       "      <td>[[899.9590736602594, 2.210035999876226, 503.29...</td>\n",
       "      <td>[[32.8947833733154, 85.2846303098136, 38.26458...</td>\n",
       "      <td>[[240.87350645441518, 142.69237315538595, 196....</td>\n",
       "      <td>[[67.43036970252876, 19.733215682566353, 832.2...</td>\n",
       "      <td>[[557.3183165381788, 67.37182174714613, 57.490...</td>\n",
       "      <td>[[98.36037868681962, 85.65300696713378, 42.738...</td>\n",
       "      <td>[[], [6.637333333333332], [85.87514768073771, ...</td>\n",
       "      <td>[[85.2492092431161, 78.01772479877587, 2003.64...</td>\n",
       "      <td>[[386.86586322150697, 27.3351581973308, 76.411...</td>\n",
       "      <td>[[1753.9956105624958, 83.28358767522782, 112.7...</td>\n",
       "      <td>...</td>\n",
       "      <td>[[254.88666400524218, 73.31971456381619, 33.05...</td>\n",
       "      <td>[[504.1847506700464, 165.4476628215483, 156.35...</td>\n",
       "      <td>[[133.023818442633, 332.75059273244995, 68.479...</td>\n",
       "      <td>[[133.60126468074478, 1399.465145071621, 96.31...</td>\n",
       "      <td>[[46.76765180004713, 586.5018144995475, 1297.8...</td>\n",
       "      <td>[[], [58.85098974859595, 267.193010251304], [8...</td>\n",
       "      <td>[[62.93333333333332], [36.62266666666667], [18...</td>\n",
       "      <td>[[104.88819482043722, 199.41605786428323, 79.3...</td>\n",
       "      <td>[[67.24450786217801, 158.49143450711705, 54.07...</td>\n",
       "      <td>[[972.0067381886666, 11.805229879967385, 1578....</td>\n",
       "    </tr>\n",
       "    <tr>\n",
       "      <th>1</th>\n",
       "      <td>[[218.67131323303764, 389.7693500305548, 1779....</td>\n",
       "      <td>[[13.474008856766517, 437.7259911432334], [7.9...</td>\n",
       "      <td>[[85.89334963794863, 312.39808229028733, 173.9...</td>\n",
       "      <td>[[85.71397468618105, 231.14307821048624, 263.0...</td>\n",
       "      <td>[[15.911787800452714, 168.12111797359034, 115....</td>\n",
       "      <td>[[38.336752759506226, 2.80559405439152, 1149.6...</td>\n",
       "      <td>[[], [4.741333333333333], [175.68333937599988,...</td>\n",
       "      <td>[[42.765459068504704, 1107.5482718558865, 117....</td>\n",
       "      <td>[[44.17633605192778, 185.15863137179736, 63.67...</td>\n",
       "      <td>[[655.1189541398671, 613.503712526733], [115.5...</td>\n",
       "      <td>...</td>\n",
       "      <td>[[4.702058359052117, 131.582130528976, 134.025...</td>\n",
       "      <td>[[13.656249720339687, 807.5584169462604], [13....</td>\n",
       "      <td>[[24.98912381614825, 93.95948098743692, 30.477...</td>\n",
       "      <td>[[123.54955929439777, 126.57059699351633, 1420...</td>\n",
       "      <td>[[165.88297686859983, 633.9798898073163, 41.40...</td>\n",
       "      <td>[[], [185.63793253105, 15.008149981712378, 697...</td>\n",
       "      <td>[[8.533333333333331], [542.6959999999501], [15...</td>\n",
       "      <td>[[67.63410762983013, 76.27672634973116, 850.91...</td>\n",
       "      <td>[[194.94008174013868, 2467.2267363588926, 88.2...</td>\n",
       "      <td>[[6299.9907518379005, 85.44038528363753, 86.70...</td>\n",
       "    </tr>\n",
       "    <tr>\n",
       "      <th>2</th>\n",
       "      <td>[[751.0764233344867, 234.75166794245084, 58.83...</td>\n",
       "      <td>[[1.112047475084637, 977.4959525248654], [486....</td>\n",
       "      <td>[[1729.1129141610268, 1744.2460994891449, 102....</td>\n",
       "      <td>[[678.7691450872221, 21.301275164766814, 84.69...</td>\n",
       "      <td>[[0.5069103394320393, 131.199933124771, 569.84...</td>\n",
       "      <td>[[206.7938614595538, 1249.7981385403957], [89....</td>\n",
       "      <td>[[22.992], [76.91866666666668], [16.6316794770...</td>\n",
       "      <td>[[5.958379888101291, 1828.3370841390138, 39.33...</td>\n",
       "      <td>[[6600.21186037913, 65.80875872349841, 137.997...</td>\n",
       "      <td>[[84.82093255474632, 175.50325342038474, 2323....</td>\n",
       "      <td>...</td>\n",
       "      <td>[[1205.2884368342488, 86.66629222482923, 41.04...</td>\n",
       "      <td>[[236.49688368688498, 149.27452135634817, 40.2...</td>\n",
       "      <td>[[1845.8812835326817, 68.27053906205288, 120.0...</td>\n",
       "      <td>[[1116.5159094027124, 178.23225278239897, 112....</td>\n",
       "      <td>[[315.99804715993, 106.55808787568853, 1489.88...</td>\n",
       "      <td>[[], [127.12429297535164, 1616.7301311401407, ...</td>\n",
       "      <td>[[40.46273780713324, 49.82092569491911, 59.957...</td>\n",
       "      <td>[[85.69319380110213, 1962.8089577843282, 86.37...</td>\n",
       "      <td>[[56.98028381576634, 1687.304852597869, 51.937...</td>\n",
       "      <td>[[213.83277314185705, 68.97648106891539, 456.7...</td>\n",
       "    </tr>\n",
       "    <tr>\n",
       "      <th>3</th>\n",
       "      <td>[[89.53809505896791, 513.1357693694753, 750.52...</td>\n",
       "      <td>[[73.02084152208097, 78.86189861703234, 86.566...</td>\n",
       "      <td>[[7.234790195082226, 64.15581854491205, 30.997...</td>\n",
       "      <td>[[3550.504198071988, 54.634494606707065, 73.19...</td>\n",
       "      <td>[[71.58038974407634, 1068.8892780045344, 338.8...</td>\n",
       "      <td>[[592.9479999999], [101.86207554762677, 309.84...</td>\n",
       "      <td>[[], [23.704], [32.87870775469838, 144.8986255...</td>\n",
       "      <td>[[115.58666511709133, 1770.098448599625, 155.5...</td>\n",
       "      <td>[[10.264412747430882, 7.60738263016799, 1494.2...</td>\n",
       "      <td>[[473.7326259060785, 429.8154557665498, 89.229...</td>\n",
       "      <td>...</td>\n",
       "      <td>[[1852.1665948461823, 1179.1814051537176], [16...</td>\n",
       "      <td>[[87.20909253355168, 125.90895153510004, 339.0...</td>\n",
       "      <td>[[458.0742473515379, 159.24024536157324, 1565....</td>\n",
       "      <td>[[33.05541043675081, 209.38537174753, 118.2831...</td>\n",
       "      <td>[[155.39114493811738, 1540.3001883768543, 191....</td>\n",
       "      <td>[[], [530.48933333325], [717.27466666665], [80...</td>\n",
       "      <td>[[200.17733333324995], [117.46977208198614, 85...</td>\n",
       "      <td>[[110.21016661480677, 84.013915911387, 102.032...</td>\n",
       "      <td>[[125.61587092611256, 939.0133097008375, 89.24...</td>\n",
       "      <td>[[24.086645910851622, 85.05024219261105, 1521....</td>\n",
       "    </tr>\n",
       "    <tr>\n",
       "      <th>4</th>\n",
       "      <td>[[157.998643832346, 152.44023964041713, 1658.7...</td>\n",
       "      <td>[[181.69222265193176, 219.7304440147181], [83....</td>\n",
       "      <td>[[600.5398675104069, 46.16524838731263, 18.950...</td>\n",
       "      <td>[[152.37087262969632, 155.18405269623292, 222....</td>\n",
       "      <td>[[89.24455596456109, 106.35826481015019, 30.54...</td>\n",
       "      <td>[[603.2586666666], [30.548346908391636, 85.909...</td>\n",
       "      <td>[[27.141333333333336], [52.147999999999996], [...</td>\n",
       "      <td>[[1079.9735178404496, 79.70768073456651, 370.4...</td>\n",
       "      <td>[[153.99666050355137, 157.6166756959192, 746.5...</td>\n",
       "      <td>[[42.29175247778635, 89.11377808668941, 1234.5...</td>\n",
       "      <td>...</td>\n",
       "      <td>[[407.2352522497182, 93.42396249654475, 78.634...</td>\n",
       "      <td>[[504.19115669759964, 1250.8315099690506], [],...</td>\n",
       "      <td>[[474.93919757206424, 411.7925800208942, 49.59...</td>\n",
       "      <td>[[250.62748524318536, 100.94899061666911, 1014...</td>\n",
       "      <td>[[1528.3544595850253, 70.97855464013438, 87.39...</td>\n",
       "      <td>[[], [326.8829137683448, 1771.97770180283, 221...</td>\n",
       "      <td>[[32.71066666666667], [48.82933333333334], [34...</td>\n",
       "      <td>[[992.7923678569936, 203.71106478366903, 101.6...</td>\n",
       "      <td>[[106.73432251483015, 822.9971835441078, 26.31...</td>\n",
       "      <td>[[2423.5274911688566, 8560.840046000936, 22.88...</td>\n",
       "    </tr>\n",
       "  </tbody>\n",
       "</table>\n",
       "<p>5 rows × 23 columns</p>\n",
       "</div>"
      ],
      "text/plain": [
       "                                                  0   \\\n",
       "0  [[899.9590736602594, 2.210035999876226, 503.29...   \n",
       "1  [[218.67131323303764, 389.7693500305548, 1779....   \n",
       "2  [[751.0764233344867, 234.75166794245084, 58.83...   \n",
       "3  [[89.53809505896791, 513.1357693694753, 750.52...   \n",
       "4  [[157.998643832346, 152.44023964041713, 1658.7...   \n",
       "\n",
       "                                                  1   \\\n",
       "0  [[32.8947833733154, 85.2846303098136, 38.26458...   \n",
       "1  [[13.474008856766517, 437.7259911432334], [7.9...   \n",
       "2  [[1.112047475084637, 977.4959525248654], [486....   \n",
       "3  [[73.02084152208097, 78.86189861703234, 86.566...   \n",
       "4  [[181.69222265193176, 219.7304440147181], [83....   \n",
       "\n",
       "                                                  2   \\\n",
       "0  [[240.87350645441518, 142.69237315538595, 196....   \n",
       "1  [[85.89334963794863, 312.39808229028733, 173.9...   \n",
       "2  [[1729.1129141610268, 1744.2460994891449, 102....   \n",
       "3  [[7.234790195082226, 64.15581854491205, 30.997...   \n",
       "4  [[600.5398675104069, 46.16524838731263, 18.950...   \n",
       "\n",
       "                                                  3   \\\n",
       "0  [[67.43036970252876, 19.733215682566353, 832.2...   \n",
       "1  [[85.71397468618105, 231.14307821048624, 263.0...   \n",
       "2  [[678.7691450872221, 21.301275164766814, 84.69...   \n",
       "3  [[3550.504198071988, 54.634494606707065, 73.19...   \n",
       "4  [[152.37087262969632, 155.18405269623292, 222....   \n",
       "\n",
       "                                                  4   \\\n",
       "0  [[557.3183165381788, 67.37182174714613, 57.490...   \n",
       "1  [[15.911787800452714, 168.12111797359034, 115....   \n",
       "2  [[0.5069103394320393, 131.199933124771, 569.84...   \n",
       "3  [[71.58038974407634, 1068.8892780045344, 338.8...   \n",
       "4  [[89.24455596456109, 106.35826481015019, 30.54...   \n",
       "\n",
       "                                                  5   \\\n",
       "0  [[98.36037868681962, 85.65300696713378, 42.738...   \n",
       "1  [[38.336752759506226, 2.80559405439152, 1149.6...   \n",
       "2  [[206.7938614595538, 1249.7981385403957], [89....   \n",
       "3  [[592.9479999999], [101.86207554762677, 309.84...   \n",
       "4  [[603.2586666666], [30.548346908391636, 85.909...   \n",
       "\n",
       "                                                  6   \\\n",
       "0  [[], [6.637333333333332], [85.87514768073771, ...   \n",
       "1  [[], [4.741333333333333], [175.68333937599988,...   \n",
       "2  [[22.992], [76.91866666666668], [16.6316794770...   \n",
       "3  [[], [23.704], [32.87870775469838, 144.8986255...   \n",
       "4  [[27.141333333333336], [52.147999999999996], [...   \n",
       "\n",
       "                                                  7   \\\n",
       "0  [[85.2492092431161, 78.01772479877587, 2003.64...   \n",
       "1  [[42.765459068504704, 1107.5482718558865, 117....   \n",
       "2  [[5.958379888101291, 1828.3370841390138, 39.33...   \n",
       "3  [[115.58666511709133, 1770.098448599625, 155.5...   \n",
       "4  [[1079.9735178404496, 79.70768073456651, 370.4...   \n",
       "\n",
       "                                                  8   \\\n",
       "0  [[386.86586322150697, 27.3351581973308, 76.411...   \n",
       "1  [[44.17633605192778, 185.15863137179736, 63.67...   \n",
       "2  [[6600.21186037913, 65.80875872349841, 137.997...   \n",
       "3  [[10.264412747430882, 7.60738263016799, 1494.2...   \n",
       "4  [[153.99666050355137, 157.6166756959192, 746.5...   \n",
       "\n",
       "                                                  9   ...  \\\n",
       "0  [[1753.9956105624958, 83.28358767522782, 112.7...  ...   \n",
       "1  [[655.1189541398671, 613.503712526733], [115.5...  ...   \n",
       "2  [[84.82093255474632, 175.50325342038474, 2323....  ...   \n",
       "3  [[473.7326259060785, 429.8154557665498, 89.229...  ...   \n",
       "4  [[42.29175247778635, 89.11377808668941, 1234.5...  ...   \n",
       "\n",
       "                                                  13  \\\n",
       "0  [[254.88666400524218, 73.31971456381619, 33.05...   \n",
       "1  [[4.702058359052117, 131.582130528976, 134.025...   \n",
       "2  [[1205.2884368342488, 86.66629222482923, 41.04...   \n",
       "3  [[1852.1665948461823, 1179.1814051537176], [16...   \n",
       "4  [[407.2352522497182, 93.42396249654475, 78.634...   \n",
       "\n",
       "                                                  14  \\\n",
       "0  [[504.1847506700464, 165.4476628215483, 156.35...   \n",
       "1  [[13.656249720339687, 807.5584169462604], [13....   \n",
       "2  [[236.49688368688498, 149.27452135634817, 40.2...   \n",
       "3  [[87.20909253355168, 125.90895153510004, 339.0...   \n",
       "4  [[504.19115669759964, 1250.8315099690506], [],...   \n",
       "\n",
       "                                                  15  \\\n",
       "0  [[133.023818442633, 332.75059273244995, 68.479...   \n",
       "1  [[24.98912381614825, 93.95948098743692, 30.477...   \n",
       "2  [[1845.8812835326817, 68.27053906205288, 120.0...   \n",
       "3  [[458.0742473515379, 159.24024536157324, 1565....   \n",
       "4  [[474.93919757206424, 411.7925800208942, 49.59...   \n",
       "\n",
       "                                                  16  \\\n",
       "0  [[133.60126468074478, 1399.465145071621, 96.31...   \n",
       "1  [[123.54955929439777, 126.57059699351633, 1420...   \n",
       "2  [[1116.5159094027124, 178.23225278239897, 112....   \n",
       "3  [[33.05541043675081, 209.38537174753, 118.2831...   \n",
       "4  [[250.62748524318536, 100.94899061666911, 1014...   \n",
       "\n",
       "                                                  17  \\\n",
       "0  [[46.76765180004713, 586.5018144995475, 1297.8...   \n",
       "1  [[165.88297686859983, 633.9798898073163, 41.40...   \n",
       "2  [[315.99804715993, 106.55808787568853, 1489.88...   \n",
       "3  [[155.39114493811738, 1540.3001883768543, 191....   \n",
       "4  [[1528.3544595850253, 70.97855464013438, 87.39...   \n",
       "\n",
       "                                                  18  \\\n",
       "0  [[], [58.85098974859595, 267.193010251304], [8...   \n",
       "1  [[], [185.63793253105, 15.008149981712378, 697...   \n",
       "2  [[], [127.12429297535164, 1616.7301311401407, ...   \n",
       "3  [[], [530.48933333325], [717.27466666665], [80...   \n",
       "4  [[], [326.8829137683448, 1771.97770180283, 221...   \n",
       "\n",
       "                                                  19  \\\n",
       "0  [[62.93333333333332], [36.62266666666667], [18...   \n",
       "1  [[8.533333333333331], [542.6959999999501], [15...   \n",
       "2  [[40.46273780713324, 49.82092569491911, 59.957...   \n",
       "3  [[200.17733333324995], [117.46977208198614, 85...   \n",
       "4  [[32.71066666666667], [48.82933333333334], [34...   \n",
       "\n",
       "                                                  20  \\\n",
       "0  [[104.88819482043722, 199.41605786428323, 79.3...   \n",
       "1  [[67.63410762983013, 76.27672634973116, 850.91...   \n",
       "2  [[85.69319380110213, 1962.8089577843282, 86.37...   \n",
       "3  [[110.21016661480677, 84.013915911387, 102.032...   \n",
       "4  [[992.7923678569936, 203.71106478366903, 101.6...   \n",
       "\n",
       "                                                  21  \\\n",
       "0  [[67.24450786217801, 158.49143450711705, 54.07...   \n",
       "1  [[194.94008174013868, 2467.2267363588926, 88.2...   \n",
       "2  [[56.98028381576634, 1687.304852597869, 51.937...   \n",
       "3  [[125.61587092611256, 939.0133097008375, 89.24...   \n",
       "4  [[106.73432251483015, 822.9971835441078, 26.31...   \n",
       "\n",
       "                                                  22  \n",
       "0  [[972.0067381886666, 11.805229879967385, 1578....  \n",
       "1  [[6299.9907518379005, 85.44038528363753, 86.70...  \n",
       "2  [[213.83277314185705, 68.97648106891539, 456.7...  \n",
       "3  [[24.086645910851622, 85.05024219261105, 1521....  \n",
       "4  [[2423.5274911688566, 8560.840046000936, 22.88...  \n",
       "\n",
       "[5 rows x 23 columns]"
      ]
     },
     "execution_count": 44,
     "metadata": {},
     "output_type": "execute_result"
    }
   ],
   "source": [
    "flows_ = pd.DataFrame(flows)\n",
    "# flows_.iloc[0,3]\n",
    "flows_.head()"
   ]
  },
  {
   "cell_type": "markdown",
   "id": "looking-understanding",
   "metadata": {},
   "source": [
    "#### session对之间生成的流的数量分布情况查看【此为此次的情况】"
   ]
  },
  {
   "cell_type": "markdown",
   "id": "toxic-walker",
   "metadata": {},
   "source": [
    "<div class=\"alert alert-block alert-info\">\n",
    "<b>查看下session * session的flows的num数量大概是多少</b> \n",
    "</div>"
   ]
  },
  {
   "cell_type": "code",
   "execution_count": 13,
   "id": "double-science",
   "metadata": {},
   "outputs": [
    {
     "name": "stdout",
     "output_type": "stream",
     "text": [
      "4.0\n",
      "121.0\n"
     ]
    },
    {
     "data": {
      "text/plain": [
       "1900"
      ]
     },
     "execution_count": 13,
     "metadata": {},
     "output_type": "execute_result"
    }
   ],
   "source": [
    "flowNums_= np.array(flowNum).reshape((-1,))\n",
    "print(np.percentile(flowNum, 50))\n",
    "print(np.percentile(flowNum, 95))\n",
    "max(flowNums_)  "
   ]
  },
  {
   "cell_type": "markdown",
   "id": "documentary-distinction",
   "metadata": {},
   "source": [
    "流的大小本身变得很大，那么流的数量就相应减小"
   ]
  },
  {
   "cell_type": "code",
   "execution_count": 14,
   "id": "intended-definition",
   "metadata": {},
   "outputs": [
    {
     "data": {
      "text/plain": [
       "Text(0, 0.5, 'cdf')"
      ]
     },
     "execution_count": 14,
     "metadata": {},
     "output_type": "execute_result"
    },
    {
     "name": "stderr",
     "output_type": "stream",
     "text": [
      "/home/hesy/.conda/envs/tf1.15/lib/python3.7/site-packages/matplotlib/backends/backend_agg.py:240: RuntimeWarning: Glyph 23545 missing from current font.\n",
      "  font.set_text(s, 0.0, flags=flags)\n",
      "/home/hesy/.conda/envs/tf1.15/lib/python3.7/site-packages/matplotlib/backends/backend_agg.py:240: RuntimeWarning: Glyph 20043 missing from current font.\n",
      "  font.set_text(s, 0.0, flags=flags)\n",
      "/home/hesy/.conda/envs/tf1.15/lib/python3.7/site-packages/matplotlib/backends/backend_agg.py:240: RuntimeWarning: Glyph 38388 missing from current font.\n",
      "  font.set_text(s, 0.0, flags=flags)\n",
      "/home/hesy/.conda/envs/tf1.15/lib/python3.7/site-packages/matplotlib/backends/backend_agg.py:240: RuntimeWarning: Glyph 30340 missing from current font.\n",
      "  font.set_text(s, 0.0, flags=flags)\n",
      "/home/hesy/.conda/envs/tf1.15/lib/python3.7/site-packages/matplotlib/backends/backend_agg.py:240: RuntimeWarning: Glyph 27969 missing from current font.\n",
      "  font.set_text(s, 0.0, flags=flags)\n",
      "/home/hesy/.conda/envs/tf1.15/lib/python3.7/site-packages/matplotlib/backends/backend_agg.py:240: RuntimeWarning: Glyph 25968 missing from current font.\n",
      "  font.set_text(s, 0.0, flags=flags)\n",
      "/home/hesy/.conda/envs/tf1.15/lib/python3.7/site-packages/matplotlib/backends/backend_agg.py:240: RuntimeWarning: Glyph 37327 missing from current font.\n",
      "  font.set_text(s, 0.0, flags=flags)\n",
      "/home/hesy/.conda/envs/tf1.15/lib/python3.7/site-packages/matplotlib/backends/backend_agg.py:203: RuntimeWarning: Glyph 23545 missing from current font.\n",
      "  font.set_text(s, 0, flags=flags)\n",
      "/home/hesy/.conda/envs/tf1.15/lib/python3.7/site-packages/matplotlib/backends/backend_agg.py:203: RuntimeWarning: Glyph 20043 missing from current font.\n",
      "  font.set_text(s, 0, flags=flags)\n",
      "/home/hesy/.conda/envs/tf1.15/lib/python3.7/site-packages/matplotlib/backends/backend_agg.py:203: RuntimeWarning: Glyph 38388 missing from current font.\n",
      "  font.set_text(s, 0, flags=flags)\n",
      "/home/hesy/.conda/envs/tf1.15/lib/python3.7/site-packages/matplotlib/backends/backend_agg.py:203: RuntimeWarning: Glyph 30340 missing from current font.\n",
      "  font.set_text(s, 0, flags=flags)\n",
      "/home/hesy/.conda/envs/tf1.15/lib/python3.7/site-packages/matplotlib/backends/backend_agg.py:203: RuntimeWarning: Glyph 27969 missing from current font.\n",
      "  font.set_text(s, 0, flags=flags)\n",
      "/home/hesy/.conda/envs/tf1.15/lib/python3.7/site-packages/matplotlib/backends/backend_agg.py:203: RuntimeWarning: Glyph 25968 missing from current font.\n",
      "  font.set_text(s, 0, flags=flags)\n",
      "/home/hesy/.conda/envs/tf1.15/lib/python3.7/site-packages/matplotlib/backends/backend_agg.py:203: RuntimeWarning: Glyph 37327 missing from current font.\n",
      "  font.set_text(s, 0, flags=flags)\n"
     ]
    },
    {
     "data": {
      "image/png": "[encoded data removed]",
      "text/plain": [
       "<Figure size 432x288 with 1 Axes>"
      ]
     },
     "metadata": {
      "needs_background": "light"
     },
     "output_type": "display_data"
    }
   ],
   "source": [
    "import statsmodels.api as sm\n",
    "data = flowNums_\n",
    "ecdf = sm.distributions.ECDF(data)\n",
    "#等差数列，用于绘制X轴数据\n",
    "x = np.linspace(min(data), max(data))\n",
    "# x轴数据上值对应的累计密度概率\n",
    "y = ecdf(x)\n",
    "plt.step(x,y)\n",
    "plt.xlabel(\"session对之间的流数量\")\n",
    "plt.ylabel(\"cdf\")"
   ]
  },
  {
   "cell_type": "markdown",
   "id": "excellent-update",
   "metadata": {},
   "source": [
    "1s内流的数量不超过300条 ，变成30s之后就是不超过le4条"
   ]
  },
  {
   "cell_type": "markdown",
   "id": "first-sandwich",
   "metadata": {},
   "source": [
    "<div class=\"alert alert-block alert-info\">\n",
    "<b>这个单位就全都是bytes了</b> , 上面生成流的过程中全部转为bytes了\n",
    "</div>"
   ]
  },
  {
   "cell_type": "code",
   "execution_count": 39,
   "id": "atomic-boards",
   "metadata": {
    "tags": []
   },
   "outputs": [
    {
     "data": {
      "text/html": [
       "<div>\n",
       "<style scoped>\n",
       "    .dataframe tbody tr th:only-of-type {\n",
       "        vertical-align: middle;\n",
       "    }\n",
       "\n",
       "    .dataframe tbody tr th {\n",
       "        vertical-align: top;\n",
       "    }\n",
       "\n",
       "    .dataframe thead th {\n",
       "        text-align: right;\n",
       "    }\n",
       "</style>\n",
       "<table border=\"1\" class=\"dataframe\">\n",
       "  <thead>\n",
       "    <tr style=\"text-align: right;\">\n",
       "      <th></th>\n",
       "      <th>0</th>\n",
       "      <th>1</th>\n",
       "      <th>2</th>\n",
       "      <th>3</th>\n",
       "      <th>4</th>\n",
       "      <th>5</th>\n",
       "      <th>6</th>\n",
       "      <th>7</th>\n",
       "      <th>8</th>\n",
       "      <th>9</th>\n",
       "      <th>...</th>\n",
       "      <th>13</th>\n",
       "      <th>14</th>\n",
       "      <th>15</th>\n",
       "      <th>16</th>\n",
       "      <th>17</th>\n",
       "      <th>18</th>\n",
       "      <th>19</th>\n",
       "      <th>20</th>\n",
       "      <th>21</th>\n",
       "      <th>22</th>\n",
       "    </tr>\n",
       "  </thead>\n",
       "  <tbody>\n",
       "    <tr>\n",
       "      <th>0</th>\n",
       "      <td>[[332.88327558197517, 1104.338345206197, 85.19...</td>\n",
       "      <td>[[53.28418163398089, 2770.389818366007], [40.5...</td>\n",
       "      <td>[[123.88582126832456, 127.26343273694732, 85.8...</td>\n",
       "      <td>[[254.94242873512994, 64.7700222803297, 1053.6...</td>\n",
       "      <td>[[407.3565426371456, 40.42233329629662, 102.71...</td>\n",
       "      <td>[[235.74948079470985, 30.191185871952655], [6....</td>\n",
       "      <td>[[46.44723441018271, 171.9110949652249, 1452.8...</td>\n",
       "      <td>[[85.41684535411883, 2.621207585892904, 399.12...</td>\n",
       "      <td>[[159.22766510754158, 345.5562331674922, 1581....</td>\n",
       "      <td>[[133.1917626645148, 110.58068250561072, 5.017...</td>\n",
       "      <td>...</td>\n",
       "      <td>[[913.6088640664126, 71.11485137680825, 71.639...</td>\n",
       "      <td>[[67.48149999999374], [15.880228941974593, 183...</td>\n",
       "      <td>[[163.29505977119493, 1560.3457874392402, 205....</td>\n",
       "      <td>[[65.4607133781149, 161.6371249374905, 89.8128...</td>\n",
       "      <td>[[108.90186593187542, 55.091576595164085, 1681...</td>\n",
       "      <td>[[236.2369999999875], [87.54620944719444, 260....</td>\n",
       "      <td>[[416.59266666665627], [273.3208632122369, 102...</td>\n",
       "      <td>[[35.57020965500743, 84.50480974904134, 236.99...</td>\n",
       "      <td>[[352.13147725390183, 85.91561322065361, 0.708...</td>\n",
       "      <td>[[38.48006232784262, 13.297771005482367], [91....</td>\n",
       "    </tr>\n",
       "    <tr>\n",
       "      <th>1</th>\n",
       "      <td>[[1527.276461494568, 242.36719228075964, 21.28...</td>\n",
       "      <td>[[1957.7315008266107, 461.26217796788296, 1833...</td>\n",
       "      <td>[[3071.71738989208, 50.43955014279778, 1188.06...</td>\n",
       "      <td>[[918.1491715555346, 64.59980649544093, 85.072...</td>\n",
       "      <td>[[96.16239492736723, 25.972053018185775, 838.6...</td>\n",
       "      <td>[[260.3111666666625], [123.47014995660565, 129...</td>\n",
       "      <td>[[4.712448338592296, 636.7002034053153, 127.64...</td>\n",
       "      <td>[[1462.4422167075286, 80.6452035098435, 87.406...</td>\n",
       "      <td>[[1459.7169581713738, 3.5122430192323293, 41.0...</td>\n",
       "      <td>[[160.1017348764284, 42.107053448307006, 220.7...</td>\n",
       "      <td>...</td>\n",
       "      <td>[[57.66740083328246, 70.94843878107089, 277.71...</td>\n",
       "      <td>[[140.69358015487262, 57.45458651178987], [193...</td>\n",
       "      <td>[[697.2585350336097, 351.5587954035777, 150.20...</td>\n",
       "      <td>[[1229.822828223631, 1476.420229711821, 1.1496...</td>\n",
       "      <td>[[1439.5010384224106, 789.5211282442519], [85....</td>\n",
       "      <td>[[60.86632327968492, 22.387228626258178, 52.34...</td>\n",
       "      <td>[[86.80152735209666, 147.5549258481906, 279.91...</td>\n",
       "      <td>[[463.04406231085676, 248.40030786121503, 1707...</td>\n",
       "      <td>[[114.82501585728147, 8.359050313653768, 179.1...</td>\n",
       "      <td>[[34.708010185268826, 89.30682314805617], [305...</td>\n",
       "    </tr>\n",
       "    <tr>\n",
       "      <th>2</th>\n",
       "      <td>[[84.5257587320144, 89.45887992986282, 86.9037...</td>\n",
       "      <td>[[460.84670528715736, 50.552467103707095, 144....</td>\n",
       "      <td>[[84.19896682221415, 45.814452903241346, 43.46...</td>\n",
       "      <td>[[594.610623326856, 23794.2930433398], [101.67...</td>\n",
       "      <td>[[78.45242298438428, 15.73047391007708, 140.07...</td>\n",
       "      <td>[[68.68706622341645, 197.2655163037843, 135.30...</td>\n",
       "      <td>[[121.12317309084291, 107.07214397530282, 146....</td>\n",
       "      <td>[[26.07175757543383, 47.59215335748276, 87.103...</td>\n",
       "      <td>[[158.06688824822766, 47.8541662479796, 101.87...</td>\n",
       "      <td>[[62.02092949140015, 51.4840978863154, 1086.94...</td>\n",
       "      <td>...</td>\n",
       "      <td>[[1132.1160765739146, 80.64960010435085, 16.30...</td>\n",
       "      <td>[[94.61254840652896, 11.43195159345855], [503....</td>\n",
       "      <td>[[422.5855303643823, 362.1089272548213, 91.414...</td>\n",
       "      <td>[[170.60189125819, 16.109519180094594, 437.047...</td>\n",
       "      <td>[[17.126910154436445, 115.83355820040109, 502....</td>\n",
       "      <td>[[193.48149999999373], [252.79751262309819, 7....</td>\n",
       "      <td>[[544.5481666666501], [1105.30366666665], [4.6...</td>\n",
       "      <td>[[86.89368894597857, 146.01883892208204, 1841....</td>\n",
       "      <td>[[47.519361850562554, 175.1341718617935, 30.77...</td>\n",
       "      <td>[[87.95549999999999], [5.604369074003316, 56.0...</td>\n",
       "    </tr>\n",
       "    <tr>\n",
       "      <th>3</th>\n",
       "      <td>[[269.13946291694646, 88.31611714357854, 86.04...</td>\n",
       "      <td>[[69.868549152689, 88.53235936408892, 231.3611...</td>\n",
       "      <td>[[18.528378447704, 1691.4273786313374, 1022.02...</td>\n",
       "      <td>[[96.4324887664508, 162.1819602835482, 215.015...</td>\n",
       "      <td>[[863.3164348879988, 100.8132245400828, 70.673...</td>\n",
       "      <td>[[88.78652646609765, 181.36164020056486], [391...</td>\n",
       "      <td>[[89.17272794177102, 89.04691316627472, 98.464...</td>\n",
       "      <td>[[2658.312971866752, 4755.03366039352, 146.580...</td>\n",
       "      <td>[[2619.72211025501, 89.88717839922083, 206.857...</td>\n",
       "      <td>[[118.8000448836596, 403.92474468137374, 323.7...</td>\n",
       "      <td>...</td>\n",
       "      <td>[[172.81680467368855, 114.07339324726628, 627....</td>\n",
       "      <td>[[148.47399999999377], [84.1136966011342, 113....</td>\n",
       "      <td>[[103.36088846283182, 284.96386577383157, 1378...</td>\n",
       "      <td>[[10.583571568672753, 88.55453807793418, 1019....</td>\n",
       "      <td>[[86.61186036319116, 1483.989612148077, 635.39...</td>\n",
       "      <td>[[101.99919945032536, 61.600800549668406], [20...</td>\n",
       "      <td>[[22.211816031377488, 85.37781853639997, 65.60...</td>\n",
       "      <td>[[647.7424223284897, 117.35462477535454, 49.70...</td>\n",
       "      <td>[[181.21989123653938, 20.009775430110636], [10...</td>\n",
       "      <td>[[84.770333333325], [88.75794127060249, 1079.0...</td>\n",
       "    </tr>\n",
       "    <tr>\n",
       "      <th>4</th>\n",
       "      <td>[[2577.6994349134493, 998.5132281137628, 294.0...</td>\n",
       "      <td>[[19.33553573397043, 16.223907341718302, 88.37...</td>\n",
       "      <td>[[190.43901273069514, 80.76737588275505, 3.393...</td>\n",
       "      <td>[[1.302228316347069, 854.1224277766814, 523.73...</td>\n",
       "      <td>[[255.54563513221362, 42.06162421459608, 122.3...</td>\n",
       "      <td>[[251.096333333325], [226.9552269361456, 1007....</td>\n",
       "      <td>[[1766.0728936715204, 88.46694204396054, 84.24...</td>\n",
       "      <td>[[984.1288966721862, 437.87892797525217, 1617....</td>\n",
       "      <td>[[519.4771910120238, 53.25595349227199, 1825.8...</td>\n",
       "      <td>[[113.33183745498094, 3.3226816269220194, 99.0...</td>\n",
       "      <td>...</td>\n",
       "      <td>[[112.16187685103618, 44.63345840708741, 84.05...</td>\n",
       "      <td>[[16.507935146832835, 628.1349361712969, 149.7...</td>\n",
       "      <td>[[134.52571319068622, 249.90617356850535, 1555...</td>\n",
       "      <td>[[8.734993436341682, 1601.611026875145, 257.12...</td>\n",
       "      <td>[[88.78195532940916, 523.7252129426907, 384.15...</td>\n",
       "      <td>[[89.19609472023943, 2.522405279754352], [319....</td>\n",
       "      <td>[[88.43160504392816, 105.77572828939682], [789...</td>\n",
       "      <td>[[1622.8744524541307, 89.88782632698691, 86.97...</td>\n",
       "      <td>[[236.4296666666625], [23.891485661416944, 259...</td>\n",
       "      <td>[[89.06422895397004, 141.88295763095283, 281.8...</td>\n",
       "    </tr>\n",
       "  </tbody>\n",
       "</table>\n",
       "<p>5 rows × 23 columns</p>\n",
       "</div>"
      ],
      "text/plain": [
       "                                                  0   \\\n",
       "0  [[332.88327558197517, 1104.338345206197, 85.19...   \n",
       "1  [[1527.276461494568, 242.36719228075964, 21.28...   \n",
       "2  [[84.5257587320144, 89.45887992986282, 86.9037...   \n",
       "3  [[269.13946291694646, 88.31611714357854, 86.04...   \n",
       "4  [[2577.6994349134493, 998.5132281137628, 294.0...   \n",
       "\n",
       "                                                  1   \\\n",
       "0  [[53.28418163398089, 2770.389818366007], [40.5...   \n",
       "1  [[1957.7315008266107, 461.26217796788296, 1833...   \n",
       "2  [[460.84670528715736, 50.552467103707095, 144....   \n",
       "3  [[69.868549152689, 88.53235936408892, 231.3611...   \n",
       "4  [[19.33553573397043, 16.223907341718302, 88.37...   \n",
       "\n",
       "                                                  2   \\\n",
       "0  [[123.88582126832456, 127.26343273694732, 85.8...   \n",
       "1  [[3071.71738989208, 50.43955014279778, 1188.06...   \n",
       "2  [[84.19896682221415, 45.814452903241346, 43.46...   \n",
       "3  [[18.528378447704, 1691.4273786313374, 1022.02...   \n",
       "4  [[190.43901273069514, 80.76737588275505, 3.393...   \n",
       "\n",
       "                                                  3   \\\n",
       "0  [[254.94242873512994, 64.7700222803297, 1053.6...   \n",
       "1  [[918.1491715555346, 64.59980649544093, 85.072...   \n",
       "2  [[594.610623326856, 23794.2930433398], [101.67...   \n",
       "3  [[96.4324887664508, 162.1819602835482, 215.015...   \n",
       "4  [[1.302228316347069, 854.1224277766814, 523.73...   \n",
       "\n",
       "                                                  4   \\\n",
       "0  [[407.3565426371456, 40.42233329629662, 102.71...   \n",
       "1  [[96.16239492736723, 25.972053018185775, 838.6...   \n",
       "2  [[78.45242298438428, 15.73047391007708, 140.07...   \n",
       "3  [[863.3164348879988, 100.8132245400828, 70.673...   \n",
       "4  [[255.54563513221362, 42.06162421459608, 122.3...   \n",
       "\n",
       "                                                  5   \\\n",
       "0  [[235.74948079470985, 30.191185871952655], [6....   \n",
       "1  [[260.3111666666625], [123.47014995660565, 129...   \n",
       "2  [[68.68706622341645, 197.2655163037843, 135.30...   \n",
       "3  [[88.78652646609765, 181.36164020056486], [391...   \n",
       "4  [[251.096333333325], [226.9552269361456, 1007....   \n",
       "\n",
       "                                                  6   \\\n",
       "0  [[46.44723441018271, 171.9110949652249, 1452.8...   \n",
       "1  [[4.712448338592296, 636.7002034053153, 127.64...   \n",
       "2  [[121.12317309084291, 107.07214397530282, 146....   \n",
       "3  [[89.17272794177102, 89.04691316627472, 98.464...   \n",
       "4  [[1766.0728936715204, 88.46694204396054, 84.24...   \n",
       "\n",
       "                                                  7   \\\n",
       "0  [[85.41684535411883, 2.621207585892904, 399.12...   \n",
       "1  [[1462.4422167075286, 80.6452035098435, 87.406...   \n",
       "2  [[26.07175757543383, 47.59215335748276, 87.103...   \n",
       "3  [[2658.312971866752, 4755.03366039352, 146.580...   \n",
       "4  [[984.1288966721862, 437.87892797525217, 1617....   \n",
       "\n",
       "                                                  8   \\\n",
       "0  [[159.22766510754158, 345.5562331674922, 1581....   \n",
       "1  [[1459.7169581713738, 3.5122430192323293, 41.0...   \n",
       "2  [[158.06688824822766, 47.8541662479796, 101.87...   \n",
       "3  [[2619.72211025501, 89.88717839922083, 206.857...   \n",
       "4  [[519.4771910120238, 53.25595349227199, 1825.8...   \n",
       "\n",
       "                                                  9   ...  \\\n",
       "0  [[133.1917626645148, 110.58068250561072, 5.017...  ...   \n",
       "1  [[160.1017348764284, 42.107053448307006, 220.7...  ...   \n",
       "2  [[62.02092949140015, 51.4840978863154, 1086.94...  ...   \n",
       "3  [[118.8000448836596, 403.92474468137374, 323.7...  ...   \n",
       "4  [[113.33183745498094, 3.3226816269220194, 99.0...  ...   \n",
       "\n",
       "                                                  13  \\\n",
       "0  [[913.6088640664126, 71.11485137680825, 71.639...   \n",
       "1  [[57.66740083328246, 70.94843878107089, 277.71...   \n",
       "2  [[1132.1160765739146, 80.64960010435085, 16.30...   \n",
       "3  [[172.81680467368855, 114.07339324726628, 627....   \n",
       "4  [[112.16187685103618, 44.63345840708741, 84.05...   \n",
       "\n",
       "                                                  14  \\\n",
       "0  [[67.48149999999374], [15.880228941974593, 183...   \n",
       "1  [[140.69358015487262, 57.45458651178987], [193...   \n",
       "2  [[94.61254840652896, 11.43195159345855], [503....   \n",
       "3  [[148.47399999999377], [84.1136966011342, 113....   \n",
       "4  [[16.507935146832835, 628.1349361712969, 149.7...   \n",
       "\n",
       "                                                  15  \\\n",
       "0  [[163.29505977119493, 1560.3457874392402, 205....   \n",
       "1  [[697.2585350336097, 351.5587954035777, 150.20...   \n",
       "2  [[422.5855303643823, 362.1089272548213, 91.414...   \n",
       "3  [[103.36088846283182, 284.96386577383157, 1378...   \n",
       "4  [[134.52571319068622, 249.90617356850535, 1555...   \n",
       "\n",
       "                                                  16  \\\n",
       "0  [[65.4607133781149, 161.6371249374905, 89.8128...   \n",
       "1  [[1229.822828223631, 1476.420229711821, 1.1496...   \n",
       "2  [[170.60189125819, 16.109519180094594, 437.047...   \n",
       "3  [[10.583571568672753, 88.55453807793418, 1019....   \n",
       "4  [[8.734993436341682, 1601.611026875145, 257.12...   \n",
       "\n",
       "                                                  17  \\\n",
       "0  [[108.90186593187542, 55.091576595164085, 1681...   \n",
       "1  [[1439.5010384224106, 789.5211282442519], [85....   \n",
       "2  [[17.126910154436445, 115.83355820040109, 502....   \n",
       "3  [[86.61186036319116, 1483.989612148077, 635.39...   \n",
       "4  [[88.78195532940916, 523.7252129426907, 384.15...   \n",
       "\n",
       "                                                  18  \\\n",
       "0  [[236.2369999999875], [87.54620944719444, 260....   \n",
       "1  [[60.86632327968492, 22.387228626258178, 52.34...   \n",
       "2  [[193.48149999999373], [252.79751262309819, 7....   \n",
       "3  [[101.99919945032536, 61.600800549668406], [20...   \n",
       "4  [[89.19609472023943, 2.522405279754352], [319....   \n",
       "\n",
       "                                                  19  \\\n",
       "0  [[416.59266666665627], [273.3208632122369, 102...   \n",
       "1  [[86.80152735209666, 147.5549258481906, 279.91...   \n",
       "2  [[544.5481666666501], [1105.30366666665], [4.6...   \n",
       "3  [[22.211816031377488, 85.37781853639997, 65.60...   \n",
       "4  [[88.43160504392816, 105.77572828939682], [789...   \n",
       "\n",
       "                                                  20  \\\n",
       "0  [[35.57020965500743, 84.50480974904134, 236.99...   \n",
       "1  [[463.04406231085676, 248.40030786121503, 1707...   \n",
       "2  [[86.89368894597857, 146.01883892208204, 1841....   \n",
       "3  [[647.7424223284897, 117.35462477535454, 49.70...   \n",
       "4  [[1622.8744524541307, 89.88782632698691, 86.97...   \n",
       "\n",
       "                                                  21  \\\n",
       "0  [[352.13147725390183, 85.91561322065361, 0.708...   \n",
       "1  [[114.82501585728147, 8.359050313653768, 179.1...   \n",
       "2  [[47.519361850562554, 175.1341718617935, 30.77...   \n",
       "3  [[181.21989123653938, 20.009775430110636], [10...   \n",
       "4  [[236.4296666666625], [23.891485661416944, 259...   \n",
       "\n",
       "                                                  22  \n",
       "0  [[38.48006232784262, 13.297771005482367], [91....  \n",
       "1  [[34.708010185268826, 89.30682314805617], [305...  \n",
       "2  [[87.95549999999999], [5.604369074003316, 56.0...  \n",
       "3  [[84.770333333325], [88.75794127060249, 1079.0...  \n",
       "4  [[89.06422895397004, 141.88295763095283, 281.8...  \n",
       "\n",
       "[5 rows x 23 columns]"
      ]
     },
     "execution_count": 39,
     "metadata": {},
     "output_type": "execute_result"
    }
   ],
   "source": [
    "flows_ = pd.DataFrame(flows)\n",
    "# flows_.iloc[0,3]\n",
    "flows_.head()"
   ]
  },
  {
   "cell_type": "markdown",
   "id": "controversial-collector",
   "metadata": {},
   "source": [
    "### TM 4503 查看 -- check 【lam为40的情况供参考】"
   ]
  },
  {
   "cell_type": "markdown",
   "id": "controversial-cabin",
   "metadata": {},
   "source": [
    "#### 流的大小分布情况查看"
   ]
  },
  {
   "cell_type": "code",
   "execution_count": null,
   "id": "split-while",
   "metadata": {},
   "outputs": [],
   "source": [
    "print(np.percentile(flows_[3], 50))\n",
    "print(np.percentile(flows_[3], 95))\n",
    "max(flows_[3])"
   ]
  },
  {
   "cell_type": "markdown",
   "id": "smaller-gossip",
   "metadata": {},
   "source": [
    "跟上面的差不多哈，感觉没有造错"
   ]
  },
  {
   "cell_type": "code",
   "execution_count": null,
   "id": "subjective-valuable",
   "metadata": {},
   "outputs": [],
   "source": [
    "import statsmodels.api as sm\n",
    "data = flows_[3]\n",
    "ecdf = sm.distributions.ECDF(data)\n",
    "#等差数列，用于绘制X轴数据\n",
    "x = np.linspace(min(data), max(data))\n",
    "# x轴数据上值对应的累计密度概率\n",
    "y = ecdf(x)\n",
    "plt.step(x,y)\n",
    "plt.xlabel(\"session对之间的流大小（bytes）\")\n",
    "plt.ylabel(\"cdf\")"
   ]
  },
  {
   "cell_type": "code",
   "execution_count": null,
   "id": "choice-communication",
   "metadata": {},
   "outputs": [],
   "source": [
    "大流不多\n",
    "\n",
    "??? 50% 是100多B是不是有点小了..."
   ]
  },
  {
   "cell_type": "markdown",
   "id": "received-bristol",
   "metadata": {},
   "source": [
    "#### session对之间生成的流的数量分布情况查看"
   ]
  },
  {
   "cell_type": "markdown",
   "id": "headed-catalog",
   "metadata": {},
   "source": [
    "<div class=\"alert alert-block alert-info\">\n",
    "<b>查看下session * session的flows的num数量大概是多少</b> \n",
    "</div>"
   ]
  },
  {
   "cell_type": "code",
   "execution_count": 26,
   "id": "studied-class",
   "metadata": {},
   "outputs": [
    {
     "name": "stdout",
     "output_type": "stream",
     "text": [
      "28.0\n",
      "1809.5\n"
     ]
    },
    {
     "data": {
      "text/plain": [
       "16507"
      ]
     },
     "execution_count": 26,
     "metadata": {},
     "output_type": "execute_result"
    }
   ],
   "source": [
    "flowNums_= np.array(flowNum[3]).reshape((-1,))\n",
    "print(np.percentile(flowNums_, 50))\n",
    "print(np.percentile(flowNums_, 95))\n",
    "max(flowNums_)  "
   ]
  },
  {
   "cell_type": "code",
   "execution_count": 27,
   "id": "green-commons",
   "metadata": {},
   "outputs": [
    {
     "data": {
      "text/plain": [
       "Text(0, 0.5, 'cdf')"
      ]
     },
     "execution_count": 27,
     "metadata": {},
     "output_type": "execute_result"
    },
    {
     "name": "stderr",
     "output_type": "stream",
     "text": [
      "/home/hesy/.conda/envs/tf1.15/lib/python3.7/site-packages/matplotlib/backends/backend_agg.py:240: RuntimeWarning: Glyph 23545 missing from current font.\n",
      "  font.set_text(s, 0.0, flags=flags)\n",
      "/home/hesy/.conda/envs/tf1.15/lib/python3.7/site-packages/matplotlib/backends/backend_agg.py:240: RuntimeWarning: Glyph 20043 missing from current font.\n",
      "  font.set_text(s, 0.0, flags=flags)\n",
      "/home/hesy/.conda/envs/tf1.15/lib/python3.7/site-packages/matplotlib/backends/backend_agg.py:240: RuntimeWarning: Glyph 38388 missing from current font.\n",
      "  font.set_text(s, 0.0, flags=flags)\n",
      "/home/hesy/.conda/envs/tf1.15/lib/python3.7/site-packages/matplotlib/backends/backend_agg.py:240: RuntimeWarning: Glyph 30340 missing from current font.\n",
      "  font.set_text(s, 0.0, flags=flags)\n",
      "/home/hesy/.conda/envs/tf1.15/lib/python3.7/site-packages/matplotlib/backends/backend_agg.py:240: RuntimeWarning: Glyph 27969 missing from current font.\n",
      "  font.set_text(s, 0.0, flags=flags)\n",
      "/home/hesy/.conda/envs/tf1.15/lib/python3.7/site-packages/matplotlib/backends/backend_agg.py:240: RuntimeWarning: Glyph 25968 missing from current font.\n",
      "  font.set_text(s, 0.0, flags=flags)\n",
      "/home/hesy/.conda/envs/tf1.15/lib/python3.7/site-packages/matplotlib/backends/backend_agg.py:240: RuntimeWarning: Glyph 37327 missing from current font.\n",
      "  font.set_text(s, 0.0, flags=flags)\n",
      "/home/hesy/.conda/envs/tf1.15/lib/python3.7/site-packages/matplotlib/backends/backend_agg.py:203: RuntimeWarning: Glyph 23545 missing from current font.\n",
      "  font.set_text(s, 0, flags=flags)\n",
      "/home/hesy/.conda/envs/tf1.15/lib/python3.7/site-packages/matplotlib/backends/backend_agg.py:203: RuntimeWarning: Glyph 20043 missing from current font.\n",
      "  font.set_text(s, 0, flags=flags)\n",
      "/home/hesy/.conda/envs/tf1.15/lib/python3.7/site-packages/matplotlib/backends/backend_agg.py:203: RuntimeWarning: Glyph 38388 missing from current font.\n",
      "  font.set_text(s, 0, flags=flags)\n",
      "/home/hesy/.conda/envs/tf1.15/lib/python3.7/site-packages/matplotlib/backends/backend_agg.py:203: RuntimeWarning: Glyph 30340 missing from current font.\n",
      "  font.set_text(s, 0, flags=flags)\n",
      "/home/hesy/.conda/envs/tf1.15/lib/python3.7/site-packages/matplotlib/backends/backend_agg.py:203: RuntimeWarning: Glyph 27969 missing from current font.\n",
      "  font.set_text(s, 0, flags=flags)\n",
      "/home/hesy/.conda/envs/tf1.15/lib/python3.7/site-packages/matplotlib/backends/backend_agg.py:203: RuntimeWarning: Glyph 25968 missing from current font.\n",
      "  font.set_text(s, 0, flags=flags)\n",
      "/home/hesy/.conda/envs/tf1.15/lib/python3.7/site-packages/matplotlib/backends/backend_agg.py:203: RuntimeWarning: Glyph 37327 missing from current font.\n",
      "  font.set_text(s, 0, flags=flags)\n"
     ]
    },
    {
     "data": {
      "image/png": "[encoded data removed]",
      "text/plain": [
       "<Figure size 432x288 with 1 Axes>"
      ]
     },
     "metadata": {
      "needs_background": "light"
     },
     "output_type": "display_data"
    }
   ],
   "source": [
    "import statsmodels.api as sm\n",
    "data = flowNums_\n",
    "ecdf = sm.distributions.ECDF(data)\n",
    "#等差数列，用于绘制X轴数据\n",
    "x = np.linspace(min(data), max(data))\n",
    "# x轴数据上值对应的累计密度概率\n",
    "y = ecdf(x)\n",
    "plt.step(x,y)\n",
    "plt.xlabel(\"session对之间的流数量\")\n",
    "plt.ylabel(\"cdf\")"
   ]
  },
  {
   "cell_type": "markdown",
   "id": "wooden-supervisor",
   "metadata": {},
   "source": [
    "1s内流的数量不超过300条 ，变成30s之后就是不超过le4条"
   ]
  },
  {
   "cell_type": "markdown",
   "id": "composite-desert",
   "metadata": {},
   "source": [
    "<div class=\"alert alert-block alert-info\">\n",
    "<b>这个单位就全都是bytes了</b> , 上面生成流的过程中全部转为bytes了\n",
    "</div>"
   ]
  },
  {
   "cell_type": "code",
   "execution_count": 28,
   "id": "revised-optimization",
   "metadata": {
    "tags": []
   },
   "outputs": [
    {
     "data": {
      "text/plain": [
       "56"
      ]
     },
     "execution_count": 28,
     "metadata": {},
     "output_type": "execute_result"
    }
   ],
   "source": [
    "len(pd.DataFrame(flows).iloc[2,1][3])"
   ]
  },
  {
   "cell_type": "code",
   "execution_count": 45,
   "id": "false-france",
   "metadata": {},
   "outputs": [
    {
     "data": {
      "text/html": [
       "<div>\n",
       "<style scoped>\n",
       "    .dataframe tbody tr th:only-of-type {\n",
       "        vertical-align: middle;\n",
       "    }\n",
       "\n",
       "    .dataframe tbody tr th {\n",
       "        vertical-align: top;\n",
       "    }\n",
       "\n",
       "    .dataframe thead th {\n",
       "        text-align: right;\n",
       "    }\n",
       "</style>\n",
       "<table border=\"1\" class=\"dataframe\">\n",
       "  <thead>\n",
       "    <tr style=\"text-align: right;\">\n",
       "      <th></th>\n",
       "      <th>0</th>\n",
       "      <th>1</th>\n",
       "      <th>2</th>\n",
       "      <th>3</th>\n",
       "      <th>4</th>\n",
       "      <th>5</th>\n",
       "      <th>6</th>\n",
       "      <th>7</th>\n",
       "      <th>8</th>\n",
       "      <th>9</th>\n",
       "      <th>...</th>\n",
       "      <th>13</th>\n",
       "      <th>14</th>\n",
       "      <th>15</th>\n",
       "      <th>16</th>\n",
       "      <th>17</th>\n",
       "      <th>18</th>\n",
       "      <th>19</th>\n",
       "      <th>20</th>\n",
       "      <th>21</th>\n",
       "      <th>22</th>\n",
       "    </tr>\n",
       "  </thead>\n",
       "  <tbody>\n",
       "    <tr>\n",
       "      <th>0</th>\n",
       "      <td>[[85.488082837786, 42.550605976633584, 49.8281...</td>\n",
       "      <td>[[133.92577403134692, 199.20718671426854, 231....</td>\n",
       "      <td>[[206.62110969249858, 173.3724123299486, 1036....</td>\n",
       "      <td>[[221.45823062541632, 1412.4150508375046, 138....</td>\n",
       "      <td>[[1582.6426160854262, 84.0692446584513, 1139.1...</td>\n",
       "      <td>[[53.188133333332495], [2.0082605551922086, 47...</td>\n",
       "      <td>[[580.10073333333], [87.57664142902256, 84.841...</td>\n",
       "      <td>[[569.6115528870814, 551.5144835856387, 1411.6...</td>\n",
       "      <td>[[172.8997921819955, 635.692052513481, 68.4627...</td>\n",
       "      <td>[[85.56566111816178, 135.49507221516814], [154...</td>\n",
       "      <td>...</td>\n",
       "      <td>[[240.03066782120987, 32.146761241174346, 191....</td>\n",
       "      <td>[[13.49629999999875], [30.50729285235338, 27.4...</td>\n",
       "      <td>[[253.5528192131821, 69.79212574732665, 1626.6...</td>\n",
       "      <td>[[140.3730256238627, 34.78676022401097, 58.755...</td>\n",
       "      <td>[[369.0044333333326], [1773.3217785681288, 95....</td>\n",
       "      <td>[[47.2473999999975], [69.62073333333001], [], ...</td>\n",
       "      <td>[[83.31853333333125], [352.8514686478673, 163....</td>\n",
       "      <td>[[155.22534658561148, 281.86205341438847], [86...</td>\n",
       "      <td>[[87.75109999999876], [557.3007333333301], [34...</td>\n",
       "      <td>[[10.355566666664998], [46.802313557637696, 13...</td>\n",
       "    </tr>\n",
       "    <tr>\n",
       "      <th>1</th>\n",
       "      <td>[[83.25491113553501, 1378.3567244418684, 75.27...</td>\n",
       "      <td>[[850.4207333333325], [13.982233333331251], [2...</td>\n",
       "      <td>[[3.583375564122008, 994.1640984290468, 503.50...</td>\n",
       "      <td>[[129.53028999508194, 133.54175914216435, 1586...</td>\n",
       "      <td>[[69.23126345571666, 97.75225868293413, 135.19...</td>\n",
       "      <td>[[52.06223333333249], [85.27804949319227, 441....</td>\n",
       "      <td>[[457.5391847152413, 694.7837819514236], [61.9...</td>\n",
       "      <td>[[36.2876787852865, 1699.8694096622337, 144.56...</td>\n",
       "      <td>[[84.43809730352254, 85.64727003586297, 9.6570...</td>\n",
       "      <td>[[149.02223333333248], [1297.8461448712728, 16...</td>\n",
       "      <td>...</td>\n",
       "      <td>[[444.54519999999746], [973.0170514555049, 648...</td>\n",
       "      <td>[[39.6296333333325], [38.767399999998744], [],...</td>\n",
       "      <td>[[1897.988755319292, 66.50585938367418, 133.72...</td>\n",
       "      <td>[[84.06553336677864, 18.876550511730073, 4.186...</td>\n",
       "      <td>[[67.84003797651127, 377.96439535682134], [1.8...</td>\n",
       "      <td>[[30.71406666666375], [72.681466666665], [0.15...</td>\n",
       "      <td>[[3.8675061610338446, 98.98582717229745], [90....</td>\n",
       "      <td>[[483.7155666666637], [158.24336505052733, 3.9...</td>\n",
       "      <td>[[98.09186666666623], [171.40848343583713, 33....</td>\n",
       "      <td>[[24.802966666665004], [61.131866666666255], [...</td>\n",
       "    </tr>\n",
       "    <tr>\n",
       "      <th>2</th>\n",
       "      <td>[[87.96362992379683, 684.0533439667272, 378.88...</td>\n",
       "      <td>[[86.96931540106607, 151.31894856636913, 25.94...</td>\n",
       "      <td>[[87.55863113259214, 118.02894989498004, 920.9...</td>\n",
       "      <td>[[1185.637553131986, 99.02694264198601, 21.606...</td>\n",
       "      <td>[[339.16735052090746, 142.5470738128188, 8.286...</td>\n",
       "      <td>[[102.56593333333124], [43.14675993462723, 992...</td>\n",
       "      <td>[[62.349739592333876, 236.8209942969889, 164.0...</td>\n",
       "      <td>[[315.3229856344304, 102.7585798072233, 143.53...</td>\n",
       "      <td>[[89.05628468089549, 937.3868970649573, 85.116...</td>\n",
       "      <td>[[27.40643712766478, 246.7328295390002], [43.5...</td>\n",
       "      <td>...</td>\n",
       "      <td>[[164.91634274356653, 372.9829239230985], [190...</td>\n",
       "      <td>[[21.2088999999975], [83.48841474959185, 17.15...</td>\n",
       "      <td>[[1528.4062406125, 56.310067871169004, 562.683...</td>\n",
       "      <td>[[0.6043382365596983, 20.211781530874575, 429....</td>\n",
       "      <td>[[438.50073333333], [132.01396716259273, 63.14...</td>\n",
       "      <td>[[38.69629999999875], [43.31454720894065, 8.78...</td>\n",
       "      <td>[[51.227526146402425, 57.68210718692758], [60....</td>\n",
       "      <td>[[415.0222333333313], [99.03242153274431, 1460...</td>\n",
       "      <td>[[118.39935146763857, 5.070281865692692], [699...</td>\n",
       "      <td>[[17.591099999999997], [93.80443333333125], []...</td>\n",
       "    </tr>\n",
       "    <tr>\n",
       "      <th>3</th>\n",
       "      <td>[[85.80919429047042, 22.814708548029188, 587.2...</td>\n",
       "      <td>[[63.04401069786216, 205.73259553561454, 89.45...</td>\n",
       "      <td>[[8.527773362875479, 127.22183786504044, 84.83...</td>\n",
       "      <td>[[133.30017433979071, 5000.892425660208], [18....</td>\n",
       "      <td>[[4137.854799999997], [125.72109439375605, 75....</td>\n",
       "      <td>[[54.029633333332505], [115.68423362267413, 19...</td>\n",
       "      <td>[[433.5855387317418, 68.16549946325458, 375.80...</td>\n",
       "      <td>[[222.11682673742268, 1859.3557025602397, 762....</td>\n",
       "      <td>[[1406.8869029422242, 62.12674503093112, 1807....</td>\n",
       "      <td>[[114.6526103527114, 54.64218964728866], [8719...</td>\n",
       "      <td>...</td>\n",
       "      <td>[[430.57186666666496], [197.46632341074823, 42...</td>\n",
       "      <td>[[29.694799999998754], [79.4031182311807, 12.4...</td>\n",
       "      <td>[[1524.8918180971546, 67.00956992516959, 207.2...</td>\n",
       "      <td>[[43.549528166587514, 357.38677183340997], [11...</td>\n",
       "      <td>[[375.7038325247801, 42.69400310425556, 81.993...</td>\n",
       "      <td>[[32.71999999999875], [30.67556666666625], [],...</td>\n",
       "      <td>[[84.64593333333002], [160.8770333333325], [5....</td>\n",
       "      <td>[[300.3192866113575, 176.89848005530877], [179...</td>\n",
       "      <td>[[40.24593333333], [30.77880462295672, 384.745...</td>\n",
       "      <td>[[16.954066666665], [233.55853333333127], [], ...</td>\n",
       "    </tr>\n",
       "    <tr>\n",
       "      <th>4</th>\n",
       "      <td>[[774.0503666666662], [6.989633333332499], [50...</td>\n",
       "      <td>[[85.72297590003042, 96.11261860869833, 48.550...</td>\n",
       "      <td>[[699.994066666665], [1350.4710999999975], [11...</td>\n",
       "      <td>[[24.874248946648343, 163.94155297573803, 304....</td>\n",
       "      <td>[[87.39161574579194, 158.45774658371116, 200.1...</td>\n",
       "      <td>[[50.219266666665], [1074.3348], [], [0.118533...</td>\n",
       "      <td>[[22.310171030178665, 106.82539482024784, 67.0...</td>\n",
       "      <td>[[98.40786823926199, 88.97725023225432, 98.255...</td>\n",
       "      <td>[[85.66571648777591, 10.8279381859942, 87.1498...</td>\n",
       "      <td>[[85.68889999999874], [1408.383362276018, 1053...</td>\n",
       "      <td>...</td>\n",
       "      <td>[[149.74617937262423, 40.73073500139009, 211.0...</td>\n",
       "      <td>[[404.3170333333312], [85.77319474559138, 19.9...</td>\n",
       "      <td>[[45.19080963178505, 85.7403000468613, 86.8050...</td>\n",
       "      <td>[[89.11910731175662, 89.98840606909626, 207.04...</td>\n",
       "      <td>[[242.73152043911554, 2.6590503501060283, 253....</td>\n",
       "      <td>[[18.34369999999875], [63.854799999997496], [8...</td>\n",
       "      <td>[[38.841466666665], [141.41671819176437, 120.5...</td>\n",
       "      <td>[[406.26666666666375], [165.61442329304853, 38...</td>\n",
       "      <td>[[47.28593333333251], [26.82479565827518, 656....</td>\n",
       "      <td>[[87.92696974758272, 14.627096919083542], [91....</td>\n",
       "    </tr>\n",
       "  </tbody>\n",
       "</table>\n",
       "<p>5 rows × 23 columns</p>\n",
       "</div>"
      ],
      "text/plain": [
       "                                                  0   \\\n",
       "0  [[85.488082837786, 42.550605976633584, 49.8281...   \n",
       "1  [[83.25491113553501, 1378.3567244418684, 75.27...   \n",
       "2  [[87.96362992379683, 684.0533439667272, 378.88...   \n",
       "3  [[85.80919429047042, 22.814708548029188, 587.2...   \n",
       "4  [[774.0503666666662], [6.989633333332499], [50...   \n",
       "\n",
       "                                                  1   \\\n",
       "0  [[133.92577403134692, 199.20718671426854, 231....   \n",
       "1  [[850.4207333333325], [13.982233333331251], [2...   \n",
       "2  [[86.96931540106607, 151.31894856636913, 25.94...   \n",
       "3  [[63.04401069786216, 205.73259553561454, 89.45...   \n",
       "4  [[85.72297590003042, 96.11261860869833, 48.550...   \n",
       "\n",
       "                                                  2   \\\n",
       "0  [[206.62110969249858, 173.3724123299486, 1036....   \n",
       "1  [[3.583375564122008, 994.1640984290468, 503.50...   \n",
       "2  [[87.55863113259214, 118.02894989498004, 920.9...   \n",
       "3  [[8.527773362875479, 127.22183786504044, 84.83...   \n",
       "4  [[699.994066666665], [1350.4710999999975], [11...   \n",
       "\n",
       "                                                  3   \\\n",
       "0  [[221.45823062541632, 1412.4150508375046, 138....   \n",
       "1  [[129.53028999508194, 133.54175914216435, 1586...   \n",
       "2  [[1185.637553131986, 99.02694264198601, 21.606...   \n",
       "3  [[133.30017433979071, 5000.892425660208], [18....   \n",
       "4  [[24.874248946648343, 163.94155297573803, 304....   \n",
       "\n",
       "                                                  4   \\\n",
       "0  [[1582.6426160854262, 84.0692446584513, 1139.1...   \n",
       "1  [[69.23126345571666, 97.75225868293413, 135.19...   \n",
       "2  [[339.16735052090746, 142.5470738128188, 8.286...   \n",
       "3  [[4137.854799999997], [125.72109439375605, 75....   \n",
       "4  [[87.39161574579194, 158.45774658371116, 200.1...   \n",
       "\n",
       "                                                  5   \\\n",
       "0  [[53.188133333332495], [2.0082605551922086, 47...   \n",
       "1  [[52.06223333333249], [85.27804949319227, 441....   \n",
       "2  [[102.56593333333124], [43.14675993462723, 992...   \n",
       "3  [[54.029633333332505], [115.68423362267413, 19...   \n",
       "4  [[50.219266666665], [1074.3348], [], [0.118533...   \n",
       "\n",
       "                                                  6   \\\n",
       "0  [[580.10073333333], [87.57664142902256, 84.841...   \n",
       "1  [[457.5391847152413, 694.7837819514236], [61.9...   \n",
       "2  [[62.349739592333876, 236.8209942969889, 164.0...   \n",
       "3  [[433.5855387317418, 68.16549946325458, 375.80...   \n",
       "4  [[22.310171030178665, 106.82539482024784, 67.0...   \n",
       "\n",
       "                                                  7   \\\n",
       "0  [[569.6115528870814, 551.5144835856387, 1411.6...   \n",
       "1  [[36.2876787852865, 1699.8694096622337, 144.56...   \n",
       "2  [[315.3229856344304, 102.7585798072233, 143.53...   \n",
       "3  [[222.11682673742268, 1859.3557025602397, 762....   \n",
       "4  [[98.40786823926199, 88.97725023225432, 98.255...   \n",
       "\n",
       "                                                  8   \\\n",
       "0  [[172.8997921819955, 635.692052513481, 68.4627...   \n",
       "1  [[84.43809730352254, 85.64727003586297, 9.6570...   \n",
       "2  [[89.05628468089549, 937.3868970649573, 85.116...   \n",
       "3  [[1406.8869029422242, 62.12674503093112, 1807....   \n",
       "4  [[85.66571648777591, 10.8279381859942, 87.1498...   \n",
       "\n",
       "                                                  9   ...  \\\n",
       "0  [[85.56566111816178, 135.49507221516814], [154...  ...   \n",
       "1  [[149.02223333333248], [1297.8461448712728, 16...  ...   \n",
       "2  [[27.40643712766478, 246.7328295390002], [43.5...  ...   \n",
       "3  [[114.6526103527114, 54.64218964728866], [8719...  ...   \n",
       "4  [[85.68889999999874], [1408.383362276018, 1053...  ...   \n",
       "\n",
       "                                                  13  \\\n",
       "0  [[240.03066782120987, 32.146761241174346, 191....   \n",
       "1  [[444.54519999999746], [973.0170514555049, 648...   \n",
       "2  [[164.91634274356653, 372.9829239230985], [190...   \n",
       "3  [[430.57186666666496], [197.46632341074823, 42...   \n",
       "4  [[149.74617937262423, 40.73073500139009, 211.0...   \n",
       "\n",
       "                                                  14  \\\n",
       "0  [[13.49629999999875], [30.50729285235338, 27.4...   \n",
       "1  [[39.6296333333325], [38.767399999998744], [],...   \n",
       "2  [[21.2088999999975], [83.48841474959185, 17.15...   \n",
       "3  [[29.694799999998754], [79.4031182311807, 12.4...   \n",
       "4  [[404.3170333333312], [85.77319474559138, 19.9...   \n",
       "\n",
       "                                                  15  \\\n",
       "0  [[253.5528192131821, 69.79212574732665, 1626.6...   \n",
       "1  [[1897.988755319292, 66.50585938367418, 133.72...   \n",
       "2  [[1528.4062406125, 56.310067871169004, 562.683...   \n",
       "3  [[1524.8918180971546, 67.00956992516959, 207.2...   \n",
       "4  [[45.19080963178505, 85.7403000468613, 86.8050...   \n",
       "\n",
       "                                                  16  \\\n",
       "0  [[140.3730256238627, 34.78676022401097, 58.755...   \n",
       "1  [[84.06553336677864, 18.876550511730073, 4.186...   \n",
       "2  [[0.6043382365596983, 20.211781530874575, 429....   \n",
       "3  [[43.549528166587514, 357.38677183340997], [11...   \n",
       "4  [[89.11910731175662, 89.98840606909626, 207.04...   \n",
       "\n",
       "                                                  17  \\\n",
       "0  [[369.0044333333326], [1773.3217785681288, 95....   \n",
       "1  [[67.84003797651127, 377.96439535682134], [1.8...   \n",
       "2  [[438.50073333333], [132.01396716259273, 63.14...   \n",
       "3  [[375.7038325247801, 42.69400310425556, 81.993...   \n",
       "4  [[242.73152043911554, 2.6590503501060283, 253....   \n",
       "\n",
       "                                                  18  \\\n",
       "0  [[47.2473999999975], [69.62073333333001], [], ...   \n",
       "1  [[30.71406666666375], [72.681466666665], [0.15...   \n",
       "2  [[38.69629999999875], [43.31454720894065, 8.78...   \n",
       "3  [[32.71999999999875], [30.67556666666625], [],...   \n",
       "4  [[18.34369999999875], [63.854799999997496], [8...   \n",
       "\n",
       "                                                  19  \\\n",
       "0  [[83.31853333333125], [352.8514686478673, 163....   \n",
       "1  [[3.8675061610338446, 98.98582717229745], [90....   \n",
       "2  [[51.227526146402425, 57.68210718692758], [60....   \n",
       "3  [[84.64593333333002], [160.8770333333325], [5....   \n",
       "4  [[38.841466666665], [141.41671819176437, 120.5...   \n",
       "\n",
       "                                                  20  \\\n",
       "0  [[155.22534658561148, 281.86205341438847], [86...   \n",
       "1  [[483.7155666666637], [158.24336505052733, 3.9...   \n",
       "2  [[415.0222333333313], [99.03242153274431, 1460...   \n",
       "3  [[300.3192866113575, 176.89848005530877], [179...   \n",
       "4  [[406.26666666666375], [165.61442329304853, 38...   \n",
       "\n",
       "                                                  21  \\\n",
       "0  [[87.75109999999876], [557.3007333333301], [34...   \n",
       "1  [[98.09186666666623], [171.40848343583713, 33....   \n",
       "2  [[118.39935146763857, 5.070281865692692], [699...   \n",
       "3  [[40.24593333333], [30.77880462295672, 384.745...   \n",
       "4  [[47.28593333333251], [26.82479565827518, 656....   \n",
       "\n",
       "                                                  22  \n",
       "0  [[10.355566666664998], [46.802313557637696, 13...  \n",
       "1  [[24.802966666665004], [61.131866666666255], [...  \n",
       "2  [[17.591099999999997], [93.80443333333125], []...  \n",
       "3  [[16.954066666665], [233.55853333333127], [], ...  \n",
       "4  [[87.92696974758272, 14.627096919083542], [91....  \n",
       "\n",
       "[5 rows x 23 columns]"
      ]
     },
     "execution_count": 45,
     "metadata": {},
     "output_type": "execute_result"
    }
   ],
   "source": [
    "flows_ = pd.DataFrame(flows)\n",
    "# flows_.iloc[0,3]\n",
    "flows_.head()"
   ]
  },
  {
   "cell_type": "markdown",
   "id": "funny-employment",
   "metadata": {},
   "source": [
    "#### 将流和间隔时间写入文件夹中"
   ]
  },
  {
   "cell_type": "markdown",
   "id": "knowing-pantyhose",
   "metadata": {},
   "source": [
    "把上述的东西 记录到文件夹中，路径为：<br>\n",
    "/home/hesy/projects/genflow/data-onoff/lam_1/TMx/tmy/sizea_b (g2) <br>\n",
    "/home/hesy/pro/g8/genflow/data-onoff/lam_1/TM1/tm1 (g14)"
   ]
  },
  {
   "cell_type": "code",
   "execution_count": 46,
   "id": "silent-birthday",
   "metadata": {},
   "outputs": [],
   "source": [
    "df_flow = pd.DataFrame(flows_)"
   ]
  },
  {
   "cell_type": "code",
   "execution_count": 47,
   "id": "opened-layout",
   "metadata": {},
   "outputs": [
    {
     "data": {
      "text/html": [
       "<div>\n",
       "<style scoped>\n",
       "    .dataframe tbody tr th:only-of-type {\n",
       "        vertical-align: middle;\n",
       "    }\n",
       "\n",
       "    .dataframe tbody tr th {\n",
       "        vertical-align: top;\n",
       "    }\n",
       "\n",
       "    .dataframe thead th {\n",
       "        text-align: right;\n",
       "    }\n",
       "</style>\n",
       "<table border=\"1\" class=\"dataframe\">\n",
       "  <thead>\n",
       "    <tr style=\"text-align: right;\">\n",
       "      <th></th>\n",
       "      <th>0</th>\n",
       "      <th>1</th>\n",
       "      <th>2</th>\n",
       "      <th>3</th>\n",
       "      <th>4</th>\n",
       "      <th>5</th>\n",
       "      <th>6</th>\n",
       "      <th>7</th>\n",
       "      <th>8</th>\n",
       "      <th>9</th>\n",
       "      <th>...</th>\n",
       "      <th>13</th>\n",
       "      <th>14</th>\n",
       "      <th>15</th>\n",
       "      <th>16</th>\n",
       "      <th>17</th>\n",
       "      <th>18</th>\n",
       "      <th>19</th>\n",
       "      <th>20</th>\n",
       "      <th>21</th>\n",
       "      <th>22</th>\n",
       "    </tr>\n",
       "  </thead>\n",
       "  <tbody>\n",
       "    <tr>\n",
       "      <th>0</th>\n",
       "      <td>[[85.488082837786, 42.550605976633584, 49.8281...</td>\n",
       "      <td>[[133.92577403134692, 199.20718671426854, 231....</td>\n",
       "      <td>[[206.62110969249858, 173.3724123299486, 1036....</td>\n",
       "      <td>[[221.45823062541632, 1412.4150508375046, 138....</td>\n",
       "      <td>[[1582.6426160854262, 84.0692446584513, 1139.1...</td>\n",
       "      <td>[[53.188133333332495], [2.0082605551922086, 47...</td>\n",
       "      <td>[[580.10073333333], [87.57664142902256, 84.841...</td>\n",
       "      <td>[[569.6115528870814, 551.5144835856387, 1411.6...</td>\n",
       "      <td>[[172.8997921819955, 635.692052513481, 68.4627...</td>\n",
       "      <td>[[85.56566111816178, 135.49507221516814], [154...</td>\n",
       "      <td>...</td>\n",
       "      <td>[[240.03066782120987, 32.146761241174346, 191....</td>\n",
       "      <td>[[13.49629999999875], [30.50729285235338, 27.4...</td>\n",
       "      <td>[[253.5528192131821, 69.79212574732665, 1626.6...</td>\n",
       "      <td>[[140.3730256238627, 34.78676022401097, 58.755...</td>\n",
       "      <td>[[369.0044333333326], [1773.3217785681288, 95....</td>\n",
       "      <td>[[47.2473999999975], [69.62073333333001], [], ...</td>\n",
       "      <td>[[83.31853333333125], [352.8514686478673, 163....</td>\n",
       "      <td>[[155.22534658561148, 281.86205341438847], [86...</td>\n",
       "      <td>[[87.75109999999876], [557.3007333333301], [34...</td>\n",
       "      <td>[[10.355566666664998], [46.802313557637696, 13...</td>\n",
       "    </tr>\n",
       "    <tr>\n",
       "      <th>1</th>\n",
       "      <td>[[83.25491113553501, 1378.3567244418684, 75.27...</td>\n",
       "      <td>[[850.4207333333325], [13.982233333331251], [2...</td>\n",
       "      <td>[[3.583375564122008, 994.1640984290468, 503.50...</td>\n",
       "      <td>[[129.53028999508194, 133.54175914216435, 1586...</td>\n",
       "      <td>[[69.23126345571666, 97.75225868293413, 135.19...</td>\n",
       "      <td>[[52.06223333333249], [85.27804949319227, 441....</td>\n",
       "      <td>[[457.5391847152413, 694.7837819514236], [61.9...</td>\n",
       "      <td>[[36.2876787852865, 1699.8694096622337, 144.56...</td>\n",
       "      <td>[[84.43809730352254, 85.64727003586297, 9.6570...</td>\n",
       "      <td>[[149.02223333333248], [1297.8461448712728, 16...</td>\n",
       "      <td>...</td>\n",
       "      <td>[[444.54519999999746], [973.0170514555049, 648...</td>\n",
       "      <td>[[39.6296333333325], [38.767399999998744], [],...</td>\n",
       "      <td>[[1897.988755319292, 66.50585938367418, 133.72...</td>\n",
       "      <td>[[84.06553336677864, 18.876550511730073, 4.186...</td>\n",
       "      <td>[[67.84003797651127, 377.96439535682134], [1.8...</td>\n",
       "      <td>[[30.71406666666375], [72.681466666665], [0.15...</td>\n",
       "      <td>[[3.8675061610338446, 98.98582717229745], [90....</td>\n",
       "      <td>[[483.7155666666637], [158.24336505052733, 3.9...</td>\n",
       "      <td>[[98.09186666666623], [171.40848343583713, 33....</td>\n",
       "      <td>[[24.802966666665004], [61.131866666666255], [...</td>\n",
       "    </tr>\n",
       "    <tr>\n",
       "      <th>2</th>\n",
       "      <td>[[87.96362992379683, 684.0533439667272, 378.88...</td>\n",
       "      <td>[[86.96931540106607, 151.31894856636913, 25.94...</td>\n",
       "      <td>[[87.55863113259214, 118.02894989498004, 920.9...</td>\n",
       "      <td>[[1185.637553131986, 99.02694264198601, 21.606...</td>\n",
       "      <td>[[339.16735052090746, 142.5470738128188, 8.286...</td>\n",
       "      <td>[[102.56593333333124], [43.14675993462723, 992...</td>\n",
       "      <td>[[62.349739592333876, 236.8209942969889, 164.0...</td>\n",
       "      <td>[[315.3229856344304, 102.7585798072233, 143.53...</td>\n",
       "      <td>[[89.05628468089549, 937.3868970649573, 85.116...</td>\n",
       "      <td>[[27.40643712766478, 246.7328295390002], [43.5...</td>\n",
       "      <td>...</td>\n",
       "      <td>[[164.91634274356653, 372.9829239230985], [190...</td>\n",
       "      <td>[[21.2088999999975], [83.48841474959185, 17.15...</td>\n",
       "      <td>[[1528.4062406125, 56.310067871169004, 562.683...</td>\n",
       "      <td>[[0.6043382365596983, 20.211781530874575, 429....</td>\n",
       "      <td>[[438.50073333333], [132.01396716259273, 63.14...</td>\n",
       "      <td>[[38.69629999999875], [43.31454720894065, 8.78...</td>\n",
       "      <td>[[51.227526146402425, 57.68210718692758], [60....</td>\n",
       "      <td>[[415.0222333333313], [99.03242153274431, 1460...</td>\n",
       "      <td>[[118.39935146763857, 5.070281865692692], [699...</td>\n",
       "      <td>[[17.591099999999997], [93.80443333333125], []...</td>\n",
       "    </tr>\n",
       "    <tr>\n",
       "      <th>3</th>\n",
       "      <td>[[85.80919429047042, 22.814708548029188, 587.2...</td>\n",
       "      <td>[[63.04401069786216, 205.73259553561454, 89.45...</td>\n",
       "      <td>[[8.527773362875479, 127.22183786504044, 84.83...</td>\n",
       "      <td>[[133.30017433979071, 5000.892425660208], [18....</td>\n",
       "      <td>[[4137.854799999997], [125.72109439375605, 75....</td>\n",
       "      <td>[[54.029633333332505], [115.68423362267413, 19...</td>\n",
       "      <td>[[433.5855387317418, 68.16549946325458, 375.80...</td>\n",
       "      <td>[[222.11682673742268, 1859.3557025602397, 762....</td>\n",
       "      <td>[[1406.8869029422242, 62.12674503093112, 1807....</td>\n",
       "      <td>[[114.6526103527114, 54.64218964728866], [8719...</td>\n",
       "      <td>...</td>\n",
       "      <td>[[430.57186666666496], [197.46632341074823, 42...</td>\n",
       "      <td>[[29.694799999998754], [79.4031182311807, 12.4...</td>\n",
       "      <td>[[1524.8918180971546, 67.00956992516959, 207.2...</td>\n",
       "      <td>[[43.549528166587514, 357.38677183340997], [11...</td>\n",
       "      <td>[[375.7038325247801, 42.69400310425556, 81.993...</td>\n",
       "      <td>[[32.71999999999875], [30.67556666666625], [],...</td>\n",
       "      <td>[[84.64593333333002], [160.8770333333325], [5....</td>\n",
       "      <td>[[300.3192866113575, 176.89848005530877], [179...</td>\n",
       "      <td>[[40.24593333333], [30.77880462295672, 384.745...</td>\n",
       "      <td>[[16.954066666665], [233.55853333333127], [], ...</td>\n",
       "    </tr>\n",
       "    <tr>\n",
       "      <th>4</th>\n",
       "      <td>[[774.0503666666662], [6.989633333332499], [50...</td>\n",
       "      <td>[[85.72297590003042, 96.11261860869833, 48.550...</td>\n",
       "      <td>[[699.994066666665], [1350.4710999999975], [11...</td>\n",
       "      <td>[[24.874248946648343, 163.94155297573803, 304....</td>\n",
       "      <td>[[87.39161574579194, 158.45774658371116, 200.1...</td>\n",
       "      <td>[[50.219266666665], [1074.3348], [], [0.118533...</td>\n",
       "      <td>[[22.310171030178665, 106.82539482024784, 67.0...</td>\n",
       "      <td>[[98.40786823926199, 88.97725023225432, 98.255...</td>\n",
       "      <td>[[85.66571648777591, 10.8279381859942, 87.1498...</td>\n",
       "      <td>[[85.68889999999874], [1408.383362276018, 1053...</td>\n",
       "      <td>...</td>\n",
       "      <td>[[149.74617937262423, 40.73073500139009, 211.0...</td>\n",
       "      <td>[[404.3170333333312], [85.77319474559138, 19.9...</td>\n",
       "      <td>[[45.19080963178505, 85.7403000468613, 86.8050...</td>\n",
       "      <td>[[89.11910731175662, 89.98840606909626, 207.04...</td>\n",
       "      <td>[[242.73152043911554, 2.6590503501060283, 253....</td>\n",
       "      <td>[[18.34369999999875], [63.854799999997496], [8...</td>\n",
       "      <td>[[38.841466666665], [141.41671819176437, 120.5...</td>\n",
       "      <td>[[406.26666666666375], [165.61442329304853, 38...</td>\n",
       "      <td>[[47.28593333333251], [26.82479565827518, 656....</td>\n",
       "      <td>[[87.92696974758272, 14.627096919083542], [91....</td>\n",
       "    </tr>\n",
       "  </tbody>\n",
       "</table>\n",
       "<p>5 rows × 23 columns</p>\n",
       "</div>"
      ],
      "text/plain": [
       "                                                  0   \\\n",
       "0  [[85.488082837786, 42.550605976633584, 49.8281...   \n",
       "1  [[83.25491113553501, 1378.3567244418684, 75.27...   \n",
       "2  [[87.96362992379683, 684.0533439667272, 378.88...   \n",
       "3  [[85.80919429047042, 22.814708548029188, 587.2...   \n",
       "4  [[774.0503666666662], [6.989633333332499], [50...   \n",
       "\n",
       "                                                  1   \\\n",
       "0  [[133.92577403134692, 199.20718671426854, 231....   \n",
       "1  [[850.4207333333325], [13.982233333331251], [2...   \n",
       "2  [[86.96931540106607, 151.31894856636913, 25.94...   \n",
       "3  [[63.04401069786216, 205.73259553561454, 89.45...   \n",
       "4  [[85.72297590003042, 96.11261860869833, 48.550...   \n",
       "\n",
       "                                                  2   \\\n",
       "0  [[206.62110969249858, 173.3724123299486, 1036....   \n",
       "1  [[3.583375564122008, 994.1640984290468, 503.50...   \n",
       "2  [[87.55863113259214, 118.02894989498004, 920.9...   \n",
       "3  [[8.527773362875479, 127.22183786504044, 84.83...   \n",
       "4  [[699.994066666665], [1350.4710999999975], [11...   \n",
       "\n",
       "                                                  3   \\\n",
       "0  [[221.45823062541632, 1412.4150508375046, 138....   \n",
       "1  [[129.53028999508194, 133.54175914216435, 1586...   \n",
       "2  [[1185.637553131986, 99.02694264198601, 21.606...   \n",
       "3  [[133.30017433979071, 5000.892425660208], [18....   \n",
       "4  [[24.874248946648343, 163.94155297573803, 304....   \n",
       "\n",
       "                                                  4   \\\n",
       "0  [[1582.6426160854262, 84.0692446584513, 1139.1...   \n",
       "1  [[69.23126345571666, 97.75225868293413, 135.19...   \n",
       "2  [[339.16735052090746, 142.5470738128188, 8.286...   \n",
       "3  [[4137.854799999997], [125.72109439375605, 75....   \n",
       "4  [[87.39161574579194, 158.45774658371116, 200.1...   \n",
       "\n",
       "                                                  5   \\\n",
       "0  [[53.188133333332495], [2.0082605551922086, 47...   \n",
       "1  [[52.06223333333249], [85.27804949319227, 441....   \n",
       "2  [[102.56593333333124], [43.14675993462723, 992...   \n",
       "3  [[54.029633333332505], [115.68423362267413, 19...   \n",
       "4  [[50.219266666665], [1074.3348], [], [0.118533...   \n",
       "\n",
       "                                                  6   \\\n",
       "0  [[580.10073333333], [87.57664142902256, 84.841...   \n",
       "1  [[457.5391847152413, 694.7837819514236], [61.9...   \n",
       "2  [[62.349739592333876, 236.8209942969889, 164.0...   \n",
       "3  [[433.5855387317418, 68.16549946325458, 375.80...   \n",
       "4  [[22.310171030178665, 106.82539482024784, 67.0...   \n",
       "\n",
       "                                                  7   \\\n",
       "0  [[569.6115528870814, 551.5144835856387, 1411.6...   \n",
       "1  [[36.2876787852865, 1699.8694096622337, 144.56...   \n",
       "2  [[315.3229856344304, 102.7585798072233, 143.53...   \n",
       "3  [[222.11682673742268, 1859.3557025602397, 762....   \n",
       "4  [[98.40786823926199, 88.97725023225432, 98.255...   \n",
       "\n",
       "                                                  8   \\\n",
       "0  [[172.8997921819955, 635.692052513481, 68.4627...   \n",
       "1  [[84.43809730352254, 85.64727003586297, 9.6570...   \n",
       "2  [[89.05628468089549, 937.3868970649573, 85.116...   \n",
       "3  [[1406.8869029422242, 62.12674503093112, 1807....   \n",
       "4  [[85.66571648777591, 10.8279381859942, 87.1498...   \n",
       "\n",
       "                                                  9   ...  \\\n",
       "0  [[85.56566111816178, 135.49507221516814], [154...  ...   \n",
       "1  [[149.02223333333248], [1297.8461448712728, 16...  ...   \n",
       "2  [[27.40643712766478, 246.7328295390002], [43.5...  ...   \n",
       "3  [[114.6526103527114, 54.64218964728866], [8719...  ...   \n",
       "4  [[85.68889999999874], [1408.383362276018, 1053...  ...   \n",
       "\n",
       "                                                  13  \\\n",
       "0  [[240.03066782120987, 32.146761241174346, 191....   \n",
       "1  [[444.54519999999746], [973.0170514555049, 648...   \n",
       "2  [[164.91634274356653, 372.9829239230985], [190...   \n",
       "3  [[430.57186666666496], [197.46632341074823, 42...   \n",
       "4  [[149.74617937262423, 40.73073500139009, 211.0...   \n",
       "\n",
       "                                                  14  \\\n",
       "0  [[13.49629999999875], [30.50729285235338, 27.4...   \n",
       "1  [[39.6296333333325], [38.767399999998744], [],...   \n",
       "2  [[21.2088999999975], [83.48841474959185, 17.15...   \n",
       "3  [[29.694799999998754], [79.4031182311807, 12.4...   \n",
       "4  [[404.3170333333312], [85.77319474559138, 19.9...   \n",
       "\n",
       "                                                  15  \\\n",
       "0  [[253.5528192131821, 69.79212574732665, 1626.6...   \n",
       "1  [[1897.988755319292, 66.50585938367418, 133.72...   \n",
       "2  [[1528.4062406125, 56.310067871169004, 562.683...   \n",
       "3  [[1524.8918180971546, 67.00956992516959, 207.2...   \n",
       "4  [[45.19080963178505, 85.7403000468613, 86.8050...   \n",
       "\n",
       "                                                  16  \\\n",
       "0  [[140.3730256238627, 34.78676022401097, 58.755...   \n",
       "1  [[84.06553336677864, 18.876550511730073, 4.186...   \n",
       "2  [[0.6043382365596983, 20.211781530874575, 429....   \n",
       "3  [[43.549528166587514, 357.38677183340997], [11...   \n",
       "4  [[89.11910731175662, 89.98840606909626, 207.04...   \n",
       "\n",
       "                                                  17  \\\n",
       "0  [[369.0044333333326], [1773.3217785681288, 95....   \n",
       "1  [[67.84003797651127, 377.96439535682134], [1.8...   \n",
       "2  [[438.50073333333], [132.01396716259273, 63.14...   \n",
       "3  [[375.7038325247801, 42.69400310425556, 81.993...   \n",
       "4  [[242.73152043911554, 2.6590503501060283, 253....   \n",
       "\n",
       "                                                  18  \\\n",
       "0  [[47.2473999999975], [69.62073333333001], [], ...   \n",
       "1  [[30.71406666666375], [72.681466666665], [0.15...   \n",
       "2  [[38.69629999999875], [43.31454720894065, 8.78...   \n",
       "3  [[32.71999999999875], [30.67556666666625], [],...   \n",
       "4  [[18.34369999999875], [63.854799999997496], [8...   \n",
       "\n",
       "                                                  19  \\\n",
       "0  [[83.31853333333125], [352.8514686478673, 163....   \n",
       "1  [[3.8675061610338446, 98.98582717229745], [90....   \n",
       "2  [[51.227526146402425, 57.68210718692758], [60....   \n",
       "3  [[84.64593333333002], [160.8770333333325], [5....   \n",
       "4  [[38.841466666665], [141.41671819176437, 120.5...   \n",
       "\n",
       "                                                  20  \\\n",
       "0  [[155.22534658561148, 281.86205341438847], [86...   \n",
       "1  [[483.7155666666637], [158.24336505052733, 3.9...   \n",
       "2  [[415.0222333333313], [99.03242153274431, 1460...   \n",
       "3  [[300.3192866113575, 176.89848005530877], [179...   \n",
       "4  [[406.26666666666375], [165.61442329304853, 38...   \n",
       "\n",
       "                                                  21  \\\n",
       "0  [[87.75109999999876], [557.3007333333301], [34...   \n",
       "1  [[98.09186666666623], [171.40848343583713, 33....   \n",
       "2  [[118.39935146763857, 5.070281865692692], [699...   \n",
       "3  [[40.24593333333], [30.77880462295672, 384.745...   \n",
       "4  [[47.28593333333251], [26.82479565827518, 656....   \n",
       "\n",
       "                                                  22  \n",
       "0  [[10.355566666664998], [46.802313557637696, 13...  \n",
       "1  [[24.802966666665004], [61.131866666666255], [...  \n",
       "2  [[17.591099999999997], [93.80443333333125], []...  \n",
       "3  [[16.954066666665], [233.55853333333127], [], ...  \n",
       "4  [[87.92696974758272, 14.627096919083542], [91....  \n",
       "\n",
       "[5 rows x 23 columns]"
      ]
     },
     "execution_count": 47,
     "metadata": {},
     "output_type": "execute_result"
    }
   ],
   "source": [
    "df_flow.head()"
   ]
  },
  {
   "cell_type": "code",
   "execution_count": 48,
   "id": "trying-strength",
   "metadata": {},
   "outputs": [
    {
     "name": "stdout",
     "output_type": "stream",
     "text": [
      "(100, 23)\n",
      "22\n",
      "3\n"
     ]
    }
   ],
   "source": [
    "df_flowNum = pd.DataFrame(flowNum)\n",
    "print(df_flow.shape)   # tmNUm * 23 * 22 * sessionFlowNum\n",
    "print(len(df_flow.iloc[1,0]))  # 22\n",
    "print(len(df_flow.iloc[1,0][0]))  # len of flowNum of this session"
   ]
  },
  {
   "cell_type": "code",
   "execution_count": 49,
   "id": "criminal-airfare",
   "metadata": {
    "scrolled": true,
    "tags": []
   },
   "outputs": [
    {
     "data": {
      "text/plain": [
       "22"
      ]
     },
     "execution_count": 49,
     "metadata": {},
     "output_type": "execute_result"
    }
   ],
   "source": [
    "len(df_flow.iloc[1,3])"
   ]
  },
  {
   "cell_type": "code",
   "execution_count": 53,
   "id": "superb-animation",
   "metadata": {},
   "outputs": [
    {
     "name": "stdout",
     "output_type": "stream",
     "text": [
      "prefix is /home/hesy/projects/genflow/data-newTrue-diff-lam/lam_1\n"
     ]
    }
   ],
   "source": [
    "TMbegin = 4500\n",
    "TMnum = 100\n",
    "prefix = f\"/home/hesy/projects/genflow/data-newTrue-diff-lam/lam_{scale}\"\n",
    "if scale_!=1:\n",
    "    prefix += f\"_cdflam_{int(1/scale_)}/\" \n",
    "    \n",
    "print(f\"prefix is {prefix}\")"
   ]
  },
  {
   "cell_type": "code",
   "execution_count": 51,
   "id": "hawaiian-discrimination",
   "metadata": {},
   "outputs": [],
   "source": [
    "import random\n",
    "def saveFlows( TMidx,TMbegin, df_flow,df_flowNum):\n",
    "    try:\n",
    "        for fromNode in range(23):\n",
    "            toNode = -1\n",
    "            for toIdx in range(23):\n",
    "                if fromNode == toIdx :\n",
    "                    continue\n",
    "                toNode+=1 # 这个只是个下标志,从0-21，只有toIdx才代表Node的index(0-22)\n",
    "                with open(osp.join(prefix,f\"TM{TMidx+TMbegin}/tm1/size{fromNode+1}_{toIdx+1}\"),\"w\") as sizeFile:\n",
    "                    with open(osp.join(prefix,f\"TM{TMidx+TMbegin}/tm1/interval{fromNode+1}_{toIdx+1}\"),\"w\") as intervalFile:\n",
    "                        for flow in df_flow.iloc[TMidx,fromNode][toNode]:\n",
    "                            print(int(flow),file = sizeFile)\n",
    "                            print(random.expovariate(1.0*df_flowNum.iloc[TMidx,fromNode][toNode]/30),file = intervalFile)  # 平均速率是 30/flowNUm 再求个倒数\n",
    "    except Exception as e:\n",
    "        print(f\"raise exception of {e} when TMidx,fromNode,toNode is {TMidx},{fromNode},{toNode}\")"
   ]
  },
  {
   "cell_type": "markdown",
   "id": "increased-relief",
   "metadata": {},
   "source": [
    "<div class=\"alert alert-block alert-warning\">\n",
    "<b> 应该写成多进程 </b>\n",
    "<br>\n",
    "python的try怎么写更规范\n",
    "</div>"
   ]
  },
  {
   "cell_type": "code",
   "execution_count": 52,
   "id": "timely-validation",
   "metadata": {},
   "outputs": [],
   "source": [
    "for TMidx in range(TMnum):\n",
    "    saveFlows(TMidx,TMbegin,df_flow,df_flowNum)"
   ]
  },
  {
   "cell_type": "markdown",
   "id": "monthly-click",
   "metadata": {},
   "source": [
    "---"
   ]
  },
  {
   "cell_type": "markdown",
   "id": "narrow-dietary",
   "metadata": {},
   "source": [
    "# TM数据(Abilene)"
   ]
  },
  {
   "cell_type": "markdown",
   "id": "documentary-stockholm",
   "metadata": {},
   "source": [
    "## 分析"
   ]
  },
  {
   "cell_type": "code",
   "execution_count": 3,
   "id": "general-minneapolis",
   "metadata": {},
   "outputs": [
    {
     "name": "stdout",
     "output_type": "stream",
     "text": [
      "des_abi.shape is (8, 6000)\n",
      "tms_abi.shape is (6000, 144)\n"
     ]
    },
    {
     "data": {
      "text/html": [
       "<div>\n",
       "<style scoped>\n",
       "    .dataframe tbody tr th:only-of-type {\n",
       "        vertical-align: middle;\n",
       "    }\n",
       "\n",
       "    .dataframe tbody tr th {\n",
       "        vertical-align: top;\n",
       "    }\n",
       "\n",
       "    .dataframe thead th {\n",
       "        text-align: right;\n",
       "    }\n",
       "</style>\n",
       "<table border=\"1\" class=\"dataframe\">\n",
       "  <thead>\n",
       "    <tr style=\"text-align: right;\">\n",
       "      <th></th>\n",
       "      <th>0</th>\n",
       "      <th>1</th>\n",
       "      <th>2</th>\n",
       "      <th>3</th>\n",
       "      <th>4</th>\n",
       "      <th>5</th>\n",
       "      <th>6</th>\n",
       "      <th>7</th>\n",
       "      <th>8</th>\n",
       "      <th>9</th>\n",
       "      <th>...</th>\n",
       "      <th>134</th>\n",
       "      <th>135</th>\n",
       "      <th>136</th>\n",
       "      <th>137</th>\n",
       "      <th>138</th>\n",
       "      <th>139</th>\n",
       "      <th>140</th>\n",
       "      <th>141</th>\n",
       "      <th>142</th>\n",
       "      <th>143</th>\n",
       "    </tr>\n",
       "  </thead>\n",
       "  <tbody>\n",
       "    <tr>\n",
       "      <th>0</th>\n",
       "      <td>7.111111e-08</td>\n",
       "      <td>0.000001</td>\n",
       "      <td>0.000004</td>\n",
       "      <td>8.952747e-07</td>\n",
       "      <td>0.000001</td>\n",
       "      <td>0.000001</td>\n",
       "      <td>9.735396e-07</td>\n",
       "      <td>2.180985e-06</td>\n",
       "      <td>0.000001</td>\n",
       "      <td>1.993081e-06</td>\n",
       "      <td>...</td>\n",
       "      <td>0.000177</td>\n",
       "      <td>0.000096</td>\n",
       "      <td>0.000041</td>\n",
       "      <td>0.000167</td>\n",
       "      <td>0.000087</td>\n",
       "      <td>0.000244</td>\n",
       "      <td>0.000356</td>\n",
       "      <td>0.000005</td>\n",
       "      <td>0.000079</td>\n",
       "      <td>0.000500</td>\n",
       "    </tr>\n",
       "    <tr>\n",
       "      <th>1</th>\n",
       "      <td>7.111111e-08</td>\n",
       "      <td>0.000001</td>\n",
       "      <td>0.000002</td>\n",
       "      <td>3.955911e-07</td>\n",
       "      <td>0.000001</td>\n",
       "      <td>0.000005</td>\n",
       "      <td>1.072384e-06</td>\n",
       "      <td>2.908928e-06</td>\n",
       "      <td>0.000002</td>\n",
       "      <td>0.000000e+00</td>\n",
       "      <td>...</td>\n",
       "      <td>0.000166</td>\n",
       "      <td>0.000091</td>\n",
       "      <td>0.000042</td>\n",
       "      <td>0.000152</td>\n",
       "      <td>0.000066</td>\n",
       "      <td>0.000268</td>\n",
       "      <td>0.000366</td>\n",
       "      <td>0.000012</td>\n",
       "      <td>0.000082</td>\n",
       "      <td>0.000509</td>\n",
       "    </tr>\n",
       "    <tr>\n",
       "      <th>2</th>\n",
       "      <td>1.422222e-07</td>\n",
       "      <td>0.000001</td>\n",
       "      <td>0.000003</td>\n",
       "      <td>7.363627e-07</td>\n",
       "      <td>0.000001</td>\n",
       "      <td>0.000005</td>\n",
       "      <td>1.085739e-06</td>\n",
       "      <td>1.076437e-06</td>\n",
       "      <td>0.000002</td>\n",
       "      <td>3.194738e-07</td>\n",
       "      <td>...</td>\n",
       "      <td>0.000187</td>\n",
       "      <td>0.000080</td>\n",
       "      <td>0.000053</td>\n",
       "      <td>0.000156</td>\n",
       "      <td>0.000051</td>\n",
       "      <td>0.000246</td>\n",
       "      <td>0.000410</td>\n",
       "      <td>0.000014</td>\n",
       "      <td>0.000107</td>\n",
       "      <td>0.000583</td>\n",
       "    </tr>\n",
       "    <tr>\n",
       "      <th>3</th>\n",
       "      <td>1.793991e-07</td>\n",
       "      <td>0.000001</td>\n",
       "      <td>0.000004</td>\n",
       "      <td>3.233849e-07</td>\n",
       "      <td>0.000001</td>\n",
       "      <td>0.000002</td>\n",
       "      <td>1.351324e-06</td>\n",
       "      <td>3.795413e-07</td>\n",
       "      <td>0.000002</td>\n",
       "      <td>4.504747e-07</td>\n",
       "      <td>...</td>\n",
       "      <td>0.000199</td>\n",
       "      <td>0.000120</td>\n",
       "      <td>0.000043</td>\n",
       "      <td>0.000135</td>\n",
       "      <td>0.000050</td>\n",
       "      <td>0.000261</td>\n",
       "      <td>0.000425</td>\n",
       "      <td>0.000012</td>\n",
       "      <td>0.000102</td>\n",
       "      <td>0.000708</td>\n",
       "    </tr>\n",
       "    <tr>\n",
       "      <th>4</th>\n",
       "      <td>7.111111e-08</td>\n",
       "      <td>0.000002</td>\n",
       "      <td>0.000004</td>\n",
       "      <td>4.425031e-07</td>\n",
       "      <td>0.000001</td>\n",
       "      <td>0.000001</td>\n",
       "      <td>8.086827e-07</td>\n",
       "      <td>6.876729e-07</td>\n",
       "      <td>0.000002</td>\n",
       "      <td>1.967289e-07</td>\n",
       "      <td>...</td>\n",
       "      <td>0.000186</td>\n",
       "      <td>0.000119</td>\n",
       "      <td>0.000049</td>\n",
       "      <td>0.000136</td>\n",
       "      <td>0.000050</td>\n",
       "      <td>0.000249</td>\n",
       "      <td>0.000404</td>\n",
       "      <td>0.000009</td>\n",
       "      <td>0.000116</td>\n",
       "      <td>0.000561</td>\n",
       "    </tr>\n",
       "  </tbody>\n",
       "</table>\n",
       "<p>5 rows × 144 columns</p>\n",
       "</div>"
      ],
      "text/plain": [
       "            0         1         2             3         4         5    \\\n",
       "0  7.111111e-08  0.000001  0.000004  8.952747e-07  0.000001  0.000001   \n",
       "1  7.111111e-08  0.000001  0.000002  3.955911e-07  0.000001  0.000005   \n",
       "2  1.422222e-07  0.000001  0.000003  7.363627e-07  0.000001  0.000005   \n",
       "3  1.793991e-07  0.000001  0.000004  3.233849e-07  0.000001  0.000002   \n",
       "4  7.111111e-08  0.000002  0.000004  4.425031e-07  0.000001  0.000001   \n",
       "\n",
       "            6             7         8             9    ...       134  \\\n",
       "0  9.735396e-07  2.180985e-06  0.000001  1.993081e-06  ...  0.000177   \n",
       "1  1.072384e-06  2.908928e-06  0.000002  0.000000e+00  ...  0.000166   \n",
       "2  1.085739e-06  1.076437e-06  0.000002  3.194738e-07  ...  0.000187   \n",
       "3  1.351324e-06  3.795413e-07  0.000002  4.504747e-07  ...  0.000199   \n",
       "4  8.086827e-07  6.876729e-07  0.000002  1.967289e-07  ...  0.000186   \n",
       "\n",
       "        135       136       137       138       139       140       141  \\\n",
       "0  0.000096  0.000041  0.000167  0.000087  0.000244  0.000356  0.000005   \n",
       "1  0.000091  0.000042  0.000152  0.000066  0.000268  0.000366  0.000012   \n",
       "2  0.000080  0.000053  0.000156  0.000051  0.000246  0.000410  0.000014   \n",
       "3  0.000120  0.000043  0.000135  0.000050  0.000261  0.000425  0.000012   \n",
       "4  0.000119  0.000049  0.000136  0.000050  0.000249  0.000404  0.000009   \n",
       "\n",
       "        142       143  \n",
       "0  0.000079  0.000500  \n",
       "1  0.000082  0.000509  \n",
       "2  0.000107  0.000583  \n",
       "3  0.000102  0.000708  \n",
       "4  0.000116  0.000561  \n",
       "\n",
       "[5 rows x 144 columns]"
      ]
     },
     "execution_count": 3,
     "metadata": {},
     "output_type": "execute_result"
    }
   ],
   "source": [
    "tms_abi = pd.read_csv(\"/home/hesy/projects/genflow/Abi-6k-Mpbs.csv\",header =None)# *8/(3*10**6)# --> changes ori to Mbps\n",
    "des_abi = tms_abi.transpose().describe()\n",
    "print(f\"des_abi.shape is {des_abi.shape}\")\n",
    "print(f\"tms_abi.shape is {tms_abi.shape}\")\n",
    "tms_abi.head()"
   ]
  },
  {
   "cell_type": "code",
   "execution_count": 4,
   "id": "southern-prerequisite",
   "metadata": {
    "tags": []
   },
   "outputs": [],
   "source": [
    "p25,p75 = des_abi.loc[\"25%\",:].values,des_abi.loc[\"75%\",:].values\n",
    "mean_ = des_abi.loc[\"mean\",:].values\n",
    "max_ = des_abi.loc[\"max\",:].values\n",
    "data_distribs =[p25,mean_,p75,max_]\n",
    "distribs_names = [[\"p25\"],[\"mean\"],[\"p75\"],[\"max\"]]"
   ]
  },
  {
   "cell_type": "code",
   "execution_count": 5,
   "id": "stuck-command",
   "metadata": {
    "tags": []
   },
   "outputs": [
    {
     "data": {
      "image/png": "[encoded data removed]",
      "text/plain": [
       "<Figure size 432x288 with 4 Axes>"
      ]
     },
     "metadata": {
      "needs_background": "light"
     },
     "output_type": "display_data"
    }
   ],
   "source": [
    "fig,ax=plt.subplots(2,2,sharex='col')#,linkIdx+1)#,sharex='col',sharey='row')\n",
    "plt.subplots_adjust(left=0.01,  # left，right，top 和 bottom 参数指定了子图的四个边的位置。它们是图形的宽度和高度的比例\n",
    "                    bottom=0.01, \n",
    "                    right=1, \n",
    "                    top=1, \n",
    "                    wspace=0.2, \n",
    "                    hspace=0.2)\n",
    "\n",
    "for idx, data in enumerate(data_distribs):\n",
    "#     ax[idx//2,idx%2].plot(range(0,5000),data[0:5000])\n",
    "    ax[idx//2,idx%2].plot(range(len(data)),data)\n",
    "    ax[idx//2,idx%2].set_ylabel(\"Mbps\")\n",
    "    ax[idx//2,idx%2].legend(distribs_names[idx])"
   ]
  },
  {
   "cell_type": "markdown",
   "id": "comfortable-yellow",
   "metadata": {
    "tags": [],
    "toc-hr-collapsed": true
   },
   "source": [
    "# on-off的数据生成逻辑(ori old ideas)"
   ]
  },
  {
   "cell_type": "markdown",
   "id": "marine-thailand",
   "metadata": {},
   "source": [
    "## 分析生成的数据的模拟情况"
   ]
  },
  {
   "cell_type": "markdown",
   "id": "brazilian-verification",
   "metadata": {},
   "source": [
    "### burst=20"
   ]
  },
  {
   "cell_type": "code",
   "execution_count": null,
   "id": "optical-mouse",
   "metadata": {},
   "outputs": [],
   "source": [
    "ospf"
   ]
  },
  {
   "cell_type": "code",
   "execution_count": 163,
   "id": "earned-shipping",
   "metadata": {
    "tags": []
   },
   "outputs": [],
   "source": [
    "MORE_DETAIL = False\n",
    "# record_interval = \"0.010000\"      \"0.100000\"      \"1.000000\"\n",
    "record_interval = \"0.005000\"\n",
    "\n",
    "node =23\n",
    "lamTimes=1  # 其实对于onoff影响不大\n",
    "port=5571\n",
    "proName=\"ospf-onoff\" #\"lp_73god_view\" #\"lp-trueTM\"\n",
    "\n",
    "parDir =f\"/home/hesy/projects/ns3-test/data/{proName}/{record_interval}_lamTimes{lamTimes}_port{port}/\"\n",
    "util_file =f\"traces/util_{record_interval}.txt\"\n",
    "\n",
    "file_list = [util_file] \n",
    "titles = [\"link-tilization\"]\n",
    "\n",
    "CUT_OFF = 6000 # max timestep in pic"
   ]
  },
  {
   "cell_type": "code",
   "execution_count": 164,
   "id": "broad-following",
   "metadata": {
    "tags": []
   },
   "outputs": [],
   "source": [
    "datas_ospf = [None]*len(file_list) # datas[i]包含 ( node*(node-1) , timestep ) 维度的数据 ( i是观测属性index，比如util )\n",
    "# 从每个观测属性中提取的统计数据 -- 现在只需要50%分位 以及 90%分位 ; describes[i] 包含[\"0.5\": ... ; \"0.9\": ...] 的DataFrame\n",
    "describes_ospf =[] # 每一行是一个时间点\n",
    "\n",
    "attrs = [\\\n",
    "         '0.5',\\\n",
    "         '0.9',\\\n",
    "         'max']\n",
    "\n",
    "for (i, file) in enumerate(file_list):\n",
    "    datas_ospf[i] = pd.DataFrame(np.loadtxt(parDir+file))  # datas[0],也就是util,行是时间步，列是bi-link\n",
    "    if file == util_file:\n",
    "        datas_ospf[i]*=100\n",
    "    # print(f\"loading {parDir+file}\")\n",
    "    # print(f\"\\tdatas[i].shape is {datas_ospf[i].shape}\")\n",
    "    # print(f\"\\tdescribes[i].shape is {datas_ospf[i].transpose().quantile(0.9).shape}\") # 默认是都是以第一个axis为一个unit进行统计  所以要transpose一下\n",
    "    describes_ospf.append(pd.DataFrame({\\\n",
    "                                        \"0.5\":datas_ospf[i].transpose().quantile(0.5),\\\n",
    "                                        \"0.9\":datas_ospf[i].transpose().quantile(0.9),\\\n",
    "                                        \"max\":datas_ospf[i].transpose().quantile(1)\\\n",
    "                                       }))\n",
    "    \n",
    "import copy\n",
    "\n",
    "origin_describe_ospf = copy.deepcopy(describes_ospf)\n",
    "describes_cut_ospf = [ origin_data.iloc[:CUT_OFF,:] for origin_data in  origin_describe_ospf ]"
   ]
  },
  {
   "cell_type": "code",
   "execution_count": 190,
   "id": "alternative-logan",
   "metadata": {
    "tags": []
   },
   "outputs": [],
   "source": [
    "cut=500"
   ]
  },
  {
   "cell_type": "code",
   "execution_count": 191,
   "id": "experienced-drawing",
   "metadata": {
    "collapsed": true,
    "jupyter": {
     "outputs_hidden": true
    },
    "tags": []
   },
   "outputs": [
    {
     "data": {
      "text/plain": [
       "Text(0.5, 1.0, '23_recordInterval0.005000_lamTimes1_link-tilization')"
      ]
     },
     "execution_count": 191,
     "metadata": {},
     "output_type": "execute_result"
    },
    {
     "data": {
      "image/png": "[encoded data removed]",
      "text/plain": [
       "<Figure size 432x288 with 1 Axes>"
      ]
     },
     "metadata": {
      "needs_background": "light"
     },
     "output_type": "display_data"
    }
   ],
   "source": [
    "for datas in [\\\n",
    "#               describes_cut_rl,\\\n",
    "#               describes_cut_ben,\\\n",
    "              describes_cut_ospf\\\n",
    "             ]:\n",
    "    for (i,data) in enumerate(datas):\n",
    "            plt.plot(range(1,len(data[attrs[1]][:cut])+1),data['max'][:cut],'-')\n",
    "\n",
    "plt.xlabel(f'record steps( each {record_interval}s)')\n",
    "plt.ylabel('MLU(%)')\n",
    "plt.legend([ \n",
    "#             'rl',\\\n",
    "#             'lp',\\\n",
    "            'ospf'\\\n",
    "           ])\n",
    "fileName= f\"{node}_recordInterval{record_interval}_lamTimes{lamTimes}_{titles[i]}\"\n",
    "plt.title(fileName)"
   ]
  },
  {
   "cell_type": "markdown",
   "id": "portuguese-uruguay",
   "metadata": {},
   "source": [
    "查看持续时间"
   ]
  },
  {
   "cell_type": "code",
   "execution_count": 200,
   "id": "respiratory-january",
   "metadata": {
    "collapsed": true,
    "jupyter": {
     "outputs_hidden": true
    },
    "tags": []
   },
   "outputs": [
    {
     "data": {
      "text/plain": [
       "Text(0.5, 1.0, '23_recordInterval0.005000_lamTimes1_link-tilization')"
      ]
     },
     "execution_count": 200,
     "metadata": {},
     "output_type": "execute_result"
    },
    {
     "data": {
      "image/png": "[encoded data removed]",
      "text/plain": [
       "<Figure size 432x288 with 1 Axes>"
      ]
     },
     "metadata": {
      "needs_background": "light"
     },
     "output_type": "display_data"
    }
   ],
   "source": [
    "for datas in [\\\n",
    "#               describes_cut_rl,\\\n",
    "#               describes_cut_ben,\\\n",
    "              describes_cut_ospf\\\n",
    "             ]:\n",
    "    for (i,data) in enumerate(datas):\n",
    "#             plt.plot(range(1,len(data[attrs[1])+1),data['max'],'-')\n",
    "            plt.plot(range(100,400),data['max'][100:400],'-')\n",
    "\n",
    "plt.xlabel(f'record steps( each {record_interval}s)')\n",
    "plt.ylabel('MLU(%)')\n",
    "plt.legend([ \n",
    "#             'rl',\\\n",
    "#             'lp',\\\n",
    "            'ospf'\\\n",
    "           ])\n",
    "fileName= f\"{node}_recordInterval{record_interval}_lamTimes{lamTimes}_{titles[i]}\"\n",
    "plt.title(fileName)"
   ]
  },
  {
   "cell_type": "code",
   "execution_count": null,
   "id": "after-slovak",
   "metadata": {},
   "outputs": [],
   "source": [
    "平均性能"
   ]
  },
  {
   "cell_type": "code",
   "execution_count": 179,
   "id": "martial-carter",
   "metadata": {},
   "outputs": [
    {
     "data": {
      "text/plain": [
       "24.14682824"
      ]
     },
     "execution_count": 179,
     "metadata": {},
     "output_type": "execute_result"
    }
   ],
   "source": [
    "mean(describes_cut_ospf[0]['max'][:5000])"
   ]
  },
  {
   "cell_type": "markdown",
   "id": "adolescent-somerset",
   "metadata": {},
   "source": [
    "---"
   ]
  },
  {
   "cell_type": "markdown",
   "id": "connected-prayer",
   "metadata": {},
   "source": [
    "#### 平滑"
   ]
  },
  {
   "cell_type": "markdown",
   "id": "north-textbook",
   "metadata": {},
   "source": [
    "cut 取前面部分"
   ]
  },
  {
   "cell_type": "code",
   "execution_count": 194,
   "id": "molecular-immunology",
   "metadata": {},
   "outputs": [],
   "source": [
    "cut=50"
   ]
  },
  {
   "cell_type": "code",
   "execution_count": 184,
   "id": "divine-daniel",
   "metadata": {
    "tags": []
   },
   "outputs": [],
   "source": [
    "from more_itertools import chunked\n",
    "# describes_cut[0]是util的数据\n",
    "\n",
    "# describes_smooth_rl= [ np.array(x).sum(axis=0)/len(x) for x in chunked(describes_cut_rl[0].values, 75//5)]\n",
    "# describes_smooth_rl=pd.DataFrame(describes_smooth_rl,columns= attrs)\n",
    "\n",
    "# describes_smooth_ben= [ np.array(x).sum(axis=0)/len(x) for x in chunked(describes_cut_ben[0].values, 75//5)]\n",
    "# describes_smooth_ben=pd.DataFrame(describes_smooth_ben,columns= attrs)\n",
    "\n",
    "describes_smooth_ospf= [ np.array(x).sum(axis=0)/len(x) for x in chunked(describes_cut_ospf[0].values, 75//5)]\n",
    "describes_smooth_ospf=pd.DataFrame(describes_smooth_ospf,columns= attrs)"
   ]
  },
  {
   "cell_type": "code",
   "execution_count": 188,
   "id": "allied-mentor",
   "metadata": {
    "collapsed": true,
    "jupyter": {
     "outputs_hidden": true
    },
    "tags": []
   },
   "outputs": [
    {
     "data": {
      "image/png": "[encoded data removed]",
      "text/plain": [
       "<Figure size 432x288 with 1 Axes>"
      ]
     },
     "metadata": {
      "needs_background": "light"
     },
     "output_type": "display_data"
    }
   ],
   "source": [
    "for data in [\n",
    "#     describes_smooth_rl,\\\n",
    "#     describes_smooth_ben,\\\n",
    "    describes_smooth_ospf\\\n",
    "    ]:\n",
    "    plt.plot(range(1,len(data['max'][:cut])+1),data['max'][:cut],'-')\n",
    "\n",
    "plt.legend([\\\n",
    "#             'rl',\\\n",
    "#             'lp',\\\n",
    "            'ospf'\\\n",
    "           ])\n",
    "\n",
    "record_interval_ = float(record_interval)*15\n",
    "plt.xlabel(f'record steps( each {record_interval_}s)')\n",
    "plt.ylabel('MLU(%)')\n",
    "fileName= f\"{node}_recordInterval{record_interval_}_lamTimes{lamTimes}_{titles[i]}\"\n",
    "fileName+=f\"_charac\"\n",
    "plt.title(fileName)\n",
    "plt.show()"
   ]
  },
  {
   "cell_type": "markdown",
   "id": "earlier-shame",
   "metadata": {},
   "source": [
    "#### 查看各链路情况"
   ]
  },
  {
   "cell_type": "code",
   "execution_count": 193,
   "id": "colored-avenue",
   "metadata": {},
   "outputs": [],
   "source": [
    "util_data_ospf = datas_ospf[0]"
   ]
  },
  {
   "cell_type": "code",
   "execution_count": 195,
   "id": "breathing-cable",
   "metadata": {
    "collapsed": true,
    "jupyter": {
     "outputs_hidden": true
    },
    "tags": []
   },
   "outputs": [
    {
     "data": {
      "text/plain": [
       "<matplotlib.legend.Legend at 0x7f3b77065ac8>"
      ]
     },
     "execution_count": 195,
     "metadata": {},
     "output_type": "execute_result"
    },
    {
     "data": {
      "image/png": "[encoded data removed]",
      "text/plain": [
       "<Figure size 432x288 with 40 Axes>"
      ]
     },
     "metadata": {
      "needs_background": "light"
     },
     "output_type": "display_data"
    },
    {
     "data": {
      "image/png": "[encoded data removed]",
      "text/plain": [
       "<Figure size 432x288 with 32 Axes>"
      ]
     },
     "metadata": {
      "needs_background": "light"
     },
     "output_type": "display_data"
    }
   ],
   "source": [
    "fig,ax=plt.subplots(5,8,sharex='col',sharey='row')#,linkIdx+1)#,sharex='col',sharey='row')\n",
    "plt.subplots_adjust(left=0.01,  # left，right，top 和 bottom 参数指定了子图的四个边的位置。它们是图形的宽度和高度的比例\n",
    "                    bottom=0.01, \n",
    "                    right=1, \n",
    "                    top=1, \n",
    "                    wspace=0.2, \n",
    "                    hspace=0.2)\n",
    "for linkIdx in range(40):\n",
    "    img_idx = linkIdx-0\n",
    "#     link_util_rl_5 >= util_data_rl_5.iloc[:,linkIdx]\n",
    "#     link_util_lp_73 = util_data_lp_73.iloc[:,linkIdx]\n",
    "    link_util_ospf = util_data_ospf.iloc[:,linkIdx]\n",
    "#     link_util_or= util_data_or.iloc[:,linkIdx]\n",
    "#     ax[img_idx//8,img_idx%8].plot(range(len(link_util_rl_5)),link_util_rl_5)\n",
    "#     ax[img_idx//8,img_idx%8].plot(range(len(link_util_lp_73)),link_util_lp_73)\n",
    "    ax[img_idx//8,img_idx%8].plot(range(len(link_util_ospf[:cut])),link_util_ospf[:cut])\n",
    "#     ax[img_idx//8,img_idx%8].plot(range(len(link_util_or)),link_util_or)\n",
    "    ax[img_idx//8,img_idx%8].set_title(f\"{linkIdx//2 +1}-{linkIdx%2}\")\n",
    "\n",
    "fig.legend([\n",
    "#             'rl',\\\n",
    "#             'lp',\\\n",
    "            'ospf',\\\n",
    "#             'or',\\\n",
    "           ])\n",
    "\n",
    "### ======================================================\n",
    "fig2,ax2=plt.subplots(4,8,sharex='col',sharey='row')#,linkIdx+1)#,sharex='col',sharey='row')\n",
    "plt.subplots_adjust(left=0.01,  # left，right，top 和 bottom 参数指定了子图的四个边的位置。它们是图形的宽度和高度的比例\n",
    "                    bottom=0.01, \n",
    "                    right=1, \n",
    "                    top=1, \n",
    "                    wspace=0.2, \n",
    "                    hspace=0.2)\n",
    "for linkIdx in range(40,72):\n",
    "    img_idx = linkIdx-40\n",
    "#     link_util_rl_5 = util_data_rl_5.iloc[:,linkIdx]\n",
    "#     link_util_lp_73 = util_data_lp_73.iloc[:,linkIdx]\n",
    "    link_util_ospf = util_data_ospf.iloc[:,linkIdx]\n",
    "#     link_util_or = util_data_or.iloc[:,linkIdx]\n",
    "#     ax2[img_idx//8,img_idx%8].plot(range(len(link_util_rl_5)),link_util_rl_5)\n",
    "#     ax2[img_idx//8,img_idx%8].plot(range(len(link_util_lp_73)),link_util_lp_73)\n",
    "    ax2[img_idx//8,img_idx%8].plot(range(len(link_util_ospf[:cut])),link_util_ospf[:cut])\n",
    "#     ax2[img_idx//8,img_idx%8].plot(range(len(link_util_or)),link_util_or)\n",
    "    ax2[img_idx//8,img_idx%8].set_title(f\"{linkIdx//2 +1}-{linkIdx%2}\")\n",
    "\n",
    "fig2.legend([\\\n",
    "#             'rl',\\\n",
    "#             'lp',\\\n",
    "            'ospf',\\\n",
    "#             'or',\\\n",
    "           ])"
   ]
  },
  {
   "cell_type": "code",
   "execution_count": null,
   "id": "impaired-literature",
   "metadata": {},
   "outputs": [],
   "source": []
  },
  {
   "cell_type": "markdown",
   "id": "extended-israel",
   "metadata": {},
   "source": [
    "### burst=10"
   ]
  },
  {
   "cell_type": "markdown",
   "id": "outdoor-progress",
   "metadata": {},
   "source": [
    "#### ospf"
   ]
  },
  {
   "cell_type": "code",
   "execution_count": 401,
   "id": "marked-india",
   "metadata": {
    "tags": []
   },
   "outputs": [],
   "source": [
    "MORE_DETAIL = False\n",
    "# record_interval = \"0.010000\"      \"0.100000\"      \"1.000000\"\n",
    "record_interval = \"0.005000\"\n",
    "\n",
    "node =23\n",
    "lamTimes=1  # 其实对于onoff影响不大\n",
    "port=5571\n",
    "proName=\"ospf-onoff-with-burst10\" #\"lp_73god_view\" #\"lp-trueTM\"\n",
    "\n",
    "parDir =f\"/home/hesy/projects/ns3-test/data/{proName}/{record_interval}_lamTimes{lamTimes}_port{port}/\"\n",
    "util_file =f\"traces/util_{record_interval}.txt\"\n",
    "\n",
    "file_list = [util_file] \n",
    "titles = [\"link-tilization\"]\n",
    "\n",
    "CUT_OFF = 6000 # max timestep in pic"
   ]
  },
  {
   "cell_type": "code",
   "execution_count": 402,
   "id": "terminal-delay",
   "metadata": {
    "tags": []
   },
   "outputs": [],
   "source": [
    "datas_ospf = [None]*len(file_list) # datas[i]包含 ( node*(node-1) , timestep ) 维度的数据 ( i是观测属性index，比如util )\n",
    "# 从每个观测属性中提取的统计数据 -- 现在只需要50%分位 以及 90%分位 ; describes[i] 包含[\"0.5\": ... ; \"0.9\": ...] 的DataFrame\n",
    "describes_ospf =[] # 每一行是一个时间点\n",
    "\n",
    "attrs = [\\\n",
    "         '0.5',\\\n",
    "         '0.9',\\\n",
    "         'max']\n",
    "\n",
    "for (i, file) in enumerate(file_list):\n",
    "    datas_ospf[i] = pd.DataFrame(np.loadtxt(parDir+file))  # datas[0],也就是util,行是时间步，列是bi-link\n",
    "    if file == util_file:\n",
    "        datas_ospf[i]*=100\n",
    "    # print(f\"loading {parDir+file}\")\n",
    "    # print(f\"\\tdatas[i].shape is {datas_ospf[i].shape}\")\n",
    "    # print(f\"\\tdescribes[i].shape is {datas_ospf[i].transpose().quantile(0.9).shape}\") # 默认是都是以第一个axis为一个unit进行统计  所以要transpose一下\n",
    "    describes_ospf.append(pd.DataFrame({\\\n",
    "                                        \"0.5\":datas_ospf[i].transpose().quantile(0.5),\\\n",
    "                                        \"0.9\":datas_ospf[i].transpose().quantile(0.9),\\\n",
    "                                        \"max\":datas_ospf[i].transpose().quantile(1)\\\n",
    "                                       }))\n",
    "    \n",
    "import copy\n",
    "\n",
    "origin_describe_ospf = copy.deepcopy(describes_ospf)\n",
    "describes_cut_ospf = [ origin_data.iloc[:CUT_OFF,:] for origin_data in  origin_describe_ospf ]"
   ]
  },
  {
   "cell_type": "code",
   "execution_count": 404,
   "id": "suburban-request",
   "metadata": {
    "tags": []
   },
   "outputs": [],
   "source": [
    "# cut=1000\n",
    "# cut=100\n",
    "cut=2000\n",
    "cut=6000\n",
    "# cut=10000"
   ]
  },
  {
   "cell_type": "code",
   "execution_count": 405,
   "id": "medieval-germany",
   "metadata": {
    "collapsed": true,
    "jupyter": {
     "outputs_hidden": true
    },
    "tags": []
   },
   "outputs": [
    {
     "data": {
      "text/plain": [
       "Text(0.5, 1.0, '23_recordInterval0.005000_lamTimes1_link-tilization')"
      ]
     },
     "execution_count": 405,
     "metadata": {},
     "output_type": "execute_result"
    },
    {
     "data": {
      "image/png": "[encoded data removed]",
      "text/plain": [
       "<Figure size 432x288 with 1 Axes>"
      ]
     },
     "metadata": {
      "needs_background": "light"
     },
     "output_type": "display_data"
    }
   ],
   "source": [
    "for datas in [\\\n",
    "#               describes_cut_rl,\\\n",
    "#               describes_cut_ben,\\\n",
    "              describes_cut_ospf\\\n",
    "             ]:\n",
    "    for (i,data) in enumerate(datas):\n",
    "            plt.plot(range(1,len(data[attrs[1]][:cut])+1),data['max'][:cut],'-')\n",
    "#             plt.plot(range(1,len(data[attrs[1]][4000:5000])+1),data['max'][4000:5000],'-')\n",
    "\n",
    "plt.xlabel(f'record steps( each {record_interval}s)')\n",
    "plt.ylabel('MLU(%)')\n",
    "plt.legend([ \n",
    "#             'rl',\\\n",
    "#             'lp',\\\n",
    "            'ospf'\\\n",
    "           ])\n",
    "fileName= f\"{node}_recordInterval{record_interval}_lamTimes{lamTimes}_{titles[i]}\"\n",
    "plt.title(fileName)"
   ]
  },
  {
   "cell_type": "markdown",
   "id": "speaking-disclaimer",
   "metadata": {},
   "source": [
    "#### 平滑"
   ]
  },
  {
   "cell_type": "markdown",
   "id": "collected-airplane",
   "metadata": {},
   "source": [
    "cut 取前面部分"
   ]
  },
  {
   "cell_type": "code",
   "execution_count": 296,
   "id": "initial-transport",
   "metadata": {},
   "outputs": [],
   "source": [
    "cut=500"
   ]
  },
  {
   "cell_type": "code",
   "execution_count": 407,
   "id": "inappropriate-silly",
   "metadata": {
    "tags": []
   },
   "outputs": [],
   "source": [
    "from more_itertools import chunked\n",
    "# describes_cut[0]是util的数据\n",
    "\n",
    "# describes_smooth_rl= [ np.array(x).sum(axis=0)/len(x) for x in chunked(describes_cut_rl[0].values, 75//5)]\n",
    "# describes_smooth_rl=pd.DataFrame(describes_smooth_rl,columns= attrs)\n",
    "\n",
    "# describes_smooth_ben= [ np.array(x).sum(axis=0)/len(x) for x in chunked(describes_cut_ben[0].values, 75//5)]\n",
    "# describes_smooth_ben=pd.DataFrame(describes_smooth_ben,columns= attrs)\n",
    "\n",
    "describes_smooth_ospf= [ np.array(x).sum(axis=0)/len(x) for x in chunked(describes_cut_ospf[0].values, 75//5)]\n",
    "describes_smooth_ospf=pd.DataFrame(describes_smooth_ospf,columns= attrs)"
   ]
  },
  {
   "cell_type": "code",
   "execution_count": 408,
   "id": "democratic-singer",
   "metadata": {
    "collapsed": true,
    "jupyter": {
     "outputs_hidden": true
    },
    "tags": []
   },
   "outputs": [
    {
     "data": {
      "image/png": "[encoded data removed]",
      "text/plain": [
       "<Figure size 432x288 with 1 Axes>"
      ]
     },
     "metadata": {
      "needs_background": "light"
     },
     "output_type": "display_data"
    }
   ],
   "source": [
    "for data in [\n",
    "#     describes_smooth_rl,\\\n",
    "#     describes_smooth_ben,\\\n",
    "    describes_smooth_ospf\\\n",
    "    ]:\n",
    "    plt.plot(range(1,len(data['max'][:cut])+1),data['max'][:cut],'-')\n",
    "\n",
    "plt.legend([\\\n",
    "#             'rl',\\\n",
    "#             'lp',\\\n",
    "            'ospf'\\\n",
    "           ])\n",
    "\n",
    "record_interval_ = float(record_interval)*15\n",
    "plt.xlabel(f'record steps( each {record_interval_}s)')\n",
    "plt.ylabel('MLU(%)')\n",
    "fileName= f\"{node}_recordInterval{record_interval_}_lamTimes{lamTimes}_{titles[i]}\"\n",
    "fileName+=f\"_charac\"\n",
    "plt.title(fileName)\n",
    "plt.show()"
   ]
  },
  {
   "cell_type": "markdown",
   "id": "dress-distribution",
   "metadata": {},
   "source": [
    "#### 查看各链路情况"
   ]
  },
  {
   "cell_type": "code",
   "execution_count": 287,
   "id": "guided-retreat",
   "metadata": {},
   "outputs": [],
   "source": [
    "util_data_ospf = datas_ospf[0]"
   ]
  },
  {
   "cell_type": "code",
   "execution_count": 297,
   "id": "owned-czech",
   "metadata": {
    "collapsed": true,
    "jupyter": {
     "outputs_hidden": true
    },
    "tags": []
   },
   "outputs": [
    {
     "data": {
      "text/plain": [
       "<matplotlib.legend.Legend at 0x7f3b6db45710>"
      ]
     },
     "execution_count": 297,
     "metadata": {},
     "output_type": "execute_result"
    },
    {
     "data": {
      "image/png": "[encoded data removed]",
      "text/plain": [
       "<Figure size 432x288 with 40 Axes>"
      ]
     },
     "metadata": {
      "needs_background": "light"
     },
     "output_type": "display_data"
    },
    {
     "data": {
      "image/png": "[encoded data removed]",
      "text/plain": [
       "<Figure size 432x288 with 32 Axes>"
      ]
     },
     "metadata": {
      "needs_background": "light"
     },
     "output_type": "display_data"
    }
   ],
   "source": [
    "fig,ax=plt.subplots(5,8,sharex='col',sharey='row')#,linkIdx+1)#,sharex='col',sharey='row')\n",
    "plt.subplots_adjust(left=0.01,  # left，right，top 和 bottom 参数指定了子图的四个边的位置。它们是图形的宽度和高度的比例\n",
    "                    bottom=0.01, \n",
    "                    right=1, \n",
    "                    top=1, \n",
    "                    wspace=0.2, \n",
    "                    hspace=0.2)\n",
    "for linkIdx in range(40):\n",
    "    img_idx = linkIdx-0\n",
    "#     link_util_rl_5 >= util_data_rl_5.iloc[:,linkIdx]\n",
    "#     link_util_lp_73 = util_data_lp_73.iloc[:,linkIdx]\n",
    "    link_util_ospf = util_data_ospf.iloc[:,linkIdx]\n",
    "#     link_util_or= util_data_or.iloc[:,linkIdx]\n",
    "#     ax[img_idx//8,img_idx%8].plot(range(len(link_util_rl_5)),link_util_rl_5)\n",
    "#     ax[img_idx//8,img_idx%8].plot(range(len(link_util_lp_73)),link_util_lp_73)\n",
    "    ax[img_idx//8,img_idx%8].plot(range(len(link_util_ospf[:cut])),link_util_ospf[:cut])\n",
    "#     ax[img_idx//8,img_idx%8].plot(range(len(link_util_or)),link_util_or)\n",
    "    ax[img_idx//8,img_idx%8].set_title(f\"{linkIdx//2 +1}-{linkIdx%2}\")\n",
    "\n",
    "fig.legend([\n",
    "#             'rl',\\\n",
    "#             'lp',\\\n",
    "            'ospf',\\\n",
    "#             'or',\\\n",
    "           ])\n",
    "\n",
    "### ======================================================\n",
    "fig2,ax2=plt.subplots(4,8,sharex='col',sharey='row')#,linkIdx+1)#,sharex='col',sharey='row')\n",
    "plt.subplots_adjust(left=0.01,  # left，right，top 和 bottom 参数指定了子图的四个边的位置。它们是图形的宽度和高度的比例\n",
    "                    bottom=0.01, \n",
    "                    right=1, \n",
    "                    top=1, \n",
    "                    wspace=0.2, \n",
    "                    hspace=0.2)\n",
    "for linkIdx in range(40,72):\n",
    "    img_idx = linkIdx-40\n",
    "#     link_util_rl_5 = util_data_rl_5.iloc[:,linkIdx]\n",
    "#     link_util_lp_73 = util_data_lp_73.iloc[:,linkIdx]\n",
    "    link_util_ospf = util_data_ospf.iloc[:,linkIdx]\n",
    "#     link_util_or = util_data_or.iloc[:,linkIdx]\n",
    "#     ax2[img_idx//8,img_idx%8].plot(range(len(link_util_rl_5)),link_util_rl_5)\n",
    "#     ax2[img_idx//8,img_idx%8].plot(range(len(link_util_lp_73)),link_util_lp_73)\n",
    "    ax2[img_idx//8,img_idx%8].plot(range(len(link_util_ospf[:cut])),link_util_ospf[:cut])\n",
    "#     ax2[img_idx//8,img_idx%8].plot(range(len(link_util_or)),link_util_or)\n",
    "    ax2[img_idx//8,img_idx%8].set_title(f\"{linkIdx//2 +1}-{linkIdx%2}\")\n",
    "\n",
    "fig2.legend([\\\n",
    "#             'rl',\\\n",
    "#             'lp',\\\n",
    "            'ospf',\\\n",
    "#             'or',\\\n",
    "           ])"
   ]
  },
  {
   "cell_type": "code",
   "execution_count": null,
   "id": "wicked-plaza",
   "metadata": {},
   "outputs": [],
   "source": []
  },
  {
   "cell_type": "markdown",
   "id": "rotary-helena",
   "metadata": {},
   "source": [
    "# others"
   ]
  },
  {
   "cell_type": "markdown",
   "id": "incorporated-madrid",
   "metadata": {},
   "source": [
    "## drl-te的训练情况"
   ]
  },
  {
   "cell_type": "code",
   "execution_count": 411,
   "id": "artistic-mauritius",
   "metadata": {
    "tags": []
   },
   "outputs": [],
   "source": [
    "train_1000_500 = np.loadtxt(\"/home/hesy/projects/MARL/train-drlte/log/log/hesy-train-1000-500/util.log\")\n",
    "train_5000_500 = np.loadtxt(\"/home/hesy/projects/MARL/train-drlte/log/log/hesy-train-5000-500/util.log\")\n",
    "train_10000_50 = np.loadtxt(\"/home/hesy/projects/MARL/drlte-gea-train/DRLTE/log/log/hesy-train-10000-50/util.log\")\n",
    "train_5000_50 = np.loadtxt(\"/home/hesy/projects/MARL/drlte-gea-train/DRLTE/log/log/hesy-train-5000-50/util.log\")"
   ]
  },
  {
   "cell_type": "code",
   "execution_count": 426,
   "id": "solved-million",
   "metadata": {
    "tags": []
   },
   "outputs": [],
   "source": [
    "from more_itertools import chunked\n",
    "# describes_cut[0]是util的数据\n",
    "\n",
    "smooth_1000_500= [ np.array(x).sum(axis=0)/len(x) for x in chunked(train_1000_500, 500)]\n",
    "smooth_5000_500= [ np.array(x).sum(axis=0)/len(x) for x in chunked(train_5000_500, 2500)]\n",
    "smooth_10000_50= [ np.array(x).sum(axis=0)/len(x) for x in chunked(train_10000_50, 200)]\n",
    "smooth_5000_50= [ np.array(x).sum(axis=0)/len(x) for x in chunked(train_5000_50, 100)]"
   ]
  },
  {
   "cell_type": "code",
   "execution_count": 427,
   "id": "excess-apple",
   "metadata": {
    "tags": []
   },
   "outputs": [
    {
     "data": {
      "text/plain": [
       "<matplotlib.legend.Legend at 0x7f3b6bdf4b38>"
      ]
     },
     "execution_count": 427,
     "metadata": {},
     "output_type": "execute_result"
    },
    {
     "data": {
      "image/png": "[encoded data removed]",
      "text/plain": [
       "<Figure size 432x288 with 1 Axes>"
      ]
     },
     "metadata": {
      "needs_background": "light"
     },
     "output_type": "display_data"
    }
   ],
   "source": [
    "datas =[\n",
    "    smooth_1000_500,\n",
    "    smooth_5000_500,\n",
    "    np.array(smooth_10000_50)/10,   # 所以是为啥会大10倍有点忘了,也许是跟训练的设定有关吧\n",
    "    np.array(smooth_5000_50)/10,\n",
    "]\n",
    "names =  [\n",
    "    \"1000-500\",\n",
    "    \"5000-500\",\n",
    "    \"10000-50\",\n",
    "    \"5000-50\",\n",
    "]\n",
    "\n",
    "for data in datas:\n",
    "#     plt.plot(range(len(data[:1000000])),data[:1000000])\n",
    "    plt.plot(range(len(data)),data)\n",
    "\n",
    "plt.legend(names)"
   ]
  },
  {
   "cell_type": "markdown",
   "id": "arbitrary-nancy",
   "metadata": {},
   "source": [
    "按照比例平滑了之后差不多..."
   ]
  },
  {
   "cell_type": "code",
   "execution_count": null,
   "id": "simple-reception",
   "metadata": {},
   "outputs": [],
   "source": []
  },
  {
   "cell_type": "code",
   "execution_count": 142,
   "id": "brazilian-commodity",
   "metadata": {},
   "outputs": [
    {
     "data": {
      "text/html": [
       "<div>\n",
       "<style scoped>\n",
       "    .dataframe tbody tr th:only-of-type {\n",
       "        vertical-align: middle;\n",
       "    }\n",
       "\n",
       "    .dataframe tbody tr th {\n",
       "        vertical-align: top;\n",
       "    }\n",
       "\n",
       "    .dataframe thead th {\n",
       "        text-align: right;\n",
       "    }\n",
       "</style>\n",
       "<table border=\"1\" class=\"dataframe\">\n",
       "  <thead>\n",
       "    <tr style=\"text-align: right;\">\n",
       "      <th></th>\n",
       "      <th>0</th>\n",
       "      <th>1</th>\n",
       "      <th>2</th>\n",
       "      <th>3</th>\n",
       "      <th>4</th>\n",
       "      <th>5</th>\n",
       "      <th>6</th>\n",
       "      <th>7</th>\n",
       "      <th>8</th>\n",
       "      <th>9</th>\n",
       "      <th>...</th>\n",
       "      <th>13</th>\n",
       "      <th>14</th>\n",
       "      <th>15</th>\n",
       "      <th>16</th>\n",
       "      <th>17</th>\n",
       "      <th>18</th>\n",
       "      <th>19</th>\n",
       "      <th>20</th>\n",
       "      <th>21</th>\n",
       "      <th>22</th>\n",
       "    </tr>\n",
       "  </thead>\n",
       "  <tbody>\n",
       "    <tr>\n",
       "      <th>0</th>\n",
       "      <td>232528.592000</td>\n",
       "      <td>85743.408000</td>\n",
       "      <td>97282.133333</td>\n",
       "      <td>38949.808000</td>\n",
       "      <td>5527.704000</td>\n",
       "      <td>80.829333</td>\n",
       "      <td>241389.985333</td>\n",
       "      <td>5898.074667</td>\n",
       "      <td>1.813594e+04</td>\n",
       "      <td>8524.681333</td>\n",
       "      <td>...</td>\n",
       "      <td>946.962667</td>\n",
       "      <td>11371.022667</td>\n",
       "      <td>365889.185333</td>\n",
       "      <td>2.322225e+05</td>\n",
       "      <td>1.701088e+05</td>\n",
       "      <td>9997.037333</td>\n",
       "      <td>7445.214667</td>\n",
       "      <td>66466.252000</td>\n",
       "      <td>83162.666667</td>\n",
       "      <td>2449.658667</td>\n",
       "    </tr>\n",
       "    <tr>\n",
       "      <th>1</th>\n",
       "      <td>591704.533333</td>\n",
       "      <td>41161.244000</td>\n",
       "      <td>2605.866667</td>\n",
       "      <td>360945.896000</td>\n",
       "      <td>12099.437333</td>\n",
       "      <td>339801.837333</td>\n",
       "      <td>115746.014667</td>\n",
       "      <td>45521.777333</td>\n",
       "      <td>6.076172e+04</td>\n",
       "      <td>30934.874667</td>\n",
       "      <td>...</td>\n",
       "      <td>31823.881333</td>\n",
       "      <td>582.162667</td>\n",
       "      <td>10657.422667</td>\n",
       "      <td>2.309065e+05</td>\n",
       "      <td>1.936046e+06</td>\n",
       "      <td>14466.489333</td>\n",
       "      <td>27684.266667</td>\n",
       "      <td>126667.970667</td>\n",
       "      <td>33499.258667</td>\n",
       "      <td>291.556000</td>\n",
       "    </tr>\n",
       "    <tr>\n",
       "      <th>2</th>\n",
       "      <td>99348.504000</td>\n",
       "      <td>103170.252000</td>\n",
       "      <td>670.458667</td>\n",
       "      <td>626364.918667</td>\n",
       "      <td>6972.681333</td>\n",
       "      <td>137.244000</td>\n",
       "      <td>61789.274667</td>\n",
       "      <td>10324.266667</td>\n",
       "      <td>1.993932e+04</td>\n",
       "      <td>11293.510667</td>\n",
       "      <td>...</td>\n",
       "      <td>2425.600000</td>\n",
       "      <td>21269.570667</td>\n",
       "      <td>49546.904000</td>\n",
       "      <td>4.457412e+05</td>\n",
       "      <td>1.014886e+04</td>\n",
       "      <td>23745.658667</td>\n",
       "      <td>28990.458667</td>\n",
       "      <td>121892.385333</td>\n",
       "      <td>16379.258667</td>\n",
       "      <td>2647.466667</td>\n",
       "    </tr>\n",
       "    <tr>\n",
       "      <th>3</th>\n",
       "      <td>322408.058667</td>\n",
       "      <td>602932.504000</td>\n",
       "      <td>31643.733333</td>\n",
       "      <td>29.274667</td>\n",
       "      <td>31892.029333</td>\n",
       "      <td>591.170667</td>\n",
       "      <td>864008.652000</td>\n",
       "      <td>22987.496000</td>\n",
       "      <td>2.348871e+04</td>\n",
       "      <td>0.000000</td>\n",
       "      <td>...</td>\n",
       "      <td>20859.022667</td>\n",
       "      <td>32480.356000</td>\n",
       "      <td>34765.629333</td>\n",
       "      <td>6.956448e+05</td>\n",
       "      <td>7.103917e+04</td>\n",
       "      <td>79376.118667</td>\n",
       "      <td>19756.089333</td>\n",
       "      <td>208740.029333</td>\n",
       "      <td>30412.562667</td>\n",
       "      <td>12211.318667</td>\n",
       "    </tr>\n",
       "    <tr>\n",
       "      <th>4</th>\n",
       "      <td>107073.066667</td>\n",
       "      <td>9850.666667</td>\n",
       "      <td>9153.185333</td>\n",
       "      <td>9138.962667</td>\n",
       "      <td>0.000000</td>\n",
       "      <td>1031.110667</td>\n",
       "      <td>2647.348000</td>\n",
       "      <td>66309.925333</td>\n",
       "      <td>1.357486e+06</td>\n",
       "      <td>4617.718667</td>\n",
       "      <td>...</td>\n",
       "      <td>98.608000</td>\n",
       "      <td>93445.925333</td>\n",
       "      <td>20153.125333</td>\n",
       "      <td>6.467078e+06</td>\n",
       "      <td>3.512533e+03</td>\n",
       "      <td>1247.525333</td>\n",
       "      <td>172588.444000</td>\n",
       "      <td>12260.741333</td>\n",
       "      <td>58642.252000</td>\n",
       "      <td>4381.748000</td>\n",
       "    </tr>\n",
       "  </tbody>\n",
       "</table>\n",
       "<p>5 rows × 23 columns</p>\n",
       "</div>"
      ],
      "text/plain": [
       "              0              1             2              3             4   \\\n",
       "0  232528.592000   85743.408000  97282.133333   38949.808000   5527.704000   \n",
       "1  591704.533333   41161.244000   2605.866667  360945.896000  12099.437333   \n",
       "2   99348.504000  103170.252000    670.458667  626364.918667   6972.681333   \n",
       "3  322408.058667  602932.504000  31643.733333      29.274667  31892.029333   \n",
       "4  107073.066667    9850.666667   9153.185333    9138.962667      0.000000   \n",
       "\n",
       "              5              6             7             8             9   \\\n",
       "0      80.829333  241389.985333   5898.074667  1.813594e+04   8524.681333   \n",
       "1  339801.837333  115746.014667  45521.777333  6.076172e+04  30934.874667   \n",
       "2     137.244000   61789.274667  10324.266667  1.993932e+04  11293.510667   \n",
       "3     591.170667  864008.652000  22987.496000  2.348871e+04      0.000000   \n",
       "4    1031.110667    2647.348000  66309.925333  1.357486e+06   4617.718667   \n",
       "\n",
       "   ...            13            14             15            16            17  \\\n",
       "0  ...    946.962667  11371.022667  365889.185333  2.322225e+05  1.701088e+05   \n",
       "1  ...  31823.881333    582.162667   10657.422667  2.309065e+05  1.936046e+06   \n",
       "2  ...   2425.600000  21269.570667   49546.904000  4.457412e+05  1.014886e+04   \n",
       "3  ...  20859.022667  32480.356000   34765.629333  6.956448e+05  7.103917e+04   \n",
       "4  ...     98.608000  93445.925333   20153.125333  6.467078e+06  3.512533e+03   \n",
       "\n",
       "             18             19             20            21            22  \n",
       "0   9997.037333    7445.214667   66466.252000  83162.666667   2449.658667  \n",
       "1  14466.489333   27684.266667  126667.970667  33499.258667    291.556000  \n",
       "2  23745.658667   28990.458667  121892.385333  16379.258667   2647.466667  \n",
       "3  79376.118667   19756.089333  208740.029333  30412.562667  12211.318667  \n",
       "4   1247.525333  172588.444000   12260.741333  58642.252000   4381.748000  \n",
       "\n",
       "[5 rows x 23 columns]"
      ]
     },
     "execution_count": 142,
     "metadata": {},
     "output_type": "execute_result"
    }
   ],
   "source": [
    "pd.DataFrame(np.array(tms.iloc[4560]*30*40/100*1000000/8).reshape(23,23)).head()"
   ]
  }
 ],
 "metadata": {
  "kernelspec": {
   "display_name": "Python 3",
   "language": "python",
   "name": "python3"
  },
  "language_info": {
   "codemirror_mode": {
    "name": "ipython",
    "version": 3
   },
   "file_extension": ".py",
   "mimetype": "text/x-python",
   "name": "python",
   "nbconvert_exporter": "python",
   "pygments_lexer": "ipython3",
   "version": "3.7.10"
  },
  "toc-autonumbering": true
 },
 "nbformat": 4,
 "nbformat_minor": 5
}
