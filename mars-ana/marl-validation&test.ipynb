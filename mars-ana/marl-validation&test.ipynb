{
 "cells": [
  {
   "cell_type": "code",
   "execution_count": 3,
   "id": "proof-closer",
   "metadata": {},
   "outputs": [
    {
     "name": "stdout",
     "output_type": "stream",
     "text": [
      "Populating the interactive namespace from numpy and matplotlib\n"
     ]
    }
   ],
   "source": [
    "from __future__ import print_function\n",
    "from IPython.core.interactiveshell import InteractiveShell\n",
    "InteractiveShell.ast_node_interactivity='last_expr'\n",
    "\n",
    "from matplotlib import pyplot as plt\n",
    "%pylab inline\n",
    "\n",
    "# %load_ext autoreload\n",
    "# %autoreload 2\n",
    "import numpy as np\n",
    "import pandas as pd \n",
    "pd.options.display.max_rows=5  # 设置dataframe最多的显示行数\n",
    "import os\n",
    "import os.path as osp\n",
    "\n",
    "import sys\n",
    "if os.getcwd() not in sys.path:\n",
    "    sys.path.append(os.getcwd())\n",
    "    print(f\"After inserting, sys.path is {sys.path}\")\n",
    "    \n",
    "from collections import defaultdict"
   ]
  },
  {
   "cell_type": "code",
   "execution_count": null,
   "id": "worthy-florist",
   "metadata": {},
   "outputs": [],
   "source": [
    "import pickle\n",
    "\n",
    "def save_obj(obj, name:str ):\n",
    "    with open( f\"{name}.pkl\", 'wb') as f:\n",
    "        pickle.dump(obj, f, pickle.HIGHEST_PROTOCOL)\n",
    "\n",
    "def load_obj(name:str ):\n",
    "    with open(f\"{name}.pkl\", 'rb') as f:\n",
    "        return pickle.load(f)\n"
   ]
  },
  {
   "cell_type": "markdown",
   "id": "upset-reader",
   "metadata": {},
   "source": [
    "# analysis results from valid.sh"
   ]
  },
  {
   "cell_type": "code",
   "execution_count": 47,
   "id": "turned-orange",
   "metadata": {},
   "outputs": [],
   "source": [
    "def parseAndSave( key ,topoName,expKind,parDir ):\n",
    "    # 102-64-100-5-0-9437-0-2\n",
    "    penalty,seed,mini_batch,len_circle,tm_circle,explore_epochs,epsilon_steps,explore_decay,ckpt_idx = key.split(\"-\")\n",
    "\n",
    "    resPathDir = osp.join(parDir,f\"{topoName}-{expKind}\" )  # ,\"modelIndex.txt\"\n",
    "    if not osp.exists(resPathDir):\n",
    "        os.makedirs(resPathDir)\n",
    "\n",
    "    print(f\"save in to {resPathDir}/modelIndex.txt\")\n",
    "    with open( osp.join(resPathDir,\"modelIndex.txt\") ,\"w\") as f:\n",
    "        print(f\"{penalty} {seed} {mini_batch} {len_circle} {tm_circle} {explore_epochs} {epsilon_steps} {explore_decay} {ckpt_idx} {topoName} {expKind}\",file =f)\n",
    "        \"\"\"\n",
    "        print(f\"seed {seed}\")\n",
    "        print(f\"mini_batch {mini_batch}\")\n",
    "        print(f\"len_circle {len_circle}\")\n",
    "        print(f\"tm_circle {tm_circle}\")\n",
    "        print(f\"explore_epochs {explore_epochs}\")\n",
    "        print(f\"epsilon_steps {epsilon_steps}\")\n",
    "        print(f\"explore_decay {explore_decay}\")\n",
    "        print(f\"ckpt_idx {ckpt_idx}\")\n",
    "        print(f\"topoName {topoName}\")\n",
    "        print(f\"dim {expKind}\")\n",
    "        \"\"\""
   ]
  },
  {
   "cell_type": "code",
   "execution_count": 48,
   "id": "large-discrimination",
   "metadata": {},
   "outputs": [],
   "source": [
    "# needs change\n",
    "# parDir=\"/home/hesy/pro/mars/DRLTE/log_time_space_abi/validRes\"\n",
    "parDir=\"/home/hesy/projects/mars/DRLTE_g5/log/validRes\"\n",
    "true_exist_num=483\n",
    "topoName=\"GEA\"\n",
    "expKind=\"trueTM\""
   ]
  },
  {
   "cell_type": "code",
   "execution_count": 49,
   "id": "significant-diagram",
   "metadata": {},
   "outputs": [],
   "source": [
    "# hyper\n",
    "# seeds =[66] # for fei's version\n",
    "# mini_batchs =[16,64]    \n",
    "# len_circles =[100,1000]\n",
    "# tm_circles =[5,10]\n",
    "explore_epochss=[0,1]\n",
    "seeds =[66,102]\n",
    "mini_batchs =[32,64]  # for fei's version\n",
    "len_circles =[1000]\n",
    "tm_circles =[5]\n",
    "explore_epochss=[1]\n",
    "penaltys=[0.5,1.0,5.0,10.0]"
   ]
  },
  {
   "cell_type": "code",
   "execution_count": 50,
   "id": "handled-prediction",
   "metadata": {},
   "outputs": [],
   "source": [
    "# ${topoName}-${seed}-${mini_batch}-${len_circle}-${tm_circle}-${explore_epochs}-\\\n",
    "# ${epsilon_steps}-\\\n",
    "# ${explore_decay}-\\\n",
    "# ${ckpt_idx}\n",
    "model_dirPaths=[]\n",
    "for penalty in penaltys:\n",
    "    for seed in seeds :\n",
    "        for mini_batch in mini_batchs :\n",
    "            for len_circle  in len_circles :\n",
    "                for tm_circle in tm_circles :\n",
    "                        for explore_epochs in explore_epochss :\n",
    "                            # fei's version\n",
    "                            dirName = f\"{topoName}-{expKind}-{penalty}-{seed}-{mini_batch}-{len_circle}-{tm_circle}-{explore_epochs if explore_epochs==0 else len_circle*tm_circle }-{9437 if explore_epochs==0 else 2700}-\"\n",
    "    #                         dirName = f\"{topoName}-{seed}-{mini_batch}-{len_circle}-{tm_circle}-{explore_epochs if explore_epochs==0 else len_circle*tm_circle }-{9437 if explore_epochs==0 else 2700}-\"\n",
    "                            if explore_epochs:\n",
    "                                dirName += f\"{94 if len_circle*tm_circle==1000 else 189}\"  \n",
    "                            else:\n",
    "                                dirName += f\"{0}\"\n",
    "                            model_dirPaths.append( osp.join( parDir,dirName)  )"
   ]
  },
  {
   "cell_type": "code",
   "execution_count": 51,
   "id": "rocky-plate",
   "metadata": {},
   "outputs": [
    {
     "data": {
      "text/plain": [
       "16"
      ]
     },
     "execution_count": 51,
     "metadata": {},
     "output_type": "execute_result"
    }
   ],
   "source": [
    "len(model_dirPaths)"
   ]
  },
  {
   "cell_type": "code",
   "execution_count": null,
   "id": "whole-reach",
   "metadata": {},
   "outputs": [],
   "source": [
    "model_dirPaths"
   ]
  },
  {
   "cell_type": "code",
   "execution_count": 52,
   "id": "atlantic-gibson",
   "metadata": {},
   "outputs": [
    {
     "name": "stdout",
     "output_type": "stream",
     "text": [
      "save in to /home/hesy/projects/mars/DRLTE_g5/log/validRes/GEA-trueTM/modelIndex.txt\n"
     ]
    }
   ],
   "source": [
    "existNum = 0\n",
    "means_pr,means_util= defaultdict(dict),defaultdict(dict)\n",
    "mins_pf = defaultdict(tuple)\n",
    "min_pf_all, min_index_all = 10 ,0\n",
    "\n",
    "for p in model_dirPaths:\n",
    "       # 对于所有模型的所有迭代结果\n",
    "    min_pf ,min_index = 10 , \"\"    # 对于某个模型所有的迭代轮数的结果\n",
    "    # fei's version\n",
    "    key = p.split(f'{expKind}')[-1][1:]\n",
    "#     key = p.split(f'{topoName}')[-1][1:]\n",
    "    for modelIndex in range(1,41):\n",
    "        path = p+f\"-{modelIndex}\"\n",
    "        \n",
    "        if osp.exists( path):\n",
    "            existNum+=1\n",
    "            pf_mean, util_mean= mean(loadtxt( osp.join(path,\"perfm.log\") )),mean(loadtxt( osp.join(path,\"util.log\") ))\n",
    "            means_pr[key][modelIndex], means_util[key][modelIndex]= pf_mean, util_mean\n",
    "\n",
    "            if min_pf> pf_mean :\n",
    "                min_pf,min_index = pf_mean,f\"{key}-{modelIndex}\"\n",
    "#                 print(f\"update min_pf to be {min_pf} at {key}\")\n",
    "\n",
    "    if min_pf_all > min_pf:\n",
    "        min_pf_all,min_index_all = min_pf,min_index\n",
    "    # mins_pf[key] = (min_index,min_pf) # 记录最小的index以及表现值 # TODO 先不画图\n",
    "\n",
    "print(f\"existNum is {existNum}\")\n",
    "# assert existNum==true_exist_num, f\"wrong existNum of {existNum}\"\n",
    "parseAndSave( min_index_all, topoName , expKind,parDir )"
   ]
  },
  {
   "cell_type": "code",
   "execution_count": 54,
   "id": "surface-concept",
   "metadata": {},
   "outputs": [
    {
     "data": {
      "text/plain": [
       "'1.0-66-32-1000-5-5000-2700-189-11'"
      ]
     },
     "execution_count": 54,
     "metadata": {},
     "output_type": "execute_result"
    }
   ],
   "source": [
    "min_index_all"
   ]
  },
  {
   "cell_type": "markdown",
   "id": "suspected-horror",
   "metadata": {},
   "source": [
    "len(means_pr)"
   ]
  },
  {
   "cell_type": "code",
   "execution_count": 55,
   "id": "emotional-malta",
   "metadata": {},
   "outputs": [
    {
     "data": {
      "text/plain": [
       "1.374808643780978"
      ]
     },
     "execution_count": 55,
     "metadata": {},
     "output_type": "execute_result"
    }
   ],
   "source": [
    "min_pf_all"
   ]
  },
  {
   "cell_type": "code",
   "execution_count": 56,
   "id": "regional-dubai",
   "metadata": {
    "scrolled": true,
    "tags": []
   },
   "outputs": [
    {
     "data": {
      "text/plain": [
       "defaultdict(dict,\n",
       "            {'0.5-66-32-1000-5-5000-2700-189': {1: 2.112172879160483,\n",
       "              2: 2.03563964005419,\n",
       "              3: 2.3662164491318505,\n",
       "              4: 2.5086555399887445,\n",
       "              5: 1.901281088455417,\n",
       "              6: 2.075818570869804,\n",
       "              7: 2.1919287987516123,\n",
       "              8: 1.6485943715251115,\n",
       "              9: 1.8544198831239156,\n",
       "              10: 2.115196850400794,\n",
       "              11: 1.89194388345038,\n",
       "              12: 2.8783993724746435,\n",
       "              13: 2.162250944929433,\n",
       "              14: 1.862619106814198,\n",
       "              15: 1.9056004528053705,\n",
       "              16: 1.9991191750851554,\n",
       "              17: 2.5690880184590577,\n",
       "              18: 1.9857404346854182,\n",
       "              19: 2.145844995311113,\n",
       "              20: 1.8874407760578724,\n",
       "              21: 1.5810189983032519,\n",
       "              22: 2.4133966422190842},\n",
       "             '0.5-66-64-1000-5-5000-2700-189': {1: 3.628667014105458,\n",
       "              2: 1.7520509497547463,\n",
       "              3: 3.078554776364822,\n",
       "              4: 2.3325019071365585,\n",
       "              5: 2.5833943306178,\n",
       "              6: 1.8509444046116985,\n",
       "              7: 2.436705625771845,\n",
       "              8: 2.64744008868298,\n",
       "              9: 3.005572172052721,\n",
       "              10: 1.8746553800195143,\n",
       "              11: 2.1598702926066426,\n",
       "              12: 2.7489547213803505,\n",
       "              13: 2.7517566273441756,\n",
       "              14: 2.2382930860566574},\n",
       "             '0.5-102-32-1000-5-5000-2700-189': {1: 1.4774752004465408,\n",
       "              2: 2.083759582392715,\n",
       "              3: 1.9846743043248676,\n",
       "              4: 2.3197508647435714,\n",
       "              5: 2.0110839477838036,\n",
       "              6: 2.2556856175295548,\n",
       "              7: 2.4835238448807826,\n",
       "              8: 3.070923492077256,\n",
       "              9: 1.6880228943257694,\n",
       "              10: 1.9124225355306148,\n",
       "              11: 1.700905954174832,\n",
       "              12: 1.4735430599555894,\n",
       "              13: 2.202018151490223,\n",
       "              14: 2.441316186633949,\n",
       "              15: 1.6016027219656104,\n",
       "              16: 2.04695712828022,\n",
       "              17: 2.4742773594565395,\n",
       "              18: 2.2618001305385813,\n",
       "              19: 1.5590963920142002,\n",
       "              20: 2.141390309066565,\n",
       "              21: 1.6793415807833638,\n",
       "              22: 1.7494711880686338,\n",
       "              23: 1.950751845059226,\n",
       "              24: 2.703800492083009},\n",
       "             '0.5-102-64-1000-5-5000-2700-189': {1: 2.1291688874533254,\n",
       "              2: 2.1723502369436245,\n",
       "              3: 2.2454660848678016,\n",
       "              4: 1.662560502507848,\n",
       "              5: 1.5561912068271362,\n",
       "              6: 2.2173092902824942,\n",
       "              7: 2.308664789692163,\n",
       "              8: 1.97761580301842,\n",
       "              9: 2.222774830511958,\n",
       "              10: 2.1059233299503823,\n",
       "              11: 2.347689489275935,\n",
       "              12: 2.0476237835373796,\n",
       "              13: 2.1519281655534668},\n",
       "             '1.0-66-32-1000-5-5000-2700-189': {1: 2.3289760905244856,\n",
       "              2: 2.401226719152264,\n",
       "              3: 1.9659829631614585,\n",
       "              4: 3.4802127140974686,\n",
       "              5: 1.5248097809753893,\n",
       "              6: 1.9827975941751697,\n",
       "              7: 2.312999031233435,\n",
       "              8: 2.3519054884004698,\n",
       "              9: 1.9972781222282792,\n",
       "              10: 2.368829064598726,\n",
       "              11: 1.374808643780978,\n",
       "              12: 2.525038313914832,\n",
       "              13: 1.42647580794395,\n",
       "              14: 3.0906845299459027,\n",
       "              15: 2.2395312802781255,\n",
       "              16: 1.6879464427592479,\n",
       "              17: 1.9559142778115037,\n",
       "              18: 1.8307113367651386,\n",
       "              19: 1.828505867630447,\n",
       "              20: 2.6133475626705494,\n",
       "              21: 2.024129166448542,\n",
       "              22: 2.924643679197081,\n",
       "              23: 2.599283853081668},\n",
       "             '1.0-66-64-1000-5-5000-2700-189': {1: 2.3054254458100387,\n",
       "              2: 1.920825799905547,\n",
       "              3: 3.173121097417388,\n",
       "              4: 2.000874582465568,\n",
       "              5: 1.9912018828272926,\n",
       "              6: 2.630622269317146,\n",
       "              7: 2.4096657883943298,\n",
       "              8: 2.090169573306875,\n",
       "              9: 2.1740305732442704,\n",
       "              10: 2.2276317526443807,\n",
       "              11: 2.170172517589059,\n",
       "              12: 2.215693696296841,\n",
       "              13: 1.8154439580639326,\n",
       "              14: 1.716713096679573},\n",
       "             '1.0-102-32-1000-5-5000-2700-189': {1: 2.0348502917035245,\n",
       "              2: 1.987264773371748,\n",
       "              3: 1.9744475699510828,\n",
       "              4: 2.895468254916424,\n",
       "              5: 2.118881715954891,\n",
       "              6: 2.705580822738568,\n",
       "              7: 2.1116629220869036,\n",
       "              8: 1.7363317569398815,\n",
       "              9: 1.4079253895735142,\n",
       "              10: 2.525981770734235,\n",
       "              11: 2.0476528446209312,\n",
       "              12: 1.9217303339347032,\n",
       "              13: 2.376250022064227,\n",
       "              14: 2.093884730352247,\n",
       "              15: 2.474813857542543,\n",
       "              16: 2.074136333076369,\n",
       "              17: 2.740323504564133,\n",
       "              18: 1.5344140583032226,\n",
       "              19: 2.477118770426576,\n",
       "              20: 2.231928659544281,\n",
       "              21: 2.4361267291266615,\n",
       "              22: 2.4645396974816003},\n",
       "             '1.0-102-64-1000-5-5000-2700-189': {1: 1.6487088830266425,\n",
       "              2: 1.8287209761871,\n",
       "              3: 1.854705651033711,\n",
       "              4: 2.687121972044887,\n",
       "              5: 2.8145759378430446,\n",
       "              6: 2.1140271004084914,\n",
       "              7: 2.3647241415886597,\n",
       "              8: 2.3447857989414898,\n",
       "              9: 1.9467031287331902,\n",
       "              10: 2.216413921198432,\n",
       "              11: 1.930898055498772,\n",
       "              12: 1.771557640856515,\n",
       "              13: 3.0885424565379287,\n",
       "              14: 2.961349741782494},\n",
       "             '5.0-66-32-1000-5-5000-2700-189': {1: 2.9182596838797457,\n",
       "              2: 3.5555583105431605,\n",
       "              3: 1.739709473360043,\n",
       "              4: 2.198746079033856,\n",
       "              5: 2.073563710026463,\n",
       "              6: 1.9019772251993117,\n",
       "              7: 1.8038053453661442,\n",
       "              8: 1.9823309593849234,\n",
       "              9: 1.9278950503675405,\n",
       "              10: 2.5751585711365066,\n",
       "              11: 3.464615369349187,\n",
       "              12: 3.7398588036495686,\n",
       "              13: 2.3108421289238583,\n",
       "              14: 2.286516616747236,\n",
       "              15: 1.5947619611911135,\n",
       "              16: 1.5869386278912903,\n",
       "              17: 1.7800068347825322,\n",
       "              18: 2.381350489638993,\n",
       "              19: 1.8765578527558382,\n",
       "              20: 2.3115814252170774,\n",
       "              21: 2.420064874646295,\n",
       "              22: 2.0940046103727745,\n",
       "              23: 2.7211842690740005},\n",
       "             '5.0-66-64-1000-5-5000-2700-189': {1: 2.028538856975327,\n",
       "              2: 3.0728070059065575,\n",
       "              3: 1.6924591510150535,\n",
       "              4: 2.606689108157387,\n",
       "              5: 1.783981010140978,\n",
       "              6: 2.0251388469050235,\n",
       "              7: 3.932421554952635,\n",
       "              8: 2.1625705966366158,\n",
       "              9: 3.777568738458244,\n",
       "              10: 2.408650760213225,\n",
       "              11: 2.6925090514739862,\n",
       "              12: 2.3350936163435327,\n",
       "              13: 1.9809750857515993},\n",
       "             '5.0-102-32-1000-5-5000-2700-189': {1: 1.7801976194478315,\n",
       "              2: 2.393778322862567,\n",
       "              3: 2.015627525864053,\n",
       "              4: 1.9247470157356628,\n",
       "              5: 2.405502973654462,\n",
       "              6: 1.7876647250456061,\n",
       "              7: 2.51521392138095,\n",
       "              8: 2.5214426163244963,\n",
       "              9: 2.1998340295362357,\n",
       "              10: 2.042924658536733,\n",
       "              11: 2.026011038187476,\n",
       "              12: 1.83573433979219,\n",
       "              13: 2.7199518063311485,\n",
       "              14: 2.425490289421353,\n",
       "              15: 1.93687071779672,\n",
       "              16: 2.286204908833102,\n",
       "              17: 2.137698712451329,\n",
       "              18: 2.1918892846987745,\n",
       "              19: 1.707879121311575,\n",
       "              20: 1.7746220638773116,\n",
       "              21: 2.2996583841397515,\n",
       "              22: 2.5566022244159194,\n",
       "              23: 1.795407170112118,\n",
       "              24: 2.1058194005570363},\n",
       "             '5.0-102-64-1000-5-5000-2700-189': {1: 2.8285380208073367,\n",
       "              2: 1.8246855794240435,\n",
       "              3: 2.766929500673186,\n",
       "              4: 2.449290698758036,\n",
       "              5: 2.5225671608561724,\n",
       "              6: 2.1252026856655553,\n",
       "              7: 2.164123277093632,\n",
       "              8: 2.280567337557952,\n",
       "              9: 1.7312145984778589,\n",
       "              10: 1.8855554107991064,\n",
       "              11: 2.1163817317801144,\n",
       "              12: 2.3775443807403764,\n",
       "              13: 3.017446630598031,\n",
       "              14: 1.8931259862129732},\n",
       "             '10.0-66-32-1000-5-5000-2700-189': {1: 1.5690354029865419,\n",
       "              2: 1.7346727532893988,\n",
       "              4: 2.191528194432435,\n",
       "              9: 2.0618232515197277,\n",
       "              12: 1.781271661611092,\n",
       "              13: 2.3287534650698363,\n",
       "              14: 1.6357870216037327,\n",
       "              15: 1.7419587613984395,\n",
       "              17: 1.75259059779182,\n",
       "              20: 2.2792936620087265},\n",
       "             '10.0-66-64-1000-5-5000-2700-189': {1: 2.136121855721274,\n",
       "              2: 2.7454162195918044,\n",
       "              3: 1.503726617490324,\n",
       "              4: 2.348715831443291,\n",
       "              5: 2.886173933882912,\n",
       "              6: 2.0489147523884395,\n",
       "              8: 2.023156842238822,\n",
       "              9: 2.2126273388651567,\n",
       "              10: 2.0700832799797304,\n",
       "              11: 2.095967213713751,\n",
       "              13: 1.5705372171177403},\n",
       "             '10.0-102-32-1000-5-5000-2700-189': {1: 2.831359755280534,\n",
       "              2: 2.6469277306211425,\n",
       "              3: 2.8099754764353735,\n",
       "              4: 2.774875630102191,\n",
       "              5: 1.9850675616328035,\n",
       "              6: 2.0548609448045383,\n",
       "              7: 1.9037043632904533,\n",
       "              8: 2.8729835761405895,\n",
       "              9: 2.309115774681118,\n",
       "              10: 1.9701470465529975,\n",
       "              11: 2.1915017550177573,\n",
       "              12: 1.9862872561748457,\n",
       "              13: 1.9857085414688576,\n",
       "              14: 2.266755071142842,\n",
       "              15: 1.6597053334514884,\n",
       "              16: 1.99731812844712,\n",
       "              17: 2.2029385368200973,\n",
       "              18: 2.8219567998337247,\n",
       "              19: 2.057244128198141,\n",
       "              20: 2.817077767747851,\n",
       "              21: 2.6179799137337496,\n",
       "              22: 1.9582712066964587}})"
      ]
     },
     "execution_count": 56,
     "metadata": {},
     "output_type": "execute_result"
    }
   ],
   "source": [
    "means_pr"
   ]
  },
  {
   "cell_type": "markdown",
   "id": "virtual-headline",
   "metadata": {},
   "source": [
    "## 可视化训练图"
   ]
  },
  {
   "cell_type": "markdown",
   "id": "arbitrary-space",
   "metadata": {},
   "source": [
    "可以用来快速可视化一下，子图越多，可视化效果越差"
   ]
  },
  {
   "cell_type": "code",
   "execution_count": 57,
   "id": "honey-flooring",
   "metadata": {},
   "outputs": [
    {
     "data": {
      "image/png": "[encoded data removed]",
      "text/plain": [
       "<Figure size 432x288 with 16 Axes>"
      ]
     },
     "metadata": {
      "needs_background": "light"
     },
     "output_type": "display_data"
    }
   ],
   "source": [
    "fig,ax=plt.subplots(4,4,sharex='col',sharey='row')#,linkIdx+1)#,sharex='col',sharey='row')\n",
    "\n",
    "# fig2,ax2=plt.subplots(15,4,sharex='col',sharey='row')#,linkIdx+1)#,sharex='col',sharey='row')\n",
    "plt.subplots_adjust(left=0.01,  # left，right，top 和 bottom 参数指定了子图的四个边的位置。它们是图形的宽度和高度的比例\n",
    "                    bottom=0.01, \n",
    "                    right=1, \n",
    "                    top=1, \n",
    "                    wspace=0.1, \n",
    "                    hspace=0.1)\n",
    "axIndex = -1\n",
    "for modelName,data in means_pr.items():\n",
    "    axIndex+=1\n",
    "    if axIndex <40:\n",
    "        ax[axIndex//4,axIndex%4].plot( data.keys(),data.values(),marker = \"o\")\n",
    "        ax[axIndex//4,axIndex%4].set_title(f\"{modelName}\",fontsize=10,y=0.1 if axIndex%2 else 0.5)\n",
    "#         print(f\"model {modelName} with {len(data.keys())} data points\")\n",
    "    else:\n",
    "        break\n",
    "# fig.legend([\\\n",
    "\n",
    "#             'rl',\\\n",
    "#             # 'lp',\\\n",
    "#             # 'ospf'\\\n",
    "#            ])\n",
    "plt.title(\"gea-or-trueTM on validation set\")\n",
    "plt.savefig(\"gea-or-trueTM训练记录(小bata).jpg\")\n",
    "save_obj(means_pr,\"means_pr-gea-or-trueTM(small beta)\")"
   ]
  },
  {
   "cell_type": "markdown",
   "id": "helpful-species",
   "metadata": {},
   "source": [
    "# 查看test结果"
   ]
  },
  {
   "cell_type": "markdown",
   "id": "black-feelings",
   "metadata": {},
   "source": [
    "## GEA"
   ]
  },
  {
   "cell_type": "code",
   "execution_count": 64,
   "id": "burning-turner",
   "metadata": {},
   "outputs": [
    {
     "name": "stdout",
     "output_type": "stream",
     "text": [
      "meanPF of GEA-trueTM-0.05-66-64-1000-5-5000-2700-189-12 is 1.5289105549200446\n",
      "meanPF of GEA-trueTM-0.01-102-32-1000-5-5000-2700-189-25 is 1.3699064042400204\n",
      "meanPF of GEA-trueTM-0.001-66-32-1000-5-5000-2700-189-21 is 1.4367675896947099\n"
     ]
    }
   ],
   "source": [
    "parDir=\"/home/hesy/projects/mars/DRLTE_g3/log/test/\"\n",
    "for _dir in os.listdir(parDir):\n",
    "    prs = np.loadtxt(os.path.join(parDir,_dir,\"perfm.log\") )\n",
    "    print(f\"meanPF of {_dir} is {mean(prs)}\")"
   ]
  },
  {
   "cell_type": "code",
   "execution_count": 65,
   "id": "mysterious-blair",
   "metadata": {},
   "outputs": [
    {
     "name": "stdout",
     "output_type": "stream",
     "text": [
      "meanPF of GEA-trueTM-1.0-66-32-1000-5-5000-2700-189-11 is 1.6433306918340918\n",
      "meanPF of GEA-trueTM-1.0-102-32-1000-5-5000-2700-189-9 is 1.6871458069318959\n",
      "meanPF of GEA-trueTM-1.0-66-32-1000-5-5000-2700-189-13 is 1.9210455013990395\n"
     ]
    }
   ],
   "source": [
    "parDir=\"/home/hesy/projects/mars/DRLTE_g5/log/test/\"\n",
    "for _dir in os.listdir(parDir):\n",
    "    prs = np.loadtxt(os.path.join(parDir,_dir,\"perfm.log\") )\n",
    "    print(f\"meanPF of {_dir} is {mean(prs)}\")"
   ]
  },
  {
   "cell_type": "markdown",
   "id": "norman-arrival",
   "metadata": {},
   "source": [
    "# backup codes"
   ]
  },
  {
   "cell_type": "markdown",
   "id": "northern-roulette",
   "metadata": {},
   "source": [
    "## 断点续上训练"
   ]
  },
  {
   "cell_type": "code",
   "execution_count": 173,
   "id": "generous-cheat",
   "metadata": {},
   "outputs": [
    {
     "name": "stdout",
     "output_type": "stream",
     "text": [
      "gea-collected-0504-ckpt.tgz is not a dir\n",
      "len is 16, and they are:\n",
      "{'GEA-66-16-1000-5-0-9437-0': 'ckpt-170000', 'GEA-102-16-1000-5-0-9437-0': 'ckpt-200000', 'GEA-66-16-1000-5-5000-2700-189': 'ckpt-170000', 'GEA-102-16-1000-5-5000-2700-189': 'ckpt-170000', 'GEA-102-16-100-5-500-2700-189': 'ckpt-180000', 'GEA-66-64-1000-5-5000-2700-189': 'ckpt-60000', 'GEA-66-16-100-5-0-9437-0': 'ckpt-170000', 'GEA-66-16-100-5-500-2700-189': 'ckpt-190000', 'GEA-102-16-100-5-0-9437-0': 'ckpt-190000', 'GEA-102-64-1000-5-5000-2700-189': 'ckpt-60000', 'GEA-66-64-100-5-500-2700-189': 'ckpt-70000', 'GEA-102-64-1000-5-0-9437-0': 'ckpt-60000', 'GEA-102-64-100-5-0-9437-0': 'ckpt-60000', 'GEA-66-64-1000-5-0-9437-0': 'ckpt-60000', 'GEA-66-64-100-5-0-9437-0': 'ckpt-60000', 'GEA-102-64-100-5-500-2700-189': 'ckpt-60000'}\n"
     ]
    }
   ],
   "source": [
    "# 遍历当前文件夹下每一个目录, 找出ckpoint最大的文件\n",
    "path= \"/home/hesy/pro/mars/DRLTE/log/ckpoint\"\n",
    "import os\n",
    "from os import path as osp\n",
    "\n",
    "def findLatest(rootPath):\n",
    "    dirs_ = os.listdir(rootPath)\n",
    "    d2i = dict()    # short for dir2idx\n",
    "    for dir_ in dirs_:\n",
    "        if not osp.isdir(osp.join(rootPath,dir_)):\n",
    "            print(f\"{dir_} is not a dir\")\n",
    "            continue\n",
    "        maxNum, max_index= 0 ,'ckpt'\n",
    "        for file_ in os.listdir(osp.join(rootPath,dir_)):\n",
    "            if file_.endswith(\"index\"):\n",
    "                curIdx = file_.split('.')[0]\n",
    "                if int(curIdx.split('-')[-1]) >maxNum:\n",
    "                    maxNum, max_index= int(curIdx.split('-')[-1]) ,curIdx\n",
    "        d2i[dir_]=max_index\n",
    "        \n",
    "    return d2i\n",
    "        \n",
    "dir2idx =findLatest(path)\n",
    "print(f\"len is {len(dir2idx)}, and they are:\\n{dir2idx}\")"
   ]
  },
  {
   "cell_type": "code",
   "execution_count": null,
   "id": "automotive-wichita",
   "metadata": {},
   "outputs": [],
   "source": [
    "import subprocess\n",
    "cmdPath = \"/home/hesy/pro/mars/DRLTE/drlte\"\n",
    "cmdFile=\"run_train_new_0428.sh\"\n",
    "for key,value in dir2idx.items():\n",
    "    paras = key.split('-')\n",
    "    ckptPath = osp.join('/home/hesy/pro/mars/DRLTE/log/ckpoint',key,value)\n",
    "#     print(f\"cd {cmdPath} && bash {cmdFile} {paras[1]} {paras[2]} {paras[3]} {paras[4]} {paras[5]} {paras[6]} {paras[7]} {paras[0]} {ckptPath}\")\n",
    "    print(subprocess.getoutput(f\"cd {cmdPath} && bash {cmdFile} {paras[1]} {paras[2]} {paras[3]} {paras[4]} {paras[5]} {paras[6]} {paras[7]} {paras[0]} {ckptPath}\"))\n"
   ]
  }
 ],
 "metadata": {
  "kernelspec": {
   "display_name": "Python 3",
   "language": "python",
   "name": "python3"
  },
  "language_info": {
   "codemirror_mode": {
    "name": "ipython",
    "version": 3
   },
   "file_extension": ".py",
   "mimetype": "text/x-python",
   "name": "python",
   "nbconvert_exporter": "python",
   "pygments_lexer": "ipython3",
   "version": "3.7.10"
  }
 },
 "nbformat": 4,
 "nbformat_minor": 5
}
